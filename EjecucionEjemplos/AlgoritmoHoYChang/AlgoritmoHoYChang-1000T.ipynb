{
 "cells": [
  {
   "cell_type": "markdown",
   "metadata": {},
   "source": [
    "# Adaptación algoritmo de Ho y Chang"
   ]
  },
  {
   "cell_type": "code",
   "execution_count": 1,
   "metadata": {},
   "outputs": [],
   "source": [
    "import time\n",
    "INF = float('inf')\n",
    "nINF = float('-inf')"
   ]
  },
  {
   "cell_type": "code",
   "execution_count": 2,
   "metadata": {},
   "outputs": [],
   "source": [
    "def firstLate(schedule):\n",
    "\n",
    "    ans,i,f = None,0,0\n",
    "    while ans==None and i!=len(schedule):\n",
    "        if f+schedule[i][2]<=schedule[i][1]: f += schedule[i][2]\n",
    "        else: ans = i\n",
    "        i += 1\n",
    "    return ans"
   ]
  },
  {
   "cell_type": "code",
   "execution_count": 3,
   "metadata": {},
   "outputs": [],
   "source": [
    "def computeValues(jobs, j, ans, minSlack): return (ans[j][0], minSlack[j], jobs[j][1]-ans[j][1])"
   ]
  },
  {
   "cell_type": "code",
   "execution_count": 4,
   "metadata": {},
   "outputs": [],
   "source": [
    "def checkC1(di, bj, pi): return (di>=bj+pi)\n",
    "\n",
    "def checkC2(minimumSlack, pi, pj): return (minimumSlack>=pi-pj)\n",
    "\n",
    "def checkC3a(slackJob, di, bj, pi): return (slackJob> di-bj-pi)\n",
    "\n",
    "def checkC3b(di, dj, pi, pj, jobCnt, j): return [(di>dj),(pi>pj),((pi-pj)*(jobCnt-j) > (di-dj))]"
   ]
  },
  {
   "cell_type": "code",
   "execution_count": 5,
   "metadata": {},
   "outputs": [],
   "source": [
    "def H2(jobs, M):\n",
    "\n",
    "    ###Initialize\n",
    "    N= len(jobs)\n",
    "    schedules=[[] for _ in range(M)]\n",
    "    unscheduled,rejected,impossible = [],[],[]\n",
    "\n",
    "    for i in range(len(jobs)):\n",
    "        if(jobs[i][2]>jobs[i][1]):\n",
    "            impossible.append(jobs[i])\n",
    "        else:\n",
    "            unscheduled.append(jobs[i])\n",
    "    ###Initialize\n",
    "    ###H2\n",
    "    for k in range(M):\n",
    "        schedules[k]=unscheduled\n",
    "        unscheduled =[]\n",
    "        schedules[k].sort(key = lambda x: (x[1],x[2]))\n",
    "        ans= firstLate(schedules[k])\n",
    "\n",
    "        while(ans != None):\n",
    "            maxPi=nINF\n",
    "            for i in range(ans+1):\n",
    "                if(maxPi<schedules[k][i][2]):\n",
    "                    maxPi=schedules[k][i][2]\n",
    "                    jMax=schedules[k][i]\n",
    "            schedules[k].remove(jMax)\n",
    "            unscheduled.append(jMax)\n",
    "            ans= firstLate(schedules[k])\n",
    "\n",
    "        if((k<M-1) and (len(unscheduled)!=0)):\n",
    "            ans2 = [ None for _ in schedules[k]]\n",
    "            f = 0\n",
    "            for l in range(len(schedules[k])):\n",
    "                ans2[l] = (f, f+schedules[k][l][2])\n",
    "                f += schedules[k][l][2]\n",
    "            minSlack = [ INF for _ in schedules[k]]\n",
    "            for q in range(len(schedules[k])-1):\n",
    "                for r in range(q+1,len(schedules[k])):\n",
    "                    minSlack[q]= min(minSlack[q], schedules[k][r][1]-ans2[r][1])\n",
    "                    \n",
    "            for j in range(len(schedules[k])):\n",
    "                for i in range(len(unscheduled)):\n",
    "                    ans=computeValues(schedules[k], j, ans2, minSlack)\n",
    "                    dj, pj=schedules[k][j][1], schedules[k][j][2]\n",
    "                    di, pi= unscheduled[i][1], unscheduled[i][2]\n",
    "                    bj, minimumSlack, slackJob = ans\n",
    "                    jobCnt=len(schedules[k])\n",
    "\n",
    "                    if(checkC1(di, bj, pi) and checkC2(minimumSlack, pi, pj) and (checkC3a(slackJob, di, bj, pi) or (False not in checkC3b(di, dj, pi, pj, jobCnt, j)))):\n",
    "                        aux = schedules[k][j]\n",
    "                        schedules[k][j]= unscheduled[i] ##Swap\n",
    "                        unscheduled[i]= aux\n",
    "                        if(j==0):\n",
    "                            f=0\n",
    "                        else:\n",
    "                            f=ans2[j-1][1]\n",
    "                        for l in range(j, len(schedules[k])):\n",
    "                            ans2[l] = (f, f+schedules[k][l][2])\n",
    "                            f += schedules[k][l][2]\n",
    "                        for q in range(len(schedules[k])-1):\n",
    "                            for r in range(q+1,len(schedules[k])):\n",
    "                                minSlack[q]= min(minSlack[q], schedules[k][r][1]-ans2[r][1])\n",
    "    rejectedJobs=unscheduled\n",
    "    print(\"Execution time\", time.time()-start)\n",
    "    #Impresión de resultados\n",
    "    t=0\n",
    "    for i in range(len(schedules)):\n",
    "        for j in range(len(schedules[i])):\n",
    "            t+=1\n",
    "    print(t)\n",
    "    ###H2\n",
    "    return [schedules, rejected, impossible]"
   ]
  },
  {
   "cell_type": "markdown",
   "metadata": {},
   "source": [
    "## Entrada de datos: 2x1000x1.5x1"
   ]
  },
  {
   "cell_type": "code",
   "execution_count": 6,
   "metadata": {},
   "outputs": [
    {
     "name": "stdout",
     "output_type": "stream",
     "text": [
      "Execution time 0.9929919242858887\n",
      "997\n"
     ]
    }
   ],
   "source": [
    "start=time.time()\n",
    "M=2\n",
    "n=1000\n",
    "ruta=\"/Users/elPatan03/Desktop/lala/lala/2x1000x1.5x1.csv\"\n",
    "archivo=open(ruta,\"r\")\n",
    "jobs=[]\n",
    "for i in range(n+1):\n",
    "    if (i==0):\n",
    "        nada=archivo.readline()\n",
    "    else:\n",
    "        Ji,di,pi=archivo.readline().strip().split(\";\")\n",
    "        jobs.append([Ji,float(di),float(pi)])\n",
    "schedules, rejected, impossible = H2(jobs, M)"
   ]
  },
  {
   "cell_type": "markdown",
   "metadata": {},
   "source": [
    "## Entrada de datos: 2x1000x1.5x2"
   ]
  },
  {
   "cell_type": "code",
   "execution_count": 7,
   "metadata": {
    "scrolled": true
   },
   "outputs": [
    {
     "name": "stdout",
     "output_type": "stream",
     "text": [
      "Execution time 0.9066636562347412\n",
      "997\n"
     ]
    }
   ],
   "source": [
    "start=time.time()\n",
    "M=2\n",
    "n=1000\n",
    "ruta=\"/Users/elPatan03/Desktop/lala/lala/2x1000x1.5x2.csv\"\n",
    "archivo=open(ruta,\"r\")\n",
    "jobs=[]\n",
    "for i in range(n+1):\n",
    "    if (i==0):\n",
    "        nada=archivo.readline()\n",
    "    else:\n",
    "        Ji,di,pi=archivo.readline().strip().split(\";\")\n",
    "        jobs.append([Ji,float(di),float(pi)])\n",
    "schedules, rejected, impossible = H2(jobs, M)"
   ]
  },
  {
   "cell_type": "markdown",
   "metadata": {},
   "source": [
    "## Entrada de datos: 2x1000x1.5x3"
   ]
  },
  {
   "cell_type": "code",
   "execution_count": 8,
   "metadata": {},
   "outputs": [
    {
     "name": "stdout",
     "output_type": "stream",
     "text": [
      "Execution time 1.1204636096954346\n",
      "1000\n"
     ]
    }
   ],
   "source": [
    "start=time.time()\n",
    "M=2\n",
    "n=1000\n",
    "ruta=\"/Users/elPatan03/Desktop/lala/lala/2x1000x1.5x3.csv\"\n",
    "archivo=open(ruta,\"r\")\n",
    "jobs=[]\n",
    "for i in range(n+1):\n",
    "    if (i==0):\n",
    "        nada=archivo.readline()\n",
    "    else:\n",
    "        Ji,di,pi=archivo.readline().strip().split(\";\")\n",
    "        jobs.append([Ji,float(di),float(pi)])\n",
    "schedules, rejected, impossible = H2(jobs, M)"
   ]
  },
  {
   "cell_type": "markdown",
   "metadata": {},
   "source": [
    "## Entrada de datos: 2x1000x1.5x4"
   ]
  },
  {
   "cell_type": "code",
   "execution_count": 9,
   "metadata": {},
   "outputs": [
    {
     "name": "stdout",
     "output_type": "stream",
     "text": [
      "Execution time 2.707167387008667\n",
      "1000\n"
     ]
    }
   ],
   "source": [
    "start=time.time()\n",
    "M=2\n",
    "n=1000\n",
    "ruta=\"/Users/elPatan03/Desktop/lala/lala/2x1000x1.5x4.csv\"\n",
    "archivo=open(ruta,\"r\")\n",
    "jobs=[]\n",
    "for i in range(n+1):\n",
    "    if (i==0):\n",
    "        nada=archivo.readline()\n",
    "    else:\n",
    "        Ji,di,pi=archivo.readline().strip().split(\";\")\n",
    "        jobs.append([Ji,float(di),float(pi)])\n",
    "schedules, rejected, impossible = H2(jobs, M)"
   ]
  },
  {
   "cell_type": "markdown",
   "metadata": {},
   "source": [
    "## Entrada de datos: 2x1000x1.5x5"
   ]
  },
  {
   "cell_type": "code",
   "execution_count": 10,
   "metadata": {},
   "outputs": [
    {
     "name": "stdout",
     "output_type": "stream",
     "text": [
      "Execution time 0.49007439613342285\n",
      "998\n"
     ]
    }
   ],
   "source": [
    "start=time.time()\n",
    "M=2\n",
    "n=1000\n",
    "ruta=\"/Users/elPatan03/Desktop/lala/lala/2x1000x1.5x5.csv\"\n",
    "archivo=open(ruta,\"r\")\n",
    "jobs=[]\n",
    "for i in range(n+1):\n",
    "    if (i==0):\n",
    "        nada=archivo.readline()\n",
    "    else:\n",
    "        Ji,di,pi=archivo.readline().strip().split(\";\")\n",
    "        jobs.append([Ji,float(di),float(pi)])\n",
    "schedules, rejected, impossible = H2(jobs, M)"
   ]
  },
  {
   "cell_type": "markdown",
   "metadata": {},
   "source": [
    "## Entrada de datos: 2x1000x2x1"
   ]
  },
  {
   "cell_type": "code",
   "execution_count": 11,
   "metadata": {},
   "outputs": [
    {
     "name": "stdout",
     "output_type": "stream",
     "text": [
      "Execution time 1.164721965789795\n",
      "986\n"
     ]
    }
   ],
   "source": [
    "start=time.time()\n",
    "M=2\n",
    "n=1000\n",
    "ruta=\"/Users/elPatan03/Desktop/lala/lala/2x1000x2x1.csv\"\n",
    "archivo=open(ruta,\"r\")\n",
    "jobs=[]\n",
    "for i in range(n+1):\n",
    "    if (i==0):\n",
    "        nada=archivo.readline()\n",
    "    else:\n",
    "        Ji,di,pi=archivo.readline().strip().split(\";\")\n",
    "        jobs.append([Ji,float(di),float(pi)])\n",
    "schedules, rejected, impossible = H2(jobs, M)"
   ]
  },
  {
   "cell_type": "markdown",
   "metadata": {},
   "source": [
    "## Entrada de datos: 2x1000x2x2"
   ]
  },
  {
   "cell_type": "code",
   "execution_count": 12,
   "metadata": {},
   "outputs": [
    {
     "name": "stdout",
     "output_type": "stream",
     "text": [
      "Execution time 0.8516373634338379\n",
      "971\n"
     ]
    }
   ],
   "source": [
    "start=time.time()\n",
    "M=2\n",
    "n=1000\n",
    "ruta=\"/Users/elPatan03/Desktop/lala/lala/2x1000x2x2.csv\"\n",
    "archivo=open(ruta,\"r\")\n",
    "jobs=[]\n",
    "for i in range(n+1):\n",
    "    if (i==0):\n",
    "        nada=archivo.readline()\n",
    "    else:\n",
    "        Ji,di,pi=archivo.readline().strip().split(\";\")\n",
    "        jobs.append([Ji,float(di),float(pi)])\n",
    "schedules, rejected, impossible = H2(jobs, M)"
   ]
  },
  {
   "cell_type": "markdown",
   "metadata": {},
   "source": [
    "## Entrada de datos: 2x1000x2x3"
   ]
  },
  {
   "cell_type": "code",
   "execution_count": 13,
   "metadata": {},
   "outputs": [
    {
     "name": "stdout",
     "output_type": "stream",
     "text": [
      "Execution time 1.2429769039154053\n",
      "983\n"
     ]
    }
   ],
   "source": [
    "start=time.time()\n",
    "M=2\n",
    "n=1000\n",
    "ruta=\"/Users/elPatan03/Desktop/lala/lala/2x1000x2x3.csv\"\n",
    "archivo=open(ruta,\"r\")\n",
    "jobs=[]\n",
    "for i in range(n+1):\n",
    "    if (i==0):\n",
    "        nada=archivo.readline()\n",
    "    else:\n",
    "        Ji,di,pi=archivo.readline().strip().split(\";\")\n",
    "        jobs.append([Ji,float(di),float(pi)])\n",
    "schedules, rejected, impossible = H2(jobs, M)"
   ]
  },
  {
   "cell_type": "markdown",
   "metadata": {},
   "source": [
    "## Entrada de datos: 2x1000x2x4"
   ]
  },
  {
   "cell_type": "code",
   "execution_count": 14,
   "metadata": {},
   "outputs": [
    {
     "name": "stdout",
     "output_type": "stream",
     "text": [
      "Execution time 0.7058312892913818\n",
      "979\n"
     ]
    }
   ],
   "source": [
    "start=time.time()\n",
    "M=2\n",
    "n=1000\n",
    "ruta=\"/Users/elPatan03/Desktop/lala/lala/2x1000x2x4.csv\"\n",
    "archivo=open(ruta,\"r\")\n",
    "jobs=[]\n",
    "for i in range(n+1):\n",
    "    if (i==0):\n",
    "        nada=archivo.readline()\n",
    "    else:\n",
    "        Ji,di,pi=archivo.readline().strip().split(\";\")\n",
    "        jobs.append([Ji,float(di),float(pi)])\n",
    "schedules, rejected, impossible = H2(jobs, M)"
   ]
  },
  {
   "cell_type": "markdown",
   "metadata": {},
   "source": [
    "## Entrada de datos: 2x1000x2x5"
   ]
  },
  {
   "cell_type": "code",
   "execution_count": 15,
   "metadata": {},
   "outputs": [
    {
     "name": "stdout",
     "output_type": "stream",
     "text": [
      "Execution time 3.320253372192383\n",
      "974\n"
     ]
    }
   ],
   "source": [
    "start=time.time()\n",
    "M=2\n",
    "n=1000\n",
    "ruta=\"/Users/elPatan03/Desktop/lala/lala/2x1000x2x5.csv\"\n",
    "archivo=open(ruta,\"r\")\n",
    "jobs=[]\n",
    "for i in range(n+1):\n",
    "    if (i==0):\n",
    "        nada=archivo.readline()\n",
    "    else:\n",
    "        Ji,di,pi=archivo.readline().strip().split(\";\")\n",
    "        jobs.append([Ji,float(di),float(pi)])\n",
    "schedules, rejected, impossible = H2(jobs, M)"
   ]
  },
  {
   "cell_type": "markdown",
   "metadata": {},
   "source": [
    "## Entrada de datos: 2x1000x2.5x1"
   ]
  },
  {
   "cell_type": "code",
   "execution_count": 16,
   "metadata": {},
   "outputs": [
    {
     "name": "stdout",
     "output_type": "stream",
     "text": [
      "Execution time 0.583324670791626\n",
      "882\n"
     ]
    }
   ],
   "source": [
    "start=time.time()\n",
    "M=2\n",
    "n=1000\n",
    "ruta=\"/Users/elPatan03/Desktop/lala/lala/2x1000x2.5x1.csv\"\n",
    "archivo=open(ruta,\"r\")\n",
    "jobs=[]\n",
    "for i in range(n+1):\n",
    "    if (i==0):\n",
    "        nada=archivo.readline()\n",
    "    else:\n",
    "        Ji,di,pi=archivo.readline().strip().split(\";\")\n",
    "        jobs.append([Ji,float(di),float(pi)])\n",
    "schedules, rejected, impossible = H2(jobs, M)"
   ]
  },
  {
   "cell_type": "markdown",
   "metadata": {},
   "source": [
    "## Entrada de datos: 2x1000x2.5x2"
   ]
  },
  {
   "cell_type": "code",
   "execution_count": 17,
   "metadata": {},
   "outputs": [
    {
     "name": "stdout",
     "output_type": "stream",
     "text": [
      "Execution time 1.122476577758789\n",
      "882\n"
     ]
    }
   ],
   "source": [
    "start=time.time()\n",
    "M=2\n",
    "n=1000\n",
    "ruta=\"/Users/elPatan03/Desktop/lala/lala/2x1000x2.5x2.csv\"\n",
    "archivo=open(ruta,\"r\")\n",
    "jobs=[]\n",
    "for i in range(n+1):\n",
    "    if (i==0):\n",
    "        nada=archivo.readline()\n",
    "    else:\n",
    "        Ji,di,pi=archivo.readline().strip().split(\";\")\n",
    "        jobs.append([Ji,float(di),float(pi)])\n",
    "schedules, rejected, impossible = H2(jobs, M)"
   ]
  },
  {
   "cell_type": "markdown",
   "metadata": {},
   "source": [
    "## Entrada de datos: 2x1000x2.5x3"
   ]
  },
  {
   "cell_type": "code",
   "execution_count": 18,
   "metadata": {},
   "outputs": [
    {
     "name": "stdout",
     "output_type": "stream",
     "text": [
      "Execution time 0.5215408802032471\n",
      "884\n"
     ]
    }
   ],
   "source": [
    "start=time.time()\n",
    "M=2\n",
    "n=1000\n",
    "ruta=\"/Users/elPatan03/Desktop/lala/lala/2x1000x2.5x3.csv\"\n",
    "archivo=open(ruta,\"r\")\n",
    "jobs=[]\n",
    "for i in range(n+1):\n",
    "    if (i==0):\n",
    "        nada=archivo.readline()\n",
    "    else:\n",
    "        Ji,di,pi=archivo.readline().strip().split(\";\")\n",
    "        jobs.append([Ji,float(di),float(pi)])\n",
    "schedules, rejected, impossible = H2(jobs, M)"
   ]
  },
  {
   "cell_type": "markdown",
   "metadata": {},
   "source": [
    "## Entrada de datos: 2x1000x2.5x4"
   ]
  },
  {
   "cell_type": "code",
   "execution_count": 19,
   "metadata": {},
   "outputs": [
    {
     "name": "stdout",
     "output_type": "stream",
     "text": [
      "Execution time 0.6983680725097656\n",
      "884\n"
     ]
    }
   ],
   "source": [
    "start=time.time()\n",
    "M=2\n",
    "n=1000\n",
    "ruta=\"/Users/elPatan03/Desktop/lala/lala/2x1000x2.5x4.csv\"\n",
    "archivo=open(ruta,\"r\")\n",
    "jobs=[]\n",
    "for i in range(n+1):\n",
    "    if (i==0):\n",
    "        nada=archivo.readline()\n",
    "    else:\n",
    "        Ji,di,pi=archivo.readline().strip().split(\";\")\n",
    "        jobs.append([Ji,float(di),float(pi)])\n",
    "schedules, rejected, impossible = H2(jobs, M)"
   ]
  },
  {
   "cell_type": "markdown",
   "metadata": {},
   "source": [
    "## Entrada de datos: 2x1000x2.5x5"
   ]
  },
  {
   "cell_type": "code",
   "execution_count": 20,
   "metadata": {
    "scrolled": true
   },
   "outputs": [
    {
     "name": "stdout",
     "output_type": "stream",
     "text": [
      "Execution time 0.5952000617980957\n",
      "884\n"
     ]
    }
   ],
   "source": [
    "start=time.time()\n",
    "M=2\n",
    "n=1000\n",
    "ruta=\"/Users/elPatan03/Desktop/lala/lala/2x1000x2.5x5.csv\"\n",
    "archivo=open(ruta,\"r\")\n",
    "jobs=[]\n",
    "for i in range(n+1):\n",
    "    if (i==0):\n",
    "        nada=archivo.readline()\n",
    "    else:\n",
    "        Ji,di,pi=archivo.readline().strip().split(\";\")\n",
    "        jobs.append([Ji,float(di),float(pi)])\n",
    "schedules, rejected, impossible = H2(jobs, M)"
   ]
  },
  {
   "cell_type": "markdown",
   "metadata": {},
   "source": [
    "## Entrada de datos: 2x1000x3x1"
   ]
  },
  {
   "cell_type": "code",
   "execution_count": 21,
   "metadata": {},
   "outputs": [
    {
     "name": "stdout",
     "output_type": "stream",
     "text": [
      "Execution time 0.7727668285369873\n",
      "800\n"
     ]
    }
   ],
   "source": [
    "start=time.time()\n",
    "M=2\n",
    "n=1000\n",
    "ruta=\"/Users/elPatan03/Desktop/lala/lala/2x1000x3x1.csv\"\n",
    "archivo=open(ruta,\"r\")\n",
    "jobs=[]\n",
    "for i in range(n+1):\n",
    "    if (i==0):\n",
    "        nada=archivo.readline()\n",
    "    else:\n",
    "        Ji,di,pi=archivo.readline().strip().split(\";\")\n",
    "        jobs.append([Ji,float(di),float(pi)])\n",
    "schedules, rejected, impossible = H2(jobs, M)"
   ]
  },
  {
   "cell_type": "markdown",
   "metadata": {},
   "source": [
    "## Entrada de datos: 2x1000x3x2"
   ]
  },
  {
   "cell_type": "code",
   "execution_count": 22,
   "metadata": {},
   "outputs": [
    {
     "name": "stdout",
     "output_type": "stream",
     "text": [
      "Execution time 0.6864640712738037\n",
      "801\n"
     ]
    }
   ],
   "source": [
    "start=time.time()\n",
    "M=2\n",
    "n=1000\n",
    "ruta=\"/Users/elPatan03/Desktop/lala/lala/2x1000x3x2.csv\"\n",
    "archivo=open(ruta,\"r\")\n",
    "jobs=[]\n",
    "for i in range(n+1):\n",
    "    if (i==0):\n",
    "        nada=archivo.readline()\n",
    "    else:\n",
    "        Ji,di,pi=archivo.readline().strip().split(\";\")\n",
    "        jobs.append([Ji,float(di),float(pi)])\n",
    "schedules, rejected, impossible = H2(jobs, M)"
   ]
  },
  {
   "cell_type": "markdown",
   "metadata": {},
   "source": [
    "## Entrada de datos: 2x1000x3x3"
   ]
  },
  {
   "cell_type": "code",
   "execution_count": 23,
   "metadata": {},
   "outputs": [
    {
     "name": "stdout",
     "output_type": "stream",
     "text": [
      "Execution time 0.9632573127746582\n",
      "804\n"
     ]
    }
   ],
   "source": [
    "start=time.time()\n",
    "M=2\n",
    "n=1000\n",
    "ruta=\"/Users/elPatan03/Desktop/lala/lala/2x1000x3x3.csv\"\n",
    "archivo=open(ruta,\"r\")\n",
    "jobs=[]\n",
    "for i in range(n+1):\n",
    "    if (i==0):\n",
    "        nada=archivo.readline()\n",
    "    else:\n",
    "        Ji,di,pi=archivo.readline().strip().split(\";\")\n",
    "        jobs.append([Ji,float(di),float(pi)])\n",
    "schedules, rejected, impossible = H2(jobs, M)"
   ]
  },
  {
   "cell_type": "markdown",
   "metadata": {},
   "source": [
    "## Entrada de datos: 2x1000x3x4"
   ]
  },
  {
   "cell_type": "code",
   "execution_count": 24,
   "metadata": {},
   "outputs": [
    {
     "name": "stdout",
     "output_type": "stream",
     "text": [
      "Execution time 0.7340795993804932\n",
      "805\n"
     ]
    }
   ],
   "source": [
    "start=time.time()\n",
    "M=2\n",
    "n=1000\n",
    "ruta=\"/Users/elPatan03/Desktop/lala/lala/2x1000x3x4.csv\"\n",
    "archivo=open(ruta,\"r\")\n",
    "jobs=[]\n",
    "for i in range(n+1):\n",
    "    if (i==0):\n",
    "        nada=archivo.readline()\n",
    "    else:\n",
    "        Ji,di,pi=archivo.readline().strip().split(\";\")\n",
    "        jobs.append([Ji,float(di),float(pi)])\n",
    "schedules, rejected, impossible = H2(jobs, M)"
   ]
  },
  {
   "cell_type": "markdown",
   "metadata": {},
   "source": [
    "## Entrada de datos: 2x1000x3x5"
   ]
  },
  {
   "cell_type": "code",
   "execution_count": 25,
   "metadata": {},
   "outputs": [
    {
     "name": "stdout",
     "output_type": "stream",
     "text": [
      "Execution time 0.5436198711395264\n",
      "801\n"
     ]
    }
   ],
   "source": [
    "start=time.time()\n",
    "M=2\n",
    "n=1000\n",
    "ruta=\"/Users/elPatan03/Desktop/lala/lala/2x1000x3x5.csv\"\n",
    "archivo=open(ruta,\"r\")\n",
    "jobs=[]\n",
    "for i in range(n+1):\n",
    "    if (i==0):\n",
    "        nada=archivo.readline()\n",
    "    else:\n",
    "        Ji,di,pi=archivo.readline().strip().split(\";\")\n",
    "        jobs.append([Ji,float(di),float(pi)])\n",
    "schedules, rejected, impossible = H2(jobs, M)"
   ]
  },
  {
   "cell_type": "markdown",
   "metadata": {},
   "source": [
    "## Entrada de datos: 2x1000x3.5x1"
   ]
  },
  {
   "cell_type": "code",
   "execution_count": 26,
   "metadata": {},
   "outputs": [
    {
     "name": "stdout",
     "output_type": "stream",
     "text": [
      "Execution time 0.40325164794921875\n",
      "744\n"
     ]
    }
   ],
   "source": [
    "start=time.time()\n",
    "M=2\n",
    "n=1000\n",
    "ruta=\"/Users/elPatan03/Desktop/lala/lala/2x1000x3.5x1.csv\"\n",
    "archivo=open(ruta,\"r\")\n",
    "jobs=[]\n",
    "for i in range(n+1):\n",
    "    if (i==0):\n",
    "        nada=archivo.readline()\n",
    "    else:\n",
    "        Ji,di,pi=archivo.readline().strip().split(\";\")\n",
    "        jobs.append([Ji,float(di),float(pi)])\n",
    "schedules, rejected, impossible = H2(jobs, M)"
   ]
  },
  {
   "cell_type": "markdown",
   "metadata": {},
   "source": [
    "## Entrada de datos: 2x1000x3.5x2"
   ]
  },
  {
   "cell_type": "code",
   "execution_count": 27,
   "metadata": {},
   "outputs": [
    {
     "name": "stdout",
     "output_type": "stream",
     "text": [
      "Execution time 0.5247938632965088\n",
      "744\n"
     ]
    }
   ],
   "source": [
    "start=time.time()\n",
    "M=2\n",
    "n=1000\n",
    "ruta=\"/Users/elPatan03/Desktop/lala/lala/2x1000x3.5x2.csv\"\n",
    "archivo=open(ruta,\"r\")\n",
    "jobs=[]\n",
    "for i in range(n+1):\n",
    "    if (i==0):\n",
    "        nada=archivo.readline()\n",
    "    else:\n",
    "        Ji,di,pi=archivo.readline().strip().split(\";\")\n",
    "        jobs.append([Ji,float(di),float(pi)])\n",
    "schedules, rejected, impossible = H2(jobs, M)"
   ]
  },
  {
   "cell_type": "markdown",
   "metadata": {},
   "source": [
    "## Entrada de datos: 2x1000x3.5x3"
   ]
  },
  {
   "cell_type": "code",
   "execution_count": 28,
   "metadata": {},
   "outputs": [
    {
     "name": "stdout",
     "output_type": "stream",
     "text": [
      "Execution time 1.2360358238220215\n",
      "742\n"
     ]
    }
   ],
   "source": [
    "start=time.time()\n",
    "M=2\n",
    "n=1000\n",
    "ruta=\"/Users/elPatan03/Desktop/lala/lala/2x1000x3.5x3.csv\"\n",
    "archivo=open(ruta,\"r\")\n",
    "jobs=[]\n",
    "for i in range(n+1):\n",
    "    if (i==0):\n",
    "        nada=archivo.readline()\n",
    "    else:\n",
    "        Ji,di,pi=archivo.readline().strip().split(\";\")\n",
    "        jobs.append([Ji,float(di),float(pi)])\n",
    "schedules, rejected, impossible = H2(jobs, M)"
   ]
  },
  {
   "cell_type": "markdown",
   "metadata": {},
   "source": [
    "## Entrada de datos: 2x1000x3.5x4"
   ]
  },
  {
   "cell_type": "code",
   "execution_count": 29,
   "metadata": {},
   "outputs": [
    {
     "name": "stdout",
     "output_type": "stream",
     "text": [
      "Execution time 1.2957699298858643\n",
      "740\n"
     ]
    }
   ],
   "source": [
    "start=time.time()\n",
    "M=2\n",
    "n=1000\n",
    "ruta=\"/Users/elPatan03/Desktop/lala/lala/2x1000x3.5x4.csv\"\n",
    "archivo=open(ruta,\"r\")\n",
    "jobs=[]\n",
    "for i in range(n+1):\n",
    "    if (i==0):\n",
    "        nada=archivo.readline()\n",
    "    else:\n",
    "        Ji,di,pi=archivo.readline().strip().split(\";\")\n",
    "        jobs.append([Ji,float(di),float(pi)])\n",
    "schedules, rejected, impossible = H2(jobs, M)"
   ]
  },
  {
   "cell_type": "markdown",
   "metadata": {},
   "source": [
    "## Entrada de datos: 2x1000x3.5x5"
   ]
  },
  {
   "cell_type": "code",
   "execution_count": 30,
   "metadata": {},
   "outputs": [
    {
     "name": "stdout",
     "output_type": "stream",
     "text": [
      "Execution time 0.6790239810943604\n",
      "736\n"
     ]
    }
   ],
   "source": [
    "start=time.time()\n",
    "M=2\n",
    "n=1000\n",
    "ruta=\"/Users/elPatan03/Desktop/lala/lala/2x1000x3.5x5.csv\"\n",
    "archivo=open(ruta,\"r\")\n",
    "jobs=[]\n",
    "for i in range(n+1):\n",
    "    if (i==0):\n",
    "        nada=archivo.readline()\n",
    "    else:\n",
    "        Ji,di,pi=archivo.readline().strip().split(\";\")\n",
    "        jobs.append([Ji,float(di),float(pi)])\n",
    "schedules, rejected, impossible = H2(jobs, M)"
   ]
  },
  {
   "cell_type": "markdown",
   "metadata": {},
   "source": [
    "## Entrada de datos: 2x1000x4x1"
   ]
  },
  {
   "cell_type": "code",
   "execution_count": 31,
   "metadata": {},
   "outputs": [
    {
     "name": "stdout",
     "output_type": "stream",
     "text": [
      "Execution time 0.5049285888671875\n",
      "692\n"
     ]
    }
   ],
   "source": [
    "start=time.time()\n",
    "M=2\n",
    "n=1000\n",
    "ruta=\"/Users/elPatan03/Desktop/lala/lala/2x1000x4x1.csv\"\n",
    "archivo=open(ruta,\"r\")\n",
    "jobs=[]\n",
    "for i in range(n+1):\n",
    "    if (i==0):\n",
    "        nada=archivo.readline()\n",
    "    else:\n",
    "        Ji,di,pi=archivo.readline().strip().split(\";\")\n",
    "        jobs.append([Ji,float(di),float(pi)])\n",
    "schedules, rejected, impossible = H2(jobs, M)"
   ]
  },
  {
   "cell_type": "markdown",
   "metadata": {},
   "source": [
    "## Entrada de datos: 2x1000x4x2"
   ]
  },
  {
   "cell_type": "code",
   "execution_count": 32,
   "metadata": {},
   "outputs": [
    {
     "name": "stdout",
     "output_type": "stream",
     "text": [
      "Execution time 0.7117600440979004\n",
      "687\n"
     ]
    }
   ],
   "source": [
    "start=time.time()\n",
    "M=2\n",
    "n=1000\n",
    "ruta=\"/Users/elPatan03/Desktop/lala/lala/2x1000x4x2.csv\"\n",
    "archivo=open(ruta,\"r\")\n",
    "jobs=[]\n",
    "for i in range(n+1):\n",
    "    if (i==0):\n",
    "        nada=archivo.readline()\n",
    "    else:\n",
    "        Ji,di,pi=archivo.readline().strip().split(\";\")\n",
    "        jobs.append([Ji,float(di),float(pi)])\n",
    "schedules, rejected, impossible = H2(jobs, M)"
   ]
  },
  {
   "cell_type": "markdown",
   "metadata": {},
   "source": [
    "## Entrada de datos: 2x1000x4x3"
   ]
  },
  {
   "cell_type": "code",
   "execution_count": 33,
   "metadata": {},
   "outputs": [
    {
     "name": "stdout",
     "output_type": "stream",
     "text": [
      "Execution time 0.5361757278442383\n",
      "687\n"
     ]
    }
   ],
   "source": [
    "start=time.time()\n",
    "M=2\n",
    "n=1000\n",
    "ruta=\"/Users/elPatan03/Desktop/lala/lala/2x1000x4x3.csv\"\n",
    "archivo=open(ruta,\"r\")\n",
    "jobs=[]\n",
    "for i in range(n+1):\n",
    "    if (i==0):\n",
    "        nada=archivo.readline()\n",
    "    else:\n",
    "        Ji,di,pi=archivo.readline().strip().split(\";\")\n",
    "        jobs.append([Ji,float(di),float(pi)])\n",
    "schedules, rejected, impossible = H2(jobs, M)"
   ]
  },
  {
   "cell_type": "markdown",
   "metadata": {},
   "source": [
    "## Entrada de datos: 2x1000x4x4"
   ]
  },
  {
   "cell_type": "code",
   "execution_count": 34,
   "metadata": {},
   "outputs": [
    {
     "name": "stdout",
     "output_type": "stream",
     "text": [
      "Execution time 0.6547200679779053\n",
      "686\n"
     ]
    }
   ],
   "source": [
    "start=time.time()\n",
    "M=2\n",
    "n=1000\n",
    "ruta=\"/Users/elPatan03/Desktop/lala/lala/2x1000x4x4.csv\"\n",
    "archivo=open(ruta,\"r\")\n",
    "jobs=[]\n",
    "for i in range(n+1):\n",
    "    if (i==0):\n",
    "        nada=archivo.readline()\n",
    "    else:\n",
    "        Ji,di,pi=archivo.readline().strip().split(\";\")\n",
    "        jobs.append([Ji,float(di),float(pi)])\n",
    "schedules, rejected, impossible = H2(jobs, M)"
   ]
  },
  {
   "cell_type": "markdown",
   "metadata": {},
   "source": [
    "## Entrada de datos: 2x1000x4x5"
   ]
  },
  {
   "cell_type": "code",
   "execution_count": 35,
   "metadata": {},
   "outputs": [
    {
     "name": "stdout",
     "output_type": "stream",
     "text": [
      "Execution time 0.48710012435913086\n",
      "693\n"
     ]
    }
   ],
   "source": [
    "start=time.time()\n",
    "M=2\n",
    "n=1000\n",
    "ruta=\"/Users/elPatan03/Desktop/lala/lala/2x1000x4x5.csv\"\n",
    "archivo=open(ruta,\"r\")\n",
    "jobs=[]\n",
    "for i in range(n+1):\n",
    "    if (i==0):\n",
    "        nada=archivo.readline()\n",
    "    else:\n",
    "        Ji,di,pi=archivo.readline().strip().split(\";\")\n",
    "        jobs.append([Ji,float(di),float(pi)])\n",
    "schedules, rejected, impossible = H2(jobs, M)"
   ]
  },
  {
   "cell_type": "markdown",
   "metadata": {},
   "source": [
    "## Entrada de datos: 2x1000x4.5x1"
   ]
  },
  {
   "cell_type": "code",
   "execution_count": 36,
   "metadata": {},
   "outputs": [
    {
     "name": "stdout",
     "output_type": "stream",
     "text": [
      "Execution time 0.746953010559082\n",
      "647\n"
     ]
    }
   ],
   "source": [
    "start=time.time()\n",
    "M=2\n",
    "n=1000\n",
    "ruta=\"/Users/elPatan03/Desktop/lala/lala/2x1000x4.5x1.csv\"\n",
    "archivo=open(ruta,\"r\")\n",
    "jobs=[]\n",
    "for i in range(n+1):\n",
    "    if (i==0):\n",
    "        nada=archivo.readline()\n",
    "    else:\n",
    "        Ji,di,pi=archivo.readline().strip().split(\";\")\n",
    "        jobs.append([Ji,float(di),float(pi)])\n",
    "schedules, rejected, impossible = H2(jobs, M)"
   ]
  },
  {
   "cell_type": "markdown",
   "metadata": {},
   "source": [
    "## Entrada de datos: 2x1000x4.5x2"
   ]
  },
  {
   "cell_type": "code",
   "execution_count": 37,
   "metadata": {},
   "outputs": [
    {
     "name": "stdout",
     "output_type": "stream",
     "text": [
      "Execution time 0.7470054626464844\n",
      "646\n"
     ]
    }
   ],
   "source": [
    "start=time.time()\n",
    "M=2\n",
    "n=1000\n",
    "ruta=\"/Users/elPatan03/Desktop/lala/lala/2x1000x4.5x2.csv\"\n",
    "archivo=open(ruta,\"r\")\n",
    "jobs=[]\n",
    "for i in range(n+1):\n",
    "    if (i==0):\n",
    "        nada=archivo.readline()\n",
    "    else:\n",
    "        Ji,di,pi=archivo.readline().strip().split(\";\")\n",
    "        jobs.append([Ji,float(di),float(pi)])\n",
    "schedules, rejected, impossible = H2(jobs, M)"
   ]
  },
  {
   "cell_type": "markdown",
   "metadata": {},
   "source": [
    "## Entrada de datos: 2x1000x4.5x3"
   ]
  },
  {
   "cell_type": "code",
   "execution_count": 38,
   "metadata": {},
   "outputs": [
    {
     "name": "stdout",
     "output_type": "stream",
     "text": [
      "Execution time 0.6844851970672607\n",
      "647\n"
     ]
    }
   ],
   "source": [
    "start=time.time()\n",
    "M=2\n",
    "n=1000\n",
    "ruta=\"/Users/elPatan03/Desktop/lala/lala/2x1000x4.5x3.csv\"\n",
    "archivo=open(ruta,\"r\")\n",
    "jobs=[]\n",
    "for i in range(n+1):\n",
    "    if (i==0):\n",
    "        nada=archivo.readline()\n",
    "    else:\n",
    "        Ji,di,pi=archivo.readline().strip().split(\";\")\n",
    "        jobs.append([Ji,float(di),float(pi)])\n",
    "schedules, rejected, impossible = H2(jobs, M)"
   ]
  },
  {
   "cell_type": "markdown",
   "metadata": {},
   "source": [
    "## Entrada de datos: 2x1000x4.5x4"
   ]
  },
  {
   "cell_type": "code",
   "execution_count": 39,
   "metadata": {},
   "outputs": [
    {
     "name": "stdout",
     "output_type": "stream",
     "text": [
      "Execution time 0.5629885196685791\n",
      "650\n"
     ]
    }
   ],
   "source": [
    "start=time.time()\n",
    "M=2\n",
    "n=1000\n",
    "ruta=\"/Users/elPatan03/Desktop/lala/lala/2x1000x4.5x4.csv\"\n",
    "archivo=open(ruta,\"r\")\n",
    "jobs=[]\n",
    "for i in range(n+1):\n",
    "    if (i==0):\n",
    "        nada=archivo.readline()\n",
    "    else:\n",
    "        Ji,di,pi=archivo.readline().strip().split(\";\")\n",
    "        jobs.append([Ji,float(di),float(pi)])\n",
    "schedules, rejected, impossible = H2(jobs, M)"
   ]
  },
  {
   "cell_type": "markdown",
   "metadata": {},
   "source": [
    "## Entrada de datos: 2x1000x4.5x5"
   ]
  },
  {
   "cell_type": "code",
   "execution_count": 40,
   "metadata": {
    "scrolled": true
   },
   "outputs": [
    {
     "name": "stdout",
     "output_type": "stream",
     "text": [
      "Execution time 0.9473879337310791\n",
      "646\n"
     ]
    }
   ],
   "source": [
    "start=time.time()\n",
    "M=2\n",
    "n=1000\n",
    "ruta=\"/Users/elPatan03/Desktop/lala/lala/2x1000x4.5x5.csv\"\n",
    "archivo=open(ruta,\"r\")\n",
    "jobs=[]\n",
    "for i in range(n+1):\n",
    "    if (i==0):\n",
    "        nada=archivo.readline()\n",
    "    else:\n",
    "        Ji,di,pi=archivo.readline().strip().split(\";\")\n",
    "        jobs.append([Ji,float(di),float(pi)])\n",
    "schedules, rejected, impossible = H2(jobs, M)"
   ]
  },
  {
   "cell_type": "markdown",
   "metadata": {},
   "source": [
    "## Entrada de datos: 2x1000x5x1"
   ]
  },
  {
   "cell_type": "code",
   "execution_count": 41,
   "metadata": {},
   "outputs": [
    {
     "name": "stdout",
     "output_type": "stream",
     "text": [
      "Execution time 0.5798256397247314\n",
      "610\n"
     ]
    }
   ],
   "source": [
    "start=time.time()\n",
    "M=2\n",
    "n=1000\n",
    "ruta=\"/Users/elPatan03/Desktop/lala/lala/2x1000x5x1.csv\"\n",
    "archivo=open(ruta,\"r\")\n",
    "jobs=[]\n",
    "for i in range(n+1):\n",
    "    if (i==0):\n",
    "        nada=archivo.readline()\n",
    "    else:\n",
    "        Ji,di,pi=archivo.readline().strip().split(\";\")\n",
    "        jobs.append([Ji,float(di),float(pi)])\n",
    "schedules, rejected, impossible = H2(jobs, M)"
   ]
  },
  {
   "cell_type": "markdown",
   "metadata": {},
   "source": [
    "## Entrada de datos: 2x1000x5x2"
   ]
  },
  {
   "cell_type": "code",
   "execution_count": 42,
   "metadata": {},
   "outputs": [
    {
     "name": "stdout",
     "output_type": "stream",
     "text": [
      "Execution time 0.5917272567749023\n",
      "603\n"
     ]
    }
   ],
   "source": [
    "start=time.time()\n",
    "M=2\n",
    "n=1000\n",
    "ruta=\"/Users/elPatan03/Desktop/lala/lala/2x1000x5x2.csv\"\n",
    "archivo=open(ruta,\"r\")\n",
    "jobs=[]\n",
    "for i in range(n+1):\n",
    "    if (i==0):\n",
    "        nada=archivo.readline()\n",
    "    else:\n",
    "        Ji,di,pi=archivo.readline().strip().split(\";\")\n",
    "        jobs.append([Ji,float(di),float(pi)])\n",
    "schedules, rejected, impossible = H2(jobs, M)"
   ]
  },
  {
   "cell_type": "markdown",
   "metadata": {},
   "source": [
    "## Entrada de datos: 2x1000x5x3"
   ]
  },
  {
   "cell_type": "code",
   "execution_count": 43,
   "metadata": {},
   "outputs": [
    {
     "name": "stdout",
     "output_type": "stream",
     "text": [
      "Execution time 0.4766561985015869\n",
      "615\n"
     ]
    }
   ],
   "source": [
    "start=time.time()\n",
    "M=2\n",
    "n=1000\n",
    "ruta=\"/Users/elPatan03/Desktop/lala/lala/2x1000x5x3.csv\"\n",
    "archivo=open(ruta,\"r\")\n",
    "jobs=[]\n",
    "for i in range(n+1):\n",
    "    if (i==0):\n",
    "        nada=archivo.readline()\n",
    "    else:\n",
    "        Ji,di,pi=archivo.readline().strip().split(\";\")\n",
    "        jobs.append([Ji,float(di),float(pi)])\n",
    "schedules, rejected, impossible = H2(jobs, M)"
   ]
  },
  {
   "cell_type": "markdown",
   "metadata": {},
   "source": [
    "## Entrada de datos: 2x1000x5x4"
   ]
  },
  {
   "cell_type": "code",
   "execution_count": 44,
   "metadata": {},
   "outputs": [
    {
     "name": "stdout",
     "output_type": "stream",
     "text": [
      "Execution time 0.40820837020874023\n",
      "610\n"
     ]
    }
   ],
   "source": [
    "start=time.time()\n",
    "M=2\n",
    "n=1000\n",
    "ruta=\"/Users/elPatan03/Desktop/lala/lala/2x1000x5x4.csv\"\n",
    "archivo=open(ruta,\"r\")\n",
    "jobs=[]\n",
    "for i in range(n+1):\n",
    "    if (i==0):\n",
    "        nada=archivo.readline()\n",
    "    else:\n",
    "        Ji,di,pi=archivo.readline().strip().split(\";\")\n",
    "        jobs.append([Ji,float(di),float(pi)])\n",
    "schedules, rejected, impossible = H2(jobs, M)"
   ]
  },
  {
   "cell_type": "markdown",
   "metadata": {},
   "source": [
    "## Entrada de datos: 2x1000x5x5"
   ]
  },
  {
   "cell_type": "code",
   "execution_count": 45,
   "metadata": {},
   "outputs": [
    {
     "name": "stdout",
     "output_type": "stream",
     "text": [
      "Execution time 0.4424099922180176\n",
      "603\n"
     ]
    }
   ],
   "source": [
    "start=time.time()\n",
    "M=2\n",
    "n=1000\n",
    "ruta=\"/Users/elPatan03/Desktop/lala/lala/2x1000x5x5.csv\"\n",
    "archivo=open(ruta,\"r\")\n",
    "jobs=[]\n",
    "for i in range(n+1):\n",
    "    if (i==0):\n",
    "        nada=archivo.readline()\n",
    "    else:\n",
    "        Ji,di,pi=archivo.readline().strip().split(\";\")\n",
    "        jobs.append([Ji,float(di),float(pi)])\n",
    "schedules, rejected, impossible = H2(jobs, M)"
   ]
  },
  {
   "cell_type": "markdown",
   "metadata": {},
   "source": [
    "## Entrada de datos: 3x1000x1.5x1"
   ]
  },
  {
   "cell_type": "code",
   "execution_count": 46,
   "metadata": {},
   "outputs": [
    {
     "name": "stdout",
     "output_type": "stream",
     "text": [
      "Execution time 0.7355682849884033\n",
      "999\n"
     ]
    }
   ],
   "source": [
    "start=time.time()\n",
    "M=3\n",
    "n=1000\n",
    "ruta=\"/Users/elPatan03/Desktop/lala/lala/3x1000x1.5x1.csv\"\n",
    "archivo=open(ruta,\"r\")\n",
    "jobs=[]\n",
    "for i in range(n+1):\n",
    "    if (i==0):\n",
    "        nada=archivo.readline()\n",
    "    else:\n",
    "        Ji,di,pi=archivo.readline().strip().split(\";\")\n",
    "        jobs.append([Ji,float(di),float(pi)])\n",
    "schedules, rejected, impossible = H2(jobs, M)"
   ]
  },
  {
   "cell_type": "markdown",
   "metadata": {},
   "source": [
    "## Entrada de datos: 3x1000x1.5x2"
   ]
  },
  {
   "cell_type": "code",
   "execution_count": 47,
   "metadata": {},
   "outputs": [
    {
     "name": "stdout",
     "output_type": "stream",
     "text": [
      "Execution time 4.935724973678589\n",
      "999\n"
     ]
    }
   ],
   "source": [
    "start=time.time()\n",
    "M=3\n",
    "n=1000\n",
    "ruta=\"/Users/elPatan03/Desktop/lala/lala/3x1000x1.5x2.csv\"\n",
    "archivo=open(ruta,\"r\")\n",
    "jobs=[]\n",
    "for i in range(n+1):\n",
    "    if (i==0):\n",
    "        nada=archivo.readline()\n",
    "    else:\n",
    "        Ji,di,pi=archivo.readline().strip().split(\";\")\n",
    "        jobs.append([Ji,float(di),float(pi)])\n",
    "schedules, rejected, impossible = H2(jobs, M)"
   ]
  },
  {
   "cell_type": "markdown",
   "metadata": {},
   "source": [
    "## Entrada de datos: 3x1000x1.5x3"
   ]
  },
  {
   "cell_type": "code",
   "execution_count": 48,
   "metadata": {},
   "outputs": [
    {
     "name": "stdout",
     "output_type": "stream",
     "text": [
      "Execution time 1.22613525390625\n",
      "997\n"
     ]
    }
   ],
   "source": [
    "start=time.time()\n",
    "M=3\n",
    "n=1000\n",
    "ruta=\"/Users/elPatan03/Desktop/lala/lala/3x1000x1.5x3.csv\"\n",
    "archivo=open(ruta,\"r\")\n",
    "jobs=[]\n",
    "for i in range(n+1):\n",
    "    if (i==0):\n",
    "        nada=archivo.readline()\n",
    "    else:\n",
    "        Ji,di,pi=archivo.readline().strip().split(\";\")\n",
    "        jobs.append([Ji,float(di),float(pi)])\n",
    "schedules, rejected, impossible = H2(jobs, M)"
   ]
  },
  {
   "cell_type": "markdown",
   "metadata": {},
   "source": [
    "## Entrada de datos: 3x1000x1.5x4"
   ]
  },
  {
   "cell_type": "code",
   "execution_count": 49,
   "metadata": {},
   "outputs": [
    {
     "name": "stdout",
     "output_type": "stream",
     "text": [
      "Execution time 1.8961851596832275\n",
      "999\n"
     ]
    }
   ],
   "source": [
    "start=time.time()\n",
    "M=3\n",
    "n=1000\n",
    "ruta=\"/Users/elPatan03/Desktop/lala/lala/3x1000x1.5x4.csv\"\n",
    "archivo=open(ruta,\"r\")\n",
    "jobs=[]\n",
    "for i in range(n+1):\n",
    "    if (i==0):\n",
    "        nada=archivo.readline()\n",
    "    else:\n",
    "        Ji,di,pi=archivo.readline().strip().split(\";\")\n",
    "        jobs.append([Ji,float(di),float(pi)])\n",
    "schedules, rejected, impossible = H2(jobs, M)"
   ]
  },
  {
   "cell_type": "markdown",
   "metadata": {},
   "source": [
    "## Entrada de datos: 3x1000x1.5x5"
   ]
  },
  {
   "cell_type": "code",
   "execution_count": 50,
   "metadata": {},
   "outputs": [
    {
     "name": "stdout",
     "output_type": "stream",
     "text": [
      "Execution time 1.2365527153015137\n",
      "999\n"
     ]
    }
   ],
   "source": [
    "start=time.time()\n",
    "M=3\n",
    "n=1000\n",
    "ruta=\"/Users/elPatan03/Desktop/lala/lala/3x1000x1.5x5.csv\"\n",
    "archivo=open(ruta,\"r\")\n",
    "jobs=[]\n",
    "for i in range(n+1):\n",
    "    if (i==0):\n",
    "        nada=archivo.readline()\n",
    "    else:\n",
    "        Ji,di,pi=archivo.readline().strip().split(\";\")\n",
    "        jobs.append([Ji,float(di),float(pi)])\n",
    "schedules, rejected, impossible = H2(jobs, M)"
   ]
  },
  {
   "cell_type": "markdown",
   "metadata": {},
   "source": [
    "## Entrada de datos: 3x1000x2x1"
   ]
  },
  {
   "cell_type": "code",
   "execution_count": 51,
   "metadata": {},
   "outputs": [
    {
     "name": "stdout",
     "output_type": "stream",
     "text": [
      "Execution time 1.0341401100158691\n",
      "991\n"
     ]
    }
   ],
   "source": [
    "start=time.time()\n",
    "M=3\n",
    "n=1000\n",
    "ruta=\"/Users/elPatan03/Desktop/lala/lala/3x1000x2x1.csv\"\n",
    "archivo=open(ruta,\"r\")\n",
    "jobs=[]\n",
    "for i in range(n+1):\n",
    "    if (i==0):\n",
    "        nada=archivo.readline()\n",
    "    else:\n",
    "        Ji,di,pi=archivo.readline().strip().split(\";\")\n",
    "        jobs.append([Ji,float(di),float(pi)])\n",
    "schedules, rejected, impossible = H2(jobs, M)"
   ]
  },
  {
   "cell_type": "markdown",
   "metadata": {},
   "source": [
    "## Entrada de datos: 3x1000x2x2"
   ]
  },
  {
   "cell_type": "code",
   "execution_count": 52,
   "metadata": {},
   "outputs": [
    {
     "name": "stdout",
     "output_type": "stream",
     "text": [
      "Execution time 0.7856872081756592\n",
      "989\n"
     ]
    }
   ],
   "source": [
    "start=time.time()\n",
    "M=3\n",
    "n=1000\n",
    "ruta=\"/Users/elPatan03/Desktop/lala/lala/3x1000x2x2.csv\"\n",
    "archivo=open(ruta,\"r\")\n",
    "jobs=[]\n",
    "for i in range(n+1):\n",
    "    if (i==0):\n",
    "        nada=archivo.readline()\n",
    "    else:\n",
    "        Ji,di,pi=archivo.readline().strip().split(\";\")\n",
    "        jobs.append([Ji,float(di),float(pi)])\n",
    "schedules, rejected, impossible = H2(jobs, M)"
   ]
  },
  {
   "cell_type": "markdown",
   "metadata": {},
   "source": [
    "## Entrada de datos: 3x1000x2x3"
   ]
  },
  {
   "cell_type": "code",
   "execution_count": 53,
   "metadata": {},
   "outputs": [
    {
     "name": "stdout",
     "output_type": "stream",
     "text": [
      "Execution time 0.5059201717376709\n",
      "978\n"
     ]
    }
   ],
   "source": [
    "start=time.time()\n",
    "M=3\n",
    "n=1000\n",
    "ruta=\"/Users/elPatan03/Desktop/lala/lala/3x1000x2x3.csv\"\n",
    "archivo=open(ruta,\"r\")\n",
    "jobs=[]\n",
    "for i in range(n+1):\n",
    "    if (i==0):\n",
    "        nada=archivo.readline()\n",
    "    else:\n",
    "        Ji,di,pi=archivo.readline().strip().split(\";\")\n",
    "        jobs.append([Ji,float(di),float(pi)])\n",
    "schedules, rejected, impossible = H2(jobs, M)"
   ]
  },
  {
   "cell_type": "markdown",
   "metadata": {},
   "source": [
    "## Entrada de datos: 3x1000x2x4"
   ]
  },
  {
   "cell_type": "code",
   "execution_count": 54,
   "metadata": {},
   "outputs": [
    {
     "name": "stdout",
     "output_type": "stream",
     "text": [
      "Execution time 1.137848138809204\n",
      "977\n"
     ]
    }
   ],
   "source": [
    "start=time.time()\n",
    "M=3\n",
    "n=1000\n",
    "ruta=\"/Users/elPatan03/Desktop/lala/lala/3x1000x2x4.csv\"\n",
    "archivo=open(ruta,\"r\")\n",
    "jobs=[]\n",
    "for i in range(n+1):\n",
    "    if (i==0):\n",
    "        nada=archivo.readline()\n",
    "    else:\n",
    "        Ji,di,pi=archivo.readline().strip().split(\";\")\n",
    "        jobs.append([Ji,float(di),float(pi)])\n",
    "schedules, rejected, impossible = H2(jobs, M)"
   ]
  },
  {
   "cell_type": "markdown",
   "metadata": {},
   "source": [
    "## Entrada de datos: 3x1000x2x5"
   ]
  },
  {
   "cell_type": "code",
   "execution_count": 55,
   "metadata": {},
   "outputs": [
    {
     "name": "stdout",
     "output_type": "stream",
     "text": [
      "Execution time 1.1055841445922852\n",
      "987\n"
     ]
    }
   ],
   "source": [
    "start=time.time()\n",
    "M=3\n",
    "n=1000\n",
    "ruta=\"/Users/elPatan03/Desktop/lala/lala/3x1000x2x5.csv\"\n",
    "archivo=open(ruta,\"r\")\n",
    "jobs=[]\n",
    "for i in range(n+1):\n",
    "    if (i==0):\n",
    "        nada=archivo.readline()\n",
    "    else:\n",
    "        Ji,di,pi=archivo.readline().strip().split(\";\")\n",
    "        jobs.append([Ji,float(di),float(pi)])\n",
    "schedules, rejected, impossible = H2(jobs, M)"
   ]
  },
  {
   "cell_type": "markdown",
   "metadata": {},
   "source": [
    "## Entrada de datos: 3x1000x2.5x1"
   ]
  },
  {
   "cell_type": "code",
   "execution_count": 56,
   "metadata": {},
   "outputs": [
    {
     "name": "stdout",
     "output_type": "stream",
     "text": [
      "Execution time 1.5668926239013672\n",
      "889\n"
     ]
    }
   ],
   "source": [
    "start=time.time()\n",
    "M=3\n",
    "n=1000\n",
    "ruta=\"/Users/elPatan03/Desktop/lala/lala/3x1000x2.5x1.csv\"\n",
    "archivo=open(ruta,\"r\")\n",
    "jobs=[]\n",
    "for i in range(n+1):\n",
    "    if (i==0):\n",
    "        nada=archivo.readline()\n",
    "    else:\n",
    "        Ji,di,pi=archivo.readline().strip().split(\";\")\n",
    "        jobs.append([Ji,float(di),float(pi)])\n",
    "schedules, rejected, impossible = H2(jobs, M)"
   ]
  },
  {
   "cell_type": "markdown",
   "metadata": {},
   "source": [
    "## Entrada de datos: 3x1000x2.5x2"
   ]
  },
  {
   "cell_type": "code",
   "execution_count": 57,
   "metadata": {},
   "outputs": [
    {
     "name": "stdout",
     "output_type": "stream",
     "text": [
      "Execution time 2.184408664703369\n",
      "885\n"
     ]
    }
   ],
   "source": [
    "start=time.time()\n",
    "M=3\n",
    "n=1000\n",
    "ruta=\"/Users/elPatan03/Desktop/lala/lala/3x1000x2.5x2.csv\"\n",
    "archivo=open(ruta,\"r\")\n",
    "jobs=[]\n",
    "for i in range(n+1):\n",
    "    if (i==0):\n",
    "        nada=archivo.readline()\n",
    "    else:\n",
    "        Ji,di,pi=archivo.readline().strip().split(\";\")\n",
    "        jobs.append([Ji,float(di),float(pi)])\n",
    "schedules, rejected, impossible = H2(jobs, M)"
   ]
  },
  {
   "cell_type": "markdown",
   "metadata": {},
   "source": [
    "## Entrada de datos: 3x1000x2.5x3"
   ]
  },
  {
   "cell_type": "code",
   "execution_count": 58,
   "metadata": {},
   "outputs": [
    {
     "name": "stdout",
     "output_type": "stream",
     "text": [
      "Execution time 0.5575277805328369\n",
      "882\n"
     ]
    }
   ],
   "source": [
    "start=time.time()\n",
    "M=3\n",
    "n=1000\n",
    "ruta=\"/Users/elPatan03/Desktop/lala/lala/3x1000x2.5x3.csv\"\n",
    "archivo=open(ruta,\"r\")\n",
    "jobs=[]\n",
    "for i in range(n+1):\n",
    "    if (i==0):\n",
    "        nada=archivo.readline()\n",
    "    else:\n",
    "        Ji,di,pi=archivo.readline().strip().split(\";\")\n",
    "        jobs.append([Ji,float(di),float(pi)])\n",
    "schedules, rejected, impossible = H2(jobs, M)"
   ]
  },
  {
   "cell_type": "markdown",
   "metadata": {},
   "source": [
    "## Entrada de datos: 3x1000x2.5x4"
   ]
  },
  {
   "cell_type": "code",
   "execution_count": 59,
   "metadata": {},
   "outputs": [
    {
     "name": "stdout",
     "output_type": "stream",
     "text": [
      "Execution time 0.615065336227417\n",
      "884\n"
     ]
    }
   ],
   "source": [
    "start=time.time()\n",
    "M=3\n",
    "n=1000\n",
    "ruta=\"/Users/elPatan03/Desktop/lala/lala/3x1000x2.5x4.csv\"\n",
    "archivo=open(ruta,\"r\")\n",
    "jobs=[]\n",
    "for i in range(n+1):\n",
    "    if (i==0):\n",
    "        nada=archivo.readline()\n",
    "    else:\n",
    "        Ji,di,pi=archivo.readline().strip().split(\";\")\n",
    "        jobs.append([Ji,float(di),float(pi)])\n",
    "schedules, rejected, impossible = H2(jobs, M)"
   ]
  },
  {
   "cell_type": "markdown",
   "metadata": {},
   "source": [
    "## Entrada de datos: 3x1000x2.5x5"
   ]
  },
  {
   "cell_type": "code",
   "execution_count": 60,
   "metadata": {
    "scrolled": true
   },
   "outputs": [
    {
     "name": "stdout",
     "output_type": "stream",
     "text": [
      "Execution time 0.6775360107421875\n",
      "887\n"
     ]
    }
   ],
   "source": [
    "start=time.time()\n",
    "M=3\n",
    "n=1000\n",
    "ruta=\"/Users/elPatan03/Desktop/lala/lala/3x1000x2.5x5.csv\"\n",
    "archivo=open(ruta,\"r\")\n",
    "jobs=[]\n",
    "for i in range(n+1):\n",
    "    if (i==0):\n",
    "        nada=archivo.readline()\n",
    "    else:\n",
    "        Ji,di,pi=archivo.readline().strip().split(\";\")\n",
    "        jobs.append([Ji,float(di),float(pi)])\n",
    "schedules, rejected, impossible = H2(jobs, M)"
   ]
  },
  {
   "cell_type": "markdown",
   "metadata": {},
   "source": [
    "## Entrada de datos: 3x1000x3x1"
   ]
  },
  {
   "cell_type": "code",
   "execution_count": 61,
   "metadata": {},
   "outputs": [
    {
     "name": "stdout",
     "output_type": "stream",
     "text": [
      "Execution time 0.5233845710754395\n",
      "805\n"
     ]
    }
   ],
   "source": [
    "start=time.time()\n",
    "M=3\n",
    "n=1000\n",
    "ruta=\"/Users/elPatan03/Desktop/lala/lala/3x1000x3x1.csv\"\n",
    "archivo=open(ruta,\"r\")\n",
    "jobs=[]\n",
    "for i in range(n+1):\n",
    "    if (i==0):\n",
    "        nada=archivo.readline()\n",
    "    else:\n",
    "        Ji,di,pi=archivo.readline().strip().split(\";\")\n",
    "        jobs.append([Ji,float(di),float(pi)])\n",
    "schedules, rejected, impossible = H2(jobs, M)"
   ]
  },
  {
   "cell_type": "markdown",
   "metadata": {},
   "source": [
    "## Entrada de datos: 3x1000x3x2"
   ]
  },
  {
   "cell_type": "code",
   "execution_count": 62,
   "metadata": {},
   "outputs": [
    {
     "name": "stdout",
     "output_type": "stream",
     "text": [
      "Execution time 0.8769056797027588\n",
      "804\n"
     ]
    }
   ],
   "source": [
    "start=time.time()\n",
    "M=3\n",
    "n=1000\n",
    "ruta=\"/Users/elPatan03/Desktop/lala/lala/3x1000x3x2.csv\"\n",
    "archivo=open(ruta,\"r\")\n",
    "jobs=[]\n",
    "for i in range(n+1):\n",
    "    if (i==0):\n",
    "        nada=archivo.readline()\n",
    "    else:\n",
    "        Ji,di,pi=archivo.readline().strip().split(\";\")\n",
    "        jobs.append([Ji,float(di),float(pi)])\n",
    "schedules, rejected, impossible = H2(jobs, M)"
   ]
  },
  {
   "cell_type": "markdown",
   "metadata": {},
   "source": [
    "## Entrada de datos: 3x1000x3x3"
   ]
  },
  {
   "cell_type": "code",
   "execution_count": 63,
   "metadata": {},
   "outputs": [
    {
     "name": "stdout",
     "output_type": "stream",
     "text": [
      "Execution time 0.6061172485351562\n",
      "803\n"
     ]
    }
   ],
   "source": [
    "start=time.time()\n",
    "M=3\n",
    "n=1000\n",
    "ruta=\"/Users/elPatan03/Desktop/lala/lala/3x1000x3x3.csv\"\n",
    "archivo=open(ruta,\"r\")\n",
    "jobs=[]\n",
    "for i in range(n+1):\n",
    "    if (i==0):\n",
    "        nada=archivo.readline()\n",
    "    else:\n",
    "        Ji,di,pi=archivo.readline().strip().split(\";\")\n",
    "        jobs.append([Ji,float(di),float(pi)])\n",
    "schedules, rejected, impossible = H2(jobs, M)"
   ]
  },
  {
   "cell_type": "markdown",
   "metadata": {},
   "source": [
    "## Entrada de datos: 3x1000x3x4"
   ]
  },
  {
   "cell_type": "code",
   "execution_count": 64,
   "metadata": {},
   "outputs": [
    {
     "name": "stdout",
     "output_type": "stream",
     "text": [
      "Execution time 0.6512768268585205\n",
      "800\n"
     ]
    }
   ],
   "source": [
    "start=time.time()\n",
    "M=3\n",
    "n=1000\n",
    "ruta=\"/Users/elPatan03/Desktop/lala/lala/3x1000x3x4.csv\"\n",
    "archivo=open(ruta,\"r\")\n",
    "jobs=[]\n",
    "for i in range(n+1):\n",
    "    if (i==0):\n",
    "        nada=archivo.readline()\n",
    "    else:\n",
    "        Ji,di,pi=archivo.readline().strip().split(\";\")\n",
    "        jobs.append([Ji,float(di),float(pi)])\n",
    "schedules, rejected, impossible = H2(jobs, M)"
   ]
  },
  {
   "cell_type": "markdown",
   "metadata": {},
   "source": [
    "## Entrada de datos: 3x1000x3x5"
   ]
  },
  {
   "cell_type": "code",
   "execution_count": 65,
   "metadata": {},
   "outputs": [
    {
     "name": "stdout",
     "output_type": "stream",
     "text": [
      "Execution time 1.6318743228912354\n",
      "805\n"
     ]
    }
   ],
   "source": [
    "start=time.time()\n",
    "M=3\n",
    "n=1000\n",
    "ruta=\"/Users/elPatan03/Desktop/lala/lala/3x1000x3x5.csv\"\n",
    "archivo=open(ruta,\"r\")\n",
    "jobs=[]\n",
    "for i in range(n+1):\n",
    "    if (i==0):\n",
    "        nada=archivo.readline()\n",
    "    else:\n",
    "        Ji,di,pi=archivo.readline().strip().split(\";\")\n",
    "        jobs.append([Ji,float(di),float(pi)])\n",
    "schedules, rejected, impossible = H2(jobs, M)"
   ]
  },
  {
   "cell_type": "markdown",
   "metadata": {},
   "source": [
    "## Entrada de datos: 3x1000x3.5x1"
   ]
  },
  {
   "cell_type": "code",
   "execution_count": 66,
   "metadata": {},
   "outputs": [
    {
     "name": "stdout",
     "output_type": "stream",
     "text": [
      "Execution time 0.5426239967346191\n",
      "735\n"
     ]
    }
   ],
   "source": [
    "start=time.time()\n",
    "M=3\n",
    "n=1000\n",
    "ruta=\"/Users/elPatan03/Desktop/lala/lala/3x1000x3.5x1.csv\"\n",
    "archivo=open(ruta,\"r\")\n",
    "jobs=[]\n",
    "for i in range(n+1):\n",
    "    if (i==0):\n",
    "        nada=archivo.readline()\n",
    "    else:\n",
    "        Ji,di,pi=archivo.readline().strip().split(\";\")\n",
    "        jobs.append([Ji,float(di),float(pi)])\n",
    "schedules, rejected, impossible = H2(jobs, M)"
   ]
  },
  {
   "cell_type": "markdown",
   "metadata": {},
   "source": [
    "## Entrada de datos: 3x1000x3.5x2"
   ]
  },
  {
   "cell_type": "code",
   "execution_count": 67,
   "metadata": {},
   "outputs": [
    {
     "name": "stdout",
     "output_type": "stream",
     "text": [
      "Execution time 0.7241599559783936\n",
      "743\n"
     ]
    }
   ],
   "source": [
    "start=time.time()\n",
    "M=3\n",
    "n=1000\n",
    "ruta=\"/Users/elPatan03/Desktop/lala/lala/3x1000x3.5x2.csv\"\n",
    "archivo=open(ruta,\"r\")\n",
    "jobs=[]\n",
    "for i in range(n+1):\n",
    "    if (i==0):\n",
    "        nada=archivo.readline()\n",
    "    else:\n",
    "        Ji,di,pi=archivo.readline().strip().split(\";\")\n",
    "        jobs.append([Ji,float(di),float(pi)])\n",
    "schedules, rejected, impossible = H2(jobs, M)"
   ]
  },
  {
   "cell_type": "markdown",
   "metadata": {},
   "source": [
    "## Entrada de datos: 3x1000x3.5x3"
   ]
  },
  {
   "cell_type": "code",
   "execution_count": 68,
   "metadata": {},
   "outputs": [
    {
     "name": "stdout",
     "output_type": "stream",
     "text": [
      "Execution time 0.639845609664917\n",
      "741\n"
     ]
    }
   ],
   "source": [
    "start=time.time()\n",
    "M=3\n",
    "n=1000\n",
    "ruta=\"/Users/elPatan03/Desktop/lala/lala/3x1000x3.5x3.csv\"\n",
    "archivo=open(ruta,\"r\")\n",
    "jobs=[]\n",
    "for i in range(n+1):\n",
    "    if (i==0):\n",
    "        nada=archivo.readline()\n",
    "    else:\n",
    "        Ji,di,pi=archivo.readline().strip().split(\";\")\n",
    "        jobs.append([Ji,float(di),float(pi)])\n",
    "schedules, rejected, impossible = H2(jobs, M)"
   ]
  },
  {
   "cell_type": "markdown",
   "metadata": {},
   "source": [
    "## Entrada de datos: 3x1000x3.5x4"
   ]
  },
  {
   "cell_type": "code",
   "execution_count": 69,
   "metadata": {},
   "outputs": [
    {
     "name": "stdout",
     "output_type": "stream",
     "text": [
      "Execution time 0.5892734527587891\n",
      "734\n"
     ]
    }
   ],
   "source": [
    "start=time.time()\n",
    "M=3\n",
    "n=1000\n",
    "ruta=\"/Users/elPatan03/Desktop/lala/lala/3x1000x3.5x4.csv\"\n",
    "archivo=open(ruta,\"r\")\n",
    "jobs=[]\n",
    "for i in range(n+1):\n",
    "    if (i==0):\n",
    "        nada=archivo.readline()\n",
    "    else:\n",
    "        Ji,di,pi=archivo.readline().strip().split(\";\")\n",
    "        jobs.append([Ji,float(di),float(pi)])\n",
    "schedules, rejected, impossible = H2(jobs, M)"
   ]
  },
  {
   "cell_type": "markdown",
   "metadata": {},
   "source": [
    "## Entrada de datos: 3x1000x3.5x5"
   ]
  },
  {
   "cell_type": "code",
   "execution_count": 70,
   "metadata": {},
   "outputs": [
    {
     "name": "stdout",
     "output_type": "stream",
     "text": [
      "Execution time 0.5267527103424072\n",
      "742\n"
     ]
    }
   ],
   "source": [
    "start=time.time()\n",
    "M=3\n",
    "n=1000\n",
    "ruta=\"/Users/elPatan03/Desktop/lala/lala/3x1000x3.5x5.csv\"\n",
    "archivo=open(ruta,\"r\")\n",
    "jobs=[]\n",
    "for i in range(n+1):\n",
    "    if (i==0):\n",
    "        nada=archivo.readline()\n",
    "    else:\n",
    "        Ji,di,pi=archivo.readline().strip().split(\";\")\n",
    "        jobs.append([Ji,float(di),float(pi)])\n",
    "schedules, rejected, impossible = H2(jobs, M)"
   ]
  },
  {
   "cell_type": "markdown",
   "metadata": {},
   "source": [
    "## Entrada de datos: 3x1000x4x1"
   ]
  },
  {
   "cell_type": "code",
   "execution_count": 71,
   "metadata": {},
   "outputs": [
    {
     "name": "stdout",
     "output_type": "stream",
     "text": [
      "Execution time 0.5009360313415527\n",
      "689\n"
     ]
    }
   ],
   "source": [
    "start=time.time()\n",
    "M=3\n",
    "n=1000\n",
    "ruta=\"/Users/elPatan03/Desktop/lala/lala/3x1000x4x1.csv\"\n",
    "archivo=open(ruta,\"r\")\n",
    "jobs=[]\n",
    "for i in range(n+1):\n",
    "    if (i==0):\n",
    "        nada=archivo.readline()\n",
    "    else:\n",
    "        Ji,di,pi=archivo.readline().strip().split(\";\")\n",
    "        jobs.append([Ji,float(di),float(pi)])\n",
    "schedules, rejected, impossible = H2(jobs, M)"
   ]
  },
  {
   "cell_type": "markdown",
   "metadata": {},
   "source": [
    "## Entrada de datos: 3x1000x4x2"
   ]
  },
  {
   "cell_type": "code",
   "execution_count": 72,
   "metadata": {},
   "outputs": [
    {
     "name": "stdout",
     "output_type": "stream",
     "text": [
      "Execution time 0.6051390171051025\n",
      "686\n"
     ]
    }
   ],
   "source": [
    "start=time.time()\n",
    "M=3\n",
    "n=1000\n",
    "ruta=\"/Users/elPatan03/Desktop/lala/lala/3x1000x4x2.csv\"\n",
    "archivo=open(ruta,\"r\")\n",
    "jobs=[]\n",
    "for i in range(n+1):\n",
    "    if (i==0):\n",
    "        nada=archivo.readline()\n",
    "    else:\n",
    "        Ji,di,pi=archivo.readline().strip().split(\";\")\n",
    "        jobs.append([Ji,float(di),float(pi)])\n",
    "schedules, rejected, impossible = H2(jobs, M)"
   ]
  },
  {
   "cell_type": "markdown",
   "metadata": {},
   "source": [
    "## Entrada de datos: 3x1000x4x3"
   ]
  },
  {
   "cell_type": "code",
   "execution_count": 73,
   "metadata": {},
   "outputs": [
    {
     "name": "stdout",
     "output_type": "stream",
     "text": [
      "Execution time 0.5163593292236328\n",
      "690\n"
     ]
    }
   ],
   "source": [
    "start=time.time()\n",
    "M=3\n",
    "n=1000\n",
    "ruta=\"/Users/elPatan03/Desktop/lala/lala/3x1000x4x3.csv\"\n",
    "archivo=open(ruta,\"r\")\n",
    "jobs=[]\n",
    "for i in range(n+1):\n",
    "    if (i==0):\n",
    "        nada=archivo.readline()\n",
    "    else:\n",
    "        Ji,di,pi=archivo.readline().strip().split(\";\")\n",
    "        jobs.append([Ji,float(di),float(pi)])\n",
    "schedules, rejected, impossible = H2(jobs, M)"
   ]
  },
  {
   "cell_type": "markdown",
   "metadata": {},
   "source": [
    "## Entrada de datos: 3x1000x4x4"
   ]
  },
  {
   "cell_type": "code",
   "execution_count": 74,
   "metadata": {},
   "outputs": [
    {
     "name": "stdout",
     "output_type": "stream",
     "text": [
      "Execution time 0.5213007926940918\n",
      "691\n"
     ]
    }
   ],
   "source": [
    "start=time.time()\n",
    "M=3\n",
    "n=1000\n",
    "ruta=\"/Users/elPatan03/Desktop/lala/lala/3x1000x4x4.csv\"\n",
    "archivo=open(ruta,\"r\")\n",
    "jobs=[]\n",
    "for i in range(n+1):\n",
    "    if (i==0):\n",
    "        nada=archivo.readline()\n",
    "    else:\n",
    "        Ji,di,pi=archivo.readline().strip().split(\";\")\n",
    "        jobs.append([Ji,float(di),float(pi)])\n",
    "schedules, rejected, impossible = H2(jobs, M)"
   ]
  },
  {
   "cell_type": "markdown",
   "metadata": {},
   "source": [
    "## Entrada de datos: 3x1000x4x5"
   ]
  },
  {
   "cell_type": "code",
   "execution_count": 75,
   "metadata": {},
   "outputs": [
    {
     "name": "stdout",
     "output_type": "stream",
     "text": [
      "Execution time 0.6686069965362549\n",
      "693\n"
     ]
    }
   ],
   "source": [
    "start=time.time()\n",
    "M=3\n",
    "n=1000\n",
    "ruta=\"/Users/elPatan03/Desktop/lala/lala/3x1000x4x5.csv\"\n",
    "archivo=open(ruta,\"r\")\n",
    "jobs=[]\n",
    "for i in range(n+1):\n",
    "    if (i==0):\n",
    "        nada=archivo.readline()\n",
    "    else:\n",
    "        Ji,di,pi=archivo.readline().strip().split(\";\")\n",
    "        jobs.append([Ji,float(di),float(pi)])\n",
    "schedules, rejected, impossible = H2(jobs, M)"
   ]
  },
  {
   "cell_type": "markdown",
   "metadata": {},
   "source": [
    "## Entrada de datos: 3x1000x4.5x1"
   ]
  },
  {
   "cell_type": "code",
   "execution_count": 76,
   "metadata": {},
   "outputs": [
    {
     "name": "stdout",
     "output_type": "stream",
     "text": [
      "Execution time 0.5971834659576416\n",
      "642\n"
     ]
    }
   ],
   "source": [
    "start=time.time()\n",
    "M=3\n",
    "n=1000\n",
    "ruta=\"/Users/elPatan03/Desktop/lala/lala/3x1000x4.5x1.csv\"\n",
    "archivo=open(ruta,\"r\")\n",
    "jobs=[]\n",
    "for i in range(n+1):\n",
    "    if (i==0):\n",
    "        nada=archivo.readline()\n",
    "    else:\n",
    "        Ji,di,pi=archivo.readline().strip().split(\";\")\n",
    "        jobs.append([Ji,float(di),float(pi)])\n",
    "schedules, rejected, impossible = H2(jobs, M)"
   ]
  },
  {
   "cell_type": "markdown",
   "metadata": {},
   "source": [
    "## Entrada de datos: 3x1000x4.5x2"
   ]
  },
  {
   "cell_type": "code",
   "execution_count": 77,
   "metadata": {},
   "outputs": [
    {
     "name": "stdout",
     "output_type": "stream",
     "text": [
      "Execution time 0.6641435623168945\n",
      "651\n"
     ]
    }
   ],
   "source": [
    "start=time.time()\n",
    "M=3\n",
    "n=1000\n",
    "ruta=\"/Users/elPatan03/Desktop/lala/lala/3x1000x4.5x2.csv\"\n",
    "archivo=open(ruta,\"r\")\n",
    "jobs=[]\n",
    "for i in range(n+1):\n",
    "    if (i==0):\n",
    "        nada=archivo.readline()\n",
    "    else:\n",
    "        Ji,di,pi=archivo.readline().strip().split(\";\")\n",
    "        jobs.append([Ji,float(di),float(pi)])\n",
    "schedules, rejected, impossible = H2(jobs, M)"
   ]
  },
  {
   "cell_type": "markdown",
   "metadata": {},
   "source": [
    "## Entrada de datos: 3x1000x4.5x3"
   ]
  },
  {
   "cell_type": "code",
   "execution_count": 78,
   "metadata": {},
   "outputs": [
    {
     "name": "stdout",
     "output_type": "stream",
     "text": [
      "Execution time 0.6180160045623779\n",
      "640\n"
     ]
    }
   ],
   "source": [
    "start=time.time()\n",
    "M=3\n",
    "n=1000\n",
    "ruta=\"/Users/elPatan03/Desktop/lala/lala/3x1000x4.5x3.csv\"\n",
    "archivo=open(ruta,\"r\")\n",
    "jobs=[]\n",
    "for i in range(n+1):\n",
    "    if (i==0):\n",
    "        nada=archivo.readline()\n",
    "    else:\n",
    "        Ji,di,pi=archivo.readline().strip().split(\";\")\n",
    "        jobs.append([Ji,float(di),float(pi)])\n",
    "schedules, rejected, impossible = H2(jobs, M)"
   ]
  },
  {
   "cell_type": "markdown",
   "metadata": {},
   "source": [
    "## Entrada de datos: 3x1000x4.5x4"
   ]
  },
  {
   "cell_type": "code",
   "execution_count": 79,
   "metadata": {},
   "outputs": [
    {
     "name": "stdout",
     "output_type": "stream",
     "text": [
      "Execution time 0.5332198143005371\n",
      "658\n"
     ]
    }
   ],
   "source": [
    "start=time.time()\n",
    "M=3\n",
    "n=1000\n",
    "ruta=\"/Users/elPatan03/Desktop/lala/lala/3x1000x4.5x4.csv\"\n",
    "archivo=open(ruta,\"r\")\n",
    "jobs=[]\n",
    "for i in range(n+1):\n",
    "    if (i==0):\n",
    "        nada=archivo.readline()\n",
    "    else:\n",
    "        Ji,di,pi=archivo.readline().strip().split(\";\")\n",
    "        jobs.append([Ji,float(di),float(pi)])\n",
    "schedules, rejected, impossible = H2(jobs, M)"
   ]
  },
  {
   "cell_type": "markdown",
   "metadata": {},
   "source": [
    "## Entrada de datos: 3x1000x4.5x5"
   ]
  },
  {
   "cell_type": "code",
   "execution_count": 80,
   "metadata": {
    "scrolled": true
   },
   "outputs": [
    {
     "name": "stdout",
     "output_type": "stream",
     "text": [
      "Execution time 0.6214883327484131\n",
      "646\n"
     ]
    }
   ],
   "source": [
    "start=time.time()\n",
    "M=3\n",
    "n=1000\n",
    "ruta=\"/Users/elPatan03/Desktop/lala/lala/3x1000x4.5x5.csv\"\n",
    "archivo=open(ruta,\"r\")\n",
    "jobs=[]\n",
    "for i in range(n+1):\n",
    "    if (i==0):\n",
    "        nada=archivo.readline()\n",
    "    else:\n",
    "        Ji,di,pi=archivo.readline().strip().split(\";\")\n",
    "        jobs.append([Ji,float(di),float(pi)])\n",
    "schedules, rejected, impossible = H2(jobs, M)"
   ]
  },
  {
   "cell_type": "markdown",
   "metadata": {},
   "source": [
    "## Entrada de datos: 3x1000x5x1"
   ]
  },
  {
   "cell_type": "code",
   "execution_count": 81,
   "metadata": {},
   "outputs": [
    {
     "name": "stdout",
     "output_type": "stream",
     "text": [
      "Execution time 0.42559123039245605\n",
      "602\n"
     ]
    }
   ],
   "source": [
    "start=time.time()\n",
    "M=3\n",
    "n=1000\n",
    "ruta=\"/Users/elPatan03/Desktop/lala/lala/3x1000x5x1.csv\"\n",
    "archivo=open(ruta,\"r\")\n",
    "jobs=[]\n",
    "for i in range(n+1):\n",
    "    if (i==0):\n",
    "        nada=archivo.readline()\n",
    "    else:\n",
    "        Ji,di,pi=archivo.readline().strip().split(\";\")\n",
    "        jobs.append([Ji,float(di),float(pi)])\n",
    "schedules, rejected, impossible = H2(jobs, M)"
   ]
  },
  {
   "cell_type": "markdown",
   "metadata": {},
   "source": [
    "## Entrada de datos: 3x1000x5x2"
   ]
  },
  {
   "cell_type": "code",
   "execution_count": 82,
   "metadata": {},
   "outputs": [
    {
     "name": "stdout",
     "output_type": "stream",
     "text": [
      "Execution time 0.45880961418151855\n",
      "620\n"
     ]
    }
   ],
   "source": [
    "start=time.time()\n",
    "M=3\n",
    "n=1000\n",
    "ruta=\"/Users/elPatan03/Desktop/lala/lala/3x1000x5x2.csv\"\n",
    "archivo=open(ruta,\"r\")\n",
    "jobs=[]\n",
    "for i in range(n+1):\n",
    "    if (i==0):\n",
    "        nada=archivo.readline()\n",
    "    else:\n",
    "        Ji,di,pi=archivo.readline().strip().split(\";\")\n",
    "        jobs.append([Ji,float(di),float(pi)])\n",
    "schedules, rejected, impossible = H2(jobs, M)"
   ]
  },
  {
   "cell_type": "markdown",
   "metadata": {},
   "source": [
    "## Entrada de datos: 3x1000x5x3"
   ]
  },
  {
   "cell_type": "code",
   "execution_count": 83,
   "metadata": {},
   "outputs": [
    {
     "name": "stdout",
     "output_type": "stream",
     "text": [
      "Execution time 0.5074141025543213\n",
      "607\n"
     ]
    }
   ],
   "source": [
    "start=time.time()\n",
    "M=3\n",
    "n=1000\n",
    "ruta=\"/Users/elPatan03/Desktop/lala/lala/3x1000x5x3.csv\"\n",
    "archivo=open(ruta,\"r\")\n",
    "jobs=[]\n",
    "for i in range(n+1):\n",
    "    if (i==0):\n",
    "        nada=archivo.readline()\n",
    "    else:\n",
    "        Ji,di,pi=archivo.readline().strip().split(\";\")\n",
    "        jobs.append([Ji,float(di),float(pi)])\n",
    "schedules, rejected, impossible = H2(jobs, M)"
   ]
  },
  {
   "cell_type": "markdown",
   "metadata": {},
   "source": [
    "## Entrada de datos: 3x1000x5x4"
   ]
  },
  {
   "cell_type": "code",
   "execution_count": 84,
   "metadata": {},
   "outputs": [
    {
     "name": "stdout",
     "output_type": "stream",
     "text": [
      "Execution time 0.8412253856658936\n",
      "609\n"
     ]
    }
   ],
   "source": [
    "start=time.time()\n",
    "M=3\n",
    "n=1000\n",
    "ruta=\"/Users/elPatan03/Desktop/lala/lala/3x1000x5x4.csv\"\n",
    "archivo=open(ruta,\"r\")\n",
    "jobs=[]\n",
    "for i in range(n+1):\n",
    "    if (i==0):\n",
    "        nada=archivo.readline()\n",
    "    else:\n",
    "        Ji,di,pi=archivo.readline().strip().split(\";\")\n",
    "        jobs.append([Ji,float(di),float(pi)])\n",
    "schedules, rejected, impossible = H2(jobs, M)"
   ]
  },
  {
   "cell_type": "markdown",
   "metadata": {},
   "source": [
    "## Entrada de datos: 3x1000x5x5"
   ]
  },
  {
   "cell_type": "code",
   "execution_count": 85,
   "metadata": {
    "scrolled": true
   },
   "outputs": [
    {
     "name": "stdout",
     "output_type": "stream",
     "text": [
      "Execution time 0.6160318851470947\n",
      "613\n"
     ]
    }
   ],
   "source": [
    "start=time.time()\n",
    "M=3\n",
    "n=1000\n",
    "ruta=\"/Users/elPatan03/Desktop/lala/lala/3x1000x5x5.csv\"\n",
    "archivo=open(ruta,\"r\")\n",
    "jobs=[]\n",
    "for i in range(n+1):\n",
    "    if (i==0):\n",
    "        nada=archivo.readline()\n",
    "    else:\n",
    "        Ji,di,pi=archivo.readline().strip().split(\";\")\n",
    "        jobs.append([Ji,float(di),float(pi)])\n",
    "schedules, rejected, impossible = H2(jobs, M)"
   ]
  },
  {
   "cell_type": "markdown",
   "metadata": {},
   "source": [
    "## Entrada de datos: 4x1000x1.5x1"
   ]
  },
  {
   "cell_type": "code",
   "execution_count": 86,
   "metadata": {},
   "outputs": [
    {
     "name": "stdout",
     "output_type": "stream",
     "text": [
      "Execution time 0.9597809314727783\n",
      "998\n"
     ]
    }
   ],
   "source": [
    "start=time.time()\n",
    "M=4\n",
    "n=1000\n",
    "ruta=\"/Users/elPatan03/Desktop/lala/lala/4x1000x1.5x1.csv\"\n",
    "archivo=open(ruta,\"r\")\n",
    "jobs=[]\n",
    "for i in range(n+1):\n",
    "    if (i==0):\n",
    "        nada=archivo.readline()\n",
    "    else:\n",
    "        Ji,di,pi=archivo.readline().strip().split(\";\")\n",
    "        jobs.append([Ji,float(di),float(pi)])\n",
    "schedules, rejected, impossible = H2(jobs, M)"
   ]
  },
  {
   "cell_type": "markdown",
   "metadata": {},
   "source": [
    "## Entrada de datos: 4x1000x1.5x2"
   ]
  },
  {
   "cell_type": "code",
   "execution_count": 87,
   "metadata": {},
   "outputs": [
    {
     "name": "stdout",
     "output_type": "stream",
     "text": [
      "Execution time 0.7118175029754639\n",
      "995\n"
     ]
    }
   ],
   "source": [
    "start=time.time()\n",
    "M=4\n",
    "n=1000\n",
    "ruta=\"/Users/elPatan03/Desktop/lala/lala/4x1000x1.5x2.csv\"\n",
    "archivo=open(ruta,\"r\")\n",
    "jobs=[]\n",
    "for i in range(n+1):\n",
    "    if (i==0):\n",
    "        nada=archivo.readline()\n",
    "    else:\n",
    "        Ji,di,pi=archivo.readline().strip().split(\";\")\n",
    "        jobs.append([Ji,float(di),float(pi)])\n",
    "schedules, rejected, impossible = H2(jobs, M)"
   ]
  },
  {
   "cell_type": "markdown",
   "metadata": {},
   "source": [
    "## Entrada de datos: 4x1000x1.5x3"
   ]
  },
  {
   "cell_type": "code",
   "execution_count": 88,
   "metadata": {},
   "outputs": [
    {
     "name": "stdout",
     "output_type": "stream",
     "text": [
      "Execution time 0.7529513835906982\n",
      "997\n"
     ]
    }
   ],
   "source": [
    "start=time.time()\n",
    "M=4\n",
    "n=1000\n",
    "ruta=\"/Users/elPatan03/Desktop/lala/lala/4x1000x1.5x3.csv\"\n",
    "archivo=open(ruta,\"r\")\n",
    "jobs=[]\n",
    "for i in range(n+1):\n",
    "    if (i==0):\n",
    "        nada=archivo.readline()\n",
    "    else:\n",
    "        Ji,di,pi=archivo.readline().strip().split(\";\")\n",
    "        jobs.append([Ji,float(di),float(pi)])\n",
    "schedules, rejected, impossible = H2(jobs, M)"
   ]
  },
  {
   "cell_type": "markdown",
   "metadata": {},
   "source": [
    "## Entrada de datos: 4x1000x1.5x4"
   ]
  },
  {
   "cell_type": "code",
   "execution_count": 89,
   "metadata": {},
   "outputs": [
    {
     "name": "stdout",
     "output_type": "stream",
     "text": [
      "Execution time 0.9324793815612793\n",
      "996\n"
     ]
    }
   ],
   "source": [
    "start=time.time()\n",
    "M=4\n",
    "n=1000\n",
    "ruta=\"/Users/elPatan03/Desktop/lala/lala/4x1000x1.5x4.csv\"\n",
    "archivo=open(ruta,\"r\")\n",
    "jobs=[]\n",
    "for i in range(n+1):\n",
    "    if (i==0):\n",
    "        nada=archivo.readline()\n",
    "    else:\n",
    "        Ji,di,pi=archivo.readline().strip().split(\";\")\n",
    "        jobs.append([Ji,float(di),float(pi)])\n",
    "schedules, rejected, impossible = H2(jobs, M)"
   ]
  },
  {
   "cell_type": "markdown",
   "metadata": {},
   "source": [
    "## Entrada de datos: 4x1000x1.5x5"
   ]
  },
  {
   "cell_type": "code",
   "execution_count": 90,
   "metadata": {},
   "outputs": [
    {
     "name": "stdout",
     "output_type": "stream",
     "text": [
      "Execution time 1.6030898094177246\n",
      "994\n"
     ]
    }
   ],
   "source": [
    "start=time.time()\n",
    "M=4\n",
    "n=1000\n",
    "ruta=\"/Users/elPatan03/Desktop/lala/lala/4x1000x1.5x5.csv\"\n",
    "archivo=open(ruta,\"r\")\n",
    "jobs=[]\n",
    "for i in range(n+1):\n",
    "    if (i==0):\n",
    "        nada=archivo.readline()\n",
    "    else:\n",
    "        Ji,di,pi=archivo.readline().strip().split(\";\")\n",
    "        jobs.append([Ji,float(di),float(pi)])\n",
    "schedules, rejected, impossible = H2(jobs, M)"
   ]
  },
  {
   "cell_type": "markdown",
   "metadata": {},
   "source": [
    "## Entrada de datos: 4x1000x2x1"
   ]
  },
  {
   "cell_type": "code",
   "execution_count": 91,
   "metadata": {},
   "outputs": [
    {
     "name": "stdout",
     "output_type": "stream",
     "text": [
      "Execution time 0.6299493312835693\n",
      "983\n"
     ]
    }
   ],
   "source": [
    "start=time.time()\n",
    "M=4\n",
    "n=1000\n",
    "ruta=\"/Users/elPatan03/Desktop/lala/lala/4x1000x2x1.csv\"\n",
    "archivo=open(ruta,\"r\")\n",
    "jobs=[]\n",
    "for i in range(n+1):\n",
    "    if (i==0):\n",
    "        nada=archivo.readline()\n",
    "    else:\n",
    "        Ji,di,pi=archivo.readline().strip().split(\";\")\n",
    "        jobs.append([Ji,float(di),float(pi)])\n",
    "schedules, rejected, impossible = H2(jobs, M)"
   ]
  },
  {
   "cell_type": "markdown",
   "metadata": {},
   "source": [
    "## Entrada de datos: 4x1000x2x2"
   ]
  },
  {
   "cell_type": "code",
   "execution_count": 92,
   "metadata": {},
   "outputs": [
    {
     "name": "stdout",
     "output_type": "stream",
     "text": [
      "Execution time 1.2003486156463623\n",
      "977\n"
     ]
    }
   ],
   "source": [
    "start=time.time()\n",
    "M=4\n",
    "n=1000\n",
    "ruta=\"/Users/elPatan03/Desktop/lala/lala/4x1000x2x2.csv\"\n",
    "archivo=open(ruta,\"r\")\n",
    "jobs=[]\n",
    "for i in range(n+1):\n",
    "    if (i==0):\n",
    "        nada=archivo.readline()\n",
    "    else:\n",
    "        Ji,di,pi=archivo.readline().strip().split(\";\")\n",
    "        jobs.append([Ji,float(di),float(pi)])\n",
    "schedules, rejected, impossible = H2(jobs, M)"
   ]
  },
  {
   "cell_type": "markdown",
   "metadata": {},
   "source": [
    "## Entrada de datos: 4x1000x2x3"
   ]
  },
  {
   "cell_type": "code",
   "execution_count": 93,
   "metadata": {},
   "outputs": [
    {
     "name": "stdout",
     "output_type": "stream",
     "text": [
      "Execution time 0.7392399311065674\n",
      "980\n"
     ]
    }
   ],
   "source": [
    "start=time.time()\n",
    "M=4\n",
    "n=1000\n",
    "ruta=\"/Users/elPatan03/Desktop/lala/lala/4x1000x2x3.csv\"\n",
    "archivo=open(ruta,\"r\")\n",
    "jobs=[]\n",
    "for i in range(n+1):\n",
    "    if (i==0):\n",
    "        nada=archivo.readline()\n",
    "    else:\n",
    "        Ji,di,pi=archivo.readline().strip().split(\";\")\n",
    "        jobs.append([Ji,float(di),float(pi)])\n",
    "schedules, rejected, impossible = H2(jobs, M)"
   ]
  },
  {
   "cell_type": "markdown",
   "metadata": {},
   "source": [
    "## Entrada de datos: 4x1000x2x4"
   ]
  },
  {
   "cell_type": "code",
   "execution_count": 94,
   "metadata": {},
   "outputs": [
    {
     "name": "stdout",
     "output_type": "stream",
     "text": [
      "Execution time 0.9672002792358398\n",
      "991\n"
     ]
    }
   ],
   "source": [
    "start=time.time()\n",
    "M=4\n",
    "n=1000\n",
    "ruta=\"/Users/elPatan03/Desktop/lala/lala/4x1000x2x4.csv\"\n",
    "archivo=open(ruta,\"r\")\n",
    "jobs=[]\n",
    "for i in range(n+1):\n",
    "    if (i==0):\n",
    "        nada=archivo.readline()\n",
    "    else:\n",
    "        Ji,di,pi=archivo.readline().strip().split(\";\")\n",
    "        jobs.append([Ji,float(di),float(pi)])\n",
    "schedules, rejected, impossible = H2(jobs, M)"
   ]
  },
  {
   "cell_type": "markdown",
   "metadata": {},
   "source": [
    "## Entrada de datos: 4x1000x2x5"
   ]
  },
  {
   "cell_type": "code",
   "execution_count": 95,
   "metadata": {},
   "outputs": [
    {
     "name": "stdout",
     "output_type": "stream",
     "text": [
      "Execution time 0.5575275421142578\n",
      "979\n"
     ]
    }
   ],
   "source": [
    "start=time.time()\n",
    "M=4\n",
    "n=1000\n",
    "ruta=\"/Users/elPatan03/Desktop/lala/lala/4x1000x2x5.csv\"\n",
    "archivo=open(ruta,\"r\")\n",
    "jobs=[]\n",
    "for i in range(n+1):\n",
    "    if (i==0):\n",
    "        nada=archivo.readline()\n",
    "    else:\n",
    "        Ji,di,pi=archivo.readline().strip().split(\";\")\n",
    "        jobs.append([Ji,float(di),float(pi)])\n",
    "schedules, rejected, impossible = H2(jobs, M)"
   ]
  },
  {
   "cell_type": "markdown",
   "metadata": {},
   "source": [
    "## Entrada de datos: 4x1000x2.5x1"
   ]
  },
  {
   "cell_type": "code",
   "execution_count": 96,
   "metadata": {},
   "outputs": [
    {
     "name": "stdout",
     "output_type": "stream",
     "text": [
      "Execution time 0.779217004776001\n",
      "885\n"
     ]
    }
   ],
   "source": [
    "start=time.time()\n",
    "M=4\n",
    "n=1000\n",
    "ruta=\"/Users/elPatan03/Desktop/lala/lala/4x1000x2.5x1.csv\"\n",
    "archivo=open(ruta,\"r\")\n",
    "jobs=[]\n",
    "for i in range(n+1):\n",
    "    if (i==0):\n",
    "        nada=archivo.readline()\n",
    "    else:\n",
    "        Ji,di,pi=archivo.readline().strip().split(\";\")\n",
    "        jobs.append([Ji,float(di),float(pi)])\n",
    "schedules, rejected, impossible = H2(jobs, M)"
   ]
  },
  {
   "cell_type": "markdown",
   "metadata": {},
   "source": [
    "## Entrada de datos: 4x1000x2.5x2"
   ]
  },
  {
   "cell_type": "code",
   "execution_count": 97,
   "metadata": {},
   "outputs": [
    {
     "name": "stdout",
     "output_type": "stream",
     "text": [
      "Execution time 0.5875096321105957\n",
      "887\n"
     ]
    }
   ],
   "source": [
    "start=time.time()\n",
    "M=4\n",
    "n=1000\n",
    "ruta=\"/Users/elPatan03/Desktop/lala/lala/4x1000x2.5x2.csv\"\n",
    "archivo=open(ruta,\"r\")\n",
    "jobs=[]\n",
    "for i in range(n+1):\n",
    "    if (i==0):\n",
    "        nada=archivo.readline()\n",
    "    else:\n",
    "        Ji,di,pi=archivo.readline().strip().split(\";\")\n",
    "        jobs.append([Ji,float(di),float(pi)])\n",
    "schedules, rejected, impossible = H2(jobs, M)"
   ]
  },
  {
   "cell_type": "markdown",
   "metadata": {},
   "source": [
    "## Entrada de datos: 4x1000x2.5x3"
   ]
  },
  {
   "cell_type": "code",
   "execution_count": 98,
   "metadata": {},
   "outputs": [
    {
     "name": "stdout",
     "output_type": "stream",
     "text": [
      "Execution time 0.7217035293579102\n",
      "879\n"
     ]
    }
   ],
   "source": [
    "start=time.time()\n",
    "M=4\n",
    "n=1000\n",
    "ruta=\"/Users/elPatan03/Desktop/lala/lala/4x1000x2.5x3.csv\"\n",
    "archivo=open(ruta,\"r\")\n",
    "jobs=[]\n",
    "for i in range(n+1):\n",
    "    if (i==0):\n",
    "        nada=archivo.readline()\n",
    "    else:\n",
    "        Ji,di,pi=archivo.readline().strip().split(\";\")\n",
    "        jobs.append([Ji,float(di),float(pi)])\n",
    "schedules, rejected, impossible = H2(jobs, M)"
   ]
  },
  {
   "cell_type": "markdown",
   "metadata": {},
   "source": [
    "## Entrada de datos: 4x1000x2.5x4"
   ]
  },
  {
   "cell_type": "code",
   "execution_count": 99,
   "metadata": {},
   "outputs": [
    {
     "name": "stdout",
     "output_type": "stream",
     "text": [
      "Execution time 0.579326868057251\n",
      "880\n"
     ]
    }
   ],
   "source": [
    "start=time.time()\n",
    "M=4\n",
    "n=1000\n",
    "ruta=\"/Users/elPatan03/Desktop/lala/lala/4x1000x2.5x4.csv\"\n",
    "archivo=open(ruta,\"r\")\n",
    "jobs=[]\n",
    "for i in range(n+1):\n",
    "    if (i==0):\n",
    "        nada=archivo.readline()\n",
    "    else:\n",
    "        Ji,di,pi=archivo.readline().strip().split(\";\")\n",
    "        jobs.append([Ji,float(di),float(pi)])\n",
    "schedules, rejected, impossible = H2(jobs, M)"
   ]
  },
  {
   "cell_type": "markdown",
   "metadata": {},
   "source": [
    "## Entrada de datos: 4x1000x2.5x5"
   ]
  },
  {
   "cell_type": "code",
   "execution_count": 100,
   "metadata": {
    "scrolled": true
   },
   "outputs": [
    {
     "name": "stdout",
     "output_type": "stream",
     "text": [
      "Execution time 0.5085303783416748\n",
      "882\n"
     ]
    }
   ],
   "source": [
    "start=time.time()\n",
    "M=4\n",
    "n=1000\n",
    "ruta=\"/Users/elPatan03/Desktop/lala/lala/4x1000x2.5x5.csv\"\n",
    "archivo=open(ruta,\"r\")\n",
    "jobs=[]\n",
    "for i in range(n+1):\n",
    "    if (i==0):\n",
    "        nada=archivo.readline()\n",
    "    else:\n",
    "        Ji,di,pi=archivo.readline().strip().split(\";\")\n",
    "        jobs.append([Ji,float(di),float(pi)])\n",
    "schedules, rejected, impossible = H2(jobs, M)"
   ]
  },
  {
   "cell_type": "markdown",
   "metadata": {},
   "source": [
    "## Entrada de datos: 4x1000x3x1"
   ]
  },
  {
   "cell_type": "code",
   "execution_count": 101,
   "metadata": {},
   "outputs": [
    {
     "name": "stdout",
     "output_type": "stream",
     "text": [
      "Execution time 0.590735912322998\n",
      "802\n"
     ]
    }
   ],
   "source": [
    "start=time.time()\n",
    "M=4\n",
    "n=1000\n",
    "ruta=\"/Users/elPatan03/Desktop/lala/lala/4x1000x3x1.csv\"\n",
    "archivo=open(ruta,\"r\")\n",
    "jobs=[]\n",
    "for i in range(n+1):\n",
    "    if (i==0):\n",
    "        nada=archivo.readline()\n",
    "    else:\n",
    "        Ji,di,pi=archivo.readline().strip().split(\";\")\n",
    "        jobs.append([Ji,float(di),float(pi)])\n",
    "schedules, rejected, impossible = H2(jobs, M)"
   ]
  },
  {
   "cell_type": "markdown",
   "metadata": {},
   "source": [
    "## Entrada de datos: 4x1000x3x2"
   ]
  },
  {
   "cell_type": "code",
   "execution_count": 102,
   "metadata": {},
   "outputs": [
    {
     "name": "stdout",
     "output_type": "stream",
     "text": [
      "Execution time 0.7773993015289307\n",
      "798\n"
     ]
    }
   ],
   "source": [
    "start=time.time()\n",
    "M=4\n",
    "n=1000\n",
    "ruta=\"/Users/elPatan03/Desktop/lala/lala/4x1000x3x2.csv\"\n",
    "archivo=open(ruta,\"r\")\n",
    "jobs=[]\n",
    "for i in range(n+1):\n",
    "    if (i==0):\n",
    "        nada=archivo.readline()\n",
    "    else:\n",
    "        Ji,di,pi=archivo.readline().strip().split(\";\")\n",
    "        jobs.append([Ji,float(di),float(pi)])\n",
    "schedules, rejected, impossible = H2(jobs, M)"
   ]
  },
  {
   "cell_type": "markdown",
   "metadata": {},
   "source": [
    "## Entrada de datos: 4x1000x3x3"
   ]
  },
  {
   "cell_type": "code",
   "execution_count": 103,
   "metadata": {},
   "outputs": [
    {
     "name": "stdout",
     "output_type": "stream",
     "text": [
      "Execution time 0.6517677307128906\n",
      "798\n"
     ]
    }
   ],
   "source": [
    "start=time.time()\n",
    "M=4\n",
    "n=1000\n",
    "ruta=\"/Users/elPatan03/Desktop/lala/lala/4x1000x3x3.csv\"\n",
    "archivo=open(ruta,\"r\")\n",
    "jobs=[]\n",
    "for i in range(n+1):\n",
    "    if (i==0):\n",
    "        nada=archivo.readline()\n",
    "    else:\n",
    "        Ji,di,pi=archivo.readline().strip().split(\";\")\n",
    "        jobs.append([Ji,float(di),float(pi)])\n",
    "schedules, rejected, impossible = H2(jobs, M)"
   ]
  },
  {
   "cell_type": "markdown",
   "metadata": {},
   "source": [
    "## Entrada de datos: 4x1000x3x4"
   ]
  },
  {
   "cell_type": "code",
   "execution_count": 104,
   "metadata": {},
   "outputs": [
    {
     "name": "stdout",
     "output_type": "stream",
     "text": [
      "Execution time 0.5847868919372559\n",
      "804\n"
     ]
    }
   ],
   "source": [
    "start=time.time()\n",
    "M=4\n",
    "n=1000\n",
    "ruta=\"/Users/elPatan03/Desktop/lala/lala/4x1000x3x4.csv\"\n",
    "archivo=open(ruta,\"r\")\n",
    "jobs=[]\n",
    "for i in range(n+1):\n",
    "    if (i==0):\n",
    "        nada=archivo.readline()\n",
    "    else:\n",
    "        Ji,di,pi=archivo.readline().strip().split(\";\")\n",
    "        jobs.append([Ji,float(di),float(pi)])\n",
    "schedules, rejected, impossible = H2(jobs, M)"
   ]
  },
  {
   "cell_type": "markdown",
   "metadata": {},
   "source": [
    "## Entrada de datos: 4x1000x3x5"
   ]
  },
  {
   "cell_type": "code",
   "execution_count": 105,
   "metadata": {},
   "outputs": [
    {
     "name": "stdout",
     "output_type": "stream",
     "text": [
      "Execution time 0.9736790657043457\n",
      "803\n"
     ]
    }
   ],
   "source": [
    "start=time.time()\n",
    "M=4\n",
    "n=1000\n",
    "ruta=\"/Users/elPatan03/Desktop/lala/lala/4x1000x3x5.csv\"\n",
    "archivo=open(ruta,\"r\")\n",
    "jobs=[]\n",
    "for i in range(n+1):\n",
    "    if (i==0):\n",
    "        nada=archivo.readline()\n",
    "    else:\n",
    "        Ji,di,pi=archivo.readline().strip().split(\";\")\n",
    "        jobs.append([Ji,float(di),float(pi)])\n",
    "schedules, rejected, impossible = H2(jobs, M)"
   ]
  },
  {
   "cell_type": "markdown",
   "metadata": {},
   "source": [
    "## Entrada de datos: 4x1000x3.5x1"
   ]
  },
  {
   "cell_type": "code",
   "execution_count": 106,
   "metadata": {},
   "outputs": [
    {
     "name": "stdout",
     "output_type": "stream",
     "text": [
      "Execution time 0.5436410903930664\n",
      "740\n"
     ]
    }
   ],
   "source": [
    "start=time.time()\n",
    "M=4\n",
    "n=1000\n",
    "ruta=\"/Users/elPatan03/Desktop/lala/lala/4x1000x3.5x1.csv\"\n",
    "archivo=open(ruta,\"r\")\n",
    "jobs=[]\n",
    "for i in range(n+1):\n",
    "    if (i==0):\n",
    "        nada=archivo.readline()\n",
    "    else:\n",
    "        Ji,di,pi=archivo.readline().strip().split(\";\")\n",
    "        jobs.append([Ji,float(di),float(pi)])\n",
    "schedules, rejected, impossible = H2(jobs, M)"
   ]
  },
  {
   "cell_type": "markdown",
   "metadata": {},
   "source": [
    "## Entrada de datos: 4x1000x3.5x2"
   ]
  },
  {
   "cell_type": "code",
   "execution_count": 107,
   "metadata": {},
   "outputs": [
    {
     "name": "stdout",
     "output_type": "stream",
     "text": [
      "Execution time 0.5208230018615723\n",
      "739\n"
     ]
    }
   ],
   "source": [
    "start=time.time()\n",
    "M=4\n",
    "n=1000\n",
    "ruta=\"/Users/elPatan03/Desktop/lala/lala/4x1000x3.5x2.csv\"\n",
    "archivo=open(ruta,\"r\")\n",
    "jobs=[]\n",
    "for i in range(n+1):\n",
    "    if (i==0):\n",
    "        nada=archivo.readline()\n",
    "    else:\n",
    "        Ji,di,pi=archivo.readline().strip().split(\";\")\n",
    "        jobs.append([Ji,float(di),float(pi)])\n",
    "schedules, rejected, impossible = H2(jobs, M)"
   ]
  },
  {
   "cell_type": "markdown",
   "metadata": {},
   "source": [
    "## Entrada de datos: 4x1000x3.5x3"
   ]
  },
  {
   "cell_type": "code",
   "execution_count": 108,
   "metadata": {},
   "outputs": [
    {
     "name": "stdout",
     "output_type": "stream",
     "text": [
      "Execution time 0.5550470352172852\n",
      "743\n"
     ]
    }
   ],
   "source": [
    "start=time.time()\n",
    "M=4\n",
    "n=1000\n",
    "ruta=\"/Users/elPatan03/Desktop/lala/lala/4x1000x3.5x3.csv\"\n",
    "archivo=open(ruta,\"r\")\n",
    "jobs=[]\n",
    "for i in range(n+1):\n",
    "    if (i==0):\n",
    "        nada=archivo.readline()\n",
    "    else:\n",
    "        Ji,di,pi=archivo.readline().strip().split(\";\")\n",
    "        jobs.append([Ji,float(di),float(pi)])\n",
    "schedules, rejected, impossible = H2(jobs, M)"
   ]
  },
  {
   "cell_type": "markdown",
   "metadata": {},
   "source": [
    "## Entrada de datos: 4x1000x3.5x4"
   ]
  },
  {
   "cell_type": "code",
   "execution_count": 109,
   "metadata": {},
   "outputs": [
    {
     "name": "stdout",
     "output_type": "stream",
     "text": [
      "Execution time 0.7509744167327881\n",
      "739\n"
     ]
    }
   ],
   "source": [
    "start=time.time()\n",
    "M=4\n",
    "n=1000\n",
    "ruta=\"/Users/elPatan03/Desktop/lala/lala/4x1000x3.5x4.csv\"\n",
    "archivo=open(ruta,\"r\")\n",
    "jobs=[]\n",
    "for i in range(n+1):\n",
    "    if (i==0):\n",
    "        nada=archivo.readline()\n",
    "    else:\n",
    "        Ji,di,pi=archivo.readline().strip().split(\";\")\n",
    "        jobs.append([Ji,float(di),float(pi)])\n",
    "schedules, rejected, impossible = H2(jobs, M)"
   ]
  },
  {
   "cell_type": "markdown",
   "metadata": {},
   "source": [
    "## Entrada de datos: 4x1000x3.5x5"
   ]
  },
  {
   "cell_type": "code",
   "execution_count": 110,
   "metadata": {},
   "outputs": [
    {
     "name": "stdout",
     "output_type": "stream",
     "text": [
      "Execution time 0.5991919040679932\n",
      "740\n"
     ]
    }
   ],
   "source": [
    "start=time.time()\n",
    "M=4\n",
    "n=1000\n",
    "ruta=\"/Users/elPatan03/Desktop/lala/lala/4x1000x3.5x5.csv\"\n",
    "archivo=open(ruta,\"r\")\n",
    "jobs=[]\n",
    "for i in range(n+1):\n",
    "    if (i==0):\n",
    "        nada=archivo.readline()\n",
    "    else:\n",
    "        Ji,di,pi=archivo.readline().strip().split(\";\")\n",
    "        jobs.append([Ji,float(di),float(pi)])\n",
    "schedules, rejected, impossible = H2(jobs, M)"
   ]
  },
  {
   "cell_type": "markdown",
   "metadata": {},
   "source": [
    "## Entrada de datos: 4x1000x4x1"
   ]
  },
  {
   "cell_type": "code",
   "execution_count": 111,
   "metadata": {},
   "outputs": [
    {
     "name": "stdout",
     "output_type": "stream",
     "text": [
      "Execution time 0.50942063331604\n",
      "679\n"
     ]
    }
   ],
   "source": [
    "start=time.time()\n",
    "M=4\n",
    "n=1000\n",
    "ruta=\"/Users/elPatan03/Desktop/lala/lala/4x1000x4x1.csv\"\n",
    "archivo=open(ruta,\"r\")\n",
    "jobs=[]\n",
    "for i in range(n+1):\n",
    "    if (i==0):\n",
    "        nada=archivo.readline()\n",
    "    else:\n",
    "        Ji,di,pi=archivo.readline().strip().split(\";\")\n",
    "        jobs.append([Ji,float(di),float(pi)])\n",
    "schedules, rejected, impossible = H2(jobs, M)"
   ]
  },
  {
   "cell_type": "markdown",
   "metadata": {},
   "source": [
    "## Entrada de datos: 4x1000x4x2"
   ]
  },
  {
   "cell_type": "code",
   "execution_count": 112,
   "metadata": {},
   "outputs": [
    {
     "name": "stdout",
     "output_type": "stream",
     "text": [
      "Execution time 0.5634796619415283\n",
      "686\n"
     ]
    }
   ],
   "source": [
    "start=time.time()\n",
    "M=4\n",
    "n=1000\n",
    "ruta=\"/Users/elPatan03/Desktop/lala/lala/4x1000x4x2.csv\"\n",
    "archivo=open(ruta,\"r\")\n",
    "jobs=[]\n",
    "for i in range(n+1):\n",
    "    if (i==0):\n",
    "        nada=archivo.readline()\n",
    "    else:\n",
    "        Ji,di,pi=archivo.readline().strip().split(\";\")\n",
    "        jobs.append([Ji,float(di),float(pi)])\n",
    "schedules, rejected, impossible = H2(jobs, M)"
   ]
  },
  {
   "cell_type": "markdown",
   "metadata": {},
   "source": [
    "## Entrada de datos: 4x1000x4x3"
   ]
  },
  {
   "cell_type": "code",
   "execution_count": 113,
   "metadata": {},
   "outputs": [
    {
     "name": "stdout",
     "output_type": "stream",
     "text": [
      "Execution time 0.6517419815063477\n",
      "685\n"
     ]
    }
   ],
   "source": [
    "start=time.time()\n",
    "M=4\n",
    "n=1000\n",
    "ruta=\"/Users/elPatan03/Desktop/lala/lala/4x1000x4x3.csv\"\n",
    "archivo=open(ruta,\"r\")\n",
    "jobs=[]\n",
    "for i in range(n+1):\n",
    "    if (i==0):\n",
    "        nada=archivo.readline()\n",
    "    else:\n",
    "        Ji,di,pi=archivo.readline().strip().split(\";\")\n",
    "        jobs.append([Ji,float(di),float(pi)])\n",
    "schedules, rejected, impossible = H2(jobs, M)"
   ]
  },
  {
   "cell_type": "markdown",
   "metadata": {},
   "source": [
    "## Entrada de datos: 4x1000x4x4"
   ]
  },
  {
   "cell_type": "code",
   "execution_count": 114,
   "metadata": {},
   "outputs": [
    {
     "name": "stdout",
     "output_type": "stream",
     "text": [
      "Execution time 0.5421338081359863\n",
      "682\n"
     ]
    }
   ],
   "source": [
    "start=time.time()\n",
    "M=4\n",
    "n=1000\n",
    "ruta=\"/Users/elPatan03/Desktop/lala/lala/4x1000x4x4.csv\"\n",
    "archivo=open(ruta,\"r\")\n",
    "jobs=[]\n",
    "for i in range(n+1):\n",
    "    if (i==0):\n",
    "        nada=archivo.readline()\n",
    "    else:\n",
    "        Ji,di,pi=archivo.readline().strip().split(\";\")\n",
    "        jobs.append([Ji,float(di),float(pi)])\n",
    "schedules, rejected, impossible = H2(jobs, M)"
   ]
  },
  {
   "cell_type": "markdown",
   "metadata": {},
   "source": [
    "## Entrada de datos: 4x1000x4x5"
   ]
  },
  {
   "cell_type": "code",
   "execution_count": 115,
   "metadata": {},
   "outputs": [
    {
     "name": "stdout",
     "output_type": "stream",
     "text": [
      "Execution time 0.5624411106109619\n",
      "690\n"
     ]
    }
   ],
   "source": [
    "start=time.time()\n",
    "M=4\n",
    "n=1000\n",
    "ruta=\"/Users/elPatan03/Desktop/lala/lala/4x1000x4x5.csv\"\n",
    "archivo=open(ruta,\"r\")\n",
    "jobs=[]\n",
    "for i in range(n+1):\n",
    "    if (i==0):\n",
    "        nada=archivo.readline()\n",
    "    else:\n",
    "        Ji,di,pi=archivo.readline().strip().split(\";\")\n",
    "        jobs.append([Ji,float(di),float(pi)])\n",
    "schedules, rejected, impossible = H2(jobs, M)"
   ]
  },
  {
   "cell_type": "markdown",
   "metadata": {},
   "source": [
    "## Entrada de datos: 4x1000x4.5x1"
   ]
  },
  {
   "cell_type": "code",
   "execution_count": 116,
   "metadata": {},
   "outputs": [
    {
     "name": "stdout",
     "output_type": "stream",
     "text": [
      "Execution time 0.5670874118804932\n",
      "640\n"
     ]
    }
   ],
   "source": [
    "start=time.time()\n",
    "M=4\n",
    "n=1000\n",
    "ruta=\"/Users/elPatan03/Desktop/lala/lala/4x1000x4.5x1.csv\"\n",
    "archivo=open(ruta,\"r\")\n",
    "jobs=[]\n",
    "for i in range(n+1):\n",
    "    if (i==0):\n",
    "        nada=archivo.readline()\n",
    "    else:\n",
    "        Ji,di,pi=archivo.readline().strip().split(\";\")\n",
    "        jobs.append([Ji,float(di),float(pi)])\n",
    "schedules, rejected, impossible = H2(jobs, M)"
   ]
  },
  {
   "cell_type": "markdown",
   "metadata": {},
   "source": [
    "## Entrada de datos: 4x1000x4.5x2"
   ]
  },
  {
   "cell_type": "code",
   "execution_count": 117,
   "metadata": {},
   "outputs": [
    {
     "name": "stdout",
     "output_type": "stream",
     "text": [
      "Execution time 0.6671445369720459\n",
      "635\n"
     ]
    }
   ],
   "source": [
    "start=time.time()\n",
    "M=4\n",
    "n=1000\n",
    "ruta=\"/Users/elPatan03/Desktop/lala/lala/4x1000x4.5x2.csv\"\n",
    "archivo=open(ruta,\"r\")\n",
    "jobs=[]\n",
    "for i in range(n+1):\n",
    "    if (i==0):\n",
    "        nada=archivo.readline()\n",
    "    else:\n",
    "        Ji,di,pi=archivo.readline().strip().split(\";\")\n",
    "        jobs.append([Ji,float(di),float(pi)])\n",
    "schedules, rejected, impossible = H2(jobs, M)"
   ]
  },
  {
   "cell_type": "markdown",
   "metadata": {},
   "source": [
    "## Entrada de datos: 4x1000x4.5x3"
   ]
  },
  {
   "cell_type": "code",
   "execution_count": 118,
   "metadata": {},
   "outputs": [
    {
     "name": "stdout",
     "output_type": "stream",
     "text": [
      "Execution time 0.5703778266906738\n",
      "651\n"
     ]
    }
   ],
   "source": [
    "start=time.time()\n",
    "M=4\n",
    "n=1000\n",
    "ruta=\"/Users/elPatan03/Desktop/lala/lala/4x1000x4.5x3.csv\"\n",
    "archivo=open(ruta,\"r\")\n",
    "jobs=[]\n",
    "for i in range(n+1):\n",
    "    if (i==0):\n",
    "        nada=archivo.readline()\n",
    "    else:\n",
    "        Ji,di,pi=archivo.readline().strip().split(\";\")\n",
    "        jobs.append([Ji,float(di),float(pi)])\n",
    "schedules, rejected, impossible = H2(jobs, M)"
   ]
  },
  {
   "cell_type": "markdown",
   "metadata": {},
   "source": [
    "## Entrada de datos: 4x1000x4.5x4"
   ]
  },
  {
   "cell_type": "code",
   "execution_count": 119,
   "metadata": {},
   "outputs": [
    {
     "name": "stdout",
     "output_type": "stream",
     "text": [
      "Execution time 0.6031115055084229\n",
      "655\n"
     ]
    }
   ],
   "source": [
    "start=time.time()\n",
    "M=4\n",
    "n=1000\n",
    "ruta=\"/Users/elPatan03/Desktop/lala/lala/4x1000x4.5x4.csv\"\n",
    "archivo=open(ruta,\"r\")\n",
    "jobs=[]\n",
    "for i in range(n+1):\n",
    "    if (i==0):\n",
    "        nada=archivo.readline()\n",
    "    else:\n",
    "        Ji,di,pi=archivo.readline().strip().split(\";\")\n",
    "        jobs.append([Ji,float(di),float(pi)])\n",
    "schedules, rejected, impossible = H2(jobs, M)"
   ]
  },
  {
   "cell_type": "markdown",
   "metadata": {},
   "source": [
    "## Entrada de datos: 4x1000x4.5x5"
   ]
  },
  {
   "cell_type": "code",
   "execution_count": 120,
   "metadata": {
    "scrolled": true
   },
   "outputs": [
    {
     "name": "stdout",
     "output_type": "stream",
     "text": [
      "Execution time 0.47781848907470703\n",
      "643\n"
     ]
    }
   ],
   "source": [
    "start=time.time()\n",
    "M=4\n",
    "n=1000\n",
    "ruta=\"/Users/elPatan03/Desktop/lala/lala/4x1000x4.5x5.csv\"\n",
    "archivo=open(ruta,\"r\")\n",
    "jobs=[]\n",
    "for i in range(n+1):\n",
    "    if (i==0):\n",
    "        nada=archivo.readline()\n",
    "    else:\n",
    "        Ji,di,pi=archivo.readline().strip().split(\";\")\n",
    "        jobs.append([Ji,float(di),float(pi)])\n",
    "schedules, rejected, impossible = H2(jobs, M)"
   ]
  },
  {
   "cell_type": "markdown",
   "metadata": {},
   "source": [
    "## Entrada de datos: 4x1000x5x1"
   ]
  },
  {
   "cell_type": "code",
   "execution_count": 121,
   "metadata": {},
   "outputs": [
    {
     "name": "stdout",
     "output_type": "stream",
     "text": [
      "Execution time 0.4498720169067383\n",
      "617\n"
     ]
    }
   ],
   "source": [
    "start=time.time()\n",
    "M=4\n",
    "n=1000\n",
    "ruta=\"/Users/elPatan03/Desktop/lala/lala/4x1000x5x1.csv\"\n",
    "archivo=open(ruta,\"r\")\n",
    "jobs=[]\n",
    "for i in range(n+1):\n",
    "    if (i==0):\n",
    "        nada=archivo.readline()\n",
    "    else:\n",
    "        Ji,di,pi=archivo.readline().strip().split(\";\")\n",
    "        jobs.append([Ji,float(di),float(pi)])\n",
    "schedules, rejected, impossible = H2(jobs, M)"
   ]
  },
  {
   "cell_type": "markdown",
   "metadata": {},
   "source": [
    "## Entrada de datos: 4x1000x5x2"
   ]
  },
  {
   "cell_type": "code",
   "execution_count": 122,
   "metadata": {},
   "outputs": [
    {
     "name": "stdout",
     "output_type": "stream",
     "text": [
      "Execution time 0.5728528499603271\n",
      "607\n"
     ]
    }
   ],
   "source": [
    "start=time.time()\n",
    "M=4\n",
    "n=1000\n",
    "ruta=\"/Users/elPatan03/Desktop/lala/lala/4x1000x5x2.csv\"\n",
    "archivo=open(ruta,\"r\")\n",
    "jobs=[]\n",
    "for i in range(n+1):\n",
    "    if (i==0):\n",
    "        nada=archivo.readline()\n",
    "    else:\n",
    "        Ji,di,pi=archivo.readline().strip().split(\";\")\n",
    "        jobs.append([Ji,float(di),float(pi)])\n",
    "schedules, rejected, impossible = H2(jobs, M)"
   ]
  },
  {
   "cell_type": "markdown",
   "metadata": {},
   "source": [
    "## Entrada de datos: 4x1000x5x3"
   ]
  },
  {
   "cell_type": "code",
   "execution_count": 123,
   "metadata": {},
   "outputs": [
    {
     "name": "stdout",
     "output_type": "stream",
     "text": [
      "Execution time 0.4528481960296631\n",
      "609\n"
     ]
    }
   ],
   "source": [
    "start=time.time()\n",
    "M=4\n",
    "n=1000\n",
    "ruta=\"/Users/elPatan03/Desktop/lala/lala/4x1000x5x3.csv\"\n",
    "archivo=open(ruta,\"r\")\n",
    "jobs=[]\n",
    "for i in range(n+1):\n",
    "    if (i==0):\n",
    "        nada=archivo.readline()\n",
    "    else:\n",
    "        Ji,di,pi=archivo.readline().strip().split(\";\")\n",
    "        jobs.append([Ji,float(di),float(pi)])\n",
    "schedules, rejected, impossible = H2(jobs, M)"
   ]
  },
  {
   "cell_type": "markdown",
   "metadata": {},
   "source": [
    "## Entrada de datos: 4x1000x5x4"
   ]
  },
  {
   "cell_type": "code",
   "execution_count": 124,
   "metadata": {},
   "outputs": [
    {
     "name": "stdout",
     "output_type": "stream",
     "text": [
      "Execution time 0.5014514923095703\n",
      "602\n"
     ]
    }
   ],
   "source": [
    "start=time.time()\n",
    "M=4\n",
    "n=1000\n",
    "ruta=\"/Users/elPatan03/Desktop/lala/lala/4x1000x5x4.csv\"\n",
    "archivo=open(ruta,\"r\")\n",
    "jobs=[]\n",
    "for i in range(n+1):\n",
    "    if (i==0):\n",
    "        nada=archivo.readline()\n",
    "    else:\n",
    "        Ji,di,pi=archivo.readline().strip().split(\";\")\n",
    "        jobs.append([Ji,float(di),float(pi)])\n",
    "schedules, rejected, impossible = H2(jobs, M)"
   ]
  },
  {
   "cell_type": "markdown",
   "metadata": {},
   "source": [
    "## Entrada de datos: 4x1000x5x5"
   ]
  },
  {
   "cell_type": "code",
   "execution_count": 125,
   "metadata": {},
   "outputs": [
    {
     "name": "stdout",
     "output_type": "stream",
     "text": [
      "Execution time 0.533228874206543\n",
      "613\n"
     ]
    }
   ],
   "source": [
    "start=time.time()\n",
    "M=4\n",
    "n=1000\n",
    "ruta=\"/Users/elPatan03/Desktop/lala/lala/4x1000x5x5.csv\"\n",
    "archivo=open(ruta,\"r\")\n",
    "jobs=[]\n",
    "for i in range(n+1):\n",
    "    if (i==0):\n",
    "        nada=archivo.readline()\n",
    "    else:\n",
    "        Ji,di,pi=archivo.readline().strip().split(\";\")\n",
    "        jobs.append([Ji,float(di),float(pi)])\n",
    "schedules, rejected, impossible = H2(jobs, M)"
   ]
  }
 ],
 "metadata": {
  "kernelspec": {
   "display_name": "Python 3",
   "language": "python",
   "name": "python3"
  },
  "language_info": {
   "codemirror_mode": {
    "name": "ipython",
    "version": 3
   },
   "file_extension": ".py",
   "mimetype": "text/x-python",
   "name": "python",
   "nbconvert_exporter": "python",
   "pygments_lexer": "ipython3",
   "version": "3.8.5"
  }
 },
 "nbformat": 4,
 "nbformat_minor": 4
}

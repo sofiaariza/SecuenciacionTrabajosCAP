{
 "cells": [
  {
   "cell_type": "markdown",
   "metadata": {},
   "source": [
    "# Adaptación algoritmo de Ho y Chang"
   ]
  },
  {
   "cell_type": "code",
   "execution_count": 1,
   "metadata": {},
   "outputs": [],
   "source": [
    "import time\n",
    "INF = float('inf')\n",
    "nINF = float('-inf')"
   ]
  },
  {
   "cell_type": "code",
   "execution_count": 2,
   "metadata": {},
   "outputs": [],
   "source": [
    "def firstLate(schedule):\n",
    "\n",
    "    ans,i,f = None,0,0\n",
    "    while ans==None and i!=len(schedule):\n",
    "        if f+schedule[i][2]<=schedule[i][1]: f += schedule[i][2]\n",
    "        else: ans = i\n",
    "        i += 1\n",
    "    return ans"
   ]
  },
  {
   "cell_type": "code",
   "execution_count": 3,
   "metadata": {},
   "outputs": [],
   "source": [
    "def computeValues(jobs, j, ans, minSlack): return (ans[j][0], minSlack[j], jobs[j][1]-ans[j][1])"
   ]
  },
  {
   "cell_type": "code",
   "execution_count": 4,
   "metadata": {},
   "outputs": [],
   "source": [
    "def checkC1(di, bj, pi): return (di>=bj+pi)\n",
    "\n",
    "def checkC2(minimumSlack, pi, pj): return (minimumSlack>=pi-pj)\n",
    "\n",
    "def checkC3a(slackJob, di, bj, pi): return (slackJob> di-bj-pi)\n",
    "\n",
    "def checkC3b(di, dj, pi, pj, jobCnt, j): return [(di>dj),(pi>pj),((pi-pj)*(jobCnt-j) > (di-dj))]"
   ]
  },
  {
   "cell_type": "code",
   "execution_count": 5,
   "metadata": {},
   "outputs": [],
   "source": [
    "def H2(jobs, M):\n",
    "\n",
    "    ###Initialize\n",
    "    N= len(jobs)\n",
    "    schedules=[[] for _ in range(M)]\n",
    "    unscheduled,rejected,impossible = [],[],[]\n",
    "\n",
    "    for i in range(len(jobs)):\n",
    "        if(jobs[i][2]>jobs[i][1]):\n",
    "            impossible.append(jobs[i])\n",
    "        else:\n",
    "            unscheduled.append(jobs[i])\n",
    "    ###Initialize\n",
    "    ###H2\n",
    "    for k in range(M):\n",
    "        schedules[k]=unscheduled\n",
    "        unscheduled =[]\n",
    "        schedules[k].sort(key = lambda x: (x[1],x[2]))\n",
    "        ans= firstLate(schedules[k])\n",
    "\n",
    "        while(ans != None):\n",
    "            maxPi=nINF\n",
    "            for i in range(ans+1):\n",
    "                if(maxPi<schedules[k][i][2]):\n",
    "                    maxPi=schedules[k][i][2]\n",
    "                    jMax=schedules[k][i]\n",
    "            schedules[k].remove(jMax)\n",
    "            unscheduled.append(jMax)\n",
    "            ans= firstLate(schedules[k])\n",
    "\n",
    "        if((k<M-1) and (len(unscheduled)!=0)):\n",
    "            ans2 = [ None for _ in schedules[k]]\n",
    "            f = 0\n",
    "            for l in range(len(schedules[k])):\n",
    "                ans2[l] = (f, f+schedules[k][l][2])\n",
    "                f += schedules[k][l][2]\n",
    "            minSlack = [ INF for _ in schedules[k]]\n",
    "            for q in range(len(schedules[k])-1):\n",
    "                for r in range(q+1,len(schedules[k])):\n",
    "                    minSlack[q]= min(minSlack[q], schedules[k][r][1]-ans2[r][1])\n",
    "                    \n",
    "            for j in range(len(schedules[k])):\n",
    "                for i in range(len(unscheduled)):\n",
    "                    ans=computeValues(schedules[k], j, ans2, minSlack)\n",
    "                    dj, pj=schedules[k][j][1], schedules[k][j][2]\n",
    "                    di, pi= unscheduled[i][1], unscheduled[i][2]\n",
    "                    bj, minimumSlack, slackJob = ans\n",
    "                    jobCnt=len(schedules[k])\n",
    "\n",
    "                    if(checkC1(di, bj, pi) and checkC2(minimumSlack, pi, pj) and (checkC3a(slackJob, di, bj, pi) or (False not in checkC3b(di, dj, pi, pj, jobCnt, j)))):\n",
    "                        aux = schedules[k][j]\n",
    "                        schedules[k][j]= unscheduled[i] ##Swap\n",
    "                        unscheduled[i]= aux\n",
    "                        if(j==0):\n",
    "                            f=0\n",
    "                        else:\n",
    "                            f=ans2[j-1][1]\n",
    "                        for l in range(j, len(schedules[k])):\n",
    "                            ans2[l] = (f, f+schedules[k][l][2])\n",
    "                            f += schedules[k][l][2]\n",
    "                        for q in range(len(schedules[k])-1):\n",
    "                            for r in range(q+1,len(schedules[k])):\n",
    "                                minSlack[q]= min(minSlack[q], schedules[k][r][1]-ans2[r][1])\n",
    "    rejectedJobs=unscheduled\n",
    "    print(\"Execution time\", time.time()-start)\n",
    "    #Impresión de resultados\n",
    "    t=0\n",
    "    for i in range(len(schedules)):\n",
    "        for j in range(len(schedules[i])):\n",
    "            t+=1\n",
    "    print(t)\n",
    "    ###H2\n",
    "    return [schedules, rejected, impossible]"
   ]
  },
  {
   "cell_type": "markdown",
   "metadata": {},
   "source": [
    "## Entrada de datos: 2x2000x1.5x1"
   ]
  },
  {
   "cell_type": "code",
   "execution_count": 6,
   "metadata": {},
   "outputs": [
    {
     "name": "stdout",
     "output_type": "stream",
     "text": [
      "Execution time 8.747981548309326\n",
      "2000\n"
     ]
    }
   ],
   "source": [
    "start=time.time()\n",
    "M=2\n",
    "n=2000\n",
    "ruta=\"/Users/elPatan03/Desktop/lala/lala/2x2000x1.5x1.csv\"\n",
    "archivo=open(ruta,\"r\")\n",
    "jobs=[]\n",
    "for i in range(n+1):\n",
    "    if (i==0):\n",
    "        nada=archivo.readline()\n",
    "    else:\n",
    "        Ji,di,pi=archivo.readline().strip().split(\";\")\n",
    "        jobs.append([Ji,float(di),float(pi)])\n",
    "schedules, rejected, impossible = H2(jobs, M)"
   ]
  },
  {
   "cell_type": "markdown",
   "metadata": {},
   "source": [
    "## Entrada de datos: 2x2000x1.5x2"
   ]
  },
  {
   "cell_type": "code",
   "execution_count": 7,
   "metadata": {},
   "outputs": [
    {
     "name": "stdout",
     "output_type": "stream",
     "text": [
      "Execution time 3.6009910106658936\n",
      "1997\n"
     ]
    }
   ],
   "source": [
    "start=time.time()\n",
    "M=2\n",
    "n=2000\n",
    "ruta=\"/Users/elPatan03/Desktop/lala/lala/2x2000x1.5x2.csv\"\n",
    "archivo=open(ruta,\"r\")\n",
    "jobs=[]\n",
    "for i in range(n+1):\n",
    "    if (i==0):\n",
    "        nada=archivo.readline()\n",
    "    else:\n",
    "        Ji,di,pi=archivo.readline().strip().split(\";\")\n",
    "        jobs.append([Ji,float(di),float(pi)])\n",
    "schedules, rejected, impossible = H2(jobs, M)"
   ]
  },
  {
   "cell_type": "markdown",
   "metadata": {},
   "source": [
    "## Entrada de datos: 2x2000x1.5x3"
   ]
  },
  {
   "cell_type": "code",
   "execution_count": 8,
   "metadata": {},
   "outputs": [
    {
     "name": "stdout",
     "output_type": "stream",
     "text": [
      "Execution time 8.791129350662231\n",
      "1994\n"
     ]
    }
   ],
   "source": [
    "start=time.time()\n",
    "M=2\n",
    "n=2000\n",
    "ruta=\"/Users/elPatan03/Desktop/lala/lala/2x2000x1.5x3.csv\"\n",
    "archivo=open(ruta,\"r\")\n",
    "jobs=[]\n",
    "for i in range(n+1):\n",
    "    if (i==0):\n",
    "        nada=archivo.readline()\n",
    "    else:\n",
    "        Ji,di,pi=archivo.readline().strip().split(\";\")\n",
    "        jobs.append([Ji,float(di),float(pi)])\n",
    "schedules, rejected, impossible = H2(jobs, M)"
   ]
  },
  {
   "cell_type": "markdown",
   "metadata": {},
   "source": [
    "## Entrada de datos: 2x2000x1.5x4"
   ]
  },
  {
   "cell_type": "code",
   "execution_count": 9,
   "metadata": {},
   "outputs": [
    {
     "name": "stdout",
     "output_type": "stream",
     "text": [
      "Execution time 9.941835880279541\n",
      "1997\n"
     ]
    }
   ],
   "source": [
    "start=time.time()\n",
    "M=2\n",
    "n=2000\n",
    "ruta=\"/Users/elPatan03/Desktop/lala/lala/2x2000x1.5x4.csv\"\n",
    "archivo=open(ruta,\"r\")\n",
    "jobs=[]\n",
    "for i in range(n+1):\n",
    "    if (i==0):\n",
    "        nada=archivo.readline()\n",
    "    else:\n",
    "        Ji,di,pi=archivo.readline().strip().split(\";\")\n",
    "        jobs.append([Ji,float(di),float(pi)])\n",
    "schedules, rejected, impossible = H2(jobs, M)"
   ]
  },
  {
   "cell_type": "markdown",
   "metadata": {},
   "source": [
    "## Entrada de datos: 2x2000x1.5x5"
   ]
  },
  {
   "cell_type": "code",
   "execution_count": 10,
   "metadata": {},
   "outputs": [
    {
     "name": "stdout",
     "output_type": "stream",
     "text": [
      "Execution time 4.39654541015625\n",
      "1999\n"
     ]
    }
   ],
   "source": [
    "start=time.time()\n",
    "M=2\n",
    "n=2000\n",
    "ruta=\"/Users/elPatan03/Desktop/lala/lala/2x2000x1.5x5.csv\"\n",
    "archivo=open(ruta,\"r\")\n",
    "jobs=[]\n",
    "for i in range(n+1):\n",
    "    if (i==0):\n",
    "        nada=archivo.readline()\n",
    "    else:\n",
    "        Ji,di,pi=archivo.readline().strip().split(\";\")\n",
    "        jobs.append([Ji,float(di),float(pi)])\n",
    "schedules, rejected, impossible = H2(jobs, M)"
   ]
  },
  {
   "cell_type": "markdown",
   "metadata": {},
   "source": [
    "## Entrada de datos: 2x2000x2x1"
   ]
  },
  {
   "cell_type": "code",
   "execution_count": 11,
   "metadata": {},
   "outputs": [
    {
     "name": "stdout",
     "output_type": "stream",
     "text": [
      "Execution time 3.9977872371673584\n",
      "1964\n"
     ]
    }
   ],
   "source": [
    "start=time.time()\n",
    "M=2\n",
    "n=2000\n",
    "ruta=\"/Users/elPatan03/Desktop/lala/lala/2x2000x2x1.csv\"\n",
    "archivo=open(ruta,\"r\")\n",
    "jobs=[]\n",
    "for i in range(n+1):\n",
    "    if (i==0):\n",
    "        nada=archivo.readline()\n",
    "    else:\n",
    "        Ji,di,pi=archivo.readline().strip().split(\";\")\n",
    "        jobs.append([Ji,float(di),float(pi)])\n",
    "schedules, rejected, impossible = H2(jobs, M)"
   ]
  },
  {
   "cell_type": "markdown",
   "metadata": {},
   "source": [
    "## Entrada de datos: 2x2000x2x2"
   ]
  },
  {
   "cell_type": "code",
   "execution_count": 12,
   "metadata": {},
   "outputs": [
    {
     "name": "stdout",
     "output_type": "stream",
     "text": [
      "Execution time 4.051800966262817\n",
      "1977\n"
     ]
    }
   ],
   "source": [
    "start=time.time()\n",
    "M=2\n",
    "n=2000\n",
    "ruta=\"/Users/elPatan03/Desktop/lala/lala/2x2000x2x2.csv\"\n",
    "archivo=open(ruta,\"r\")\n",
    "jobs=[]\n",
    "for i in range(n+1):\n",
    "    if (i==0):\n",
    "        nada=archivo.readline()\n",
    "    else:\n",
    "        Ji,di,pi=archivo.readline().strip().split(\";\")\n",
    "        jobs.append([Ji,float(di),float(pi)])\n",
    "schedules, rejected, impossible = H2(jobs, M)"
   ]
  },
  {
   "cell_type": "markdown",
   "metadata": {},
   "source": [
    "## Entrada de datos: 2x2000x2x3"
   ]
  },
  {
   "cell_type": "code",
   "execution_count": 13,
   "metadata": {},
   "outputs": [
    {
     "name": "stdout",
     "output_type": "stream",
     "text": [
      "Execution time 4.875709295272827\n",
      "1979\n"
     ]
    }
   ],
   "source": [
    "start=time.time()\n",
    "M=2\n",
    "n=2000\n",
    "ruta=\"/Users/elPatan03/Desktop/lala/lala/2x2000x2x3.csv\"\n",
    "archivo=open(ruta,\"r\")\n",
    "jobs=[]\n",
    "for i in range(n+1):\n",
    "    if (i==0):\n",
    "        nada=archivo.readline()\n",
    "    else:\n",
    "        Ji,di,pi=archivo.readline().strip().split(\";\")\n",
    "        jobs.append([Ji,float(di),float(pi)])\n",
    "schedules, rejected, impossible = H2(jobs, M)"
   ]
  },
  {
   "cell_type": "markdown",
   "metadata": {},
   "source": [
    "## Entrada de datos: 2x2000x2x4"
   ]
  },
  {
   "cell_type": "code",
   "execution_count": 14,
   "metadata": {},
   "outputs": [
    {
     "name": "stdout",
     "output_type": "stream",
     "text": [
      "Execution time 8.928025960922241\n",
      "1956\n"
     ]
    }
   ],
   "source": [
    "start=time.time()\n",
    "M=2\n",
    "n=2000\n",
    "ruta=\"/Users/elPatan03/Desktop/lala/lala/2x2000x2x4.csv\"\n",
    "archivo=open(ruta,\"r\")\n",
    "jobs=[]\n",
    "for i in range(n+1):\n",
    "    if (i==0):\n",
    "        nada=archivo.readline()\n",
    "    else:\n",
    "        Ji,di,pi=archivo.readline().strip().split(\";\")\n",
    "        jobs.append([Ji,float(di),float(pi)])\n",
    "schedules, rejected, impossible = H2(jobs, M)"
   ]
  },
  {
   "cell_type": "markdown",
   "metadata": {},
   "source": [
    "## Entrada de datos: 2x2000x2x5"
   ]
  },
  {
   "cell_type": "code",
   "execution_count": 15,
   "metadata": {},
   "outputs": [
    {
     "name": "stdout",
     "output_type": "stream",
     "text": [
      "Execution time 2.523672103881836\n",
      "1983\n"
     ]
    }
   ],
   "source": [
    "start=time.time()\n",
    "M=2\n",
    "n=2000\n",
    "ruta=\"/Users/elPatan03/Desktop/lala/lala/2x2000x2x5.csv\"\n",
    "archivo=open(ruta,\"r\")\n",
    "jobs=[]\n",
    "for i in range(n+1):\n",
    "    if (i==0):\n",
    "        nada=archivo.readline()\n",
    "    else:\n",
    "        Ji,di,pi=archivo.readline().strip().split(\";\")\n",
    "        jobs.append([Ji,float(di),float(pi)])\n",
    "schedules, rejected, impossible = H2(jobs, M)"
   ]
  },
  {
   "cell_type": "markdown",
   "metadata": {},
   "source": [
    "## Entrada de datos: 2x2000x2.5x1"
   ]
  },
  {
   "cell_type": "code",
   "execution_count": 16,
   "metadata": {},
   "outputs": [
    {
     "name": "stdout",
     "output_type": "stream",
     "text": [
      "Execution time 5.612764358520508\n",
      "1775\n"
     ]
    }
   ],
   "source": [
    "start=time.time()\n",
    "M=2\n",
    "n=2000\n",
    "ruta=\"/Users/elPatan03/Desktop/lala/lala/2x2000x2.5x1.csv\"\n",
    "archivo=open(ruta,\"r\")\n",
    "jobs=[]\n",
    "for i in range(n+1):\n",
    "    if (i==0):\n",
    "        nada=archivo.readline()\n",
    "    else:\n",
    "        Ji,di,pi=archivo.readline().strip().split(\";\")\n",
    "        jobs.append([Ji,float(di),float(pi)])\n",
    "schedules, rejected, impossible = H2(jobs, M)"
   ]
  },
  {
   "cell_type": "markdown",
   "metadata": {},
   "source": [
    "## Entrada de datos: 2x2000x2.5x2"
   ]
  },
  {
   "cell_type": "code",
   "execution_count": 17,
   "metadata": {},
   "outputs": [
    {
     "name": "stdout",
     "output_type": "stream",
     "text": [
      "Execution time 2.849497079849243\n",
      "1775\n"
     ]
    }
   ],
   "source": [
    "start=time.time()\n",
    "M=2\n",
    "n=2000\n",
    "ruta=\"/Users/elPatan03/Desktop/lala/lala/2x2000x2.5x2.csv\"\n",
    "archivo=open(ruta,\"r\")\n",
    "jobs=[]\n",
    "for i in range(n+1):\n",
    "    if (i==0):\n",
    "        nada=archivo.readline()\n",
    "    else:\n",
    "        Ji,di,pi=archivo.readline().strip().split(\";\")\n",
    "        jobs.append([Ji,float(di),float(pi)])\n",
    "schedules, rejected, impossible = H2(jobs, M)"
   ]
  },
  {
   "cell_type": "markdown",
   "metadata": {},
   "source": [
    "## Entrada de datos: 2x2000x2.5x3"
   ]
  },
  {
   "cell_type": "code",
   "execution_count": 18,
   "metadata": {},
   "outputs": [
    {
     "name": "stdout",
     "output_type": "stream",
     "text": [
      "Execution time 8.141839981079102\n",
      "1772\n"
     ]
    }
   ],
   "source": [
    "start=time.time()\n",
    "M=2\n",
    "n=2000\n",
    "ruta=\"/Users/elPatan03/Desktop/lala/lala/2x2000x2.5x3.csv\"\n",
    "archivo=open(ruta,\"r\")\n",
    "jobs=[]\n",
    "for i in range(n+1):\n",
    "    if (i==0):\n",
    "        nada=archivo.readline()\n",
    "    else:\n",
    "        Ji,di,pi=archivo.readline().strip().split(\";\")\n",
    "        jobs.append([Ji,float(di),float(pi)])\n",
    "schedules, rejected, impossible = H2(jobs, M)"
   ]
  },
  {
   "cell_type": "markdown",
   "metadata": {},
   "source": [
    "## Entrada de datos: 2x2000x2.5x4"
   ]
  },
  {
   "cell_type": "code",
   "execution_count": 19,
   "metadata": {},
   "outputs": [
    {
     "name": "stdout",
     "output_type": "stream",
     "text": [
      "Execution time 3.8182339668273926\n",
      "1778\n"
     ]
    }
   ],
   "source": [
    "start=time.time()\n",
    "M=2\n",
    "n=2000\n",
    "ruta=\"/Users/elPatan03/Desktop/lala/lala/2x2000x2.5x4.csv\"\n",
    "archivo=open(ruta,\"r\")\n",
    "jobs=[]\n",
    "for i in range(n+1):\n",
    "    if (i==0):\n",
    "        nada=archivo.readline()\n",
    "    else:\n",
    "        Ji,di,pi=archivo.readline().strip().split(\";\")\n",
    "        jobs.append([Ji,float(di),float(pi)])\n",
    "schedules, rejected, impossible = H2(jobs, M)"
   ]
  },
  {
   "cell_type": "markdown",
   "metadata": {},
   "source": [
    "## Entrada de datos: 2x2000x2.5x5"
   ]
  },
  {
   "cell_type": "code",
   "execution_count": 20,
   "metadata": {
    "scrolled": true
   },
   "outputs": [
    {
     "name": "stdout",
     "output_type": "stream",
     "text": [
      "Execution time 3.2959492206573486\n",
      "1767\n"
     ]
    }
   ],
   "source": [
    "start=time.time()\n",
    "M=2\n",
    "n=2000\n",
    "ruta=\"/Users/elPatan03/Desktop/lala/lala/2x2000x2.5x5.csv\"\n",
    "archivo=open(ruta,\"r\")\n",
    "jobs=[]\n",
    "for i in range(n+1):\n",
    "    if (i==0):\n",
    "        nada=archivo.readline()\n",
    "    else:\n",
    "        Ji,di,pi=archivo.readline().strip().split(\";\")\n",
    "        jobs.append([Ji,float(di),float(pi)])\n",
    "schedules, rejected, impossible = H2(jobs, M)"
   ]
  },
  {
   "cell_type": "markdown",
   "metadata": {},
   "source": [
    "## Entrada de datos: 2x2000x3x1"
   ]
  },
  {
   "cell_type": "code",
   "execution_count": 21,
   "metadata": {},
   "outputs": [
    {
     "name": "stdout",
     "output_type": "stream",
     "text": [
      "Execution time 3.434823989868164\n",
      "1617\n"
     ]
    }
   ],
   "source": [
    "start=time.time()\n",
    "M=2\n",
    "n=2000\n",
    "ruta=\"/Users/elPatan03/Desktop/lala/lala/2x2000x3x1.csv\"\n",
    "archivo=open(ruta,\"r\")\n",
    "jobs=[]\n",
    "for i in range(n+1):\n",
    "    if (i==0):\n",
    "        nada=archivo.readline()\n",
    "    else:\n",
    "        Ji,di,pi=archivo.readline().strip().split(\";\")\n",
    "        jobs.append([Ji,float(di),float(pi)])\n",
    "schedules, rejected, impossible = H2(jobs, M)"
   ]
  },
  {
   "cell_type": "markdown",
   "metadata": {},
   "source": [
    "## Entrada de datos: 2x2000x3x2"
   ]
  },
  {
   "cell_type": "code",
   "execution_count": 22,
   "metadata": {},
   "outputs": [
    {
     "name": "stdout",
     "output_type": "stream",
     "text": [
      "Execution time 3.0211410522460938\n",
      "1614\n"
     ]
    }
   ],
   "source": [
    "start=time.time()\n",
    "M=2\n",
    "n=2000\n",
    "ruta=\"/Users/elPatan03/Desktop/lala/lala/2x2000x3x2.csv\"\n",
    "archivo=open(ruta,\"r\")\n",
    "jobs=[]\n",
    "for i in range(n+1):\n",
    "    if (i==0):\n",
    "        nada=archivo.readline()\n",
    "    else:\n",
    "        Ji,di,pi=archivo.readline().strip().split(\";\")\n",
    "        jobs.append([Ji,float(di),float(pi)])\n",
    "schedules, rejected, impossible = H2(jobs, M)"
   ]
  },
  {
   "cell_type": "markdown",
   "metadata": {},
   "source": [
    "## Entrada de datos: 2x2000x3x3"
   ]
  },
  {
   "cell_type": "code",
   "execution_count": 23,
   "metadata": {},
   "outputs": [
    {
     "name": "stdout",
     "output_type": "stream",
     "text": [
      "Execution time 2.766716241836548\n",
      "1606\n"
     ]
    }
   ],
   "source": [
    "start=time.time()\n",
    "M=2\n",
    "n=2000\n",
    "ruta=\"/Users/elPatan03/Desktop/lala/lala/2x2000x3x3.csv\"\n",
    "archivo=open(ruta,\"r\")\n",
    "jobs=[]\n",
    "for i in range(n+1):\n",
    "    if (i==0):\n",
    "        nada=archivo.readline()\n",
    "    else:\n",
    "        Ji,di,pi=archivo.readline().strip().split(\";\")\n",
    "        jobs.append([Ji,float(di),float(pi)])\n",
    "schedules, rejected, impossible = H2(jobs, M)"
   ]
  },
  {
   "cell_type": "markdown",
   "metadata": {},
   "source": [
    "## Entrada de datos: 2x2000x3x4"
   ]
  },
  {
   "cell_type": "code",
   "execution_count": 24,
   "metadata": {},
   "outputs": [
    {
     "name": "stdout",
     "output_type": "stream",
     "text": [
      "Execution time 2.0023837089538574\n",
      "1614\n"
     ]
    }
   ],
   "source": [
    "start=time.time()\n",
    "M=2\n",
    "n=2000\n",
    "ruta=\"/Users/elPatan03/Desktop/lala/lala/2x2000x3x4.csv\"\n",
    "archivo=open(ruta,\"r\")\n",
    "jobs=[]\n",
    "for i in range(n+1):\n",
    "    if (i==0):\n",
    "        nada=archivo.readline()\n",
    "    else:\n",
    "        Ji,di,pi=archivo.readline().strip().split(\";\")\n",
    "        jobs.append([Ji,float(di),float(pi)])\n",
    "schedules, rejected, impossible = H2(jobs, M)"
   ]
  },
  {
   "cell_type": "markdown",
   "metadata": {},
   "source": [
    "## Entrada de datos: 2x2000x3x5"
   ]
  },
  {
   "cell_type": "code",
   "execution_count": 25,
   "metadata": {},
   "outputs": [
    {
     "name": "stdout",
     "output_type": "stream",
     "text": [
      "Execution time 1.9949407577514648\n",
      "1612\n"
     ]
    }
   ],
   "source": [
    "start=time.time()\n",
    "M=2\n",
    "n=2000\n",
    "ruta=\"/Users/elPatan03/Desktop/lala/lala/2x2000x3x5.csv\"\n",
    "archivo=open(ruta,\"r\")\n",
    "jobs=[]\n",
    "for i in range(n+1):\n",
    "    if (i==0):\n",
    "        nada=archivo.readline()\n",
    "    else:\n",
    "        Ji,di,pi=archivo.readline().strip().split(\";\")\n",
    "        jobs.append([Ji,float(di),float(pi)])\n",
    "schedules, rejected, impossible = H2(jobs, M)"
   ]
  },
  {
   "cell_type": "markdown",
   "metadata": {},
   "source": [
    "## Entrada de datos: 2x2000x3.5x1"
   ]
  },
  {
   "cell_type": "code",
   "execution_count": 26,
   "metadata": {},
   "outputs": [
    {
     "name": "stdout",
     "output_type": "stream",
     "text": [
      "Execution time 3.8912980556488037\n",
      "1480\n"
     ]
    }
   ],
   "source": [
    "start=time.time()\n",
    "M=2\n",
    "n=2000\n",
    "ruta=\"/Users/elPatan03/Desktop/lala/lala/2x2000x3.5x1.csv\"\n",
    "archivo=open(ruta,\"r\")\n",
    "jobs=[]\n",
    "for i in range(n+1):\n",
    "    if (i==0):\n",
    "        nada=archivo.readline()\n",
    "    else:\n",
    "        Ji,di,pi=archivo.readline().strip().split(\";\")\n",
    "        jobs.append([Ji,float(di),float(pi)])\n",
    "schedules, rejected, impossible = H2(jobs, M)"
   ]
  },
  {
   "cell_type": "markdown",
   "metadata": {},
   "source": [
    "## Entrada de datos: 2x2000x3.5x2"
   ]
  },
  {
   "cell_type": "code",
   "execution_count": 27,
   "metadata": {},
   "outputs": [
    {
     "name": "stdout",
     "output_type": "stream",
     "text": [
      "Execution time 1.7525649070739746\n",
      "1477\n"
     ]
    }
   ],
   "source": [
    "start=time.time()\n",
    "M=2\n",
    "n=2000\n",
    "ruta=\"/Users/elPatan03/Desktop/lala/lala/2x2000x3.5x2.csv\"\n",
    "archivo=open(ruta,\"r\")\n",
    "jobs=[]\n",
    "for i in range(n+1):\n",
    "    if (i==0):\n",
    "        nada=archivo.readline()\n",
    "    else:\n",
    "        Ji,di,pi=archivo.readline().strip().split(\";\")\n",
    "        jobs.append([Ji,float(di),float(pi)])\n",
    "schedules, rejected, impossible = H2(jobs, M)"
   ]
  },
  {
   "cell_type": "markdown",
   "metadata": {},
   "source": [
    "## Entrada de datos: 2x2000x3.5x3"
   ]
  },
  {
   "cell_type": "code",
   "execution_count": 28,
   "metadata": {},
   "outputs": [
    {
     "name": "stdout",
     "output_type": "stream",
     "text": [
      "Execution time 2.2696733474731445\n",
      "1485\n"
     ]
    }
   ],
   "source": [
    "start=time.time()\n",
    "M=2\n",
    "n=2000\n",
    "ruta=\"/Users/elPatan03/Desktop/lala/lala/2x2000x3.5x3.csv\"\n",
    "archivo=open(ruta,\"r\")\n",
    "jobs=[]\n",
    "for i in range(n+1):\n",
    "    if (i==0):\n",
    "        nada=archivo.readline()\n",
    "    else:\n",
    "        Ji,di,pi=archivo.readline().strip().split(\";\")\n",
    "        jobs.append([Ji,float(di),float(pi)])\n",
    "schedules, rejected, impossible = H2(jobs, M)"
   ]
  },
  {
   "cell_type": "markdown",
   "metadata": {},
   "source": [
    "## Entrada de datos: 2x2000x3.5x4"
   ]
  },
  {
   "cell_type": "code",
   "execution_count": 29,
   "metadata": {},
   "outputs": [
    {
     "name": "stdout",
     "output_type": "stream",
     "text": [
      "Execution time 1.7385034561157227\n",
      "1484\n"
     ]
    }
   ],
   "source": [
    "start=time.time()\n",
    "M=2\n",
    "n=2000\n",
    "ruta=\"/Users/elPatan03/Desktop/lala/lala/2x2000x3.5x4.csv\"\n",
    "archivo=open(ruta,\"r\")\n",
    "jobs=[]\n",
    "for i in range(n+1):\n",
    "    if (i==0):\n",
    "        nada=archivo.readline()\n",
    "    else:\n",
    "        Ji,di,pi=archivo.readline().strip().split(\";\")\n",
    "        jobs.append([Ji,float(di),float(pi)])\n",
    "schedules, rejected, impossible = H2(jobs, M)"
   ]
  },
  {
   "cell_type": "markdown",
   "metadata": {},
   "source": [
    "## Entrada de datos: 2x2000x3.5x5"
   ]
  },
  {
   "cell_type": "code",
   "execution_count": 30,
   "metadata": {},
   "outputs": [
    {
     "name": "stdout",
     "output_type": "stream",
     "text": [
      "Execution time 2.727688789367676\n",
      "1476\n"
     ]
    }
   ],
   "source": [
    "start=time.time()\n",
    "M=2\n",
    "n=2000\n",
    "ruta=\"/Users/elPatan03/Desktop/lala/lala/2x2000x3.5x5.csv\"\n",
    "archivo=open(ruta,\"r\")\n",
    "jobs=[]\n",
    "for i in range(n+1):\n",
    "    if (i==0):\n",
    "        nada=archivo.readline()\n",
    "    else:\n",
    "        Ji,di,pi=archivo.readline().strip().split(\";\")\n",
    "        jobs.append([Ji,float(di),float(pi)])\n",
    "schedules, rejected, impossible = H2(jobs, M)"
   ]
  },
  {
   "cell_type": "markdown",
   "metadata": {},
   "source": [
    "## Entrada de datos: 2x2000x4x1"
   ]
  },
  {
   "cell_type": "code",
   "execution_count": 31,
   "metadata": {},
   "outputs": [
    {
     "name": "stdout",
     "output_type": "stream",
     "text": [
      "Execution time 2.8425564765930176\n",
      "1380\n"
     ]
    }
   ],
   "source": [
    "start=time.time()\n",
    "M=2\n",
    "n=2000\n",
    "ruta=\"/Users/elPatan03/Desktop/lala/lala/2x2000x4x1.csv\"\n",
    "archivo=open(ruta,\"r\")\n",
    "jobs=[]\n",
    "for i in range(n+1):\n",
    "    if (i==0):\n",
    "        nada=archivo.readline()\n",
    "    else:\n",
    "        Ji,di,pi=archivo.readline().strip().split(\";\")\n",
    "        jobs.append([Ji,float(di),float(pi)])\n",
    "schedules, rejected, impossible = H2(jobs, M)"
   ]
  },
  {
   "cell_type": "markdown",
   "metadata": {},
   "source": [
    "## Entrada de datos: 2x2000x4x2"
   ]
  },
  {
   "cell_type": "code",
   "execution_count": 32,
   "metadata": {},
   "outputs": [
    {
     "name": "stdout",
     "output_type": "stream",
     "text": [
      "Execution time 3.0325489044189453\n",
      "1382\n"
     ]
    }
   ],
   "source": [
    "start=time.time()\n",
    "M=2\n",
    "n=2000\n",
    "ruta=\"/Users/elPatan03/Desktop/lala/lala/2x2000x4x2.csv\"\n",
    "archivo=open(ruta,\"r\")\n",
    "jobs=[]\n",
    "for i in range(n+1):\n",
    "    if (i==0):\n",
    "        nada=archivo.readline()\n",
    "    else:\n",
    "        Ji,di,pi=archivo.readline().strip().split(\";\")\n",
    "        jobs.append([Ji,float(di),float(pi)])\n",
    "schedules, rejected, impossible = H2(jobs, M)"
   ]
  },
  {
   "cell_type": "markdown",
   "metadata": {},
   "source": [
    "## Entrada de datos: 2x2000x4x3"
   ]
  },
  {
   "cell_type": "code",
   "execution_count": 33,
   "metadata": {},
   "outputs": [
    {
     "name": "stdout",
     "output_type": "stream",
     "text": [
      "Execution time 2.69330096244812\n",
      "1372\n"
     ]
    }
   ],
   "source": [
    "start=time.time()\n",
    "M=2\n",
    "n=2000\n",
    "ruta=\"/Users/elPatan03/Desktop/lala/lala/2x2000x4x3.csv\"\n",
    "archivo=open(ruta,\"r\")\n",
    "jobs=[]\n",
    "for i in range(n+1):\n",
    "    if (i==0):\n",
    "        nada=archivo.readline()\n",
    "    else:\n",
    "        Ji,di,pi=archivo.readline().strip().split(\";\")\n",
    "        jobs.append([Ji,float(di),float(pi)])\n",
    "schedules, rejected, impossible = H2(jobs, M)"
   ]
  },
  {
   "cell_type": "markdown",
   "metadata": {},
   "source": [
    "## Entrada de datos: 2x2000x4x4"
   ]
  },
  {
   "cell_type": "code",
   "execution_count": 34,
   "metadata": {},
   "outputs": [
    {
     "name": "stdout",
     "output_type": "stream",
     "text": [
      "Execution time 3.5221245288848877\n",
      "1373\n"
     ]
    }
   ],
   "source": [
    "start=time.time()\n",
    "M=2\n",
    "n=2000\n",
    "ruta=\"/Users/elPatan03/Desktop/lala/lala/2x2000x4x4.csv\"\n",
    "archivo=open(ruta,\"r\")\n",
    "jobs=[]\n",
    "for i in range(n+1):\n",
    "    if (i==0):\n",
    "        nada=archivo.readline()\n",
    "    else:\n",
    "        Ji,di,pi=archivo.readline().strip().split(\";\")\n",
    "        jobs.append([Ji,float(di),float(pi)])\n",
    "schedules, rejected, impossible = H2(jobs, M)"
   ]
  },
  {
   "cell_type": "markdown",
   "metadata": {},
   "source": [
    "## Entrada de datos: 2x2000x4x5"
   ]
  },
  {
   "cell_type": "code",
   "execution_count": 35,
   "metadata": {},
   "outputs": [
    {
     "name": "stdout",
     "output_type": "stream",
     "text": [
      "Execution time 2.143216371536255\n",
      "1382\n"
     ]
    }
   ],
   "source": [
    "start=time.time()\n",
    "M=2\n",
    "n=2000\n",
    "ruta=\"/Users/elPatan03/Desktop/lala/lala/2x2000x4x5.csv\"\n",
    "archivo=open(ruta,\"r\")\n",
    "jobs=[]\n",
    "for i in range(n+1):\n",
    "    if (i==0):\n",
    "        nada=archivo.readline()\n",
    "    else:\n",
    "        Ji,di,pi=archivo.readline().strip().split(\";\")\n",
    "        jobs.append([Ji,float(di),float(pi)])\n",
    "schedules, rejected, impossible = H2(jobs, M)"
   ]
  },
  {
   "cell_type": "markdown",
   "metadata": {},
   "source": [
    "## Entrada de datos: 2x2000x4.5x1"
   ]
  },
  {
   "cell_type": "code",
   "execution_count": 36,
   "metadata": {},
   "outputs": [
    {
     "name": "stdout",
     "output_type": "stream",
     "text": [
      "Execution time 3.21162486076355\n",
      "1299\n"
     ]
    }
   ],
   "source": [
    "start=time.time()\n",
    "M=2\n",
    "n=2000\n",
    "ruta=\"/Users/elPatan03/Desktop/lala/lala/2x2000x4.5x1.csv\"\n",
    "archivo=open(ruta,\"r\")\n",
    "jobs=[]\n",
    "for i in range(n+1):\n",
    "    if (i==0):\n",
    "        nada=archivo.readline()\n",
    "    else:\n",
    "        Ji,di,pi=archivo.readline().strip().split(\";\")\n",
    "        jobs.append([Ji,float(di),float(pi)])\n",
    "schedules, rejected, impossible = H2(jobs, M)"
   ]
  },
  {
   "cell_type": "markdown",
   "metadata": {},
   "source": [
    "## Entrada de datos: 2x2000x4.5x2"
   ]
  },
  {
   "cell_type": "code",
   "execution_count": 37,
   "metadata": {},
   "outputs": [
    {
     "name": "stdout",
     "output_type": "stream",
     "text": [
      "Execution time 2.16159725189209\n",
      "1305\n"
     ]
    }
   ],
   "source": [
    "start=time.time()\n",
    "M=2\n",
    "n=2000\n",
    "ruta=\"/Users/elPatan03/Desktop/lala/lala/2x2000x4.5x2.csv\"\n",
    "archivo=open(ruta,\"r\")\n",
    "jobs=[]\n",
    "for i in range(n+1):\n",
    "    if (i==0):\n",
    "        nada=archivo.readline()\n",
    "    else:\n",
    "        Ji,di,pi=archivo.readline().strip().split(\";\")\n",
    "        jobs.append([Ji,float(di),float(pi)])\n",
    "schedules, rejected, impossible = H2(jobs, M)"
   ]
  },
  {
   "cell_type": "markdown",
   "metadata": {},
   "source": [
    "## Entrada de datos: 2x2000x4.5x3"
   ]
  },
  {
   "cell_type": "code",
   "execution_count": 38,
   "metadata": {},
   "outputs": [
    {
     "name": "stdout",
     "output_type": "stream",
     "text": [
      "Execution time 4.704041242599487\n",
      "1296\n"
     ]
    }
   ],
   "source": [
    "start=time.time()\n",
    "M=2\n",
    "n=2000\n",
    "ruta=\"/Users/elPatan03/Desktop/lala/lala/2x2000x4.5x3.csv\"\n",
    "archivo=open(ruta,\"r\")\n",
    "jobs=[]\n",
    "for i in range(n+1):\n",
    "    if (i==0):\n",
    "        nada=archivo.readline()\n",
    "    else:\n",
    "        Ji,di,pi=archivo.readline().strip().split(\";\")\n",
    "        jobs.append([Ji,float(di),float(pi)])\n",
    "schedules, rejected, impossible = H2(jobs, M)"
   ]
  },
  {
   "cell_type": "markdown",
   "metadata": {},
   "source": [
    "## Entrada de datos: 2x2000x4.5x4"
   ]
  },
  {
   "cell_type": "code",
   "execution_count": 39,
   "metadata": {},
   "outputs": [
    {
     "name": "stdout",
     "output_type": "stream",
     "text": [
      "Execution time 2.3936727046966553\n",
      "1290\n"
     ]
    }
   ],
   "source": [
    "start=time.time()\n",
    "M=2\n",
    "n=2000\n",
    "ruta=\"/Users/elPatan03/Desktop/lala/lala/2x2000x4.5x4.csv\"\n",
    "archivo=open(ruta,\"r\")\n",
    "jobs=[]\n",
    "for i in range(n+1):\n",
    "    if (i==0):\n",
    "        nada=archivo.readline()\n",
    "    else:\n",
    "        Ji,di,pi=archivo.readline().strip().split(\";\")\n",
    "        jobs.append([Ji,float(di),float(pi)])\n",
    "schedules, rejected, impossible = H2(jobs, M)"
   ]
  },
  {
   "cell_type": "markdown",
   "metadata": {},
   "source": [
    "## Entrada de datos: 2x2000x4.5x5"
   ]
  },
  {
   "cell_type": "code",
   "execution_count": 40,
   "metadata": {
    "scrolled": true
   },
   "outputs": [
    {
     "name": "stdout",
     "output_type": "stream",
     "text": [
      "Execution time 2.00036883354187\n",
      "1287\n"
     ]
    }
   ],
   "source": [
    "start=time.time()\n",
    "M=2\n",
    "n=2000\n",
    "ruta=\"/Users/elPatan03/Desktop/lala/lala/2x2000x4.5x5.csv\"\n",
    "archivo=open(ruta,\"r\")\n",
    "jobs=[]\n",
    "for i in range(n+1):\n",
    "    if (i==0):\n",
    "        nada=archivo.readline()\n",
    "    else:\n",
    "        Ji,di,pi=archivo.readline().strip().split(\";\")\n",
    "        jobs.append([Ji,float(di),float(pi)])\n",
    "schedules, rejected, impossible = H2(jobs, M)"
   ]
  },
  {
   "cell_type": "markdown",
   "metadata": {},
   "source": [
    "## Entrada de datos: 2x2000x5x1"
   ]
  },
  {
   "cell_type": "code",
   "execution_count": 41,
   "metadata": {},
   "outputs": [
    {
     "name": "stdout",
     "output_type": "stream",
     "text": [
      "Execution time 1.954240083694458\n",
      "1238\n"
     ]
    }
   ],
   "source": [
    "start=time.time()\n",
    "M=2\n",
    "n=2000\n",
    "ruta=\"/Users/elPatan03/Desktop/lala/lala/2x2000x5x1.csv\"\n",
    "archivo=open(ruta,\"r\")\n",
    "jobs=[]\n",
    "for i in range(n+1):\n",
    "    if (i==0):\n",
    "        nada=archivo.readline()\n",
    "    else:\n",
    "        Ji,di,pi=archivo.readline().strip().split(\";\")\n",
    "        jobs.append([Ji,float(di),float(pi)])\n",
    "schedules, rejected, impossible = H2(jobs, M)"
   ]
  },
  {
   "cell_type": "markdown",
   "metadata": {},
   "source": [
    "## Entrada de datos: 2x2000x5x2"
   ]
  },
  {
   "cell_type": "code",
   "execution_count": 42,
   "metadata": {},
   "outputs": [
    {
     "name": "stdout",
     "output_type": "stream",
     "text": [
      "Execution time 1.7975332736968994\n",
      "1218\n"
     ]
    }
   ],
   "source": [
    "start=time.time()\n",
    "M=2\n",
    "n=2000\n",
    "ruta=\"/Users/elPatan03/Desktop/lala/lala/2x2000x5x2.csv\"\n",
    "archivo=open(ruta,\"r\")\n",
    "jobs=[]\n",
    "for i in range(n+1):\n",
    "    if (i==0):\n",
    "        nada=archivo.readline()\n",
    "    else:\n",
    "        Ji,di,pi=archivo.readline().strip().split(\";\")\n",
    "        jobs.append([Ji,float(di),float(pi)])\n",
    "schedules, rejected, impossible = H2(jobs, M)"
   ]
  },
  {
   "cell_type": "markdown",
   "metadata": {},
   "source": [
    "## Entrada de datos: 2x2000x5x3"
   ]
  },
  {
   "cell_type": "code",
   "execution_count": 43,
   "metadata": {},
   "outputs": [
    {
     "name": "stdout",
     "output_type": "stream",
     "text": [
      "Execution time 2.1417324542999268\n",
      "1217\n"
     ]
    }
   ],
   "source": [
    "start=time.time()\n",
    "M=2\n",
    "n=2000\n",
    "ruta=\"/Users/elPatan03/Desktop/lala/lala/2x2000x5x3.csv\"\n",
    "archivo=open(ruta,\"r\")\n",
    "jobs=[]\n",
    "for i in range(n+1):\n",
    "    if (i==0):\n",
    "        nada=archivo.readline()\n",
    "    else:\n",
    "        Ji,di,pi=archivo.readline().strip().split(\";\")\n",
    "        jobs.append([Ji,float(di),float(pi)])\n",
    "schedules, rejected, impossible = H2(jobs, M)"
   ]
  },
  {
   "cell_type": "markdown",
   "metadata": {},
   "source": [
    "## Entrada de datos: 2x2000x5x4"
   ]
  },
  {
   "cell_type": "code",
   "execution_count": 44,
   "metadata": {},
   "outputs": [
    {
     "name": "stdout",
     "output_type": "stream",
     "text": [
      "Execution time 13.50361156463623\n",
      "1217\n"
     ]
    }
   ],
   "source": [
    "start=time.time()\n",
    "M=2\n",
    "n=2000\n",
    "ruta=\"/Users/elPatan03/Desktop/lala/lala/2x2000x5x4.csv\"\n",
    "archivo=open(ruta,\"r\")\n",
    "jobs=[]\n",
    "for i in range(n+1):\n",
    "    if (i==0):\n",
    "        nada=archivo.readline()\n",
    "    else:\n",
    "        Ji,di,pi=archivo.readline().strip().split(\";\")\n",
    "        jobs.append([Ji,float(di),float(pi)])\n",
    "schedules, rejected, impossible = H2(jobs, M)"
   ]
  },
  {
   "cell_type": "markdown",
   "metadata": {},
   "source": [
    "## Entrada de datos: 2x2000x5x5"
   ]
  },
  {
   "cell_type": "code",
   "execution_count": 45,
   "metadata": {},
   "outputs": [
    {
     "name": "stdout",
     "output_type": "stream",
     "text": [
      "Execution time 1.9224727153778076\n",
      "1226\n"
     ]
    }
   ],
   "source": [
    "start=time.time()\n",
    "M=2\n",
    "n=2000\n",
    "ruta=\"/Users/elPatan03/Desktop/lala/lala/2x2000x5x5.csv\"\n",
    "archivo=open(ruta,\"r\")\n",
    "jobs=[]\n",
    "for i in range(n+1):\n",
    "    if (i==0):\n",
    "        nada=archivo.readline()\n",
    "    else:\n",
    "        Ji,di,pi=archivo.readline().strip().split(\";\")\n",
    "        jobs.append([Ji,float(di),float(pi)])\n",
    "schedules, rejected, impossible = H2(jobs, M)"
   ]
  },
  {
   "cell_type": "markdown",
   "metadata": {},
   "source": [
    "## Entrada de datos: 3x2000x1.5x1"
   ]
  },
  {
   "cell_type": "code",
   "execution_count": 46,
   "metadata": {},
   "outputs": [
    {
     "name": "stdout",
     "output_type": "stream",
     "text": [
      "Execution time 5.4282310009002686\n",
      "1997\n"
     ]
    }
   ],
   "source": [
    "start=time.time()\n",
    "M=3\n",
    "n=2000\n",
    "ruta=\"/Users/elPatan03/Desktop/lala/lala/3x2000x1.5x1.csv\"\n",
    "archivo=open(ruta,\"r\")\n",
    "jobs=[]\n",
    "for i in range(n+1):\n",
    "    if (i==0):\n",
    "        nada=archivo.readline()\n",
    "    else:\n",
    "        Ji,di,pi=archivo.readline().strip().split(\";\")\n",
    "        jobs.append([Ji,float(di),float(pi)])\n",
    "schedules, rejected, impossible = H2(jobs, M)"
   ]
  },
  {
   "cell_type": "markdown",
   "metadata": {},
   "source": [
    "## Entrada de datos: 3x2000x1.5x2"
   ]
  },
  {
   "cell_type": "code",
   "execution_count": 47,
   "metadata": {},
   "outputs": [
    {
     "name": "stdout",
     "output_type": "stream",
     "text": [
      "Execution time 4.6663689613342285\n",
      "1998\n"
     ]
    }
   ],
   "source": [
    "start=time.time()\n",
    "M=3\n",
    "n=2000\n",
    "ruta=\"/Users/elPatan03/Desktop/lala/lala/3x2000x1.5x2.csv\"\n",
    "archivo=open(ruta,\"r\")\n",
    "jobs=[]\n",
    "for i in range(n+1):\n",
    "    if (i==0):\n",
    "        nada=archivo.readline()\n",
    "    else:\n",
    "        Ji,di,pi=archivo.readline().strip().split(\";\")\n",
    "        jobs.append([Ji,float(di),float(pi)])\n",
    "schedules, rejected, impossible = H2(jobs, M)"
   ]
  },
  {
   "cell_type": "markdown",
   "metadata": {},
   "source": [
    "## Entrada de datos: 3x2000x1.5x3"
   ]
  },
  {
   "cell_type": "code",
   "execution_count": 48,
   "metadata": {},
   "outputs": [
    {
     "name": "stdout",
     "output_type": "stream",
     "text": [
      "Execution time 3.338056802749634\n",
      "1998\n"
     ]
    }
   ],
   "source": [
    "start=time.time()\n",
    "M=3\n",
    "n=2000\n",
    "ruta=\"/Users/elPatan03/Desktop/lala/lala/3x2000x1.5x3.csv\"\n",
    "archivo=open(ruta,\"r\")\n",
    "jobs=[]\n",
    "for i in range(n+1):\n",
    "    if (i==0):\n",
    "        nada=archivo.readline()\n",
    "    else:\n",
    "        Ji,di,pi=archivo.readline().strip().split(\";\")\n",
    "        jobs.append([Ji,float(di),float(pi)])\n",
    "schedules, rejected, impossible = H2(jobs, M)"
   ]
  },
  {
   "cell_type": "markdown",
   "metadata": {},
   "source": [
    "## Entrada de datos: 3x2000x1.5x4"
   ]
  },
  {
   "cell_type": "code",
   "execution_count": 49,
   "metadata": {},
   "outputs": [
    {
     "name": "stdout",
     "output_type": "stream",
     "text": [
      "Execution time 4.34316349029541\n",
      "1998\n"
     ]
    }
   ],
   "source": [
    "start=time.time()\n",
    "M=3\n",
    "n=2000\n",
    "ruta=\"/Users/elPatan03/Desktop/lala/lala/3x2000x1.5x4.csv\"\n",
    "archivo=open(ruta,\"r\")\n",
    "jobs=[]\n",
    "for i in range(n+1):\n",
    "    if (i==0):\n",
    "        nada=archivo.readline()\n",
    "    else:\n",
    "        Ji,di,pi=archivo.readline().strip().split(\";\")\n",
    "        jobs.append([Ji,float(di),float(pi)])\n",
    "schedules, rejected, impossible = H2(jobs, M)"
   ]
  },
  {
   "cell_type": "markdown",
   "metadata": {},
   "source": [
    "## Entrada de datos: 3x2000x1.5x5"
   ]
  },
  {
   "cell_type": "code",
   "execution_count": 50,
   "metadata": {},
   "outputs": [
    {
     "name": "stdout",
     "output_type": "stream",
     "text": [
      "Execution time 6.79222559928894\n",
      "1997\n"
     ]
    }
   ],
   "source": [
    "start=time.time()\n",
    "M=3\n",
    "n=2000\n",
    "ruta=\"/Users/elPatan03/Desktop/lala/lala/3x2000x1.5x5.csv\"\n",
    "archivo=open(ruta,\"r\")\n",
    "jobs=[]\n",
    "for i in range(n+1):\n",
    "    if (i==0):\n",
    "        nada=archivo.readline()\n",
    "    else:\n",
    "        Ji,di,pi=archivo.readline().strip().split(\";\")\n",
    "        jobs.append([Ji,float(di),float(pi)])\n",
    "schedules, rejected, impossible = H2(jobs, M)"
   ]
  },
  {
   "cell_type": "markdown",
   "metadata": {},
   "source": [
    "## Entrada de datos: 3x2000x2x1"
   ]
  },
  {
   "cell_type": "code",
   "execution_count": 51,
   "metadata": {},
   "outputs": [
    {
     "name": "stdout",
     "output_type": "stream",
     "text": [
      "Execution time 2.9318342208862305\n",
      "1977\n"
     ]
    }
   ],
   "source": [
    "start=time.time()\n",
    "M=3\n",
    "n=2000\n",
    "ruta=\"/Users/elPatan03/Desktop/lala/lala/3x2000x2x1.csv\"\n",
    "archivo=open(ruta,\"r\")\n",
    "jobs=[]\n",
    "for i in range(n+1):\n",
    "    if (i==0):\n",
    "        nada=archivo.readline()\n",
    "    else:\n",
    "        Ji,di,pi=archivo.readline().strip().split(\";\")\n",
    "        jobs.append([Ji,float(di),float(pi)])\n",
    "schedules, rejected, impossible = H2(jobs, M)"
   ]
  },
  {
   "cell_type": "markdown",
   "metadata": {},
   "source": [
    "## Entrada de datos: 3x2000x2x2"
   ]
  },
  {
   "cell_type": "code",
   "execution_count": 52,
   "metadata": {},
   "outputs": [
    {
     "name": "stdout",
     "output_type": "stream",
     "text": [
      "Execution time 21.309632778167725\n",
      "1985\n"
     ]
    }
   ],
   "source": [
    "start=time.time()\n",
    "M=3\n",
    "n=2000\n",
    "ruta=\"/Users/elPatan03/Desktop/lala/lala/3x2000x2x2.csv\"\n",
    "archivo=open(ruta,\"r\")\n",
    "jobs=[]\n",
    "for i in range(n+1):\n",
    "    if (i==0):\n",
    "        nada=archivo.readline()\n",
    "    else:\n",
    "        Ji,di,pi=archivo.readline().strip().split(\";\")\n",
    "        jobs.append([Ji,float(di),float(pi)])\n",
    "schedules, rejected, impossible = H2(jobs, M)"
   ]
  },
  {
   "cell_type": "markdown",
   "metadata": {},
   "source": [
    "## Entrada de datos: 3x2000x2x3"
   ]
  },
  {
   "cell_type": "code",
   "execution_count": 53,
   "metadata": {},
   "outputs": [
    {
     "name": "stdout",
     "output_type": "stream",
     "text": [
      "Execution time 7.382465124130249\n",
      "1970\n"
     ]
    }
   ],
   "source": [
    "start=time.time()\n",
    "M=3\n",
    "n=2000\n",
    "ruta=\"/Users/elPatan03/Desktop/lala/lala/3x2000x2x3.csv\"\n",
    "archivo=open(ruta,\"r\")\n",
    "jobs=[]\n",
    "for i in range(n+1):\n",
    "    if (i==0):\n",
    "        nada=archivo.readline()\n",
    "    else:\n",
    "        Ji,di,pi=archivo.readline().strip().split(\";\")\n",
    "        jobs.append([Ji,float(di),float(pi)])\n",
    "schedules, rejected, impossible = H2(jobs, M)"
   ]
  },
  {
   "cell_type": "markdown",
   "metadata": {},
   "source": [
    "## Entrada de datos: 3x2000x2x4"
   ]
  },
  {
   "cell_type": "code",
   "execution_count": 54,
   "metadata": {},
   "outputs": [
    {
     "name": "stdout",
     "output_type": "stream",
     "text": [
      "Execution time 6.134504795074463\n",
      "1985\n"
     ]
    }
   ],
   "source": [
    "start=time.time()\n",
    "M=3\n",
    "n=2000\n",
    "ruta=\"/Users/elPatan03/Desktop/lala/lala/3x2000x2x4.csv\"\n",
    "archivo=open(ruta,\"r\")\n",
    "jobs=[]\n",
    "for i in range(n+1):\n",
    "    if (i==0):\n",
    "        nada=archivo.readline()\n",
    "    else:\n",
    "        Ji,di,pi=archivo.readline().strip().split(\";\")\n",
    "        jobs.append([Ji,float(di),float(pi)])\n",
    "schedules, rejected, impossible = H2(jobs, M)"
   ]
  },
  {
   "cell_type": "markdown",
   "metadata": {},
   "source": [
    "## Entrada de datos: 3x2000x2x5"
   ]
  },
  {
   "cell_type": "code",
   "execution_count": 55,
   "metadata": {},
   "outputs": [
    {
     "name": "stdout",
     "output_type": "stream",
     "text": [
      "Execution time 7.302615165710449\n",
      "1972\n"
     ]
    }
   ],
   "source": [
    "start=time.time()\n",
    "M=3\n",
    "n=2000\n",
    "ruta=\"/Users/elPatan03/Desktop/lala/lala/3x2000x2x5.csv\"\n",
    "archivo=open(ruta,\"r\")\n",
    "jobs=[]\n",
    "for i in range(n+1):\n",
    "    if (i==0):\n",
    "        nada=archivo.readline()\n",
    "    else:\n",
    "        Ji,di,pi=archivo.readline().strip().split(\";\")\n",
    "        jobs.append([Ji,float(di),float(pi)])\n",
    "schedules, rejected, impossible = H2(jobs, M)"
   ]
  },
  {
   "cell_type": "markdown",
   "metadata": {},
   "source": [
    "## Entrada de datos: 3x2000x2.5x1"
   ]
  },
  {
   "cell_type": "code",
   "execution_count": 56,
   "metadata": {},
   "outputs": [
    {
     "name": "stdout",
     "output_type": "stream",
     "text": [
      "Execution time 3.236901044845581\n",
      "1773\n"
     ]
    }
   ],
   "source": [
    "start=time.time()\n",
    "M=3\n",
    "n=2000\n",
    "ruta=\"/Users/elPatan03/Desktop/lala/lala/3x2000x2.5x1.csv\"\n",
    "archivo=open(ruta,\"r\")\n",
    "jobs=[]\n",
    "for i in range(n+1):\n",
    "    if (i==0):\n",
    "        nada=archivo.readline()\n",
    "    else:\n",
    "        Ji,di,pi=archivo.readline().strip().split(\";\")\n",
    "        jobs.append([Ji,float(di),float(pi)])\n",
    "schedules, rejected, impossible = H2(jobs, M)"
   ]
  },
  {
   "cell_type": "markdown",
   "metadata": {},
   "source": [
    "## Entrada de datos: 3x2000x2.5x2"
   ]
  },
  {
   "cell_type": "code",
   "execution_count": 57,
   "metadata": {},
   "outputs": [
    {
     "name": "stdout",
     "output_type": "stream",
     "text": [
      "Execution time 2.5310921669006348\n",
      "1770\n"
     ]
    }
   ],
   "source": [
    "start=time.time()\n",
    "M=3\n",
    "n=2000\n",
    "ruta=\"/Users/elPatan03/Desktop/lala/lala/3x2000x2.5x2.csv\"\n",
    "archivo=open(ruta,\"r\")\n",
    "jobs=[]\n",
    "for i in range(n+1):\n",
    "    if (i==0):\n",
    "        nada=archivo.readline()\n",
    "    else:\n",
    "        Ji,di,pi=archivo.readline().strip().split(\";\")\n",
    "        jobs.append([Ji,float(di),float(pi)])\n",
    "schedules, rejected, impossible = H2(jobs, M)"
   ]
  },
  {
   "cell_type": "markdown",
   "metadata": {},
   "source": [
    "## Entrada de datos: 3x2000x2.5x3"
   ]
  },
  {
   "cell_type": "code",
   "execution_count": 58,
   "metadata": {},
   "outputs": [
    {
     "name": "stdout",
     "output_type": "stream",
     "text": [
      "Execution time 2.154651165008545\n",
      "1772\n"
     ]
    }
   ],
   "source": [
    "start=time.time()\n",
    "M=3\n",
    "n=2000\n",
    "ruta=\"/Users/elPatan03/Desktop/lala/lala/3x2000x2.5x3.csv\"\n",
    "archivo=open(ruta,\"r\")\n",
    "jobs=[]\n",
    "for i in range(n+1):\n",
    "    if (i==0):\n",
    "        nada=archivo.readline()\n",
    "    else:\n",
    "        Ji,di,pi=archivo.readline().strip().split(\";\")\n",
    "        jobs.append([Ji,float(di),float(pi)])\n",
    "schedules, rejected, impossible = H2(jobs, M)"
   ]
  },
  {
   "cell_type": "markdown",
   "metadata": {},
   "source": [
    "## Entrada de datos: 3x2000x2.5x4"
   ]
  },
  {
   "cell_type": "code",
   "execution_count": 59,
   "metadata": {},
   "outputs": [
    {
     "name": "stdout",
     "output_type": "stream",
     "text": [
      "Execution time 2.72996187210083\n",
      "1772\n"
     ]
    }
   ],
   "source": [
    "start=time.time()\n",
    "M=3\n",
    "n=2000\n",
    "ruta=\"/Users/elPatan03/Desktop/lala/lala/3x2000x2.5x4.csv\"\n",
    "archivo=open(ruta,\"r\")\n",
    "jobs=[]\n",
    "for i in range(n+1):\n",
    "    if (i==0):\n",
    "        nada=archivo.readline()\n",
    "    else:\n",
    "        Ji,di,pi=archivo.readline().strip().split(\";\")\n",
    "        jobs.append([Ji,float(di),float(pi)])\n",
    "schedules, rejected, impossible = H2(jobs, M)"
   ]
  },
  {
   "cell_type": "markdown",
   "metadata": {},
   "source": [
    "## Entrada de datos: 3x2000x2.5x5"
   ]
  },
  {
   "cell_type": "code",
   "execution_count": 60,
   "metadata": {
    "scrolled": true
   },
   "outputs": [
    {
     "name": "stdout",
     "output_type": "stream",
     "text": [
      "Execution time 2.75478458404541\n",
      "1769\n"
     ]
    }
   ],
   "source": [
    "start=time.time()\n",
    "M=3\n",
    "n=2000\n",
    "ruta=\"/Users/elPatan03/Desktop/lala/lala/3x2000x2.5x5.csv\"\n",
    "archivo=open(ruta,\"r\")\n",
    "jobs=[]\n",
    "for i in range(n+1):\n",
    "    if (i==0):\n",
    "        nada=archivo.readline()\n",
    "    else:\n",
    "        Ji,di,pi=archivo.readline().strip().split(\";\")\n",
    "        jobs.append([Ji,float(di),float(pi)])\n",
    "schedules, rejected, impossible = H2(jobs, M)"
   ]
  },
  {
   "cell_type": "markdown",
   "metadata": {},
   "source": [
    "## Entrada de datos: 3x2000x3x1"
   ]
  },
  {
   "cell_type": "code",
   "execution_count": 61,
   "metadata": {},
   "outputs": [
    {
     "name": "stdout",
     "output_type": "stream",
     "text": [
      "Execution time 4.356862545013428\n",
      "1609\n"
     ]
    }
   ],
   "source": [
    "start=time.time()\n",
    "M=3\n",
    "n=2000\n",
    "ruta=\"/Users/elPatan03/Desktop/lala/lala/3x2000x3x1.csv\"\n",
    "archivo=open(ruta,\"r\")\n",
    "jobs=[]\n",
    "for i in range(n+1):\n",
    "    if (i==0):\n",
    "        nada=archivo.readline()\n",
    "    else:\n",
    "        Ji,di,pi=archivo.readline().strip().split(\";\")\n",
    "        jobs.append([Ji,float(di),float(pi)])\n",
    "schedules, rejected, impossible = H2(jobs, M)"
   ]
  },
  {
   "cell_type": "markdown",
   "metadata": {},
   "source": [
    "## Entrada de datos: 3x2000x3x2"
   ]
  },
  {
   "cell_type": "code",
   "execution_count": 62,
   "metadata": {},
   "outputs": [
    {
     "name": "stdout",
     "output_type": "stream",
     "text": [
      "Execution time 4.820138692855835\n",
      "1614\n"
     ]
    }
   ],
   "source": [
    "start=time.time()\n",
    "M=3\n",
    "n=2000\n",
    "ruta=\"/Users/elPatan03/Desktop/lala/lala/3x2000x3x2.csv\"\n",
    "archivo=open(ruta,\"r\")\n",
    "jobs=[]\n",
    "for i in range(n+1):\n",
    "    if (i==0):\n",
    "        nada=archivo.readline()\n",
    "    else:\n",
    "        Ji,di,pi=archivo.readline().strip().split(\";\")\n",
    "        jobs.append([Ji,float(di),float(pi)])\n",
    "schedules, rejected, impossible = H2(jobs, M)"
   ]
  },
  {
   "cell_type": "markdown",
   "metadata": {},
   "source": [
    "## Entrada de datos: 3x2000x3x3"
   ]
  },
  {
   "cell_type": "code",
   "execution_count": 63,
   "metadata": {},
   "outputs": [
    {
     "name": "stdout",
     "output_type": "stream",
     "text": [
      "Execution time 2.9879040718078613\n",
      "1614\n"
     ]
    }
   ],
   "source": [
    "start=time.time()\n",
    "M=3\n",
    "n=2000\n",
    "ruta=\"/Users/elPatan03/Desktop/lala/lala/3x2000x3x3.csv\"\n",
    "archivo=open(ruta,\"r\")\n",
    "jobs=[]\n",
    "for i in range(n+1):\n",
    "    if (i==0):\n",
    "        nada=archivo.readline()\n",
    "    else:\n",
    "        Ji,di,pi=archivo.readline().strip().split(\";\")\n",
    "        jobs.append([Ji,float(di),float(pi)])\n",
    "schedules, rejected, impossible = H2(jobs, M)"
   ]
  },
  {
   "cell_type": "markdown",
   "metadata": {},
   "source": [
    "## Entrada de datos: 3x2000x3x4"
   ]
  },
  {
   "cell_type": "code",
   "execution_count": 64,
   "metadata": {},
   "outputs": [
    {
     "name": "stdout",
     "output_type": "stream",
     "text": [
      "Execution time 3.159029245376587\n",
      "1608\n"
     ]
    }
   ],
   "source": [
    "start=time.time()\n",
    "M=3\n",
    "n=2000\n",
    "ruta=\"/Users/elPatan03/Desktop/lala/lala/3x2000x3x4.csv\"\n",
    "archivo=open(ruta,\"r\")\n",
    "jobs=[]\n",
    "for i in range(n+1):\n",
    "    if (i==0):\n",
    "        nada=archivo.readline()\n",
    "    else:\n",
    "        Ji,di,pi=archivo.readline().strip().split(\";\")\n",
    "        jobs.append([Ji,float(di),float(pi)])\n",
    "schedules, rejected, impossible = H2(jobs, M)"
   ]
  },
  {
   "cell_type": "markdown",
   "metadata": {},
   "source": [
    "## Entrada de datos: 3x2000x3x5"
   ]
  },
  {
   "cell_type": "code",
   "execution_count": 65,
   "metadata": {},
   "outputs": [
    {
     "name": "stdout",
     "output_type": "stream",
     "text": [
      "Execution time 5.888522624969482\n",
      "1601\n"
     ]
    }
   ],
   "source": [
    "start=time.time()\n",
    "M=3\n",
    "n=2000\n",
    "ruta=\"/Users/elPatan03/Desktop/lala/lala/3x2000x3x5.csv\"\n",
    "archivo=open(ruta,\"r\")\n",
    "jobs=[]\n",
    "for i in range(n+1):\n",
    "    if (i==0):\n",
    "        nada=archivo.readline()\n",
    "    else:\n",
    "        Ji,di,pi=archivo.readline().strip().split(\";\")\n",
    "        jobs.append([Ji,float(di),float(pi)])\n",
    "schedules, rejected, impossible = H2(jobs, M)"
   ]
  },
  {
   "cell_type": "markdown",
   "metadata": {},
   "source": [
    "## Entrada de datos: 3x2000x3.5x1"
   ]
  },
  {
   "cell_type": "code",
   "execution_count": 66,
   "metadata": {},
   "outputs": [
    {
     "name": "stdout",
     "output_type": "stream",
     "text": [
      "Execution time 2.7478692531585693\n",
      "1470\n"
     ]
    }
   ],
   "source": [
    "start=time.time()\n",
    "M=3\n",
    "n=2000\n",
    "ruta=\"/Users/elPatan03/Desktop/lala/lala/3x2000x3.5x1.csv\"\n",
    "archivo=open(ruta,\"r\")\n",
    "jobs=[]\n",
    "for i in range(n+1):\n",
    "    if (i==0):\n",
    "        nada=archivo.readline()\n",
    "    else:\n",
    "        Ji,di,pi=archivo.readline().strip().split(\";\")\n",
    "        jobs.append([Ji,float(di),float(pi)])\n",
    "schedules, rejected, impossible = H2(jobs, M)"
   ]
  },
  {
   "cell_type": "markdown",
   "metadata": {},
   "source": [
    "## Entrada de datos: 3x2000x3.5x2"
   ]
  },
  {
   "cell_type": "code",
   "execution_count": 67,
   "metadata": {},
   "outputs": [
    {
     "name": "stdout",
     "output_type": "stream",
     "text": [
      "Execution time 2.0360846519470215\n",
      "1494\n"
     ]
    }
   ],
   "source": [
    "start=time.time()\n",
    "M=3\n",
    "n=2000\n",
    "ruta=\"/Users/elPatan03/Desktop/lala/lala/3x2000x3.5x2.csv\"\n",
    "archivo=open(ruta,\"r\")\n",
    "jobs=[]\n",
    "for i in range(n+1):\n",
    "    if (i==0):\n",
    "        nada=archivo.readline()\n",
    "    else:\n",
    "        Ji,di,pi=archivo.readline().strip().split(\";\")\n",
    "        jobs.append([Ji,float(di),float(pi)])\n",
    "schedules, rejected, impossible = H2(jobs, M)"
   ]
  },
  {
   "cell_type": "markdown",
   "metadata": {},
   "source": [
    "## Entrada de datos: 3x2000x3.5x3"
   ]
  },
  {
   "cell_type": "code",
   "execution_count": 68,
   "metadata": {},
   "outputs": [
    {
     "name": "stdout",
     "output_type": "stream",
     "text": [
      "Execution time 4.485351800918579\n",
      "1482\n"
     ]
    }
   ],
   "source": [
    "start=time.time()\n",
    "M=3\n",
    "n=2000\n",
    "ruta=\"/Users/elPatan03/Desktop/lala/lala/3x2000x3.5x3.csv\"\n",
    "archivo=open(ruta,\"r\")\n",
    "jobs=[]\n",
    "for i in range(n+1):\n",
    "    if (i==0):\n",
    "        nada=archivo.readline()\n",
    "    else:\n",
    "        Ji,di,pi=archivo.readline().strip().split(\";\")\n",
    "        jobs.append([Ji,float(di),float(pi)])\n",
    "schedules, rejected, impossible = H2(jobs, M)"
   ]
  },
  {
   "cell_type": "markdown",
   "metadata": {},
   "source": [
    "## Entrada de datos: 3x2000x3.5x4"
   ]
  },
  {
   "cell_type": "code",
   "execution_count": 69,
   "metadata": {},
   "outputs": [
    {
     "name": "stdout",
     "output_type": "stream",
     "text": [
      "Execution time 2.652111530303955\n",
      "1477\n"
     ]
    }
   ],
   "source": [
    "start=time.time()\n",
    "M=3\n",
    "n=2000\n",
    "ruta=\"/Users/elPatan03/Desktop/lala/lala/3x2000x3.5x4.csv\"\n",
    "archivo=open(ruta,\"r\")\n",
    "jobs=[]\n",
    "for i in range(n+1):\n",
    "    if (i==0):\n",
    "        nada=archivo.readline()\n",
    "    else:\n",
    "        Ji,di,pi=archivo.readline().strip().split(\";\")\n",
    "        jobs.append([Ji,float(di),float(pi)])\n",
    "schedules, rejected, impossible = H2(jobs, M)"
   ]
  },
  {
   "cell_type": "markdown",
   "metadata": {},
   "source": [
    "## Entrada de datos: 3x2000x3.5x5"
   ]
  },
  {
   "cell_type": "code",
   "execution_count": 70,
   "metadata": {},
   "outputs": [
    {
     "name": "stdout",
     "output_type": "stream",
     "text": [
      "Execution time 4.243287086486816\n",
      "1490\n"
     ]
    }
   ],
   "source": [
    "start=time.time()\n",
    "M=3\n",
    "n=2000\n",
    "ruta=\"/Users/elPatan03/Desktop/lala/lala/3x2000x3.5x5.csv\"\n",
    "archivo=open(ruta,\"r\")\n",
    "jobs=[]\n",
    "for i in range(n+1):\n",
    "    if (i==0):\n",
    "        nada=archivo.readline()\n",
    "    else:\n",
    "        Ji,di,pi=archivo.readline().strip().split(\";\")\n",
    "        jobs.append([Ji,float(di),float(pi)])\n",
    "schedules, rejected, impossible = H2(jobs, M)"
   ]
  },
  {
   "cell_type": "markdown",
   "metadata": {},
   "source": [
    "## Entrada de datos: 3x2000x4x1"
   ]
  },
  {
   "cell_type": "code",
   "execution_count": 71,
   "metadata": {},
   "outputs": [
    {
     "name": "stdout",
     "output_type": "stream",
     "text": [
      "Execution time 3.467040538787842\n",
      "1391\n"
     ]
    }
   ],
   "source": [
    "start=time.time()\n",
    "M=3\n",
    "n=2000\n",
    "ruta=\"/Users/elPatan03/Desktop/lala/lala/3x2000x4x1.csv\"\n",
    "archivo=open(ruta,\"r\")\n",
    "jobs=[]\n",
    "for i in range(n+1):\n",
    "    if (i==0):\n",
    "        nada=archivo.readline()\n",
    "    else:\n",
    "        Ji,di,pi=archivo.readline().strip().split(\";\")\n",
    "        jobs.append([Ji,float(di),float(pi)])\n",
    "schedules, rejected, impossible = H2(jobs, M)"
   ]
  },
  {
   "cell_type": "markdown",
   "metadata": {},
   "source": [
    "## Entrada de datos: 3x2000x4x2"
   ]
  },
  {
   "cell_type": "code",
   "execution_count": 72,
   "metadata": {},
   "outputs": [
    {
     "name": "stdout",
     "output_type": "stream",
     "text": [
      "Execution time 2.919055938720703\n",
      "1392\n"
     ]
    }
   ],
   "source": [
    "start=time.time()\n",
    "M=3\n",
    "n=2000\n",
    "ruta=\"/Users/elPatan03/Desktop/lala/lala/3x2000x4x2.csv\"\n",
    "archivo=open(ruta,\"r\")\n",
    "jobs=[]\n",
    "for i in range(n+1):\n",
    "    if (i==0):\n",
    "        nada=archivo.readline()\n",
    "    else:\n",
    "        Ji,di,pi=archivo.readline().strip().split(\";\")\n",
    "        jobs.append([Ji,float(di),float(pi)])\n",
    "schedules, rejected, impossible = H2(jobs, M)"
   ]
  },
  {
   "cell_type": "markdown",
   "metadata": {},
   "source": [
    "## Entrada de datos: 3x2000x4x3"
   ]
  },
  {
   "cell_type": "code",
   "execution_count": 73,
   "metadata": {},
   "outputs": [
    {
     "name": "stdout",
     "output_type": "stream",
     "text": [
      "Execution time 2.3852927684783936\n",
      "1381\n"
     ]
    }
   ],
   "source": [
    "start=time.time()\n",
    "M=3\n",
    "n=2000\n",
    "ruta=\"/Users/elPatan03/Desktop/lala/lala/3x2000x4x3.csv\"\n",
    "archivo=open(ruta,\"r\")\n",
    "jobs=[]\n",
    "for i in range(n+1):\n",
    "    if (i==0):\n",
    "        nada=archivo.readline()\n",
    "    else:\n",
    "        Ji,di,pi=archivo.readline().strip().split(\";\")\n",
    "        jobs.append([Ji,float(di),float(pi)])\n",
    "schedules, rejected, impossible = H2(jobs, M)"
   ]
  },
  {
   "cell_type": "markdown",
   "metadata": {},
   "source": [
    "## Entrada de datos: 3x2000x4x4"
   ]
  },
  {
   "cell_type": "code",
   "execution_count": 74,
   "metadata": {},
   "outputs": [
    {
     "name": "stdout",
     "output_type": "stream",
     "text": [
      "Execution time 3.3475332260131836\n",
      "1374\n"
     ]
    }
   ],
   "source": [
    "start=time.time()\n",
    "M=3\n",
    "n=2000\n",
    "ruta=\"/Users/elPatan03/Desktop/lala/lala/3x2000x4x4.csv\"\n",
    "archivo=open(ruta,\"r\")\n",
    "jobs=[]\n",
    "for i in range(n+1):\n",
    "    if (i==0):\n",
    "        nada=archivo.readline()\n",
    "    else:\n",
    "        Ji,di,pi=archivo.readline().strip().split(\";\")\n",
    "        jobs.append([Ji,float(di),float(pi)])\n",
    "schedules, rejected, impossible = H2(jobs, M)"
   ]
  },
  {
   "cell_type": "markdown",
   "metadata": {},
   "source": [
    "## Entrada de datos: 3x2000x4x5"
   ]
  },
  {
   "cell_type": "code",
   "execution_count": 75,
   "metadata": {},
   "outputs": [
    {
     "name": "stdout",
     "output_type": "stream",
     "text": [
      "Execution time 2.4542083740234375\n",
      "1380\n"
     ]
    }
   ],
   "source": [
    "start=time.time()\n",
    "M=3\n",
    "n=2000\n",
    "ruta=\"/Users/elPatan03/Desktop/lala/lala/3x2000x4x5.csv\"\n",
    "archivo=open(ruta,\"r\")\n",
    "jobs=[]\n",
    "for i in range(n+1):\n",
    "    if (i==0):\n",
    "        nada=archivo.readline()\n",
    "    else:\n",
    "        Ji,di,pi=archivo.readline().strip().split(\";\")\n",
    "        jobs.append([Ji,float(di),float(pi)])\n",
    "schedules, rejected, impossible = H2(jobs, M)"
   ]
  },
  {
   "cell_type": "markdown",
   "metadata": {},
   "source": [
    "## Entrada de datos: 3x2000x4.5x1"
   ]
  },
  {
   "cell_type": "code",
   "execution_count": 76,
   "metadata": {},
   "outputs": [
    {
     "name": "stdout",
     "output_type": "stream",
     "text": [
      "Execution time 2.1997885704040527\n",
      "1293\n"
     ]
    }
   ],
   "source": [
    "start=time.time()\n",
    "M=3\n",
    "n=2000\n",
    "ruta=\"/Users/elPatan03/Desktop/lala/lala/3x2000x4.5x1.csv\"\n",
    "archivo=open(ruta,\"r\")\n",
    "jobs=[]\n",
    "for i in range(n+1):\n",
    "    if (i==0):\n",
    "        nada=archivo.readline()\n",
    "    else:\n",
    "        Ji,di,pi=archivo.readline().strip().split(\";\")\n",
    "        jobs.append([Ji,float(di),float(pi)])\n",
    "schedules, rejected, impossible = H2(jobs, M)"
   ]
  },
  {
   "cell_type": "markdown",
   "metadata": {},
   "source": [
    "## Entrada de datos: 3x2000x4.5x2"
   ]
  },
  {
   "cell_type": "code",
   "execution_count": 77,
   "metadata": {},
   "outputs": [
    {
     "name": "stdout",
     "output_type": "stream",
     "text": [
      "Execution time 2.3917124271392822\n",
      "1296\n"
     ]
    }
   ],
   "source": [
    "start=time.time()\n",
    "M=3\n",
    "n=2000\n",
    "ruta=\"/Users/elPatan03/Desktop/lala/lala/3x2000x4.5x2.csv\"\n",
    "archivo=open(ruta,\"r\")\n",
    "jobs=[]\n",
    "for i in range(n+1):\n",
    "    if (i==0):\n",
    "        nada=archivo.readline()\n",
    "    else:\n",
    "        Ji,di,pi=archivo.readline().strip().split(\";\")\n",
    "        jobs.append([Ji,float(di),float(pi)])\n",
    "schedules, rejected, impossible = H2(jobs, M)"
   ]
  },
  {
   "cell_type": "markdown",
   "metadata": {},
   "source": [
    "## Entrada de datos: 3x2000x4.5x3"
   ]
  },
  {
   "cell_type": "code",
   "execution_count": 78,
   "metadata": {},
   "outputs": [
    {
     "name": "stdout",
     "output_type": "stream",
     "text": [
      "Execution time 2.665530204772949\n",
      "1301\n"
     ]
    }
   ],
   "source": [
    "start=time.time()\n",
    "M=3\n",
    "n=2000\n",
    "ruta=\"/Users/elPatan03/Desktop/lala/lala/3x2000x4.5x3.csv\"\n",
    "archivo=open(ruta,\"r\")\n",
    "jobs=[]\n",
    "for i in range(n+1):\n",
    "    if (i==0):\n",
    "        nada=archivo.readline()\n",
    "    else:\n",
    "        Ji,di,pi=archivo.readline().strip().split(\";\")\n",
    "        jobs.append([Ji,float(di),float(pi)])\n",
    "schedules, rejected, impossible = H2(jobs, M)"
   ]
  },
  {
   "cell_type": "markdown",
   "metadata": {},
   "source": [
    "## Entrada de datos: 3x2000x4.5x4"
   ]
  },
  {
   "cell_type": "code",
   "execution_count": 79,
   "metadata": {},
   "outputs": [
    {
     "name": "stdout",
     "output_type": "stream",
     "text": [
      "Execution time 2.175480604171753\n",
      "1309\n"
     ]
    }
   ],
   "source": [
    "start=time.time()\n",
    "M=3\n",
    "n=2000\n",
    "ruta=\"/Users/elPatan03/Desktop/lala/lala/3x2000x4.5x4.csv\"\n",
    "archivo=open(ruta,\"r\")\n",
    "jobs=[]\n",
    "for i in range(n+1):\n",
    "    if (i==0):\n",
    "        nada=archivo.readline()\n",
    "    else:\n",
    "        Ji,di,pi=archivo.readline().strip().split(\";\")\n",
    "        jobs.append([Ji,float(di),float(pi)])\n",
    "schedules, rejected, impossible = H2(jobs, M)"
   ]
  },
  {
   "cell_type": "markdown",
   "metadata": {},
   "source": [
    "## Entrada de datos: 3x2000x4.5x5"
   ]
  },
  {
   "cell_type": "code",
   "execution_count": 80,
   "metadata": {
    "scrolled": true
   },
   "outputs": [
    {
     "name": "stdout",
     "output_type": "stream",
     "text": [
      "Execution time 2.5221660137176514\n",
      "1296\n"
     ]
    }
   ],
   "source": [
    "start=time.time()\n",
    "M=3\n",
    "n=2000\n",
    "ruta=\"/Users/elPatan03/Desktop/lala/lala/3x2000x4.5x5.csv\"\n",
    "archivo=open(ruta,\"r\")\n",
    "jobs=[]\n",
    "for i in range(n+1):\n",
    "    if (i==0):\n",
    "        nada=archivo.readline()\n",
    "    else:\n",
    "        Ji,di,pi=archivo.readline().strip().split(\";\")\n",
    "        jobs.append([Ji,float(di),float(pi)])\n",
    "schedules, rejected, impossible = H2(jobs, M)"
   ]
  },
  {
   "cell_type": "markdown",
   "metadata": {},
   "source": [
    "## Entrada de datos: 3x2000x5x1"
   ]
  },
  {
   "cell_type": "code",
   "execution_count": 81,
   "metadata": {},
   "outputs": [
    {
     "name": "stdout",
     "output_type": "stream",
     "text": [
      "Execution time 1.9517879486083984\n",
      "1226\n"
     ]
    }
   ],
   "source": [
    "start=time.time()\n",
    "M=3\n",
    "n=2000\n",
    "ruta=\"/Users/elPatan03/Desktop/lala/lala/3x2000x5x1.csv\"\n",
    "archivo=open(ruta,\"r\")\n",
    "jobs=[]\n",
    "for i in range(n+1):\n",
    "    if (i==0):\n",
    "        nada=archivo.readline()\n",
    "    else:\n",
    "        Ji,di,pi=archivo.readline().strip().split(\";\")\n",
    "        jobs.append([Ji,float(di),float(pi)])\n",
    "schedules, rejected, impossible = H2(jobs, M)"
   ]
  },
  {
   "cell_type": "markdown",
   "metadata": {},
   "source": [
    "## Entrada de datos: 3x2000x5x2"
   ]
  },
  {
   "cell_type": "code",
   "execution_count": 82,
   "metadata": {},
   "outputs": [
    {
     "name": "stdout",
     "output_type": "stream",
     "text": [
      "Execution time 2.4071121215820312\n",
      "1216\n"
     ]
    }
   ],
   "source": [
    "start=time.time()\n",
    "M=3\n",
    "n=2000\n",
    "ruta=\"/Users/elPatan03/Desktop/lala/lala/3x2000x5x2.csv\"\n",
    "archivo=open(ruta,\"r\")\n",
    "jobs=[]\n",
    "for i in range(n+1):\n",
    "    if (i==0):\n",
    "        nada=archivo.readline()\n",
    "    else:\n",
    "        Ji,di,pi=archivo.readline().strip().split(\";\")\n",
    "        jobs.append([Ji,float(di),float(pi)])\n",
    "schedules, rejected, impossible = H2(jobs, M)"
   ]
  },
  {
   "cell_type": "markdown",
   "metadata": {},
   "source": [
    "## Entrada de datos: 3x2000x5x3"
   ]
  },
  {
   "cell_type": "code",
   "execution_count": 83,
   "metadata": {},
   "outputs": [
    {
     "name": "stdout",
     "output_type": "stream",
     "text": [
      "Execution time 2.5936174392700195\n",
      "1224\n"
     ]
    }
   ],
   "source": [
    "start=time.time()\n",
    "M=3\n",
    "n=2000\n",
    "ruta=\"/Users/elPatan03/Desktop/lala/lala/3x2000x5x3.csv\"\n",
    "archivo=open(ruta,\"r\")\n",
    "jobs=[]\n",
    "for i in range(n+1):\n",
    "    if (i==0):\n",
    "        nada=archivo.readline()\n",
    "    else:\n",
    "        Ji,di,pi=archivo.readline().strip().split(\";\")\n",
    "        jobs.append([Ji,float(di),float(pi)])\n",
    "schedules, rejected, impossible = H2(jobs, M)"
   ]
  },
  {
   "cell_type": "markdown",
   "metadata": {},
   "source": [
    "## Entrada de datos: 3x2000x5x4"
   ]
  },
  {
   "cell_type": "code",
   "execution_count": 84,
   "metadata": {},
   "outputs": [
    {
     "name": "stdout",
     "output_type": "stream",
     "text": [
      "Execution time 2.663048267364502\n",
      "1219\n"
     ]
    }
   ],
   "source": [
    "start=time.time()\n",
    "M=3\n",
    "n=2000\n",
    "ruta=\"/Users/elPatan03/Desktop/lala/lala/3x2000x5x4.csv\"\n",
    "archivo=open(ruta,\"r\")\n",
    "jobs=[]\n",
    "for i in range(n+1):\n",
    "    if (i==0):\n",
    "        nada=archivo.readline()\n",
    "    else:\n",
    "        Ji,di,pi=archivo.readline().strip().split(\";\")\n",
    "        jobs.append([Ji,float(di),float(pi)])\n",
    "schedules, rejected, impossible = H2(jobs, M)"
   ]
  },
  {
   "cell_type": "markdown",
   "metadata": {},
   "source": [
    "## Entrada de datos: 3x2000x5x5"
   ]
  },
  {
   "cell_type": "code",
   "execution_count": 85,
   "metadata": {
    "scrolled": true
   },
   "outputs": [
    {
     "name": "stdout",
     "output_type": "stream",
     "text": [
      "Execution time 2.2404322624206543\n",
      "1236\n"
     ]
    }
   ],
   "source": [
    "start=time.time()\n",
    "M=3\n",
    "n=2000\n",
    "ruta=\"/Users/elPatan03/Desktop/lala/lala/3x2000x5x5.csv\"\n",
    "archivo=open(ruta,\"r\")\n",
    "jobs=[]\n",
    "for i in range(n+1):\n",
    "    if (i==0):\n",
    "        nada=archivo.readline()\n",
    "    else:\n",
    "        Ji,di,pi=archivo.readline().strip().split(\";\")\n",
    "        jobs.append([Ji,float(di),float(pi)])\n",
    "schedules, rejected, impossible = H2(jobs, M)"
   ]
  },
  {
   "cell_type": "markdown",
   "metadata": {},
   "source": [
    "## Entrada de datos: 4x2000x1.5x1"
   ]
  },
  {
   "cell_type": "code",
   "execution_count": 86,
   "metadata": {},
   "outputs": [
    {
     "name": "stdout",
     "output_type": "stream",
     "text": [
      "Execution time 3.5667130947113037\n",
      "1992\n"
     ]
    }
   ],
   "source": [
    "start=time.time()\n",
    "M=4\n",
    "n=2000\n",
    "ruta=\"/Users/elPatan03/Desktop/lala/lala/4x2000x1.5x1.csv\"\n",
    "archivo=open(ruta,\"r\")\n",
    "jobs=[]\n",
    "for i in range(n+1):\n",
    "    if (i==0):\n",
    "        nada=archivo.readline()\n",
    "    else:\n",
    "        Ji,di,pi=archivo.readline().strip().split(\";\")\n",
    "        jobs.append([Ji,float(di),float(pi)])\n",
    "schedules, rejected, impossible = H2(jobs, M)"
   ]
  },
  {
   "cell_type": "markdown",
   "metadata": {},
   "source": [
    "## Entrada de datos: 4x2000x1.5x2"
   ]
  },
  {
   "cell_type": "code",
   "execution_count": 87,
   "metadata": {},
   "outputs": [
    {
     "name": "stdout",
     "output_type": "stream",
     "text": [
      "Execution time 3.655167579650879\n",
      "1996\n"
     ]
    }
   ],
   "source": [
    "start=time.time()\n",
    "M=4\n",
    "n=2000\n",
    "ruta=\"/Users/elPatan03/Desktop/lala/lala/4x2000x1.5x2.csv\"\n",
    "archivo=open(ruta,\"r\")\n",
    "jobs=[]\n",
    "for i in range(n+1):\n",
    "    if (i==0):\n",
    "        nada=archivo.readline()\n",
    "    else:\n",
    "        Ji,di,pi=archivo.readline().strip().split(\";\")\n",
    "        jobs.append([Ji,float(di),float(pi)])\n",
    "schedules, rejected, impossible = H2(jobs, M)"
   ]
  },
  {
   "cell_type": "markdown",
   "metadata": {},
   "source": [
    "## Entrada de datos: 4x2000x1.5x3"
   ]
  },
  {
   "cell_type": "code",
   "execution_count": 88,
   "metadata": {},
   "outputs": [
    {
     "name": "stdout",
     "output_type": "stream",
     "text": [
      "Execution time 2.673463821411133\n",
      "1997\n"
     ]
    }
   ],
   "source": [
    "start=time.time()\n",
    "M=4\n",
    "n=2000\n",
    "ruta=\"/Users/elPatan03/Desktop/lala/lala/4x2000x1.5x3.csv\"\n",
    "archivo=open(ruta,\"r\")\n",
    "jobs=[]\n",
    "for i in range(n+1):\n",
    "    if (i==0):\n",
    "        nada=archivo.readline()\n",
    "    else:\n",
    "        Ji,di,pi=archivo.readline().strip().split(\";\")\n",
    "        jobs.append([Ji,float(di),float(pi)])\n",
    "schedules, rejected, impossible = H2(jobs, M)"
   ]
  },
  {
   "cell_type": "markdown",
   "metadata": {},
   "source": [
    "## Entrada de datos: 4x2000x1.5x4"
   ]
  },
  {
   "cell_type": "code",
   "execution_count": 89,
   "metadata": {},
   "outputs": [
    {
     "name": "stdout",
     "output_type": "stream",
     "text": [
      "Execution time 4.668874979019165\n",
      "1992\n"
     ]
    }
   ],
   "source": [
    "start=time.time()\n",
    "M=4\n",
    "n=2000\n",
    "ruta=\"/Users/elPatan03/Desktop/lala/lala/4x2000x1.5x4.csv\"\n",
    "archivo=open(ruta,\"r\")\n",
    "jobs=[]\n",
    "for i in range(n+1):\n",
    "    if (i==0):\n",
    "        nada=archivo.readline()\n",
    "    else:\n",
    "        Ji,di,pi=archivo.readline().strip().split(\";\")\n",
    "        jobs.append([Ji,float(di),float(pi)])\n",
    "schedules, rejected, impossible = H2(jobs, M)"
   ]
  },
  {
   "cell_type": "markdown",
   "metadata": {},
   "source": [
    "## Entrada de datos: 4x2000x1.5x5"
   ]
  },
  {
   "cell_type": "code",
   "execution_count": 90,
   "metadata": {},
   "outputs": [
    {
     "name": "stdout",
     "output_type": "stream",
     "text": [
      "Execution time 10.29599380493164\n",
      "1993\n"
     ]
    }
   ],
   "source": [
    "start=time.time()\n",
    "M=4\n",
    "n=2000\n",
    "ruta=\"/Users/elPatan03/Desktop/lala/lala/4x2000x1.5x5.csv\"\n",
    "archivo=open(ruta,\"r\")\n",
    "jobs=[]\n",
    "for i in range(n+1):\n",
    "    if (i==0):\n",
    "        nada=archivo.readline()\n",
    "    else:\n",
    "        Ji,di,pi=archivo.readline().strip().split(\";\")\n",
    "        jobs.append([Ji,float(di),float(pi)])\n",
    "schedules, rejected, impossible = H2(jobs, M)"
   ]
  },
  {
   "cell_type": "markdown",
   "metadata": {},
   "source": [
    "## Entrada de datos: 4x2000x2x1"
   ]
  },
  {
   "cell_type": "code",
   "execution_count": 91,
   "metadata": {},
   "outputs": [
    {
     "name": "stdout",
     "output_type": "stream",
     "text": [
      "Execution time 3.7777023315429688\n",
      "1967\n"
     ]
    }
   ],
   "source": [
    "start=time.time()\n",
    "M=4\n",
    "n=2000\n",
    "ruta=\"/Users/elPatan03/Desktop/lala/lala/4x2000x2x1.csv\"\n",
    "archivo=open(ruta,\"r\")\n",
    "jobs=[]\n",
    "for i in range(n+1):\n",
    "    if (i==0):\n",
    "        nada=archivo.readline()\n",
    "    else:\n",
    "        Ji,di,pi=archivo.readline().strip().split(\";\")\n",
    "        jobs.append([Ji,float(di),float(pi)])\n",
    "schedules, rejected, impossible = H2(jobs, M)"
   ]
  },
  {
   "cell_type": "markdown",
   "metadata": {},
   "source": [
    "## Entrada de datos: 4x2000x2x2"
   ]
  },
  {
   "cell_type": "code",
   "execution_count": 92,
   "metadata": {},
   "outputs": [
    {
     "name": "stdout",
     "output_type": "stream",
     "text": [
      "Execution time 3.8946235179901123\n",
      "1976\n"
     ]
    }
   ],
   "source": [
    "start=time.time()\n",
    "M=4\n",
    "n=2000\n",
    "ruta=\"/Users/elPatan03/Desktop/lala/lala/4x2000x2x2.csv\"\n",
    "archivo=open(ruta,\"r\")\n",
    "jobs=[]\n",
    "for i in range(n+1):\n",
    "    if (i==0):\n",
    "        nada=archivo.readline()\n",
    "    else:\n",
    "        Ji,di,pi=archivo.readline().strip().split(\";\")\n",
    "        jobs.append([Ji,float(di),float(pi)])\n",
    "schedules, rejected, impossible = H2(jobs, M)"
   ]
  },
  {
   "cell_type": "markdown",
   "metadata": {},
   "source": [
    "## Entrada de datos: 4x2000x2x3"
   ]
  },
  {
   "cell_type": "code",
   "execution_count": 93,
   "metadata": {},
   "outputs": [
    {
     "name": "stdout",
     "output_type": "stream",
     "text": [
      "Execution time 2.6005327701568604\n",
      "1974\n"
     ]
    }
   ],
   "source": [
    "start=time.time()\n",
    "M=4\n",
    "n=2000\n",
    "ruta=\"/Users/elPatan03/Desktop/lala/lala/4x2000x2x3.csv\"\n",
    "archivo=open(ruta,\"r\")\n",
    "jobs=[]\n",
    "for i in range(n+1):\n",
    "    if (i==0):\n",
    "        nada=archivo.readline()\n",
    "    else:\n",
    "        Ji,di,pi=archivo.readline().strip().split(\";\")\n",
    "        jobs.append([Ji,float(di),float(pi)])\n",
    "schedules, rejected, impossible = H2(jobs, M)"
   ]
  },
  {
   "cell_type": "markdown",
   "metadata": {},
   "source": [
    "## Entrada de datos: 4x2000x2x4"
   ]
  },
  {
   "cell_type": "code",
   "execution_count": 94,
   "metadata": {},
   "outputs": [
    {
     "name": "stdout",
     "output_type": "stream",
     "text": [
      "Execution time 3.3584446907043457\n",
      "1981\n"
     ]
    }
   ],
   "source": [
    "start=time.time()\n",
    "M=4\n",
    "n=2000\n",
    "ruta=\"/Users/elPatan03/Desktop/lala/lala/4x2000x2x4.csv\"\n",
    "archivo=open(ruta,\"r\")\n",
    "jobs=[]\n",
    "for i in range(n+1):\n",
    "    if (i==0):\n",
    "        nada=archivo.readline()\n",
    "    else:\n",
    "        Ji,di,pi=archivo.readline().strip().split(\";\")\n",
    "        jobs.append([Ji,float(di),float(pi)])\n",
    "schedules, rejected, impossible = H2(jobs, M)"
   ]
  },
  {
   "cell_type": "markdown",
   "metadata": {},
   "source": [
    "## Entrada de datos: 4x2000x2x5"
   ]
  },
  {
   "cell_type": "code",
   "execution_count": 95,
   "metadata": {},
   "outputs": [
    {
     "name": "stdout",
     "output_type": "stream",
     "text": [
      "Execution time 3.508732557296753\n",
      "1961\n"
     ]
    }
   ],
   "source": [
    "start=time.time()\n",
    "M=4\n",
    "n=2000\n",
    "ruta=\"/Users/elPatan03/Desktop/lala/lala/4x2000x2x5.csv\"\n",
    "archivo=open(ruta,\"r\")\n",
    "jobs=[]\n",
    "for i in range(n+1):\n",
    "    if (i==0):\n",
    "        nada=archivo.readline()\n",
    "    else:\n",
    "        Ji,di,pi=archivo.readline().strip().split(\";\")\n",
    "        jobs.append([Ji,float(di),float(pi)])\n",
    "schedules, rejected, impossible = H2(jobs, M)"
   ]
  },
  {
   "cell_type": "markdown",
   "metadata": {},
   "source": [
    "## Entrada de datos: 4x2000x2.5x1"
   ]
  },
  {
   "cell_type": "code",
   "execution_count": 96,
   "metadata": {},
   "outputs": [
    {
     "name": "stdout",
     "output_type": "stream",
     "text": [
      "Execution time 3.004300117492676\n",
      "1765\n"
     ]
    }
   ],
   "source": [
    "start=time.time()\n",
    "M=4\n",
    "n=2000\n",
    "ruta=\"/Users/elPatan03/Desktop/lala/lala/4x2000x2.5x1.csv\"\n",
    "archivo=open(ruta,\"r\")\n",
    "jobs=[]\n",
    "for i in range(n+1):\n",
    "    if (i==0):\n",
    "        nada=archivo.readline()\n",
    "    else:\n",
    "        Ji,di,pi=archivo.readline().strip().split(\";\")\n",
    "        jobs.append([Ji,float(di),float(pi)])\n",
    "schedules, rejected, impossible = H2(jobs, M)"
   ]
  },
  {
   "cell_type": "markdown",
   "metadata": {},
   "source": [
    "## Entrada de datos: 4x2000x2.5x2"
   ]
  },
  {
   "cell_type": "code",
   "execution_count": 97,
   "metadata": {},
   "outputs": [
    {
     "name": "stdout",
     "output_type": "stream",
     "text": [
      "Execution time 2.7930045127868652\n",
      "1774\n"
     ]
    }
   ],
   "source": [
    "start=time.time()\n",
    "M=4\n",
    "n=2000\n",
    "ruta=\"/Users/elPatan03/Desktop/lala/lala/4x2000x2.5x2.csv\"\n",
    "archivo=open(ruta,\"r\")\n",
    "jobs=[]\n",
    "for i in range(n+1):\n",
    "    if (i==0):\n",
    "        nada=archivo.readline()\n",
    "    else:\n",
    "        Ji,di,pi=archivo.readline().strip().split(\";\")\n",
    "        jobs.append([Ji,float(di),float(pi)])\n",
    "schedules, rejected, impossible = H2(jobs, M)"
   ]
  },
  {
   "cell_type": "markdown",
   "metadata": {},
   "source": [
    "## Entrada de datos: 4x2000x2.5x3"
   ]
  },
  {
   "cell_type": "code",
   "execution_count": 98,
   "metadata": {},
   "outputs": [
    {
     "name": "stdout",
     "output_type": "stream",
     "text": [
      "Execution time 2.749329090118408\n",
      "1770\n"
     ]
    }
   ],
   "source": [
    "start=time.time()\n",
    "M=4\n",
    "n=2000\n",
    "ruta=\"/Users/elPatan03/Desktop/lala/lala/4x2000x2.5x3.csv\"\n",
    "archivo=open(ruta,\"r\")\n",
    "jobs=[]\n",
    "for i in range(n+1):\n",
    "    if (i==0):\n",
    "        nada=archivo.readline()\n",
    "    else:\n",
    "        Ji,di,pi=archivo.readline().strip().split(\";\")\n",
    "        jobs.append([Ji,float(di),float(pi)])\n",
    "schedules, rejected, impossible = H2(jobs, M)"
   ]
  },
  {
   "cell_type": "markdown",
   "metadata": {},
   "source": [
    "## Entrada de datos: 4x2000x2.5x4"
   ]
  },
  {
   "cell_type": "code",
   "execution_count": 99,
   "metadata": {},
   "outputs": [
    {
     "name": "stdout",
     "output_type": "stream",
     "text": [
      "Execution time 2.4338955879211426\n",
      "1771\n"
     ]
    }
   ],
   "source": [
    "start=time.time()\n",
    "M=4\n",
    "n=2000\n",
    "ruta=\"/Users/elPatan03/Desktop/lala/lala/4x2000x2.5x4.csv\"\n",
    "archivo=open(ruta,\"r\")\n",
    "jobs=[]\n",
    "for i in range(n+1):\n",
    "    if (i==0):\n",
    "        nada=archivo.readline()\n",
    "    else:\n",
    "        Ji,di,pi=archivo.readline().strip().split(\";\")\n",
    "        jobs.append([Ji,float(di),float(pi)])\n",
    "schedules, rejected, impossible = H2(jobs, M)"
   ]
  },
  {
   "cell_type": "markdown",
   "metadata": {},
   "source": [
    "## Entrada de datos: 4x2000x2.5x5"
   ]
  },
  {
   "cell_type": "code",
   "execution_count": 100,
   "metadata": {
    "scrolled": true
   },
   "outputs": [
    {
     "name": "stdout",
     "output_type": "stream",
     "text": [
      "Execution time 4.519085884094238\n",
      "1764\n"
     ]
    }
   ],
   "source": [
    "start=time.time()\n",
    "M=4\n",
    "n=2000\n",
    "ruta=\"/Users/elPatan03/Desktop/lala/lala/4x2000x2.5x5.csv\"\n",
    "archivo=open(ruta,\"r\")\n",
    "jobs=[]\n",
    "for i in range(n+1):\n",
    "    if (i==0):\n",
    "        nada=archivo.readline()\n",
    "    else:\n",
    "        Ji,di,pi=archivo.readline().strip().split(\";\")\n",
    "        jobs.append([Ji,float(di),float(pi)])\n",
    "schedules, rejected, impossible = H2(jobs, M)"
   ]
  },
  {
   "cell_type": "markdown",
   "metadata": {},
   "source": [
    "## Entrada de datos: 4x2000x3x1"
   ]
  },
  {
   "cell_type": "code",
   "execution_count": 101,
   "metadata": {},
   "outputs": [
    {
     "name": "stdout",
     "output_type": "stream",
     "text": [
      "Execution time 3.5360074043273926\n",
      "1605\n"
     ]
    }
   ],
   "source": [
    "start=time.time()\n",
    "M=4\n",
    "n=2000\n",
    "ruta=\"/Users/elPatan03/Desktop/lala/lala/4x2000x3x1.csv\"\n",
    "archivo=open(ruta,\"r\")\n",
    "jobs=[]\n",
    "for i in range(n+1):\n",
    "    if (i==0):\n",
    "        nada=archivo.readline()\n",
    "    else:\n",
    "        Ji,di,pi=archivo.readline().strip().split(\";\")\n",
    "        jobs.append([Ji,float(di),float(pi)])\n",
    "schedules, rejected, impossible = H2(jobs, M)"
   ]
  },
  {
   "cell_type": "markdown",
   "metadata": {},
   "source": [
    "## Entrada de datos: 4x2000x3x2"
   ]
  },
  {
   "cell_type": "code",
   "execution_count": 102,
   "metadata": {},
   "outputs": [
    {
     "name": "stdout",
     "output_type": "stream",
     "text": [
      "Execution time 2.8515286445617676\n",
      "1609\n"
     ]
    }
   ],
   "source": [
    "start=time.time()\n",
    "M=4\n",
    "n=2000\n",
    "ruta=\"/Users/elPatan03/Desktop/lala/lala/4x2000x3x2.csv\"\n",
    "archivo=open(ruta,\"r\")\n",
    "jobs=[]\n",
    "for i in range(n+1):\n",
    "    if (i==0):\n",
    "        nada=archivo.readline()\n",
    "    else:\n",
    "        Ji,di,pi=archivo.readline().strip().split(\";\")\n",
    "        jobs.append([Ji,float(di),float(pi)])\n",
    "schedules, rejected, impossible = H2(jobs, M)"
   ]
  },
  {
   "cell_type": "markdown",
   "metadata": {},
   "source": [
    "## Entrada de datos: 4x2000x3x3"
   ]
  },
  {
   "cell_type": "code",
   "execution_count": 103,
   "metadata": {},
   "outputs": [
    {
     "name": "stdout",
     "output_type": "stream",
     "text": [
      "Execution time 3.690272331237793\n",
      "1609\n"
     ]
    }
   ],
   "source": [
    "start=time.time()\n",
    "M=4\n",
    "n=2000\n",
    "ruta=\"/Users/elPatan03/Desktop/lala/lala/4x2000x3x3.csv\"\n",
    "archivo=open(ruta,\"r\")\n",
    "jobs=[]\n",
    "for i in range(n+1):\n",
    "    if (i==0):\n",
    "        nada=archivo.readline()\n",
    "    else:\n",
    "        Ji,di,pi=archivo.readline().strip().split(\";\")\n",
    "        jobs.append([Ji,float(di),float(pi)])\n",
    "schedules, rejected, impossible = H2(jobs, M)"
   ]
  },
  {
   "cell_type": "markdown",
   "metadata": {},
   "source": [
    "## Entrada de datos: 4x2000x3x4"
   ]
  },
  {
   "cell_type": "code",
   "execution_count": 104,
   "metadata": {},
   "outputs": [
    {
     "name": "stdout",
     "output_type": "stream",
     "text": [
      "Execution time 2.478044033050537\n",
      "1612\n"
     ]
    }
   ],
   "source": [
    "start=time.time()\n",
    "M=4\n",
    "n=2000\n",
    "ruta=\"/Users/elPatan03/Desktop/lala/lala/4x2000x3x4.csv\"\n",
    "archivo=open(ruta,\"r\")\n",
    "jobs=[]\n",
    "for i in range(n+1):\n",
    "    if (i==0):\n",
    "        nada=archivo.readline()\n",
    "    else:\n",
    "        Ji,di,pi=archivo.readline().strip().split(\";\")\n",
    "        jobs.append([Ji,float(di),float(pi)])\n",
    "schedules, rejected, impossible = H2(jobs, M)"
   ]
  },
  {
   "cell_type": "markdown",
   "metadata": {},
   "source": [
    "## Entrada de datos: 4x2000x3x5"
   ]
  },
  {
   "cell_type": "code",
   "execution_count": 105,
   "metadata": {},
   "outputs": [
    {
     "name": "stdout",
     "output_type": "stream",
     "text": [
      "Execution time 3.259190559387207\n",
      "1606\n"
     ]
    }
   ],
   "source": [
    "start=time.time()\n",
    "M=4\n",
    "n=2000\n",
    "ruta=\"/Users/elPatan03/Desktop/lala/lala/4x2000x3x5.csv\"\n",
    "archivo=open(ruta,\"r\")\n",
    "jobs=[]\n",
    "for i in range(n+1):\n",
    "    if (i==0):\n",
    "        nada=archivo.readline()\n",
    "    else:\n",
    "        Ji,di,pi=archivo.readline().strip().split(\";\")\n",
    "        jobs.append([Ji,float(di),float(pi)])\n",
    "schedules, rejected, impossible = H2(jobs, M)"
   ]
  },
  {
   "cell_type": "markdown",
   "metadata": {},
   "source": [
    "## Entrada de datos: 4x2000x3.5x1"
   ]
  },
  {
   "cell_type": "code",
   "execution_count": 106,
   "metadata": {},
   "outputs": [
    {
     "name": "stdout",
     "output_type": "stream",
     "text": [
      "Execution time 5.1207334995269775\n",
      "1480\n"
     ]
    }
   ],
   "source": [
    "start=time.time()\n",
    "M=4\n",
    "n=2000\n",
    "ruta=\"/Users/elPatan03/Desktop/lala/lala/4x2000x3.5x1.csv\"\n",
    "archivo=open(ruta,\"r\")\n",
    "jobs=[]\n",
    "for i in range(n+1):\n",
    "    if (i==0):\n",
    "        nada=archivo.readline()\n",
    "    else:\n",
    "        Ji,di,pi=archivo.readline().strip().split(\";\")\n",
    "        jobs.append([Ji,float(di),float(pi)])\n",
    "schedules, rejected, impossible = H2(jobs, M)"
   ]
  },
  {
   "cell_type": "markdown",
   "metadata": {},
   "source": [
    "## Entrada de datos: 4x2000x3.5x2"
   ]
  },
  {
   "cell_type": "code",
   "execution_count": 107,
   "metadata": {},
   "outputs": [
    {
     "name": "stdout",
     "output_type": "stream",
     "text": [
      "Execution time 3.0042781829833984\n",
      "1478\n"
     ]
    }
   ],
   "source": [
    "start=time.time()\n",
    "M=4\n",
    "n=2000\n",
    "ruta=\"/Users/elPatan03/Desktop/lala/lala/4x2000x3.5x2.csv\"\n",
    "archivo=open(ruta,\"r\")\n",
    "jobs=[]\n",
    "for i in range(n+1):\n",
    "    if (i==0):\n",
    "        nada=archivo.readline()\n",
    "    else:\n",
    "        Ji,di,pi=archivo.readline().strip().split(\";\")\n",
    "        jobs.append([Ji,float(di),float(pi)])\n",
    "schedules, rejected, impossible = H2(jobs, M)"
   ]
  },
  {
   "cell_type": "markdown",
   "metadata": {},
   "source": [
    "## Entrada de datos: 4x2000x3.5x3"
   ]
  },
  {
   "cell_type": "code",
   "execution_count": 108,
   "metadata": {},
   "outputs": [
    {
     "name": "stdout",
     "output_type": "stream",
     "text": [
      "Execution time 3.2929444313049316\n",
      "1485\n"
     ]
    }
   ],
   "source": [
    "start=time.time()\n",
    "M=4\n",
    "n=2000\n",
    "ruta=\"/Users/elPatan03/Desktop/lala/lala/4x2000x3.5x3.csv\"\n",
    "archivo=open(ruta,\"r\")\n",
    "jobs=[]\n",
    "for i in range(n+1):\n",
    "    if (i==0):\n",
    "        nada=archivo.readline()\n",
    "    else:\n",
    "        Ji,di,pi=archivo.readline().strip().split(\";\")\n",
    "        jobs.append([Ji,float(di),float(pi)])\n",
    "schedules, rejected, impossible = H2(jobs, M)"
   ]
  },
  {
   "cell_type": "markdown",
   "metadata": {},
   "source": [
    "## Entrada de datos: 4x2000x3.5x4"
   ]
  },
  {
   "cell_type": "code",
   "execution_count": 109,
   "metadata": {},
   "outputs": [
    {
     "name": "stdout",
     "output_type": "stream",
     "text": [
      "Execution time 2.9199275970458984\n",
      "1484\n"
     ]
    }
   ],
   "source": [
    "start=time.time()\n",
    "M=4\n",
    "n=2000\n",
    "ruta=\"/Users/elPatan03/Desktop/lala/lala/4x2000x3.5x4.csv\"\n",
    "archivo=open(ruta,\"r\")\n",
    "jobs=[]\n",
    "for i in range(n+1):\n",
    "    if (i==0):\n",
    "        nada=archivo.readline()\n",
    "    else:\n",
    "        Ji,di,pi=archivo.readline().strip().split(\";\")\n",
    "        jobs.append([Ji,float(di),float(pi)])\n",
    "schedules, rejected, impossible = H2(jobs, M)"
   ]
  },
  {
   "cell_type": "markdown",
   "metadata": {},
   "source": [
    "## Entrada de datos: 4x2000x3.5x5"
   ]
  },
  {
   "cell_type": "code",
   "execution_count": 110,
   "metadata": {},
   "outputs": [
    {
     "name": "stdout",
     "output_type": "stream",
     "text": [
      "Execution time 3.0871052742004395\n",
      "1488\n"
     ]
    }
   ],
   "source": [
    "start=time.time()\n",
    "M=4\n",
    "n=2000\n",
    "ruta=\"/Users/elPatan03/Desktop/lala/lala/4x2000x3.5x5.csv\"\n",
    "archivo=open(ruta,\"r\")\n",
    "jobs=[]\n",
    "for i in range(n+1):\n",
    "    if (i==0):\n",
    "        nada=archivo.readline()\n",
    "    else:\n",
    "        Ji,di,pi=archivo.readline().strip().split(\";\")\n",
    "        jobs.append([Ji,float(di),float(pi)])\n",
    "schedules, rejected, impossible = H2(jobs, M)"
   ]
  },
  {
   "cell_type": "markdown",
   "metadata": {},
   "source": [
    "## Entrada de datos: 4x2000x4x1"
   ]
  },
  {
   "cell_type": "code",
   "execution_count": 111,
   "metadata": {},
   "outputs": [
    {
     "name": "stdout",
     "output_type": "stream",
     "text": [
      "Execution time 3.7041289806365967\n",
      "1395\n"
     ]
    }
   ],
   "source": [
    "start=time.time()\n",
    "M=4\n",
    "n=2000\n",
    "ruta=\"/Users/elPatan03/Desktop/lala/lala/4x2000x4x1.csv\"\n",
    "archivo=open(ruta,\"r\")\n",
    "jobs=[]\n",
    "for i in range(n+1):\n",
    "    if (i==0):\n",
    "        nada=archivo.readline()\n",
    "    else:\n",
    "        Ji,di,pi=archivo.readline().strip().split(\";\")\n",
    "        jobs.append([Ji,float(di),float(pi)])\n",
    "schedules, rejected, impossible = H2(jobs, M)"
   ]
  },
  {
   "cell_type": "markdown",
   "metadata": {},
   "source": [
    "## Entrada de datos: 4x2000x4x2"
   ]
  },
  {
   "cell_type": "code",
   "execution_count": 112,
   "metadata": {},
   "outputs": [
    {
     "name": "stdout",
     "output_type": "stream",
     "text": [
      "Execution time 2.1580967903137207\n",
      "1384\n"
     ]
    }
   ],
   "source": [
    "start=time.time()\n",
    "M=4\n",
    "n=2000\n",
    "ruta=\"/Users/elPatan03/Desktop/lala/lala/4x2000x4x2.csv\"\n",
    "archivo=open(ruta,\"r\")\n",
    "jobs=[]\n",
    "for i in range(n+1):\n",
    "    if (i==0):\n",
    "        nada=archivo.readline()\n",
    "    else:\n",
    "        Ji,di,pi=archivo.readline().strip().split(\";\")\n",
    "        jobs.append([Ji,float(di),float(pi)])\n",
    "schedules, rejected, impossible = H2(jobs, M)"
   ]
  },
  {
   "cell_type": "markdown",
   "metadata": {},
   "source": [
    "## Entrada de datos: 4x2000x4x3"
   ]
  },
  {
   "cell_type": "code",
   "execution_count": 113,
   "metadata": {},
   "outputs": [
    {
     "name": "stdout",
     "output_type": "stream",
     "text": [
      "Execution time 2.4095985889434814\n",
      "1377\n"
     ]
    }
   ],
   "source": [
    "start=time.time()\n",
    "M=4\n",
    "n=2000\n",
    "ruta=\"/Users/elPatan03/Desktop/lala/lala/4x2000x4x3.csv\"\n",
    "archivo=open(ruta,\"r\")\n",
    "jobs=[]\n",
    "for i in range(n+1):\n",
    "    if (i==0):\n",
    "        nada=archivo.readline()\n",
    "    else:\n",
    "        Ji,di,pi=archivo.readline().strip().split(\";\")\n",
    "        jobs.append([Ji,float(di),float(pi)])\n",
    "schedules, rejected, impossible = H2(jobs, M)"
   ]
  },
  {
   "cell_type": "markdown",
   "metadata": {},
   "source": [
    "## Entrada de datos: 4x2000x4x4"
   ]
  },
  {
   "cell_type": "code",
   "execution_count": 114,
   "metadata": {},
   "outputs": [
    {
     "name": "stdout",
     "output_type": "stream",
     "text": [
      "Execution time 2.1471569538116455\n",
      "1380\n"
     ]
    }
   ],
   "source": [
    "start=time.time()\n",
    "M=4\n",
    "n=2000\n",
    "ruta=\"/Users/elPatan03/Desktop/lala/lala/4x2000x4x4.csv\"\n",
    "archivo=open(ruta,\"r\")\n",
    "jobs=[]\n",
    "for i in range(n+1):\n",
    "    if (i==0):\n",
    "        nada=archivo.readline()\n",
    "    else:\n",
    "        Ji,di,pi=archivo.readline().strip().split(\";\")\n",
    "        jobs.append([Ji,float(di),float(pi)])\n",
    "schedules, rejected, impossible = H2(jobs, M)"
   ]
  },
  {
   "cell_type": "markdown",
   "metadata": {},
   "source": [
    "## Entrada de datos: 4x2000x4x5"
   ]
  },
  {
   "cell_type": "code",
   "execution_count": 115,
   "metadata": {},
   "outputs": [
    {
     "name": "stdout",
     "output_type": "stream",
     "text": [
      "Execution time 2.6506290435791016\n",
      "1383\n"
     ]
    }
   ],
   "source": [
    "start=time.time()\n",
    "M=4\n",
    "n=2000\n",
    "ruta=\"/Users/elPatan03/Desktop/lala/lala/4x2000x4x5.csv\"\n",
    "archivo=open(ruta,\"r\")\n",
    "jobs=[]\n",
    "for i in range(n+1):\n",
    "    if (i==0):\n",
    "        nada=archivo.readline()\n",
    "    else:\n",
    "        Ji,di,pi=archivo.readline().strip().split(\";\")\n",
    "        jobs.append([Ji,float(di),float(pi)])\n",
    "schedules, rejected, impossible = H2(jobs, M)"
   ]
  },
  {
   "cell_type": "markdown",
   "metadata": {},
   "source": [
    "## Entrada de datos: 4x2000x4.5x1"
   ]
  },
  {
   "cell_type": "code",
   "execution_count": 116,
   "metadata": {},
   "outputs": [
    {
     "name": "stdout",
     "output_type": "stream",
     "text": [
      "Execution time 3.3683369159698486\n",
      "1294\n"
     ]
    }
   ],
   "source": [
    "start=time.time()\n",
    "M=4\n",
    "n=2000\n",
    "ruta=\"/Users/elPatan03/Desktop/lala/lala/4x2000x4.5x1.csv\"\n",
    "archivo=open(ruta,\"r\")\n",
    "jobs=[]\n",
    "for i in range(n+1):\n",
    "    if (i==0):\n",
    "        nada=archivo.readline()\n",
    "    else:\n",
    "        Ji,di,pi=archivo.readline().strip().split(\";\")\n",
    "        jobs.append([Ji,float(di),float(pi)])\n",
    "schedules, rejected, impossible = H2(jobs, M)"
   ]
  },
  {
   "cell_type": "markdown",
   "metadata": {},
   "source": [
    "## Entrada de datos: 4x2000x4.5x2"
   ]
  },
  {
   "cell_type": "code",
   "execution_count": 117,
   "metadata": {},
   "outputs": [
    {
     "name": "stdout",
     "output_type": "stream",
     "text": [
      "Execution time 2.6084868907928467\n",
      "1293\n"
     ]
    }
   ],
   "source": [
    "start=time.time()\n",
    "M=4\n",
    "n=2000\n",
    "ruta=\"/Users/elPatan03/Desktop/lala/lala/4x2000x4.5x2.csv\"\n",
    "archivo=open(ruta,\"r\")\n",
    "jobs=[]\n",
    "for i in range(n+1):\n",
    "    if (i==0):\n",
    "        nada=archivo.readline()\n",
    "    else:\n",
    "        Ji,di,pi=archivo.readline().strip().split(\";\")\n",
    "        jobs.append([Ji,float(di),float(pi)])\n",
    "schedules, rejected, impossible = H2(jobs, M)"
   ]
  },
  {
   "cell_type": "markdown",
   "metadata": {},
   "source": [
    "## Entrada de datos: 4x2000x4.5x3"
   ]
  },
  {
   "cell_type": "code",
   "execution_count": 118,
   "metadata": {},
   "outputs": [
    {
     "name": "stdout",
     "output_type": "stream",
     "text": [
      "Execution time 2.6208884716033936\n",
      "1308\n"
     ]
    }
   ],
   "source": [
    "start=time.time()\n",
    "M=4\n",
    "n=2000\n",
    "ruta=\"/Users/elPatan03/Desktop/lala/lala/4x2000x4.5x3.csv\"\n",
    "archivo=open(ruta,\"r\")\n",
    "jobs=[]\n",
    "for i in range(n+1):\n",
    "    if (i==0):\n",
    "        nada=archivo.readline()\n",
    "    else:\n",
    "        Ji,di,pi=archivo.readline().strip().split(\";\")\n",
    "        jobs.append([Ji,float(di),float(pi)])\n",
    "schedules, rejected, impossible = H2(jobs, M)"
   ]
  },
  {
   "cell_type": "markdown",
   "metadata": {},
   "source": [
    "## Entrada de datos: 4x2000x4.5x4"
   ]
  },
  {
   "cell_type": "code",
   "execution_count": 119,
   "metadata": {},
   "outputs": [
    {
     "name": "stdout",
     "output_type": "stream",
     "text": [
      "Execution time 2.046997308731079\n",
      "1299\n"
     ]
    }
   ],
   "source": [
    "start=time.time()\n",
    "M=4\n",
    "n=2000\n",
    "ruta=\"/Users/elPatan03/Desktop/lala/lala/4x2000x4.5x4.csv\"\n",
    "archivo=open(ruta,\"r\")\n",
    "jobs=[]\n",
    "for i in range(n+1):\n",
    "    if (i==0):\n",
    "        nada=archivo.readline()\n",
    "    else:\n",
    "        Ji,di,pi=archivo.readline().strip().split(\";\")\n",
    "        jobs.append([Ji,float(di),float(pi)])\n",
    "schedules, rejected, impossible = H2(jobs, M)"
   ]
  },
  {
   "cell_type": "markdown",
   "metadata": {},
   "source": [
    "## Entrada de datos: 4x2000x4.5x5"
   ]
  },
  {
   "cell_type": "code",
   "execution_count": 120,
   "metadata": {
    "scrolled": true
   },
   "outputs": [
    {
     "name": "stdout",
     "output_type": "stream",
     "text": [
      "Execution time 2.575752019882202\n",
      "1288\n"
     ]
    }
   ],
   "source": [
    "start=time.time()\n",
    "M=4\n",
    "n=2000\n",
    "ruta=\"/Users/elPatan03/Desktop/lala/lala/4x2000x4.5x5.csv\"\n",
    "archivo=open(ruta,\"r\")\n",
    "jobs=[]\n",
    "for i in range(n+1):\n",
    "    if (i==0):\n",
    "        nada=archivo.readline()\n",
    "    else:\n",
    "        Ji,di,pi=archivo.readline().strip().split(\";\")\n",
    "        jobs.append([Ji,float(di),float(pi)])\n",
    "schedules, rejected, impossible = H2(jobs, M)"
   ]
  },
  {
   "cell_type": "markdown",
   "metadata": {},
   "source": [
    "## Entrada de datos: 4x2000x5x1"
   ]
  },
  {
   "cell_type": "code",
   "execution_count": 121,
   "metadata": {},
   "outputs": [
    {
     "name": "stdout",
     "output_type": "stream",
     "text": [
      "Execution time 2.016737222671509\n",
      "1214\n"
     ]
    }
   ],
   "source": [
    "start=time.time()\n",
    "M=4\n",
    "n=2000\n",
    "ruta=\"/Users/elPatan03/Desktop/lala/lala/4x2000x5x1.csv\"\n",
    "archivo=open(ruta,\"r\")\n",
    "jobs=[]\n",
    "for i in range(n+1):\n",
    "    if (i==0):\n",
    "        nada=archivo.readline()\n",
    "    else:\n",
    "        Ji,di,pi=archivo.readline().strip().split(\";\")\n",
    "        jobs.append([Ji,float(di),float(pi)])\n",
    "schedules, rejected, impossible = H2(jobs, M)"
   ]
  },
  {
   "cell_type": "markdown",
   "metadata": {},
   "source": [
    "## Entrada de datos: 4x2000x5x2"
   ]
  },
  {
   "cell_type": "code",
   "execution_count": 122,
   "metadata": {},
   "outputs": [
    {
     "name": "stdout",
     "output_type": "stream",
     "text": [
      "Execution time 5.332520008087158\n",
      "1226\n"
     ]
    }
   ],
   "source": [
    "start=time.time()\n",
    "M=4\n",
    "n=2000\n",
    "ruta=\"/Users/elPatan03/Desktop/lala/lala/4x2000x5x2.csv\"\n",
    "archivo=open(ruta,\"r\")\n",
    "jobs=[]\n",
    "for i in range(n+1):\n",
    "    if (i==0):\n",
    "        nada=archivo.readline()\n",
    "    else:\n",
    "        Ji,di,pi=archivo.readline().strip().split(\";\")\n",
    "        jobs.append([Ji,float(di),float(pi)])\n",
    "schedules, rejected, impossible = H2(jobs, M)"
   ]
  },
  {
   "cell_type": "markdown",
   "metadata": {},
   "source": [
    "## Entrada de datos: 4x2000x5x3"
   ]
  },
  {
   "cell_type": "code",
   "execution_count": 123,
   "metadata": {},
   "outputs": [
    {
     "name": "stdout",
     "output_type": "stream",
     "text": [
      "Execution time 2.0728085041046143\n",
      "1227\n"
     ]
    }
   ],
   "source": [
    "start=time.time()\n",
    "M=4\n",
    "n=2000\n",
    "ruta=\"/Users/elPatan03/Desktop/lala/lala/4x2000x5x3.csv\"\n",
    "archivo=open(ruta,\"r\")\n",
    "jobs=[]\n",
    "for i in range(n+1):\n",
    "    if (i==0):\n",
    "        nada=archivo.readline()\n",
    "    else:\n",
    "        Ji,di,pi=archivo.readline().strip().split(\";\")\n",
    "        jobs.append([Ji,float(di),float(pi)])\n",
    "schedules, rejected, impossible = H2(jobs, M)"
   ]
  },
  {
   "cell_type": "markdown",
   "metadata": {},
   "source": [
    "## Entrada de datos: 4x2000x5x4"
   ]
  },
  {
   "cell_type": "code",
   "execution_count": 124,
   "metadata": {},
   "outputs": [
    {
     "name": "stdout",
     "output_type": "stream",
     "text": [
      "Execution time 2.162092924118042\n",
      "1239\n"
     ]
    }
   ],
   "source": [
    "start=time.time()\n",
    "M=4\n",
    "n=2000\n",
    "ruta=\"/Users/elPatan03/Desktop/lala/lala/4x2000x5x4.csv\"\n",
    "archivo=open(ruta,\"r\")\n",
    "jobs=[]\n",
    "for i in range(n+1):\n",
    "    if (i==0):\n",
    "        nada=archivo.readline()\n",
    "    else:\n",
    "        Ji,di,pi=archivo.readline().strip().split(\";\")\n",
    "        jobs.append([Ji,float(di),float(pi)])\n",
    "schedules, rejected, impossible = H2(jobs, M)"
   ]
  },
  {
   "cell_type": "markdown",
   "metadata": {},
   "source": [
    "## Entrada de datos: 4x2000x5x5"
   ]
  },
  {
   "cell_type": "code",
   "execution_count": 125,
   "metadata": {},
   "outputs": [
    {
     "name": "stdout",
     "output_type": "stream",
     "text": [
      "Execution time 2.130343198776245\n",
      "1222\n"
     ]
    }
   ],
   "source": [
    "start=time.time()\n",
    "M=4\n",
    "n=2000\n",
    "ruta=\"/Users/elPatan03/Desktop/lala/lala/4x2000x5x5.csv\"\n",
    "archivo=open(ruta,\"r\")\n",
    "jobs=[]\n",
    "for i in range(n+1):\n",
    "    if (i==0):\n",
    "        nada=archivo.readline()\n",
    "    else:\n",
    "        Ji,di,pi=archivo.readline().strip().split(\";\")\n",
    "        jobs.append([Ji,float(di),float(pi)])\n",
    "schedules, rejected, impossible = H2(jobs, M)"
   ]
  }
 ],
 "metadata": {
  "kernelspec": {
   "display_name": "Python 3",
   "language": "python",
   "name": "python3"
  },
  "language_info": {
   "codemirror_mode": {
    "name": "ipython",
    "version": 3
   },
   "file_extension": ".py",
   "mimetype": "text/x-python",
   "name": "python",
   "nbconvert_exporter": "python",
   "pygments_lexer": "ipython3",
   "version": "3.8.5"
  }
 },
 "nbformat": 4,
 "nbformat_minor": 4
}

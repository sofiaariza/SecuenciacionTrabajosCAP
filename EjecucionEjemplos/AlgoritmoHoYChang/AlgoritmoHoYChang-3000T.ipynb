{
 "cells": [
  {
   "cell_type": "markdown",
   "metadata": {},
   "source": [
    "# Adaptación algoritmo de Ho y Chang"
   ]
  },
  {
   "cell_type": "code",
   "execution_count": 1,
   "metadata": {},
   "outputs": [],
   "source": [
    "import time\n",
    "INF = float('inf')\n",
    "nINF = float('-inf')"
   ]
  },
  {
   "cell_type": "code",
   "execution_count": 2,
   "metadata": {},
   "outputs": [],
   "source": [
    "def firstLate(schedule):\n",
    "\n",
    "    ans,i,f = None,0,0\n",
    "    while ans==None and i!=len(schedule):\n",
    "        if f+schedule[i][2]<=schedule[i][1]: f += schedule[i][2]\n",
    "        else: ans = i\n",
    "        i += 1\n",
    "    return ans"
   ]
  },
  {
   "cell_type": "code",
   "execution_count": 3,
   "metadata": {},
   "outputs": [],
   "source": [
    "def computeValues(jobs, j, ans, minSlack): return (ans[j][0], minSlack[j], jobs[j][1]-ans[j][1])"
   ]
  },
  {
   "cell_type": "code",
   "execution_count": 4,
   "metadata": {},
   "outputs": [],
   "source": [
    "def checkC1(di, bj, pi): return (di>=bj+pi)\n",
    "\n",
    "def checkC2(minimumSlack, pi, pj): return (minimumSlack>=pi-pj)\n",
    "\n",
    "def checkC3a(slackJob, di, bj, pi): return (slackJob> di-bj-pi)\n",
    "\n",
    "def checkC3b(di, dj, pi, pj, jobCnt, j): return [(di>dj),(pi>pj),((pi-pj)*(jobCnt-j) > (di-dj))]"
   ]
  },
  {
   "cell_type": "code",
   "execution_count": 5,
   "metadata": {},
   "outputs": [],
   "source": [
    "def H2(jobs, M):\n",
    "\n",
    "    ###Initialize\n",
    "    N= len(jobs)\n",
    "    schedules=[[] for _ in range(M)]\n",
    "    unscheduled,rejected,impossible = [],[],[]\n",
    "\n",
    "    for i in range(len(jobs)):\n",
    "        if(jobs[i][2]>jobs[i][1]):\n",
    "            impossible.append(jobs[i])\n",
    "        else:\n",
    "            unscheduled.append(jobs[i])\n",
    "    ###Initialize\n",
    "    ###H2\n",
    "    for k in range(M):\n",
    "        schedules[k]=unscheduled\n",
    "        unscheduled =[]\n",
    "        schedules[k].sort(key = lambda x: (x[1],x[2]))\n",
    "        ans= firstLate(schedules[k])\n",
    "\n",
    "        while(ans != None):\n",
    "            maxPi=nINF\n",
    "            for i in range(ans+1):\n",
    "                if(maxPi<schedules[k][i][2]):\n",
    "                    maxPi=schedules[k][i][2]\n",
    "                    jMax=schedules[k][i]\n",
    "            schedules[k].remove(jMax)\n",
    "            unscheduled.append(jMax)\n",
    "            ans= firstLate(schedules[k])\n",
    "\n",
    "        if((k<M-1) and (len(unscheduled)!=0)):\n",
    "            ans2 = [ None for _ in schedules[k]]\n",
    "            f = 0\n",
    "            for l in range(len(schedules[k])):\n",
    "                ans2[l] = (f, f+schedules[k][l][2])\n",
    "                f += schedules[k][l][2]\n",
    "            minSlack = [ INF for _ in schedules[k]]\n",
    "            for q in range(len(schedules[k])-1):\n",
    "                for r in range(q+1,len(schedules[k])):\n",
    "                    minSlack[q]= min(minSlack[q], schedules[k][r][1]-ans2[r][1])\n",
    "                    \n",
    "            for j in range(len(schedules[k])):\n",
    "                for i in range(len(unscheduled)):\n",
    "                    ans=computeValues(schedules[k], j, ans2, minSlack)\n",
    "                    dj, pj=schedules[k][j][1], schedules[k][j][2]\n",
    "                    di, pi= unscheduled[i][1], unscheduled[i][2]\n",
    "                    bj, minimumSlack, slackJob = ans\n",
    "                    jobCnt=len(schedules[k])\n",
    "\n",
    "                    if(checkC1(di, bj, pi) and checkC2(minimumSlack, pi, pj) and (checkC3a(slackJob, di, bj, pi) or (False not in checkC3b(di, dj, pi, pj, jobCnt, j)))):\n",
    "                        aux = schedules[k][j]\n",
    "                        schedules[k][j]= unscheduled[i] ##Swap\n",
    "                        unscheduled[i]= aux\n",
    "                        if(j==0):\n",
    "                            f=0\n",
    "                        else:\n",
    "                            f=ans2[j-1][1]\n",
    "                        for l in range(j, len(schedules[k])):\n",
    "                            ans2[l] = (f, f+schedules[k][l][2])\n",
    "                            f += schedules[k][l][2]\n",
    "                        for q in range(len(schedules[k])-1):\n",
    "                            for r in range(q+1,len(schedules[k])):\n",
    "                                minSlack[q]= min(minSlack[q], schedules[k][r][1]-ans2[r][1])\n",
    "    rejectedJobs=unscheduled\n",
    "    print(\"Execution time\", time.time()-start)\n",
    "    #Impresión de resultados\n",
    "    t=0\n",
    "    for i in range(len(schedules)):\n",
    "        for j in range(len(schedules[i])):\n",
    "            t+=1\n",
    "    print(t)\n",
    "    ###H2\n",
    "    return [schedules, rejected, impossible]"
   ]
  },
  {
   "cell_type": "markdown",
   "metadata": {},
   "source": [
    "## Entrada de datos: 2x3000x1.5x1"
   ]
  },
  {
   "cell_type": "code",
   "execution_count": 6,
   "metadata": {},
   "outputs": [
    {
     "name": "stdout",
     "output_type": "stream",
     "text": [
      "Execution time 9.796092987060547\n",
      "2999\n"
     ]
    }
   ],
   "source": [
    "start=time.time()\n",
    "M=2\n",
    "n=3000\n",
    "ruta=\"/Users/elPatan03/Desktop/lala/lala/2x3000x1.5x1.csv\"\n",
    "archivo=open(ruta,\"r\")\n",
    "jobs=[]\n",
    "for i in range(n+1):\n",
    "    if (i==0):\n",
    "        nada=archivo.readline()\n",
    "    else:\n",
    "        Ji,di,pi=archivo.readline().strip().split(\";\")\n",
    "        jobs.append([Ji,float(di),float(pi)])\n",
    "schedules, rejected, impossible = H2(jobs, M)"
   ]
  },
  {
   "cell_type": "markdown",
   "metadata": {},
   "source": [
    "## Entrada de datos: 2x3000x1.5x2"
   ]
  },
  {
   "cell_type": "code",
   "execution_count": 7,
   "metadata": {},
   "outputs": [
    {
     "name": "stdout",
     "output_type": "stream",
     "text": [
      "Execution time 7.970746994018555\n",
      "3000\n"
     ]
    }
   ],
   "source": [
    "start=time.time()\n",
    "M=2\n",
    "n=3000\n",
    "ruta=\"/Users/elPatan03/Desktop/lala/lala/2x3000x1.5x2.csv\"\n",
    "archivo=open(ruta,\"r\")\n",
    "jobs=[]\n",
    "for i in range(n+1):\n",
    "    if (i==0):\n",
    "        nada=archivo.readline()\n",
    "    else:\n",
    "        Ji,di,pi=archivo.readline().strip().split(\";\")\n",
    "        jobs.append([Ji,float(di),float(pi)])\n",
    "schedules, rejected, impossible = H2(jobs, M)"
   ]
  },
  {
   "cell_type": "markdown",
   "metadata": {},
   "source": [
    "## Entrada de datos: 2x3000x1.5x3"
   ]
  },
  {
   "cell_type": "code",
   "execution_count": 8,
   "metadata": {},
   "outputs": [
    {
     "name": "stdout",
     "output_type": "stream",
     "text": [
      "Execution time 7.126007795333862\n",
      "3000\n"
     ]
    }
   ],
   "source": [
    "start=time.time()\n",
    "M=2\n",
    "n=3000\n",
    "ruta=\"/Users/elPatan03/Desktop/lala/lala/2x3000x1.5x3.csv\"\n",
    "archivo=open(ruta,\"r\")\n",
    "jobs=[]\n",
    "for i in range(n+1):\n",
    "    if (i==0):\n",
    "        nada=archivo.readline()\n",
    "    else:\n",
    "        Ji,di,pi=archivo.readline().strip().split(\";\")\n",
    "        jobs.append([Ji,float(di),float(pi)])\n",
    "schedules, rejected, impossible = H2(jobs, M)"
   ]
  },
  {
   "cell_type": "markdown",
   "metadata": {},
   "source": [
    "## Entrada de datos: 2x3000x1.5x4"
   ]
  },
  {
   "cell_type": "code",
   "execution_count": 9,
   "metadata": {},
   "outputs": [
    {
     "name": "stdout",
     "output_type": "stream",
     "text": [
      "Execution time 39.28072929382324\n",
      "3000\n"
     ]
    }
   ],
   "source": [
    "start=time.time()\n",
    "M=2\n",
    "n=3000\n",
    "ruta=\"/Users/elPatan03/Desktop/lala/lala/2x3000x1.5x4.csv\"\n",
    "archivo=open(ruta,\"r\")\n",
    "jobs=[]\n",
    "for i in range(n+1):\n",
    "    if (i==0):\n",
    "        nada=archivo.readline()\n",
    "    else:\n",
    "        Ji,di,pi=archivo.readline().strip().split(\";\")\n",
    "        jobs.append([Ji,float(di),float(pi)])\n",
    "schedules, rejected, impossible = H2(jobs, M)"
   ]
  },
  {
   "cell_type": "markdown",
   "metadata": {},
   "source": [
    "## Entrada de datos: 2x3000x1.5x5"
   ]
  },
  {
   "cell_type": "code",
   "execution_count": 10,
   "metadata": {},
   "outputs": [
    {
     "name": "stdout",
     "output_type": "stream",
     "text": [
      "Execution time 10.843058586120605\n",
      "2996\n"
     ]
    }
   ],
   "source": [
    "start=time.time()\n",
    "M=2\n",
    "n=3000\n",
    "ruta=\"/Users/elPatan03/Desktop/lala/lala/2x3000x1.5x5.csv\"\n",
    "archivo=open(ruta,\"r\")\n",
    "jobs=[]\n",
    "for i in range(n+1):\n",
    "    if (i==0):\n",
    "        nada=archivo.readline()\n",
    "    else:\n",
    "        Ji,di,pi=archivo.readline().strip().split(\";\")\n",
    "        jobs.append([Ji,float(di),float(pi)])\n",
    "schedules, rejected, impossible = H2(jobs, M)"
   ]
  },
  {
   "cell_type": "markdown",
   "metadata": {},
   "source": [
    "## Entrada de datos: 2x3000x2x1"
   ]
  },
  {
   "cell_type": "code",
   "execution_count": 11,
   "metadata": {},
   "outputs": [
    {
     "name": "stdout",
     "output_type": "stream",
     "text": [
      "Execution time 10.46513032913208\n",
      "2958\n"
     ]
    }
   ],
   "source": [
    "start=time.time()\n",
    "M=2\n",
    "n=3000\n",
    "ruta=\"/Users/elPatan03/Desktop/lala/lala/2x3000x2x1.csv\"\n",
    "archivo=open(ruta,\"r\")\n",
    "jobs=[]\n",
    "for i in range(n+1):\n",
    "    if (i==0):\n",
    "        nada=archivo.readline()\n",
    "    else:\n",
    "        Ji,di,pi=archivo.readline().strip().split(\";\")\n",
    "        jobs.append([Ji,float(di),float(pi)])\n",
    "schedules, rejected, impossible = H2(jobs, M)"
   ]
  },
  {
   "cell_type": "markdown",
   "metadata": {},
   "source": [
    "## Entrada de datos: 2x3000x2x2"
   ]
  },
  {
   "cell_type": "code",
   "execution_count": 12,
   "metadata": {},
   "outputs": [
    {
     "name": "stdout",
     "output_type": "stream",
     "text": [
      "Execution time 10.361919403076172\n",
      "2962\n"
     ]
    }
   ],
   "source": [
    "start=time.time()\n",
    "M=2\n",
    "n=3000\n",
    "ruta=\"/Users/elPatan03/Desktop/lala/lala/2x3000x2x2.csv\"\n",
    "archivo=open(ruta,\"r\")\n",
    "jobs=[]\n",
    "for i in range(n+1):\n",
    "    if (i==0):\n",
    "        nada=archivo.readline()\n",
    "    else:\n",
    "        Ji,di,pi=archivo.readline().strip().split(\";\")\n",
    "        jobs.append([Ji,float(di),float(pi)])\n",
    "schedules, rejected, impossible = H2(jobs, M)"
   ]
  },
  {
   "cell_type": "markdown",
   "metadata": {},
   "source": [
    "## Entrada de datos: 2x3000x2x3"
   ]
  },
  {
   "cell_type": "code",
   "execution_count": 13,
   "metadata": {},
   "outputs": [
    {
     "name": "stdout",
     "output_type": "stream",
     "text": [
      "Execution time 5.0036492347717285\n",
      "2988\n"
     ]
    }
   ],
   "source": [
    "start=time.time()\n",
    "M=2\n",
    "n=3000\n",
    "ruta=\"/Users/elPatan03/Desktop/lala/lala/2x3000x2x3.csv\"\n",
    "archivo=open(ruta,\"r\")\n",
    "jobs=[]\n",
    "for i in range(n+1):\n",
    "    if (i==0):\n",
    "        nada=archivo.readline()\n",
    "    else:\n",
    "        Ji,di,pi=archivo.readline().strip().split(\";\")\n",
    "        jobs.append([Ji,float(di),float(pi)])\n",
    "schedules, rejected, impossible = H2(jobs, M)"
   ]
  },
  {
   "cell_type": "markdown",
   "metadata": {},
   "source": [
    "## Entrada de datos: 2x3000x2x4"
   ]
  },
  {
   "cell_type": "code",
   "execution_count": 14,
   "metadata": {},
   "outputs": [
    {
     "name": "stdout",
     "output_type": "stream",
     "text": [
      "Execution time 11.25142526626587\n",
      "2977\n"
     ]
    }
   ],
   "source": [
    "start=time.time()\n",
    "M=2\n",
    "n=3000\n",
    "ruta=\"/Users/elPatan03/Desktop/lala/lala/2x3000x2x4.csv\"\n",
    "archivo=open(ruta,\"r\")\n",
    "jobs=[]\n",
    "for i in range(n+1):\n",
    "    if (i==0):\n",
    "        nada=archivo.readline()\n",
    "    else:\n",
    "        Ji,di,pi=archivo.readline().strip().split(\";\")\n",
    "        jobs.append([Ji,float(di),float(pi)])\n",
    "schedules, rejected, impossible = H2(jobs, M)"
   ]
  },
  {
   "cell_type": "markdown",
   "metadata": {},
   "source": [
    "## Entrada de datos: 2x3000x2x5"
   ]
  },
  {
   "cell_type": "code",
   "execution_count": 15,
   "metadata": {},
   "outputs": [
    {
     "name": "stdout",
     "output_type": "stream",
     "text": [
      "Execution time 11.907975435256958\n",
      "2984\n"
     ]
    }
   ],
   "source": [
    "start=time.time()\n",
    "M=2\n",
    "n=3000\n",
    "ruta=\"/Users/elPatan03/Desktop/lala/lala/2x3000x2x5.csv\"\n",
    "archivo=open(ruta,\"r\")\n",
    "jobs=[]\n",
    "for i in range(n+1):\n",
    "    if (i==0):\n",
    "        nada=archivo.readline()\n",
    "    else:\n",
    "        Ji,di,pi=archivo.readline().strip().split(\";\")\n",
    "        jobs.append([Ji,float(di),float(pi)])\n",
    "schedules, rejected, impossible = H2(jobs, M)"
   ]
  },
  {
   "cell_type": "markdown",
   "metadata": {},
   "source": [
    "## Entrada de datos: 2x3000x2.5x1"
   ]
  },
  {
   "cell_type": "code",
   "execution_count": 16,
   "metadata": {},
   "outputs": [
    {
     "name": "stdout",
     "output_type": "stream",
     "text": [
      "Execution time 4.856532573699951\n",
      "2665\n"
     ]
    }
   ],
   "source": [
    "start=time.time()\n",
    "M=2\n",
    "n=3000\n",
    "ruta=\"/Users/elPatan03/Desktop/lala/lala/2x3000x2.5x1.csv\"\n",
    "archivo=open(ruta,\"r\")\n",
    "jobs=[]\n",
    "for i in range(n+1):\n",
    "    if (i==0):\n",
    "        nada=archivo.readline()\n",
    "    else:\n",
    "        Ji,di,pi=archivo.readline().strip().split(\";\")\n",
    "        jobs.append([Ji,float(di),float(pi)])\n",
    "schedules, rejected, impossible = H2(jobs, M)"
   ]
  },
  {
   "cell_type": "markdown",
   "metadata": {},
   "source": [
    "## Entrada de datos: 2x3000x2.5x2"
   ]
  },
  {
   "cell_type": "code",
   "execution_count": 17,
   "metadata": {},
   "outputs": [
    {
     "name": "stdout",
     "output_type": "stream",
     "text": [
      "Execution time 4.691668510437012\n",
      "2661\n"
     ]
    }
   ],
   "source": [
    "start=time.time()\n",
    "M=2\n",
    "n=3000\n",
    "ruta=\"/Users/elPatan03/Desktop/lala/lala/2x3000x2.5x2.csv\"\n",
    "archivo=open(ruta,\"r\")\n",
    "jobs=[]\n",
    "for i in range(n+1):\n",
    "    if (i==0):\n",
    "        nada=archivo.readline()\n",
    "    else:\n",
    "        Ji,di,pi=archivo.readline().strip().split(\";\")\n",
    "        jobs.append([Ji,float(di),float(pi)])\n",
    "schedules, rejected, impossible = H2(jobs, M)"
   ]
  },
  {
   "cell_type": "markdown",
   "metadata": {},
   "source": [
    "## Entrada de datos: 2x3000x2.5x3"
   ]
  },
  {
   "cell_type": "code",
   "execution_count": 18,
   "metadata": {},
   "outputs": [
    {
     "name": "stdout",
     "output_type": "stream",
     "text": [
      "Execution time 6.321550130844116\n",
      "2661\n"
     ]
    }
   ],
   "source": [
    "start=time.time()\n",
    "M=2\n",
    "n=3000\n",
    "ruta=\"/Users/elPatan03/Desktop/lala/lala/2x3000x2.5x3.csv\"\n",
    "archivo=open(ruta,\"r\")\n",
    "jobs=[]\n",
    "for i in range(n+1):\n",
    "    if (i==0):\n",
    "        nada=archivo.readline()\n",
    "    else:\n",
    "        Ji,di,pi=archivo.readline().strip().split(\";\")\n",
    "        jobs.append([Ji,float(di),float(pi)])\n",
    "schedules, rejected, impossible = H2(jobs, M)"
   ]
  },
  {
   "cell_type": "markdown",
   "metadata": {},
   "source": [
    "## Entrada de datos: 2x3000x2.5x4"
   ]
  },
  {
   "cell_type": "code",
   "execution_count": 19,
   "metadata": {},
   "outputs": [
    {
     "name": "stdout",
     "output_type": "stream",
     "text": [
      "Execution time 9.12741732597351\n",
      "2666\n"
     ]
    }
   ],
   "source": [
    "start=time.time()\n",
    "M=2\n",
    "n=3000\n",
    "ruta=\"/Users/elPatan03/Desktop/lala/lala/2x3000x2.5x4.csv\"\n",
    "archivo=open(ruta,\"r\")\n",
    "jobs=[]\n",
    "for i in range(n+1):\n",
    "    if (i==0):\n",
    "        nada=archivo.readline()\n",
    "    else:\n",
    "        Ji,di,pi=archivo.readline().strip().split(\";\")\n",
    "        jobs.append([Ji,float(di),float(pi)])\n",
    "schedules, rejected, impossible = H2(jobs, M)"
   ]
  },
  {
   "cell_type": "markdown",
   "metadata": {},
   "source": [
    "## Entrada de datos: 2x3000x2.5x5"
   ]
  },
  {
   "cell_type": "code",
   "execution_count": 20,
   "metadata": {
    "scrolled": true
   },
   "outputs": [
    {
     "name": "stdout",
     "output_type": "stream",
     "text": [
      "Execution time 9.437425136566162\n",
      "2658\n"
     ]
    }
   ],
   "source": [
    "start=time.time()\n",
    "M=2\n",
    "n=3000\n",
    "ruta=\"/Users/elPatan03/Desktop/lala/lala/2x3000x2.5x5.csv\"\n",
    "archivo=open(ruta,\"r\")\n",
    "jobs=[]\n",
    "for i in range(n+1):\n",
    "    if (i==0):\n",
    "        nada=archivo.readline()\n",
    "    else:\n",
    "        Ji,di,pi=archivo.readline().strip().split(\";\")\n",
    "        jobs.append([Ji,float(di),float(pi)])\n",
    "schedules, rejected, impossible = H2(jobs, M)"
   ]
  },
  {
   "cell_type": "markdown",
   "metadata": {},
   "source": [
    "## Entrada de datos: 2x3000x3x1"
   ]
  },
  {
   "cell_type": "code",
   "execution_count": 21,
   "metadata": {},
   "outputs": [
    {
     "name": "stdout",
     "output_type": "stream",
     "text": [
      "Execution time 4.5012288093566895\n",
      "2420\n"
     ]
    }
   ],
   "source": [
    "start=time.time()\n",
    "M=2\n",
    "n=3000\n",
    "ruta=\"/Users/elPatan03/Desktop/lala/lala/2x3000x3x1.csv\"\n",
    "archivo=open(ruta,\"r\")\n",
    "jobs=[]\n",
    "for i in range(n+1):\n",
    "    if (i==0):\n",
    "        nada=archivo.readline()\n",
    "    else:\n",
    "        Ji,di,pi=archivo.readline().strip().split(\";\")\n",
    "        jobs.append([Ji,float(di),float(pi)])\n",
    "schedules, rejected, impossible = H2(jobs, M)"
   ]
  },
  {
   "cell_type": "markdown",
   "metadata": {},
   "source": [
    "## Entrada de datos: 2x3000x3x2"
   ]
  },
  {
   "cell_type": "code",
   "execution_count": 22,
   "metadata": {},
   "outputs": [
    {
     "name": "stdout",
     "output_type": "stream",
     "text": [
      "Execution time 3.6710875034332275\n",
      "2415\n"
     ]
    }
   ],
   "source": [
    "start=time.time()\n",
    "M=2\n",
    "n=3000\n",
    "ruta=\"/Users/elPatan03/Desktop/lala/lala/2x3000x3x2.csv\"\n",
    "archivo=open(ruta,\"r\")\n",
    "jobs=[]\n",
    "for i in range(n+1):\n",
    "    if (i==0):\n",
    "        nada=archivo.readline()\n",
    "    else:\n",
    "        Ji,di,pi=archivo.readline().strip().split(\";\")\n",
    "        jobs.append([Ji,float(di),float(pi)])\n",
    "schedules, rejected, impossible = H2(jobs, M)"
   ]
  },
  {
   "cell_type": "markdown",
   "metadata": {},
   "source": [
    "## Entrada de datos: 2x3000x3x3"
   ]
  },
  {
   "cell_type": "code",
   "execution_count": 23,
   "metadata": {},
   "outputs": [
    {
     "name": "stdout",
     "output_type": "stream",
     "text": [
      "Execution time 5.018505334854126\n",
      "2429\n"
     ]
    }
   ],
   "source": [
    "start=time.time()\n",
    "M=2\n",
    "n=3000\n",
    "ruta=\"/Users/elPatan03/Desktop/lala/lala/2x3000x3x3.csv\"\n",
    "archivo=open(ruta,\"r\")\n",
    "jobs=[]\n",
    "for i in range(n+1):\n",
    "    if (i==0):\n",
    "        nada=archivo.readline()\n",
    "    else:\n",
    "        Ji,di,pi=archivo.readline().strip().split(\";\")\n",
    "        jobs.append([Ji,float(di),float(pi)])\n",
    "schedules, rejected, impossible = H2(jobs, M)"
   ]
  },
  {
   "cell_type": "markdown",
   "metadata": {},
   "source": [
    "## Entrada de datos: 2x3000x3x4"
   ]
  },
  {
   "cell_type": "code",
   "execution_count": 24,
   "metadata": {},
   "outputs": [
    {
     "name": "stdout",
     "output_type": "stream",
     "text": [
      "Execution time 4.0459020137786865\n",
      "2420\n"
     ]
    }
   ],
   "source": [
    "start=time.time()\n",
    "M=2\n",
    "n=3000\n",
    "ruta=\"/Users/elPatan03/Desktop/lala/lala/2x3000x3x4.csv\"\n",
    "archivo=open(ruta,\"r\")\n",
    "jobs=[]\n",
    "for i in range(n+1):\n",
    "    if (i==0):\n",
    "        nada=archivo.readline()\n",
    "    else:\n",
    "        Ji,di,pi=archivo.readline().strip().split(\";\")\n",
    "        jobs.append([Ji,float(di),float(pi)])\n",
    "schedules, rejected, impossible = H2(jobs, M)"
   ]
  },
  {
   "cell_type": "markdown",
   "metadata": {},
   "source": [
    "## Entrada de datos: 2x3000x3x5"
   ]
  },
  {
   "cell_type": "code",
   "execution_count": 25,
   "metadata": {},
   "outputs": [
    {
     "name": "stdout",
     "output_type": "stream",
     "text": [
      "Execution time 10.825955629348755\n",
      "2425\n"
     ]
    }
   ],
   "source": [
    "start=time.time()\n",
    "M=2\n",
    "n=3000\n",
    "ruta=\"/Users/elPatan03/Desktop/lala/lala/2x3000x3x5.csv\"\n",
    "archivo=open(ruta,\"r\")\n",
    "jobs=[]\n",
    "for i in range(n+1):\n",
    "    if (i==0):\n",
    "        nada=archivo.readline()\n",
    "    else:\n",
    "        Ji,di,pi=archivo.readline().strip().split(\";\")\n",
    "        jobs.append([Ji,float(di),float(pi)])\n",
    "schedules, rejected, impossible = H2(jobs, M)"
   ]
  },
  {
   "cell_type": "markdown",
   "metadata": {},
   "source": [
    "## Entrada de datos: 2x3000x3.5x1"
   ]
  },
  {
   "cell_type": "code",
   "execution_count": 26,
   "metadata": {},
   "outputs": [
    {
     "name": "stdout",
     "output_type": "stream",
     "text": [
      "Execution time 5.859773874282837\n",
      "2233\n"
     ]
    }
   ],
   "source": [
    "start=time.time()\n",
    "M=2\n",
    "n=3000\n",
    "ruta=\"/Users/elPatan03/Desktop/lala/lala/2x3000x3.5x1.csv\"\n",
    "archivo=open(ruta,\"r\")\n",
    "jobs=[]\n",
    "for i in range(n+1):\n",
    "    if (i==0):\n",
    "        nada=archivo.readline()\n",
    "    else:\n",
    "        Ji,di,pi=archivo.readline().strip().split(\";\")\n",
    "        jobs.append([Ji,float(di),float(pi)])\n",
    "schedules, rejected, impossible = H2(jobs, M)"
   ]
  },
  {
   "cell_type": "markdown",
   "metadata": {},
   "source": [
    "## Entrada de datos: 2x3000x3.5x2"
   ]
  },
  {
   "cell_type": "code",
   "execution_count": 27,
   "metadata": {},
   "outputs": [
    {
     "name": "stdout",
     "output_type": "stream",
     "text": [
      "Execution time 5.360799551010132\n",
      "2226\n"
     ]
    }
   ],
   "source": [
    "start=time.time()\n",
    "M=2\n",
    "n=3000\n",
    "ruta=\"/Users/elPatan03/Desktop/lala/lala/2x3000x3.5x2.csv\"\n",
    "archivo=open(ruta,\"r\")\n",
    "jobs=[]\n",
    "for i in range(n+1):\n",
    "    if (i==0):\n",
    "        nada=archivo.readline()\n",
    "    else:\n",
    "        Ji,di,pi=archivo.readline().strip().split(\";\")\n",
    "        jobs.append([Ji,float(di),float(pi)])\n",
    "schedules, rejected, impossible = H2(jobs, M)"
   ]
  },
  {
   "cell_type": "markdown",
   "metadata": {},
   "source": [
    "## Entrada de datos: 2x3000x3.5x3"
   ]
  },
  {
   "cell_type": "code",
   "execution_count": 28,
   "metadata": {},
   "outputs": [
    {
     "name": "stdout",
     "output_type": "stream",
     "text": [
      "Execution time 9.923502683639526\n",
      "2242\n"
     ]
    }
   ],
   "source": [
    "start=time.time()\n",
    "M=2\n",
    "n=3000\n",
    "ruta=\"/Users/elPatan03/Desktop/lala/lala/2x3000x3.5x3.csv\"\n",
    "archivo=open(ruta,\"r\")\n",
    "jobs=[]\n",
    "for i in range(n+1):\n",
    "    if (i==0):\n",
    "        nada=archivo.readline()\n",
    "    else:\n",
    "        Ji,di,pi=archivo.readline().strip().split(\";\")\n",
    "        jobs.append([Ji,float(di),float(pi)])\n",
    "schedules, rejected, impossible = H2(jobs, M)"
   ]
  },
  {
   "cell_type": "markdown",
   "metadata": {},
   "source": [
    "## Entrada de datos: 2x3000x3.5x4"
   ]
  },
  {
   "cell_type": "code",
   "execution_count": 29,
   "metadata": {},
   "outputs": [
    {
     "name": "stdout",
     "output_type": "stream",
     "text": [
      "Execution time 4.271576166152954\n",
      "2230\n"
     ]
    }
   ],
   "source": [
    "start=time.time()\n",
    "M=2\n",
    "n=3000\n",
    "ruta=\"/Users/elPatan03/Desktop/lala/lala/2x3000x3.5x4.csv\"\n",
    "archivo=open(ruta,\"r\")\n",
    "jobs=[]\n",
    "for i in range(n+1):\n",
    "    if (i==0):\n",
    "        nada=archivo.readline()\n",
    "    else:\n",
    "        Ji,di,pi=archivo.readline().strip().split(\";\")\n",
    "        jobs.append([Ji,float(di),float(pi)])\n",
    "schedules, rejected, impossible = H2(jobs, M)"
   ]
  },
  {
   "cell_type": "markdown",
   "metadata": {},
   "source": [
    "## Entrada de datos: 2x3000x3.5x5"
   ]
  },
  {
   "cell_type": "code",
   "execution_count": 30,
   "metadata": {},
   "outputs": [
    {
     "name": "stdout",
     "output_type": "stream",
     "text": [
      "Execution time 6.855246067047119\n",
      "2225\n"
     ]
    }
   ],
   "source": [
    "start=time.time()\n",
    "M=2\n",
    "n=3000\n",
    "ruta=\"/Users/elPatan03/Desktop/lala/lala/2x3000x3.5x5.csv\"\n",
    "archivo=open(ruta,\"r\")\n",
    "jobs=[]\n",
    "for i in range(n+1):\n",
    "    if (i==0):\n",
    "        nada=archivo.readline()\n",
    "    else:\n",
    "        Ji,di,pi=archivo.readline().strip().split(\";\")\n",
    "        jobs.append([Ji,float(di),float(pi)])\n",
    "schedules, rejected, impossible = H2(jobs, M)"
   ]
  },
  {
   "cell_type": "markdown",
   "metadata": {},
   "source": [
    "## Entrada de datos: 2x3000x4x1"
   ]
  },
  {
   "cell_type": "code",
   "execution_count": 31,
   "metadata": {},
   "outputs": [
    {
     "name": "stdout",
     "output_type": "stream",
     "text": [
      "Execution time 3.7125847339630127\n",
      "2070\n"
     ]
    }
   ],
   "source": [
    "start=time.time()\n",
    "M=2\n",
    "n=3000\n",
    "ruta=\"/Users/elPatan03/Desktop/lala/lala/2x3000x4x1.csv\"\n",
    "archivo=open(ruta,\"r\")\n",
    "jobs=[]\n",
    "for i in range(n+1):\n",
    "    if (i==0):\n",
    "        nada=archivo.readline()\n",
    "    else:\n",
    "        Ji,di,pi=archivo.readline().strip().split(\";\")\n",
    "        jobs.append([Ji,float(di),float(pi)])\n",
    "schedules, rejected, impossible = H2(jobs, M)"
   ]
  },
  {
   "cell_type": "markdown",
   "metadata": {},
   "source": [
    "## Entrada de datos: 2x3000x4x2"
   ]
  },
  {
   "cell_type": "code",
   "execution_count": 32,
   "metadata": {},
   "outputs": [
    {
     "name": "stdout",
     "output_type": "stream",
     "text": [
      "Execution time 4.0260326862335205\n",
      "2069\n"
     ]
    }
   ],
   "source": [
    "start=time.time()\n",
    "M=2\n",
    "n=3000\n",
    "ruta=\"/Users/elPatan03/Desktop/lala/lala/2x3000x4x2.csv\"\n",
    "archivo=open(ruta,\"r\")\n",
    "jobs=[]\n",
    "for i in range(n+1):\n",
    "    if (i==0):\n",
    "        nada=archivo.readline()\n",
    "    else:\n",
    "        Ji,di,pi=archivo.readline().strip().split(\";\")\n",
    "        jobs.append([Ji,float(di),float(pi)])\n",
    "schedules, rejected, impossible = H2(jobs, M)"
   ]
  },
  {
   "cell_type": "markdown",
   "metadata": {},
   "source": [
    "## Entrada de datos: 2x3000x4x3"
   ]
  },
  {
   "cell_type": "code",
   "execution_count": 33,
   "metadata": {},
   "outputs": [
    {
     "name": "stdout",
     "output_type": "stream",
     "text": [
      "Execution time 6.7238006591796875\n",
      "2062\n"
     ]
    }
   ],
   "source": [
    "start=time.time()\n",
    "M=2\n",
    "n=3000\n",
    "ruta=\"/Users/elPatan03/Desktop/lala/lala/2x3000x4x3.csv\"\n",
    "archivo=open(ruta,\"r\")\n",
    "jobs=[]\n",
    "for i in range(n+1):\n",
    "    if (i==0):\n",
    "        nada=archivo.readline()\n",
    "    else:\n",
    "        Ji,di,pi=archivo.readline().strip().split(\";\")\n",
    "        jobs.append([Ji,float(di),float(pi)])\n",
    "schedules, rejected, impossible = H2(jobs, M)"
   ]
  },
  {
   "cell_type": "markdown",
   "metadata": {},
   "source": [
    "## Entrada de datos: 2x3000x4x4"
   ]
  },
  {
   "cell_type": "code",
   "execution_count": 34,
   "metadata": {},
   "outputs": [
    {
     "name": "stdout",
     "output_type": "stream",
     "text": [
      "Execution time 4.449144124984741\n",
      "2080\n"
     ]
    }
   ],
   "source": [
    "start=time.time()\n",
    "M=2\n",
    "n=3000\n",
    "ruta=\"/Users/elPatan03/Desktop/lala/lala/2x3000x4x4.csv\"\n",
    "archivo=open(ruta,\"r\")\n",
    "jobs=[]\n",
    "for i in range(n+1):\n",
    "    if (i==0):\n",
    "        nada=archivo.readline()\n",
    "    else:\n",
    "        Ji,di,pi=archivo.readline().strip().split(\";\")\n",
    "        jobs.append([Ji,float(di),float(pi)])\n",
    "schedules, rejected, impossible = H2(jobs, M)"
   ]
  },
  {
   "cell_type": "markdown",
   "metadata": {},
   "source": [
    "## Entrada de datos: 2x3000x4x5"
   ]
  },
  {
   "cell_type": "code",
   "execution_count": 35,
   "metadata": {},
   "outputs": [
    {
     "name": "stdout",
     "output_type": "stream",
     "text": [
      "Execution time 4.254714250564575\n",
      "2096\n"
     ]
    }
   ],
   "source": [
    "start=time.time()\n",
    "M=2\n",
    "n=3000\n",
    "ruta=\"/Users/elPatan03/Desktop/lala/lala/2x3000x4x5.csv\"\n",
    "archivo=open(ruta,\"r\")\n",
    "jobs=[]\n",
    "for i in range(n+1):\n",
    "    if (i==0):\n",
    "        nada=archivo.readline()\n",
    "    else:\n",
    "        Ji,di,pi=archivo.readline().strip().split(\";\")\n",
    "        jobs.append([Ji,float(di),float(pi)])\n",
    "schedules, rejected, impossible = H2(jobs, M)"
   ]
  },
  {
   "cell_type": "markdown",
   "metadata": {},
   "source": [
    "## Entrada de datos: 2x3000x4.5x1"
   ]
  },
  {
   "cell_type": "code",
   "execution_count": 36,
   "metadata": {},
   "outputs": [
    {
     "name": "stdout",
     "output_type": "stream",
     "text": [
      "Execution time 3.882215738296509\n",
      "1948\n"
     ]
    }
   ],
   "source": [
    "start=time.time()\n",
    "M=2\n",
    "n=3000\n",
    "ruta=\"/Users/elPatan03/Desktop/lala/lala/2x3000x4.5x1.csv\"\n",
    "archivo=open(ruta,\"r\")\n",
    "jobs=[]\n",
    "for i in range(n+1):\n",
    "    if (i==0):\n",
    "        nada=archivo.readline()\n",
    "    else:\n",
    "        Ji,di,pi=archivo.readline().strip().split(\";\")\n",
    "        jobs.append([Ji,float(di),float(pi)])\n",
    "schedules, rejected, impossible = H2(jobs, M)"
   ]
  },
  {
   "cell_type": "markdown",
   "metadata": {},
   "source": [
    "## Entrada de datos: 2x3000x4.5x2"
   ]
  },
  {
   "cell_type": "code",
   "execution_count": 37,
   "metadata": {},
   "outputs": [
    {
     "name": "stdout",
     "output_type": "stream",
     "text": [
      "Execution time 9.967640399932861\n",
      "1943\n"
     ]
    }
   ],
   "source": [
    "start=time.time()\n",
    "M=2\n",
    "n=3000\n",
    "ruta=\"/Users/elPatan03/Desktop/lala/lala/2x3000x4.5x2.csv\"\n",
    "archivo=open(ruta,\"r\")\n",
    "jobs=[]\n",
    "for i in range(n+1):\n",
    "    if (i==0):\n",
    "        nada=archivo.readline()\n",
    "    else:\n",
    "        Ji,di,pi=archivo.readline().strip().split(\";\")\n",
    "        jobs.append([Ji,float(di),float(pi)])\n",
    "schedules, rejected, impossible = H2(jobs, M)"
   ]
  },
  {
   "cell_type": "markdown",
   "metadata": {},
   "source": [
    "## Entrada de datos: 2x3000x4.5x3"
   ]
  },
  {
   "cell_type": "code",
   "execution_count": 38,
   "metadata": {},
   "outputs": [
    {
     "name": "stdout",
     "output_type": "stream",
     "text": [
      "Execution time 4.22247314453125\n",
      "1977\n"
     ]
    }
   ],
   "source": [
    "start=time.time()\n",
    "M=2\n",
    "n=3000\n",
    "ruta=\"/Users/elPatan03/Desktop/lala/lala/2x3000x4.5x3.csv\"\n",
    "archivo=open(ruta,\"r\")\n",
    "jobs=[]\n",
    "for i in range(n+1):\n",
    "    if (i==0):\n",
    "        nada=archivo.readline()\n",
    "    else:\n",
    "        Ji,di,pi=archivo.readline().strip().split(\";\")\n",
    "        jobs.append([Ji,float(di),float(pi)])\n",
    "schedules, rejected, impossible = H2(jobs, M)"
   ]
  },
  {
   "cell_type": "markdown",
   "metadata": {},
   "source": [
    "## Entrada de datos: 2x3000x4.5x4"
   ]
  },
  {
   "cell_type": "code",
   "execution_count": 39,
   "metadata": {},
   "outputs": [
    {
     "name": "stdout",
     "output_type": "stream",
     "text": [
      "Execution time 4.483367443084717\n",
      "1942\n"
     ]
    }
   ],
   "source": [
    "start=time.time()\n",
    "M=2\n",
    "n=3000\n",
    "ruta=\"/Users/elPatan03/Desktop/lala/lala/2x3000x4.5x4.csv\"\n",
    "archivo=open(ruta,\"r\")\n",
    "jobs=[]\n",
    "for i in range(n+1):\n",
    "    if (i==0):\n",
    "        nada=archivo.readline()\n",
    "    else:\n",
    "        Ji,di,pi=archivo.readline().strip().split(\";\")\n",
    "        jobs.append([Ji,float(di),float(pi)])\n",
    "schedules, rejected, impossible = H2(jobs, M)"
   ]
  },
  {
   "cell_type": "markdown",
   "metadata": {},
   "source": [
    "## Entrada de datos: 2x3000x4.5x5"
   ]
  },
  {
   "cell_type": "code",
   "execution_count": 40,
   "metadata": {
    "scrolled": true
   },
   "outputs": [
    {
     "name": "stdout",
     "output_type": "stream",
     "text": [
      "Execution time 17.934372186660767\n",
      "1947\n"
     ]
    }
   ],
   "source": [
    "start=time.time()\n",
    "M=2\n",
    "n=3000\n",
    "ruta=\"/Users/elPatan03/Desktop/lala/lala/2x3000x4.5x5.csv\"\n",
    "archivo=open(ruta,\"r\")\n",
    "jobs=[]\n",
    "for i in range(n+1):\n",
    "    if (i==0):\n",
    "        nada=archivo.readline()\n",
    "    else:\n",
    "        Ji,di,pi=archivo.readline().strip().split(\";\")\n",
    "        jobs.append([Ji,float(di),float(pi)])\n",
    "schedules, rejected, impossible = H2(jobs, M)"
   ]
  },
  {
   "cell_type": "markdown",
   "metadata": {},
   "source": [
    "## Entrada de datos: 2x3000x5x1"
   ]
  },
  {
   "cell_type": "code",
   "execution_count": 41,
   "metadata": {},
   "outputs": [
    {
     "name": "stdout",
     "output_type": "stream",
     "text": [
      "Execution time 5.217453241348267\n",
      "1834\n"
     ]
    }
   ],
   "source": [
    "start=time.time()\n",
    "M=2\n",
    "n=3000\n",
    "ruta=\"/Users/elPatan03/Desktop/lala/lala/2x3000x5x1.csv\"\n",
    "archivo=open(ruta,\"r\")\n",
    "jobs=[]\n",
    "for i in range(n+1):\n",
    "    if (i==0):\n",
    "        nada=archivo.readline()\n",
    "    else:\n",
    "        Ji,di,pi=archivo.readline().strip().split(\";\")\n",
    "        jobs.append([Ji,float(di),float(pi)])\n",
    "schedules, rejected, impossible = H2(jobs, M)"
   ]
  },
  {
   "cell_type": "markdown",
   "metadata": {},
   "source": [
    "## Entrada de datos: 2x3000x5x2"
   ]
  },
  {
   "cell_type": "code",
   "execution_count": 42,
   "metadata": {},
   "outputs": [
    {
     "name": "stdout",
     "output_type": "stream",
     "text": [
      "Execution time 3.529040813446045\n",
      "1846\n"
     ]
    }
   ],
   "source": [
    "start=time.time()\n",
    "M=2\n",
    "n=3000\n",
    "ruta=\"/Users/elPatan03/Desktop/lala/lala/2x3000x5x2.csv\"\n",
    "archivo=open(ruta,\"r\")\n",
    "jobs=[]\n",
    "for i in range(n+1):\n",
    "    if (i==0):\n",
    "        nada=archivo.readline()\n",
    "    else:\n",
    "        Ji,di,pi=archivo.readline().strip().split(\";\")\n",
    "        jobs.append([Ji,float(di),float(pi)])\n",
    "schedules, rejected, impossible = H2(jobs, M)"
   ]
  },
  {
   "cell_type": "markdown",
   "metadata": {},
   "source": [
    "## Entrada de datos: 2x3000x5x3"
   ]
  },
  {
   "cell_type": "code",
   "execution_count": 43,
   "metadata": {},
   "outputs": [
    {
     "name": "stdout",
     "output_type": "stream",
     "text": [
      "Execution time 5.435198545455933\n",
      "1856\n"
     ]
    }
   ],
   "source": [
    "start=time.time()\n",
    "M=2\n",
    "n=3000\n",
    "ruta=\"/Users/elPatan03/Desktop/lala/lala/2x3000x5x3.csv\"\n",
    "archivo=open(ruta,\"r\")\n",
    "jobs=[]\n",
    "for i in range(n+1):\n",
    "    if (i==0):\n",
    "        nada=archivo.readline()\n",
    "    else:\n",
    "        Ji,di,pi=archivo.readline().strip().split(\";\")\n",
    "        jobs.append([Ji,float(di),float(pi)])\n",
    "schedules, rejected, impossible = H2(jobs, M)"
   ]
  },
  {
   "cell_type": "markdown",
   "metadata": {},
   "source": [
    "## Entrada de datos: 2x3000x5x4"
   ]
  },
  {
   "cell_type": "code",
   "execution_count": 44,
   "metadata": {},
   "outputs": [
    {
     "name": "stdout",
     "output_type": "stream",
     "text": [
      "Execution time 4.337053298950195\n",
      "1853\n"
     ]
    }
   ],
   "source": [
    "start=time.time()\n",
    "M=2\n",
    "n=3000\n",
    "ruta=\"/Users/elPatan03/Desktop/lala/lala/2x3000x5x4.csv\"\n",
    "archivo=open(ruta,\"r\")\n",
    "jobs=[]\n",
    "for i in range(n+1):\n",
    "    if (i==0):\n",
    "        nada=archivo.readline()\n",
    "    else:\n",
    "        Ji,di,pi=archivo.readline().strip().split(\";\")\n",
    "        jobs.append([Ji,float(di),float(pi)])\n",
    "schedules, rejected, impossible = H2(jobs, M)"
   ]
  },
  {
   "cell_type": "markdown",
   "metadata": {},
   "source": [
    "## Entrada de datos: 2x3000x5x5"
   ]
  },
  {
   "cell_type": "code",
   "execution_count": 45,
   "metadata": {},
   "outputs": [
    {
     "name": "stdout",
     "output_type": "stream",
     "text": [
      "Execution time 5.463960886001587\n",
      "1829\n"
     ]
    }
   ],
   "source": [
    "start=time.time()\n",
    "M=2\n",
    "n=3000\n",
    "ruta=\"/Users/elPatan03/Desktop/lala/lala/2x3000x5x5.csv\"\n",
    "archivo=open(ruta,\"r\")\n",
    "jobs=[]\n",
    "for i in range(n+1):\n",
    "    if (i==0):\n",
    "        nada=archivo.readline()\n",
    "    else:\n",
    "        Ji,di,pi=archivo.readline().strip().split(\";\")\n",
    "        jobs.append([Ji,float(di),float(pi)])\n",
    "schedules, rejected, impossible = H2(jobs, M)"
   ]
  },
  {
   "cell_type": "markdown",
   "metadata": {},
   "source": [
    "## Entrada de datos: 3x3000x1.5x1"
   ]
  },
  {
   "cell_type": "code",
   "execution_count": 46,
   "metadata": {},
   "outputs": [
    {
     "name": "stdout",
     "output_type": "stream",
     "text": [
      "Execution time 17.83434534072876\n",
      "2999\n"
     ]
    }
   ],
   "source": [
    "start=time.time()\n",
    "M=3\n",
    "n=3000\n",
    "ruta=\"/Users/elPatan03/Desktop/lala/lala/3x3000x1.5x1.csv\"\n",
    "archivo=open(ruta,\"r\")\n",
    "jobs=[]\n",
    "for i in range(n+1):\n",
    "    if (i==0):\n",
    "        nada=archivo.readline()\n",
    "    else:\n",
    "        Ji,di,pi=archivo.readline().strip().split(\";\")\n",
    "        jobs.append([Ji,float(di),float(pi)])\n",
    "schedules, rejected, impossible = H2(jobs, M)"
   ]
  },
  {
   "cell_type": "markdown",
   "metadata": {},
   "source": [
    "## Entrada de datos: 3x3000x1.5x2"
   ]
  },
  {
   "cell_type": "code",
   "execution_count": 47,
   "metadata": {},
   "outputs": [
    {
     "name": "stdout",
     "output_type": "stream",
     "text": [
      "Execution time 6.882658958435059\n",
      "2997\n"
     ]
    }
   ],
   "source": [
    "start=time.time()\n",
    "M=3\n",
    "n=3000\n",
    "ruta=\"/Users/elPatan03/Desktop/lala/lala/3x3000x1.5x2.csv\"\n",
    "archivo=open(ruta,\"r\")\n",
    "jobs=[]\n",
    "for i in range(n+1):\n",
    "    if (i==0):\n",
    "        nada=archivo.readline()\n",
    "    else:\n",
    "        Ji,di,pi=archivo.readline().strip().split(\";\")\n",
    "        jobs.append([Ji,float(di),float(pi)])\n",
    "schedules, rejected, impossible = H2(jobs, M)"
   ]
  },
  {
   "cell_type": "markdown",
   "metadata": {},
   "source": [
    "## Entrada de datos: 3x3000x1.5x3"
   ]
  },
  {
   "cell_type": "code",
   "execution_count": 48,
   "metadata": {},
   "outputs": [
    {
     "name": "stdout",
     "output_type": "stream",
     "text": [
      "Execution time 8.059505462646484\n",
      "2994\n"
     ]
    }
   ],
   "source": [
    "start=time.time()\n",
    "M=3\n",
    "n=3000\n",
    "ruta=\"/Users/elPatan03/Desktop/lala/lala/3x3000x1.5x3.csv\"\n",
    "archivo=open(ruta,\"r\")\n",
    "jobs=[]\n",
    "for i in range(n+1):\n",
    "    if (i==0):\n",
    "        nada=archivo.readline()\n",
    "    else:\n",
    "        Ji,di,pi=archivo.readline().strip().split(\";\")\n",
    "        jobs.append([Ji,float(di),float(pi)])\n",
    "schedules, rejected, impossible = H2(jobs, M)"
   ]
  },
  {
   "cell_type": "markdown",
   "metadata": {},
   "source": [
    "## Entrada de datos: 3x3000x1.5x4"
   ]
  },
  {
   "cell_type": "code",
   "execution_count": 49,
   "metadata": {},
   "outputs": [
    {
     "name": "stdout",
     "output_type": "stream",
     "text": [
      "Execution time 6.858688116073608\n",
      "2993\n"
     ]
    }
   ],
   "source": [
    "start=time.time()\n",
    "M=3\n",
    "n=3000\n",
    "ruta=\"/Users/elPatan03/Desktop/lala/lala/3x3000x1.5x4.csv\"\n",
    "archivo=open(ruta,\"r\")\n",
    "jobs=[]\n",
    "for i in range(n+1):\n",
    "    if (i==0):\n",
    "        nada=archivo.readline()\n",
    "    else:\n",
    "        Ji,di,pi=archivo.readline().strip().split(\";\")\n",
    "        jobs.append([Ji,float(di),float(pi)])\n",
    "schedules, rejected, impossible = H2(jobs, M)"
   ]
  },
  {
   "cell_type": "markdown",
   "metadata": {},
   "source": [
    "## Entrada de datos: 3x3000x1.5x5"
   ]
  },
  {
   "cell_type": "code",
   "execution_count": 50,
   "metadata": {},
   "outputs": [
    {
     "name": "stdout",
     "output_type": "stream",
     "text": [
      "Execution time 12.014114618301392\n",
      "3000\n"
     ]
    }
   ],
   "source": [
    "start=time.time()\n",
    "M=3\n",
    "n=3000\n",
    "ruta=\"/Users/elPatan03/Desktop/lala/lala/3x3000x1.5x5.csv\"\n",
    "archivo=open(ruta,\"r\")\n",
    "jobs=[]\n",
    "for i in range(n+1):\n",
    "    if (i==0):\n",
    "        nada=archivo.readline()\n",
    "    else:\n",
    "        Ji,di,pi=archivo.readline().strip().split(\";\")\n",
    "        jobs.append([Ji,float(di),float(pi)])\n",
    "schedules, rejected, impossible = H2(jobs, M)"
   ]
  },
  {
   "cell_type": "markdown",
   "metadata": {},
   "source": [
    "## Entrada de datos: 3x3000x2x1"
   ]
  },
  {
   "cell_type": "code",
   "execution_count": 51,
   "metadata": {},
   "outputs": [
    {
     "name": "stdout",
     "output_type": "stream",
     "text": [
      "Execution time 8.642802000045776\n",
      "2974\n"
     ]
    }
   ],
   "source": [
    "start=time.time()\n",
    "M=3\n",
    "n=3000\n",
    "ruta=\"/Users/elPatan03/Desktop/lala/lala/3x3000x2x1.csv\"\n",
    "archivo=open(ruta,\"r\")\n",
    "jobs=[]\n",
    "for i in range(n+1):\n",
    "    if (i==0):\n",
    "        nada=archivo.readline()\n",
    "    else:\n",
    "        Ji,di,pi=archivo.readline().strip().split(\";\")\n",
    "        jobs.append([Ji,float(di),float(pi)])\n",
    "schedules, rejected, impossible = H2(jobs, M)"
   ]
  },
  {
   "cell_type": "markdown",
   "metadata": {},
   "source": [
    "## Entrada de datos: 3x3000x2x2"
   ]
  },
  {
   "cell_type": "code",
   "execution_count": 52,
   "metadata": {},
   "outputs": [
    {
     "name": "stdout",
     "output_type": "stream",
     "text": [
      "Execution time 11.944894313812256\n",
      "2971\n"
     ]
    }
   ],
   "source": [
    "start=time.time()\n",
    "M=3\n",
    "n=3000\n",
    "ruta=\"/Users/elPatan03/Desktop/lala/lala/3x3000x2x2.csv\"\n",
    "archivo=open(ruta,\"r\")\n",
    "jobs=[]\n",
    "for i in range(n+1):\n",
    "    if (i==0):\n",
    "        nada=archivo.readline()\n",
    "    else:\n",
    "        Ji,di,pi=archivo.readline().strip().split(\";\")\n",
    "        jobs.append([Ji,float(di),float(pi)])\n",
    "schedules, rejected, impossible = H2(jobs, M)"
   ]
  },
  {
   "cell_type": "markdown",
   "metadata": {},
   "source": [
    "## Entrada de datos: 3x3000x2x3"
   ]
  },
  {
   "cell_type": "code",
   "execution_count": 53,
   "metadata": {},
   "outputs": [
    {
     "name": "stdout",
     "output_type": "stream",
     "text": [
      "Execution time 32.30699110031128\n",
      "2971\n"
     ]
    }
   ],
   "source": [
    "start=time.time()\n",
    "M=3\n",
    "n=3000\n",
    "ruta=\"/Users/elPatan03/Desktop/lala/lala/3x3000x2x3.csv\"\n",
    "archivo=open(ruta,\"r\")\n",
    "jobs=[]\n",
    "for i in range(n+1):\n",
    "    if (i==0):\n",
    "        nada=archivo.readline()\n",
    "    else:\n",
    "        Ji,di,pi=archivo.readline().strip().split(\";\")\n",
    "        jobs.append([Ji,float(di),float(pi)])\n",
    "schedules, rejected, impossible = H2(jobs, M)"
   ]
  },
  {
   "cell_type": "markdown",
   "metadata": {},
   "source": [
    "## Entrada de datos: 3x3000x2x4"
   ]
  },
  {
   "cell_type": "code",
   "execution_count": 54,
   "metadata": {},
   "outputs": [
    {
     "name": "stdout",
     "output_type": "stream",
     "text": [
      "Execution time 6.353790521621704\n",
      "2970\n"
     ]
    }
   ],
   "source": [
    "start=time.time()\n",
    "M=3\n",
    "n=3000\n",
    "ruta=\"/Users/elPatan03/Desktop/lala/lala/3x3000x2x4.csv\"\n",
    "archivo=open(ruta,\"r\")\n",
    "jobs=[]\n",
    "for i in range(n+1):\n",
    "    if (i==0):\n",
    "        nada=archivo.readline()\n",
    "    else:\n",
    "        Ji,di,pi=archivo.readline().strip().split(\";\")\n",
    "        jobs.append([Ji,float(di),float(pi)])\n",
    "schedules, rejected, impossible = H2(jobs, M)"
   ]
  },
  {
   "cell_type": "markdown",
   "metadata": {},
   "source": [
    "## Entrada de datos: 3x3000x2x5"
   ]
  },
  {
   "cell_type": "code",
   "execution_count": 55,
   "metadata": {},
   "outputs": [
    {
     "name": "stdout",
     "output_type": "stream",
     "text": [
      "Execution time 11.035532474517822\n",
      "2965\n"
     ]
    }
   ],
   "source": [
    "start=time.time()\n",
    "M=3\n",
    "n=3000\n",
    "ruta=\"/Users/elPatan03/Desktop/lala/lala/3x3000x2x5.csv\"\n",
    "archivo=open(ruta,\"r\")\n",
    "jobs=[]\n",
    "for i in range(n+1):\n",
    "    if (i==0):\n",
    "        nada=archivo.readline()\n",
    "    else:\n",
    "        Ji,di,pi=archivo.readline().strip().split(\";\")\n",
    "        jobs.append([Ji,float(di),float(pi)])\n",
    "schedules, rejected, impossible = H2(jobs, M)"
   ]
  },
  {
   "cell_type": "markdown",
   "metadata": {},
   "source": [
    "## Entrada de datos: 3x3000x2.5x1"
   ]
  },
  {
   "cell_type": "code",
   "execution_count": 56,
   "metadata": {},
   "outputs": [
    {
     "name": "stdout",
     "output_type": "stream",
     "text": [
      "Execution time 6.186139345169067\n",
      "2665\n"
     ]
    }
   ],
   "source": [
    "start=time.time()\n",
    "M=3\n",
    "n=3000\n",
    "ruta=\"/Users/elPatan03/Desktop/lala/lala/3x3000x2.5x1.csv\"\n",
    "archivo=open(ruta,\"r\")\n",
    "jobs=[]\n",
    "for i in range(n+1):\n",
    "    if (i==0):\n",
    "        nada=archivo.readline()\n",
    "    else:\n",
    "        Ji,di,pi=archivo.readline().strip().split(\";\")\n",
    "        jobs.append([Ji,float(di),float(pi)])\n",
    "schedules, rejected, impossible = H2(jobs, M)"
   ]
  },
  {
   "cell_type": "markdown",
   "metadata": {},
   "source": [
    "## Entrada de datos: 3x3000x2.5x2"
   ]
  },
  {
   "cell_type": "code",
   "execution_count": 57,
   "metadata": {},
   "outputs": [
    {
     "name": "stdout",
     "output_type": "stream",
     "text": [
      "Execution time 13.048852443695068\n",
      "2671\n"
     ]
    }
   ],
   "source": [
    "start=time.time()\n",
    "M=3\n",
    "n=3000\n",
    "ruta=\"/Users/elPatan03/Desktop/lala/lala/3x3000x2.5x2.csv\"\n",
    "archivo=open(ruta,\"r\")\n",
    "jobs=[]\n",
    "for i in range(n+1):\n",
    "    if (i==0):\n",
    "        nada=archivo.readline()\n",
    "    else:\n",
    "        Ji,di,pi=archivo.readline().strip().split(\";\")\n",
    "        jobs.append([Ji,float(di),float(pi)])\n",
    "schedules, rejected, impossible = H2(jobs, M)"
   ]
  },
  {
   "cell_type": "markdown",
   "metadata": {},
   "source": [
    "## Entrada de datos: 3x3000x2.5x3"
   ]
  },
  {
   "cell_type": "code",
   "execution_count": 58,
   "metadata": {},
   "outputs": [
    {
     "name": "stdout",
     "output_type": "stream",
     "text": [
      "Execution time 11.89355993270874\n",
      "2665\n"
     ]
    }
   ],
   "source": [
    "start=time.time()\n",
    "M=3\n",
    "n=3000\n",
    "ruta=\"/Users/elPatan03/Desktop/lala/lala/3x3000x2.5x3.csv\"\n",
    "archivo=open(ruta,\"r\")\n",
    "jobs=[]\n",
    "for i in range(n+1):\n",
    "    if (i==0):\n",
    "        nada=archivo.readline()\n",
    "    else:\n",
    "        Ji,di,pi=archivo.readline().strip().split(\";\")\n",
    "        jobs.append([Ji,float(di),float(pi)])\n",
    "schedules, rejected, impossible = H2(jobs, M)"
   ]
  },
  {
   "cell_type": "markdown",
   "metadata": {},
   "source": [
    "## Entrada de datos: 3x3000x2.5x4"
   ]
  },
  {
   "cell_type": "code",
   "execution_count": 59,
   "metadata": {},
   "outputs": [
    {
     "name": "stdout",
     "output_type": "stream",
     "text": [
      "Execution time 7.489104986190796\n",
      "2662\n"
     ]
    }
   ],
   "source": [
    "start=time.time()\n",
    "M=3\n",
    "n=3000\n",
    "ruta=\"/Users/elPatan03/Desktop/lala/lala/3x3000x2.5x4.csv\"\n",
    "archivo=open(ruta,\"r\")\n",
    "jobs=[]\n",
    "for i in range(n+1):\n",
    "    if (i==0):\n",
    "        nada=archivo.readline()\n",
    "    else:\n",
    "        Ji,di,pi=archivo.readline().strip().split(\";\")\n",
    "        jobs.append([Ji,float(di),float(pi)])\n",
    "schedules, rejected, impossible = H2(jobs, M)"
   ]
  },
  {
   "cell_type": "markdown",
   "metadata": {},
   "source": [
    "## Entrada de datos: 3x3000x2.5x5"
   ]
  },
  {
   "cell_type": "code",
   "execution_count": 60,
   "metadata": {
    "scrolled": true
   },
   "outputs": [
    {
     "name": "stdout",
     "output_type": "stream",
     "text": [
      "Execution time 9.079806566238403\n",
      "2660\n"
     ]
    }
   ],
   "source": [
    "start=time.time()\n",
    "M=3\n",
    "n=3000\n",
    "ruta=\"/Users/elPatan03/Desktop/lala/lala/3x3000x2.5x5.csv\"\n",
    "archivo=open(ruta,\"r\")\n",
    "jobs=[]\n",
    "for i in range(n+1):\n",
    "    if (i==0):\n",
    "        nada=archivo.readline()\n",
    "    else:\n",
    "        Ji,di,pi=archivo.readline().strip().split(\";\")\n",
    "        jobs.append([Ji,float(di),float(pi)])\n",
    "schedules, rejected, impossible = H2(jobs, M)"
   ]
  },
  {
   "cell_type": "markdown",
   "metadata": {},
   "source": [
    "## Entrada de datos: 3x3000x3x1"
   ]
  },
  {
   "cell_type": "code",
   "execution_count": 61,
   "metadata": {},
   "outputs": [
    {
     "name": "stdout",
     "output_type": "stream",
     "text": [
      "Execution time 15.516896724700928\n",
      "2416\n"
     ]
    }
   ],
   "source": [
    "start=time.time()\n",
    "M=3\n",
    "n=3000\n",
    "ruta=\"/Users/elPatan03/Desktop/lala/lala/3x3000x3x1.csv\"\n",
    "archivo=open(ruta,\"r\")\n",
    "jobs=[]\n",
    "for i in range(n+1):\n",
    "    if (i==0):\n",
    "        nada=archivo.readline()\n",
    "    else:\n",
    "        Ji,di,pi=archivo.readline().strip().split(\";\")\n",
    "        jobs.append([Ji,float(di),float(pi)])\n",
    "schedules, rejected, impossible = H2(jobs, M)"
   ]
  },
  {
   "cell_type": "markdown",
   "metadata": {},
   "source": [
    "## Entrada de datos: 3x3000x3x2"
   ]
  },
  {
   "cell_type": "code",
   "execution_count": 62,
   "metadata": {},
   "outputs": [
    {
     "name": "stdout",
     "output_type": "stream",
     "text": [
      "Execution time 5.432713031768799\n",
      "2422\n"
     ]
    }
   ],
   "source": [
    "start=time.time()\n",
    "M=3\n",
    "n=3000\n",
    "ruta=\"/Users/elPatan03/Desktop/lala/lala/3x3000x3x2.csv\"\n",
    "archivo=open(ruta,\"r\")\n",
    "jobs=[]\n",
    "for i in range(n+1):\n",
    "    if (i==0):\n",
    "        nada=archivo.readline()\n",
    "    else:\n",
    "        Ji,di,pi=archivo.readline().strip().split(\";\")\n",
    "        jobs.append([Ji,float(di),float(pi)])\n",
    "schedules, rejected, impossible = H2(jobs, M)"
   ]
  },
  {
   "cell_type": "markdown",
   "metadata": {},
   "source": [
    "## Entrada de datos: 3x3000x3x3"
   ]
  },
  {
   "cell_type": "code",
   "execution_count": 63,
   "metadata": {},
   "outputs": [
    {
     "name": "stdout",
     "output_type": "stream",
     "text": [
      "Execution time 4.850074529647827\n",
      "2423\n"
     ]
    }
   ],
   "source": [
    "start=time.time()\n",
    "M=3\n",
    "n=3000\n",
    "ruta=\"/Users/elPatan03/Desktop/lala/lala/3x3000x3x3.csv\"\n",
    "archivo=open(ruta,\"r\")\n",
    "jobs=[]\n",
    "for i in range(n+1):\n",
    "    if (i==0):\n",
    "        nada=archivo.readline()\n",
    "    else:\n",
    "        Ji,di,pi=archivo.readline().strip().split(\";\")\n",
    "        jobs.append([Ji,float(di),float(pi)])\n",
    "schedules, rejected, impossible = H2(jobs, M)"
   ]
  },
  {
   "cell_type": "markdown",
   "metadata": {},
   "source": [
    "## Entrada de datos: 3x3000x3x4"
   ]
  },
  {
   "cell_type": "code",
   "execution_count": 64,
   "metadata": {},
   "outputs": [
    {
     "name": "stdout",
     "output_type": "stream",
     "text": [
      "Execution time 6.567015647888184\n",
      "2424\n"
     ]
    }
   ],
   "source": [
    "start=time.time()\n",
    "M=3\n",
    "n=3000\n",
    "ruta=\"/Users/elPatan03/Desktop/lala/lala/3x3000x3x4.csv\"\n",
    "archivo=open(ruta,\"r\")\n",
    "jobs=[]\n",
    "for i in range(n+1):\n",
    "    if (i==0):\n",
    "        nada=archivo.readline()\n",
    "    else:\n",
    "        Ji,di,pi=archivo.readline().strip().split(\";\")\n",
    "        jobs.append([Ji,float(di),float(pi)])\n",
    "schedules, rejected, impossible = H2(jobs, M)"
   ]
  },
  {
   "cell_type": "markdown",
   "metadata": {},
   "source": [
    "## Entrada de datos: 3x3000x3x5"
   ]
  },
  {
   "cell_type": "code",
   "execution_count": 65,
   "metadata": {},
   "outputs": [
    {
     "name": "stdout",
     "output_type": "stream",
     "text": [
      "Execution time 8.300094366073608\n",
      "2422\n"
     ]
    }
   ],
   "source": [
    "start=time.time()\n",
    "M=3\n",
    "n=3000\n",
    "ruta=\"/Users/elPatan03/Desktop/lala/lala/3x3000x3x5.csv\"\n",
    "archivo=open(ruta,\"r\")\n",
    "jobs=[]\n",
    "for i in range(n+1):\n",
    "    if (i==0):\n",
    "        nada=archivo.readline()\n",
    "    else:\n",
    "        Ji,di,pi=archivo.readline().strip().split(\";\")\n",
    "        jobs.append([Ji,float(di),float(pi)])\n",
    "schedules, rejected, impossible = H2(jobs, M)"
   ]
  },
  {
   "cell_type": "markdown",
   "metadata": {},
   "source": [
    "## Entrada de datos: 3x3000x3.5x1"
   ]
  },
  {
   "cell_type": "code",
   "execution_count": 66,
   "metadata": {},
   "outputs": [
    {
     "name": "stdout",
     "output_type": "stream",
     "text": [
      "Execution time 5.068109512329102\n",
      "2229\n"
     ]
    }
   ],
   "source": [
    "start=time.time()\n",
    "M=3\n",
    "n=3000\n",
    "ruta=\"/Users/elPatan03/Desktop/lala/lala/3x3000x3.5x1.csv\"\n",
    "archivo=open(ruta,\"r\")\n",
    "jobs=[]\n",
    "for i in range(n+1):\n",
    "    if (i==0):\n",
    "        nada=archivo.readline()\n",
    "    else:\n",
    "        Ji,di,pi=archivo.readline().strip().split(\";\")\n",
    "        jobs.append([Ji,float(di),float(pi)])\n",
    "schedules, rejected, impossible = H2(jobs, M)"
   ]
  },
  {
   "cell_type": "markdown",
   "metadata": {},
   "source": [
    "## Entrada de datos: 3x3000x3.5x2"
   ]
  },
  {
   "cell_type": "code",
   "execution_count": 67,
   "metadata": {},
   "outputs": [
    {
     "name": "stdout",
     "output_type": "stream",
     "text": [
      "Execution time 4.804753065109253\n",
      "2218\n"
     ]
    }
   ],
   "source": [
    "start=time.time()\n",
    "M=3\n",
    "n=3000\n",
    "ruta=\"/Users/elPatan03/Desktop/lala/lala/3x3000x3.5x2.csv\"\n",
    "archivo=open(ruta,\"r\")\n",
    "jobs=[]\n",
    "for i in range(n+1):\n",
    "    if (i==0):\n",
    "        nada=archivo.readline()\n",
    "    else:\n",
    "        Ji,di,pi=archivo.readline().strip().split(\";\")\n",
    "        jobs.append([Ji,float(di),float(pi)])\n",
    "schedules, rejected, impossible = H2(jobs, M)"
   ]
  },
  {
   "cell_type": "markdown",
   "metadata": {},
   "source": [
    "## Entrada de datos: 3x3000x3.5x3"
   ]
  },
  {
   "cell_type": "code",
   "execution_count": 68,
   "metadata": {},
   "outputs": [
    {
     "name": "stdout",
     "output_type": "stream",
     "text": [
      "Execution time 4.448624849319458\n",
      "2225\n"
     ]
    }
   ],
   "source": [
    "start=time.time()\n",
    "M=3\n",
    "n=3000\n",
    "ruta=\"/Users/elPatan03/Desktop/lala/lala/3x3000x3.5x3.csv\"\n",
    "archivo=open(ruta,\"r\")\n",
    "jobs=[]\n",
    "for i in range(n+1):\n",
    "    if (i==0):\n",
    "        nada=archivo.readline()\n",
    "    else:\n",
    "        Ji,di,pi=archivo.readline().strip().split(\";\")\n",
    "        jobs.append([Ji,float(di),float(pi)])\n",
    "schedules, rejected, impossible = H2(jobs, M)"
   ]
  },
  {
   "cell_type": "markdown",
   "metadata": {},
   "source": [
    "## Entrada de datos: 3x3000x3.5x4"
   ]
  },
  {
   "cell_type": "code",
   "execution_count": 69,
   "metadata": {},
   "outputs": [
    {
     "name": "stdout",
     "output_type": "stream",
     "text": [
      "Execution time 5.093921422958374\n",
      "2225\n"
     ]
    }
   ],
   "source": [
    "start=time.time()\n",
    "M=3\n",
    "n=3000\n",
    "ruta=\"/Users/elPatan03/Desktop/lala/lala/3x3000x3.5x4.csv\"\n",
    "archivo=open(ruta,\"r\")\n",
    "jobs=[]\n",
    "for i in range(n+1):\n",
    "    if (i==0):\n",
    "        nada=archivo.readline()\n",
    "    else:\n",
    "        Ji,di,pi=archivo.readline().strip().split(\";\")\n",
    "        jobs.append([Ji,float(di),float(pi)])\n",
    "schedules, rejected, impossible = H2(jobs, M)"
   ]
  },
  {
   "cell_type": "markdown",
   "metadata": {},
   "source": [
    "## Entrada de datos: 3x3000x3.5x5"
   ]
  },
  {
   "cell_type": "code",
   "execution_count": 70,
   "metadata": {},
   "outputs": [
    {
     "name": "stdout",
     "output_type": "stream",
     "text": [
      "Execution time 5.597857475280762\n",
      "2230\n"
     ]
    }
   ],
   "source": [
    "start=time.time()\n",
    "M=3\n",
    "n=3000\n",
    "ruta=\"/Users/elPatan03/Desktop/lala/lala/3x3000x3.5x5.csv\"\n",
    "archivo=open(ruta,\"r\")\n",
    "jobs=[]\n",
    "for i in range(n+1):\n",
    "    if (i==0):\n",
    "        nada=archivo.readline()\n",
    "    else:\n",
    "        Ji,di,pi=archivo.readline().strip().split(\";\")\n",
    "        jobs.append([Ji,float(di),float(pi)])\n",
    "schedules, rejected, impossible = H2(jobs, M)"
   ]
  },
  {
   "cell_type": "markdown",
   "metadata": {},
   "source": [
    "## Entrada de datos: 3x3000x4x1"
   ]
  },
  {
   "cell_type": "code",
   "execution_count": 71,
   "metadata": {},
   "outputs": [
    {
     "name": "stdout",
     "output_type": "stream",
     "text": [
      "Execution time 6.227468490600586\n",
      "2073\n"
     ]
    }
   ],
   "source": [
    "start=time.time()\n",
    "M=3\n",
    "n=3000\n",
    "ruta=\"/Users/elPatan03/Desktop/lala/lala/3x3000x4x1.csv\"\n",
    "archivo=open(ruta,\"r\")\n",
    "jobs=[]\n",
    "for i in range(n+1):\n",
    "    if (i==0):\n",
    "        nada=archivo.readline()\n",
    "    else:\n",
    "        Ji,di,pi=archivo.readline().strip().split(\";\")\n",
    "        jobs.append([Ji,float(di),float(pi)])\n",
    "schedules, rejected, impossible = H2(jobs, M)"
   ]
  },
  {
   "cell_type": "markdown",
   "metadata": {},
   "source": [
    "## Entrada de datos: 3x3000x4x2"
   ]
  },
  {
   "cell_type": "code",
   "execution_count": 72,
   "metadata": {},
   "outputs": [
    {
     "name": "stdout",
     "output_type": "stream",
     "text": [
      "Execution time 5.3820977210998535\n",
      "2069\n"
     ]
    }
   ],
   "source": [
    "start=time.time()\n",
    "M=3\n",
    "n=3000\n",
    "ruta=\"/Users/elPatan03/Desktop/lala/lala/3x3000x4x2.csv\"\n",
    "archivo=open(ruta,\"r\")\n",
    "jobs=[]\n",
    "for i in range(n+1):\n",
    "    if (i==0):\n",
    "        nada=archivo.readline()\n",
    "    else:\n",
    "        Ji,di,pi=archivo.readline().strip().split(\";\")\n",
    "        jobs.append([Ji,float(di),float(pi)])\n",
    "schedules, rejected, impossible = H2(jobs, M)"
   ]
  },
  {
   "cell_type": "markdown",
   "metadata": {},
   "source": [
    "## Entrada de datos: 3x3000x4x3"
   ]
  },
  {
   "cell_type": "code",
   "execution_count": 73,
   "metadata": {},
   "outputs": [
    {
     "name": "stdout",
     "output_type": "stream",
     "text": [
      "Execution time 6.466359615325928\n",
      "2078\n"
     ]
    }
   ],
   "source": [
    "start=time.time()\n",
    "M=3\n",
    "n=3000\n",
    "ruta=\"/Users/elPatan03/Desktop/lala/lala/3x3000x4x3.csv\"\n",
    "archivo=open(ruta,\"r\")\n",
    "jobs=[]\n",
    "for i in range(n+1):\n",
    "    if (i==0):\n",
    "        nada=archivo.readline()\n",
    "    else:\n",
    "        Ji,di,pi=archivo.readline().strip().split(\";\")\n",
    "        jobs.append([Ji,float(di),float(pi)])\n",
    "schedules, rejected, impossible = H2(jobs, M)"
   ]
  },
  {
   "cell_type": "markdown",
   "metadata": {},
   "source": [
    "## Entrada de datos: 3x3000x4x4"
   ]
  },
  {
   "cell_type": "code",
   "execution_count": 74,
   "metadata": {},
   "outputs": [
    {
     "name": "stdout",
     "output_type": "stream",
     "text": [
      "Execution time 6.663784503936768\n",
      "2072\n"
     ]
    }
   ],
   "source": [
    "start=time.time()\n",
    "M=3\n",
    "n=3000\n",
    "ruta=\"/Users/elPatan03/Desktop/lala/lala/3x3000x4x4.csv\"\n",
    "archivo=open(ruta,\"r\")\n",
    "jobs=[]\n",
    "for i in range(n+1):\n",
    "    if (i==0):\n",
    "        nada=archivo.readline()\n",
    "    else:\n",
    "        Ji,di,pi=archivo.readline().strip().split(\";\")\n",
    "        jobs.append([Ji,float(di),float(pi)])\n",
    "schedules, rejected, impossible = H2(jobs, M)"
   ]
  },
  {
   "cell_type": "markdown",
   "metadata": {},
   "source": [
    "## Entrada de datos: 3x3000x4x5"
   ]
  },
  {
   "cell_type": "code",
   "execution_count": 75,
   "metadata": {},
   "outputs": [
    {
     "name": "stdout",
     "output_type": "stream",
     "text": [
      "Execution time 10.141690492630005\n",
      "2068\n"
     ]
    }
   ],
   "source": [
    "start=time.time()\n",
    "M=3\n",
    "n=3000\n",
    "ruta=\"/Users/elPatan03/Desktop/lala/lala/3x3000x4x5.csv\"\n",
    "archivo=open(ruta,\"r\")\n",
    "jobs=[]\n",
    "for i in range(n+1):\n",
    "    if (i==0):\n",
    "        nada=archivo.readline()\n",
    "    else:\n",
    "        Ji,di,pi=archivo.readline().strip().split(\";\")\n",
    "        jobs.append([Ji,float(di),float(pi)])\n",
    "schedules, rejected, impossible = H2(jobs, M)"
   ]
  },
  {
   "cell_type": "markdown",
   "metadata": {},
   "source": [
    "## Entrada de datos: 3x3000x4.5x1"
   ]
  },
  {
   "cell_type": "code",
   "execution_count": 76,
   "metadata": {},
   "outputs": [
    {
     "name": "stdout",
     "output_type": "stream",
     "text": [
      "Execution time 6.465389013290405\n",
      "1943\n"
     ]
    }
   ],
   "source": [
    "start=time.time()\n",
    "M=3\n",
    "n=3000\n",
    "ruta=\"/Users/elPatan03/Desktop/lala/lala/3x3000x4.5x1.csv\"\n",
    "archivo=open(ruta,\"r\")\n",
    "jobs=[]\n",
    "for i in range(n+1):\n",
    "    if (i==0):\n",
    "        nada=archivo.readline()\n",
    "    else:\n",
    "        Ji,di,pi=archivo.readline().strip().split(\";\")\n",
    "        jobs.append([Ji,float(di),float(pi)])\n",
    "schedules, rejected, impossible = H2(jobs, M)"
   ]
  },
  {
   "cell_type": "markdown",
   "metadata": {},
   "source": [
    "## Entrada de datos: 3x3000x4.5x2"
   ]
  },
  {
   "cell_type": "code",
   "execution_count": 77,
   "metadata": {},
   "outputs": [
    {
     "name": "stdout",
     "output_type": "stream",
     "text": [
      "Execution time 5.729770183563232\n",
      "1950\n"
     ]
    }
   ],
   "source": [
    "start=time.time()\n",
    "M=3\n",
    "n=3000\n",
    "ruta=\"/Users/elPatan03/Desktop/lala/lala/3x3000x4.5x2.csv\"\n",
    "archivo=open(ruta,\"r\")\n",
    "jobs=[]\n",
    "for i in range(n+1):\n",
    "    if (i==0):\n",
    "        nada=archivo.readline()\n",
    "    else:\n",
    "        Ji,di,pi=archivo.readline().strip().split(\";\")\n",
    "        jobs.append([Ji,float(di),float(pi)])\n",
    "schedules, rejected, impossible = H2(jobs, M)"
   ]
  },
  {
   "cell_type": "markdown",
   "metadata": {},
   "source": [
    "## Entrada de datos: 3x3000x4.5x3"
   ]
  },
  {
   "cell_type": "code",
   "execution_count": 78,
   "metadata": {},
   "outputs": [
    {
     "name": "stdout",
     "output_type": "stream",
     "text": [
      "Execution time 10.496879577636719\n",
      "1946\n"
     ]
    }
   ],
   "source": [
    "start=time.time()\n",
    "M=3\n",
    "n=3000\n",
    "ruta=\"/Users/elPatan03/Desktop/lala/lala/3x3000x4.5x3.csv\"\n",
    "archivo=open(ruta,\"r\")\n",
    "jobs=[]\n",
    "for i in range(n+1):\n",
    "    if (i==0):\n",
    "        nada=archivo.readline()\n",
    "    else:\n",
    "        Ji,di,pi=archivo.readline().strip().split(\";\")\n",
    "        jobs.append([Ji,float(di),float(pi)])\n",
    "schedules, rejected, impossible = H2(jobs, M)"
   ]
  },
  {
   "cell_type": "markdown",
   "metadata": {},
   "source": [
    "## Entrada de datos: 3x3000x4.5x4"
   ]
  },
  {
   "cell_type": "code",
   "execution_count": 79,
   "metadata": {},
   "outputs": [
    {
     "name": "stdout",
     "output_type": "stream",
     "text": [
      "Execution time 5.530428409576416\n",
      "1938\n"
     ]
    }
   ],
   "source": [
    "start=time.time()\n",
    "M=3\n",
    "n=3000\n",
    "ruta=\"/Users/elPatan03/Desktop/lala/lala/3x3000x4.5x4.csv\"\n",
    "archivo=open(ruta,\"r\")\n",
    "jobs=[]\n",
    "for i in range(n+1):\n",
    "    if (i==0):\n",
    "        nada=archivo.readline()\n",
    "    else:\n",
    "        Ji,di,pi=archivo.readline().strip().split(\";\")\n",
    "        jobs.append([Ji,float(di),float(pi)])\n",
    "schedules, rejected, impossible = H2(jobs, M)"
   ]
  },
  {
   "cell_type": "markdown",
   "metadata": {},
   "source": [
    "## Entrada de datos: 3x3000x4.5x5"
   ]
  },
  {
   "cell_type": "code",
   "execution_count": 80,
   "metadata": {
    "scrolled": true
   },
   "outputs": [
    {
     "name": "stdout",
     "output_type": "stream",
     "text": [
      "Execution time 4.639089107513428\n",
      "1959\n"
     ]
    }
   ],
   "source": [
    "start=time.time()\n",
    "M=3\n",
    "n=3000\n",
    "ruta=\"/Users/elPatan03/Desktop/lala/lala/3x3000x4.5x5.csv\"\n",
    "archivo=open(ruta,\"r\")\n",
    "jobs=[]\n",
    "for i in range(n+1):\n",
    "    if (i==0):\n",
    "        nada=archivo.readline()\n",
    "    else:\n",
    "        Ji,di,pi=archivo.readline().strip().split(\";\")\n",
    "        jobs.append([Ji,float(di),float(pi)])\n",
    "schedules, rejected, impossible = H2(jobs, M)"
   ]
  },
  {
   "cell_type": "markdown",
   "metadata": {},
   "source": [
    "## Entrada de datos: 3x3000x5x1"
   ]
  },
  {
   "cell_type": "code",
   "execution_count": 81,
   "metadata": {},
   "outputs": [
    {
     "name": "stdout",
     "output_type": "stream",
     "text": [
      "Execution time 6.468862056732178\n",
      "1837\n"
     ]
    }
   ],
   "source": [
    "start=time.time()\n",
    "M=3\n",
    "n=3000\n",
    "ruta=\"/Users/elPatan03/Desktop/lala/lala/3x3000x5x1.csv\"\n",
    "archivo=open(ruta,\"r\")\n",
    "jobs=[]\n",
    "for i in range(n+1):\n",
    "    if (i==0):\n",
    "        nada=archivo.readline()\n",
    "    else:\n",
    "        Ji,di,pi=archivo.readline().strip().split(\";\")\n",
    "        jobs.append([Ji,float(di),float(pi)])\n",
    "schedules, rejected, impossible = H2(jobs, M)"
   ]
  },
  {
   "cell_type": "markdown",
   "metadata": {},
   "source": [
    "## Entrada de datos: 3x3000x5x2"
   ]
  },
  {
   "cell_type": "code",
   "execution_count": 82,
   "metadata": {},
   "outputs": [
    {
     "name": "stdout",
     "output_type": "stream",
     "text": [
      "Execution time 4.865789413452148\n",
      "1838\n"
     ]
    }
   ],
   "source": [
    "start=time.time()\n",
    "M=3\n",
    "n=3000\n",
    "ruta=\"/Users/elPatan03/Desktop/lala/lala/3x3000x5x2.csv\"\n",
    "archivo=open(ruta,\"r\")\n",
    "jobs=[]\n",
    "for i in range(n+1):\n",
    "    if (i==0):\n",
    "        nada=archivo.readline()\n",
    "    else:\n",
    "        Ji,di,pi=archivo.readline().strip().split(\";\")\n",
    "        jobs.append([Ji,float(di),float(pi)])\n",
    "schedules, rejected, impossible = H2(jobs, M)"
   ]
  },
  {
   "cell_type": "markdown",
   "metadata": {},
   "source": [
    "## Entrada de datos: 3x3000x5x3"
   ]
  },
  {
   "cell_type": "code",
   "execution_count": 83,
   "metadata": {},
   "outputs": [
    {
     "name": "stdout",
     "output_type": "stream",
     "text": [
      "Execution time 4.066218852996826\n",
      "1845\n"
     ]
    }
   ],
   "source": [
    "start=time.time()\n",
    "M=3\n",
    "n=3000\n",
    "ruta=\"/Users/elPatan03/Desktop/lala/lala/3x3000x5x3.csv\"\n",
    "archivo=open(ruta,\"r\")\n",
    "jobs=[]\n",
    "for i in range(n+1):\n",
    "    if (i==0):\n",
    "        nada=archivo.readline()\n",
    "    else:\n",
    "        Ji,di,pi=archivo.readline().strip().split(\";\")\n",
    "        jobs.append([Ji,float(di),float(pi)])\n",
    "schedules, rejected, impossible = H2(jobs, M)"
   ]
  },
  {
   "cell_type": "markdown",
   "metadata": {},
   "source": [
    "## Entrada de datos: 3x3000x5x4"
   ]
  },
  {
   "cell_type": "code",
   "execution_count": 84,
   "metadata": {},
   "outputs": [
    {
     "name": "stdout",
     "output_type": "stream",
     "text": [
      "Execution time 4.604392051696777\n",
      "1854\n"
     ]
    }
   ],
   "source": [
    "start=time.time()\n",
    "M=3\n",
    "n=3000\n",
    "ruta=\"/Users/elPatan03/Desktop/lala/lala/3x3000x5x4.csv\"\n",
    "archivo=open(ruta,\"r\")\n",
    "jobs=[]\n",
    "for i in range(n+1):\n",
    "    if (i==0):\n",
    "        nada=archivo.readline()\n",
    "    else:\n",
    "        Ji,di,pi=archivo.readline().strip().split(\";\")\n",
    "        jobs.append([Ji,float(di),float(pi)])\n",
    "schedules, rejected, impossible = H2(jobs, M)"
   ]
  },
  {
   "cell_type": "markdown",
   "metadata": {},
   "source": [
    "## Entrada de datos: 3x3000x5x5"
   ]
  },
  {
   "cell_type": "code",
   "execution_count": 85,
   "metadata": {
    "scrolled": true
   },
   "outputs": [
    {
     "name": "stdout",
     "output_type": "stream",
     "text": [
      "Execution time 5.875149726867676\n",
      "1835\n"
     ]
    }
   ],
   "source": [
    "start=time.time()\n",
    "M=3\n",
    "n=3000\n",
    "ruta=\"/Users/elPatan03/Desktop/lala/lala/3x3000x5x5.csv\"\n",
    "archivo=open(ruta,\"r\")\n",
    "jobs=[]\n",
    "for i in range(n+1):\n",
    "    if (i==0):\n",
    "        nada=archivo.readline()\n",
    "    else:\n",
    "        Ji,di,pi=archivo.readline().strip().split(\";\")\n",
    "        jobs.append([Ji,float(di),float(pi)])\n",
    "schedules, rejected, impossible = H2(jobs, M)"
   ]
  },
  {
   "cell_type": "markdown",
   "metadata": {},
   "source": [
    "## Entrada de datos: 4x3000x1.5x1"
   ]
  },
  {
   "cell_type": "code",
   "execution_count": 86,
   "metadata": {},
   "outputs": [
    {
     "name": "stdout",
     "output_type": "stream",
     "text": [
      "Execution time 15.049166202545166\n",
      "2998\n"
     ]
    }
   ],
   "source": [
    "start=time.time()\n",
    "M=4\n",
    "n=3000\n",
    "ruta=\"/Users/elPatan03/Desktop/lala/lala/4x3000x1.5x1.csv\"\n",
    "archivo=open(ruta,\"r\")\n",
    "jobs=[]\n",
    "for i in range(n+1):\n",
    "    if (i==0):\n",
    "        nada=archivo.readline()\n",
    "    else:\n",
    "        Ji,di,pi=archivo.readline().strip().split(\";\")\n",
    "        jobs.append([Ji,float(di),float(pi)])\n",
    "schedules, rejected, impossible = H2(jobs, M)"
   ]
  },
  {
   "cell_type": "markdown",
   "metadata": {},
   "source": [
    "## Entrada de datos: 4x3000x1.5x2"
   ]
  },
  {
   "cell_type": "code",
   "execution_count": 87,
   "metadata": {},
   "outputs": [
    {
     "name": "stdout",
     "output_type": "stream",
     "text": [
      "Execution time 14.196048259735107\n",
      "2997\n"
     ]
    }
   ],
   "source": [
    "start=time.time()\n",
    "M=4\n",
    "n=3000\n",
    "ruta=\"/Users/elPatan03/Desktop/lala/lala/4x3000x1.5x2.csv\"\n",
    "archivo=open(ruta,\"r\")\n",
    "jobs=[]\n",
    "for i in range(n+1):\n",
    "    if (i==0):\n",
    "        nada=archivo.readline()\n",
    "    else:\n",
    "        Ji,di,pi=archivo.readline().strip().split(\";\")\n",
    "        jobs.append([Ji,float(di),float(pi)])\n",
    "schedules, rejected, impossible = H2(jobs, M)"
   ]
  },
  {
   "cell_type": "markdown",
   "metadata": {},
   "source": [
    "## Entrada de datos: 4x3000x1.5x3"
   ]
  },
  {
   "cell_type": "code",
   "execution_count": 88,
   "metadata": {},
   "outputs": [
    {
     "name": "stdout",
     "output_type": "stream",
     "text": [
      "Execution time 5.529931306838989\n",
      "2998\n"
     ]
    }
   ],
   "source": [
    "start=time.time()\n",
    "M=4\n",
    "n=3000\n",
    "ruta=\"/Users/elPatan03/Desktop/lala/lala/4x3000x1.5x3.csv\"\n",
    "archivo=open(ruta,\"r\")\n",
    "jobs=[]\n",
    "for i in range(n+1):\n",
    "    if (i==0):\n",
    "        nada=archivo.readline()\n",
    "    else:\n",
    "        Ji,di,pi=archivo.readline().strip().split(\";\")\n",
    "        jobs.append([Ji,float(di),float(pi)])\n",
    "schedules, rejected, impossible = H2(jobs, M)"
   ]
  },
  {
   "cell_type": "markdown",
   "metadata": {},
   "source": [
    "## Entrada de datos: 4x3000x1.5x4"
   ]
  },
  {
   "cell_type": "code",
   "execution_count": 89,
   "metadata": {},
   "outputs": [
    {
     "name": "stdout",
     "output_type": "stream",
     "text": [
      "Execution time 9.573489427566528\n",
      "2996\n"
     ]
    }
   ],
   "source": [
    "start=time.time()\n",
    "M=4\n",
    "n=3000\n",
    "ruta=\"/Users/elPatan03/Desktop/lala/lala/4x3000x1.5x4.csv\"\n",
    "archivo=open(ruta,\"r\")\n",
    "jobs=[]\n",
    "for i in range(n+1):\n",
    "    if (i==0):\n",
    "        nada=archivo.readline()\n",
    "    else:\n",
    "        Ji,di,pi=archivo.readline().strip().split(\";\")\n",
    "        jobs.append([Ji,float(di),float(pi)])\n",
    "schedules, rejected, impossible = H2(jobs, M)"
   ]
  },
  {
   "cell_type": "markdown",
   "metadata": {},
   "source": [
    "## Entrada de datos: 4x3000x1.5x5"
   ]
  },
  {
   "cell_type": "code",
   "execution_count": 90,
   "metadata": {},
   "outputs": [
    {
     "name": "stdout",
     "output_type": "stream",
     "text": [
      "Execution time 8.916075229644775\n",
      "2995\n"
     ]
    }
   ],
   "source": [
    "start=time.time()\n",
    "M=4\n",
    "n=3000\n",
    "ruta=\"/Users/elPatan03/Desktop/lala/lala/4x3000x1.5x5.csv\"\n",
    "archivo=open(ruta,\"r\")\n",
    "jobs=[]\n",
    "for i in range(n+1):\n",
    "    if (i==0):\n",
    "        nada=archivo.readline()\n",
    "    else:\n",
    "        Ji,di,pi=archivo.readline().strip().split(\";\")\n",
    "        jobs.append([Ji,float(di),float(pi)])\n",
    "schedules, rejected, impossible = H2(jobs, M)"
   ]
  },
  {
   "cell_type": "markdown",
   "metadata": {},
   "source": [
    "## Entrada de datos: 4x3000x2x1"
   ]
  },
  {
   "cell_type": "code",
   "execution_count": 91,
   "metadata": {},
   "outputs": [
    {
     "name": "stdout",
     "output_type": "stream",
     "text": [
      "Execution time 8.592349529266357\n",
      "2968\n"
     ]
    }
   ],
   "source": [
    "start=time.time()\n",
    "M=4\n",
    "n=3000\n",
    "ruta=\"/Users/elPatan03/Desktop/lala/lala/4x3000x2x1.csv\"\n",
    "archivo=open(ruta,\"r\")\n",
    "jobs=[]\n",
    "for i in range(n+1):\n",
    "    if (i==0):\n",
    "        nada=archivo.readline()\n",
    "    else:\n",
    "        Ji,di,pi=archivo.readline().strip().split(\";\")\n",
    "        jobs.append([Ji,float(di),float(pi)])\n",
    "schedules, rejected, impossible = H2(jobs, M)"
   ]
  },
  {
   "cell_type": "markdown",
   "metadata": {},
   "source": [
    "## Entrada de datos: 4x3000x2x2"
   ]
  },
  {
   "cell_type": "code",
   "execution_count": 92,
   "metadata": {},
   "outputs": [
    {
     "name": "stdout",
     "output_type": "stream",
     "text": [
      "Execution time 7.634462118148804\n",
      "2975\n"
     ]
    }
   ],
   "source": [
    "start=time.time()\n",
    "M=4\n",
    "n=3000\n",
    "ruta=\"/Users/elPatan03/Desktop/lala/lala/4x3000x2x2.csv\"\n",
    "archivo=open(ruta,\"r\")\n",
    "jobs=[]\n",
    "for i in range(n+1):\n",
    "    if (i==0):\n",
    "        nada=archivo.readline()\n",
    "    else:\n",
    "        Ji,di,pi=archivo.readline().strip().split(\";\")\n",
    "        jobs.append([Ji,float(di),float(pi)])\n",
    "schedules, rejected, impossible = H2(jobs, M)"
   ]
  },
  {
   "cell_type": "markdown",
   "metadata": {},
   "source": [
    "## Entrada de datos: 4x3000x2x3"
   ]
  },
  {
   "cell_type": "code",
   "execution_count": 93,
   "metadata": {},
   "outputs": [
    {
     "name": "stdout",
     "output_type": "stream",
     "text": [
      "Execution time 8.258429050445557\n",
      "2968\n"
     ]
    }
   ],
   "source": [
    "start=time.time()\n",
    "M=4\n",
    "n=3000\n",
    "ruta=\"/Users/elPatan03/Desktop/lala/lala/4x3000x2x3.csv\"\n",
    "archivo=open(ruta,\"r\")\n",
    "jobs=[]\n",
    "for i in range(n+1):\n",
    "    if (i==0):\n",
    "        nada=archivo.readline()\n",
    "    else:\n",
    "        Ji,di,pi=archivo.readline().strip().split(\";\")\n",
    "        jobs.append([Ji,float(di),float(pi)])\n",
    "schedules, rejected, impossible = H2(jobs, M)"
   ]
  },
  {
   "cell_type": "markdown",
   "metadata": {},
   "source": [
    "## Entrada de datos: 4x3000x2x4"
   ]
  },
  {
   "cell_type": "code",
   "execution_count": 94,
   "metadata": {},
   "outputs": [
    {
     "name": "stdout",
     "output_type": "stream",
     "text": [
      "Execution time 10.519689559936523\n",
      "2976\n"
     ]
    }
   ],
   "source": [
    "start=time.time()\n",
    "M=4\n",
    "n=3000\n",
    "ruta=\"/Users/elPatan03/Desktop/lala/lala/4x3000x2x4.csv\"\n",
    "archivo=open(ruta,\"r\")\n",
    "jobs=[]\n",
    "for i in range(n+1):\n",
    "    if (i==0):\n",
    "        nada=archivo.readline()\n",
    "    else:\n",
    "        Ji,di,pi=archivo.readline().strip().split(\";\")\n",
    "        jobs.append([Ji,float(di),float(pi)])\n",
    "schedules, rejected, impossible = H2(jobs, M)"
   ]
  },
  {
   "cell_type": "markdown",
   "metadata": {},
   "source": [
    "## Entrada de datos: 4x3000x2x5"
   ]
  },
  {
   "cell_type": "code",
   "execution_count": 95,
   "metadata": {},
   "outputs": [
    {
     "name": "stdout",
     "output_type": "stream",
     "text": [
      "Execution time 6.484238386154175\n",
      "2961\n"
     ]
    }
   ],
   "source": [
    "start=time.time()\n",
    "M=4\n",
    "n=3000\n",
    "ruta=\"/Users/elPatan03/Desktop/lala/lala/4x3000x2x5.csv\"\n",
    "archivo=open(ruta,\"r\")\n",
    "jobs=[]\n",
    "for i in range(n+1):\n",
    "    if (i==0):\n",
    "        nada=archivo.readline()\n",
    "    else:\n",
    "        Ji,di,pi=archivo.readline().strip().split(\";\")\n",
    "        jobs.append([Ji,float(di),float(pi)])\n",
    "schedules, rejected, impossible = H2(jobs, M)"
   ]
  },
  {
   "cell_type": "markdown",
   "metadata": {},
   "source": [
    "## Entrada de datos: 4x3000x2.5x1"
   ]
  },
  {
   "cell_type": "code",
   "execution_count": 96,
   "metadata": {},
   "outputs": [
    {
     "name": "stdout",
     "output_type": "stream",
     "text": [
      "Execution time 6.474972248077393\n",
      "2659\n"
     ]
    }
   ],
   "source": [
    "start=time.time()\n",
    "M=4\n",
    "n=3000\n",
    "ruta=\"/Users/elPatan03/Desktop/lala/lala/4x3000x2.5x1.csv\"\n",
    "archivo=open(ruta,\"r\")\n",
    "jobs=[]\n",
    "for i in range(n+1):\n",
    "    if (i==0):\n",
    "        nada=archivo.readline()\n",
    "    else:\n",
    "        Ji,di,pi=archivo.readline().strip().split(\";\")\n",
    "        jobs.append([Ji,float(di),float(pi)])\n",
    "schedules, rejected, impossible = H2(jobs, M)"
   ]
  },
  {
   "cell_type": "markdown",
   "metadata": {},
   "source": [
    "## Entrada de datos: 4x3000x2.5x2"
   ]
  },
  {
   "cell_type": "code",
   "execution_count": 97,
   "metadata": {},
   "outputs": [
    {
     "name": "stdout",
     "output_type": "stream",
     "text": [
      "Execution time 7.715286016464233\n",
      "2662\n"
     ]
    }
   ],
   "source": [
    "start=time.time()\n",
    "M=4\n",
    "n=3000\n",
    "ruta=\"/Users/elPatan03/Desktop/lala/lala/4x3000x2.5x2.csv\"\n",
    "archivo=open(ruta,\"r\")\n",
    "jobs=[]\n",
    "for i in range(n+1):\n",
    "    if (i==0):\n",
    "        nada=archivo.readline()\n",
    "    else:\n",
    "        Ji,di,pi=archivo.readline().strip().split(\";\")\n",
    "        jobs.append([Ji,float(di),float(pi)])\n",
    "schedules, rejected, impossible = H2(jobs, M)"
   ]
  },
  {
   "cell_type": "markdown",
   "metadata": {},
   "source": [
    "## Entrada de datos: 4x3000x2.5x3"
   ]
  },
  {
   "cell_type": "code",
   "execution_count": 98,
   "metadata": {},
   "outputs": [
    {
     "name": "stdout",
     "output_type": "stream",
     "text": [
      "Execution time 6.637496709823608\n",
      "2659\n"
     ]
    }
   ],
   "source": [
    "start=time.time()\n",
    "M=4\n",
    "n=3000\n",
    "ruta=\"/Users/elPatan03/Desktop/lala/lala/4x3000x2.5x3.csv\"\n",
    "archivo=open(ruta,\"r\")\n",
    "jobs=[]\n",
    "for i in range(n+1):\n",
    "    if (i==0):\n",
    "        nada=archivo.readline()\n",
    "    else:\n",
    "        Ji,di,pi=archivo.readline().strip().split(\";\")\n",
    "        jobs.append([Ji,float(di),float(pi)])\n",
    "schedules, rejected, impossible = H2(jobs, M)"
   ]
  },
  {
   "cell_type": "markdown",
   "metadata": {},
   "source": [
    "## Entrada de datos: 4x3000x2.5x4"
   ]
  },
  {
   "cell_type": "code",
   "execution_count": 99,
   "metadata": {},
   "outputs": [
    {
     "name": "stdout",
     "output_type": "stream",
     "text": [
      "Execution time 7.326918840408325\n",
      "2655\n"
     ]
    }
   ],
   "source": [
    "start=time.time()\n",
    "M=4\n",
    "n=3000\n",
    "ruta=\"/Users/elPatan03/Desktop/lala/lala/4x3000x2.5x4.csv\"\n",
    "archivo=open(ruta,\"r\")\n",
    "jobs=[]\n",
    "for i in range(n+1):\n",
    "    if (i==0):\n",
    "        nada=archivo.readline()\n",
    "    else:\n",
    "        Ji,di,pi=archivo.readline().strip().split(\";\")\n",
    "        jobs.append([Ji,float(di),float(pi)])\n",
    "schedules, rejected, impossible = H2(jobs, M)"
   ]
  },
  {
   "cell_type": "markdown",
   "metadata": {},
   "source": [
    "## Entrada de datos: 4x3000x2.5x5"
   ]
  },
  {
   "cell_type": "code",
   "execution_count": 100,
   "metadata": {
    "scrolled": true
   },
   "outputs": [
    {
     "name": "stdout",
     "output_type": "stream",
     "text": [
      "Execution time 7.826882362365723\n",
      "2661\n"
     ]
    }
   ],
   "source": [
    "start=time.time()\n",
    "M=4\n",
    "n=3000\n",
    "ruta=\"/Users/elPatan03/Desktop/lala/lala/4x3000x2.5x5.csv\"\n",
    "archivo=open(ruta,\"r\")\n",
    "jobs=[]\n",
    "for i in range(n+1):\n",
    "    if (i==0):\n",
    "        nada=archivo.readline()\n",
    "    else:\n",
    "        Ji,di,pi=archivo.readline().strip().split(\";\")\n",
    "        jobs.append([Ji,float(di),float(pi)])\n",
    "schedules, rejected, impossible = H2(jobs, M)"
   ]
  },
  {
   "cell_type": "markdown",
   "metadata": {},
   "source": [
    "## Entrada de datos: 4x3000x3x1"
   ]
  },
  {
   "cell_type": "code",
   "execution_count": 101,
   "metadata": {},
   "outputs": [
    {
     "name": "stdout",
     "output_type": "stream",
     "text": [
      "Execution time 5.654920816421509\n",
      "2419\n"
     ]
    }
   ],
   "source": [
    "start=time.time()\n",
    "M=4\n",
    "n=3000\n",
    "ruta=\"/Users/elPatan03/Desktop/lala/lala/4x3000x3x1.csv\"\n",
    "archivo=open(ruta,\"r\")\n",
    "jobs=[]\n",
    "for i in range(n+1):\n",
    "    if (i==0):\n",
    "        nada=archivo.readline()\n",
    "    else:\n",
    "        Ji,di,pi=archivo.readline().strip().split(\";\")\n",
    "        jobs.append([Ji,float(di),float(pi)])\n",
    "schedules, rejected, impossible = H2(jobs, M)"
   ]
  },
  {
   "cell_type": "markdown",
   "metadata": {},
   "source": [
    "## Entrada de datos: 4x3000x3x2"
   ]
  },
  {
   "cell_type": "code",
   "execution_count": 102,
   "metadata": {},
   "outputs": [
    {
     "name": "stdout",
     "output_type": "stream",
     "text": [
      "Execution time 22.858195543289185\n",
      "2420\n"
     ]
    }
   ],
   "source": [
    "start=time.time()\n",
    "M=4\n",
    "n=3000\n",
    "ruta=\"/Users/elPatan03/Desktop/lala/lala/4x3000x3x2.csv\"\n",
    "archivo=open(ruta,\"r\")\n",
    "jobs=[]\n",
    "for i in range(n+1):\n",
    "    if (i==0):\n",
    "        nada=archivo.readline()\n",
    "    else:\n",
    "        Ji,di,pi=archivo.readline().strip().split(\";\")\n",
    "        jobs.append([Ji,float(di),float(pi)])\n",
    "schedules, rejected, impossible = H2(jobs, M)"
   ]
  },
  {
   "cell_type": "markdown",
   "metadata": {},
   "source": [
    "## Entrada de datos: 4x3000x3x3"
   ]
  },
  {
   "cell_type": "code",
   "execution_count": 103,
   "metadata": {},
   "outputs": [
    {
     "name": "stdout",
     "output_type": "stream",
     "text": [
      "Execution time 6.082477807998657\n",
      "2421\n"
     ]
    }
   ],
   "source": [
    "start=time.time()\n",
    "M=4\n",
    "n=3000\n",
    "ruta=\"/Users/elPatan03/Desktop/lala/lala/4x3000x3x3.csv\"\n",
    "archivo=open(ruta,\"r\")\n",
    "jobs=[]\n",
    "for i in range(n+1):\n",
    "    if (i==0):\n",
    "        nada=archivo.readline()\n",
    "    else:\n",
    "        Ji,di,pi=archivo.readline().strip().split(\";\")\n",
    "        jobs.append([Ji,float(di),float(pi)])\n",
    "schedules, rejected, impossible = H2(jobs, M)"
   ]
  },
  {
   "cell_type": "markdown",
   "metadata": {},
   "source": [
    "## Entrada de datos: 4x3000x3x4"
   ]
  },
  {
   "cell_type": "code",
   "execution_count": 104,
   "metadata": {},
   "outputs": [
    {
     "name": "stdout",
     "output_type": "stream",
     "text": [
      "Execution time 6.11719274520874\n",
      "2417\n"
     ]
    }
   ],
   "source": [
    "start=time.time()\n",
    "M=4\n",
    "n=3000\n",
    "ruta=\"/Users/elPatan03/Desktop/lala/lala/4x3000x3x4.csv\"\n",
    "archivo=open(ruta,\"r\")\n",
    "jobs=[]\n",
    "for i in range(n+1):\n",
    "    if (i==0):\n",
    "        nada=archivo.readline()\n",
    "    else:\n",
    "        Ji,di,pi=archivo.readline().strip().split(\";\")\n",
    "        jobs.append([Ji,float(di),float(pi)])\n",
    "schedules, rejected, impossible = H2(jobs, M)"
   ]
  },
  {
   "cell_type": "markdown",
   "metadata": {},
   "source": [
    "## Entrada de datos: 4x3000x3x5"
   ]
  },
  {
   "cell_type": "code",
   "execution_count": 105,
   "metadata": {},
   "outputs": [
    {
     "name": "stdout",
     "output_type": "stream",
     "text": [
      "Execution time 8.651389598846436\n",
      "2411\n"
     ]
    }
   ],
   "source": [
    "start=time.time()\n",
    "M=4\n",
    "n=3000\n",
    "ruta=\"/Users/elPatan03/Desktop/lala/lala/4x3000x3x5.csv\"\n",
    "archivo=open(ruta,\"r\")\n",
    "jobs=[]\n",
    "for i in range(n+1):\n",
    "    if (i==0):\n",
    "        nada=archivo.readline()\n",
    "    else:\n",
    "        Ji,di,pi=archivo.readline().strip().split(\";\")\n",
    "        jobs.append([Ji,float(di),float(pi)])\n",
    "schedules, rejected, impossible = H2(jobs, M)"
   ]
  },
  {
   "cell_type": "markdown",
   "metadata": {},
   "source": [
    "## Entrada de datos: 4x3000x3.5x1"
   ]
  },
  {
   "cell_type": "code",
   "execution_count": 106,
   "metadata": {},
   "outputs": [
    {
     "name": "stdout",
     "output_type": "stream",
     "text": [
      "Execution time 6.334541320800781\n",
      "2222\n"
     ]
    }
   ],
   "source": [
    "start=time.time()\n",
    "M=4\n",
    "n=3000\n",
    "ruta=\"/Users/elPatan03/Desktop/lala/lala/4x3000x3.5x1.csv\"\n",
    "archivo=open(ruta,\"r\")\n",
    "jobs=[]\n",
    "for i in range(n+1):\n",
    "    if (i==0):\n",
    "        nada=archivo.readline()\n",
    "    else:\n",
    "        Ji,di,pi=archivo.readline().strip().split(\";\")\n",
    "        jobs.append([Ji,float(di),float(pi)])\n",
    "schedules, rejected, impossible = H2(jobs, M)"
   ]
  },
  {
   "cell_type": "markdown",
   "metadata": {},
   "source": [
    "## Entrada de datos: 4x3000x3.5x2"
   ]
  },
  {
   "cell_type": "code",
   "execution_count": 107,
   "metadata": {},
   "outputs": [
    {
     "name": "stdout",
     "output_type": "stream",
     "text": [
      "Execution time 6.700967073440552\n",
      "2242\n"
     ]
    }
   ],
   "source": [
    "start=time.time()\n",
    "M=4\n",
    "n=3000\n",
    "ruta=\"/Users/elPatan03/Desktop/lala/lala/4x3000x3.5x2.csv\"\n",
    "archivo=open(ruta,\"r\")\n",
    "jobs=[]\n",
    "for i in range(n+1):\n",
    "    if (i==0):\n",
    "        nada=archivo.readline()\n",
    "    else:\n",
    "        Ji,di,pi=archivo.readline().strip().split(\";\")\n",
    "        jobs.append([Ji,float(di),float(pi)])\n",
    "schedules, rejected, impossible = H2(jobs, M)"
   ]
  },
  {
   "cell_type": "markdown",
   "metadata": {},
   "source": [
    "## Entrada de datos: 4x3000x3.5x3"
   ]
  },
  {
   "cell_type": "code",
   "execution_count": 108,
   "metadata": {},
   "outputs": [
    {
     "name": "stdout",
     "output_type": "stream",
     "text": [
      "Execution time 5.319128751754761\n",
      "2229\n"
     ]
    }
   ],
   "source": [
    "start=time.time()\n",
    "M=4\n",
    "n=3000\n",
    "ruta=\"/Users/elPatan03/Desktop/lala/lala/4x3000x3.5x3.csv\"\n",
    "archivo=open(ruta,\"r\")\n",
    "jobs=[]\n",
    "for i in range(n+1):\n",
    "    if (i==0):\n",
    "        nada=archivo.readline()\n",
    "    else:\n",
    "        Ji,di,pi=archivo.readline().strip().split(\";\")\n",
    "        jobs.append([Ji,float(di),float(pi)])\n",
    "schedules, rejected, impossible = H2(jobs, M)"
   ]
  },
  {
   "cell_type": "markdown",
   "metadata": {},
   "source": [
    "## Entrada de datos: 4x3000x3.5x4"
   ]
  },
  {
   "cell_type": "code",
   "execution_count": 109,
   "metadata": {},
   "outputs": [
    {
     "name": "stdout",
     "output_type": "stream",
     "text": [
      "Execution time 7.714317560195923\n",
      "2222\n"
     ]
    }
   ],
   "source": [
    "start=time.time()\n",
    "M=4\n",
    "n=3000\n",
    "ruta=\"/Users/elPatan03/Desktop/lala/lala/4x3000x3.5x4.csv\"\n",
    "archivo=open(ruta,\"r\")\n",
    "jobs=[]\n",
    "for i in range(n+1):\n",
    "    if (i==0):\n",
    "        nada=archivo.readline()\n",
    "    else:\n",
    "        Ji,di,pi=archivo.readline().strip().split(\";\")\n",
    "        jobs.append([Ji,float(di),float(pi)])\n",
    "schedules, rejected, impossible = H2(jobs, M)"
   ]
  },
  {
   "cell_type": "markdown",
   "metadata": {},
   "source": [
    "## Entrada de datos: 4x3000x3.5x5"
   ]
  },
  {
   "cell_type": "code",
   "execution_count": 110,
   "metadata": {},
   "outputs": [
    {
     "name": "stdout",
     "output_type": "stream",
     "text": [
      "Execution time 5.053926944732666\n",
      "2223\n"
     ]
    }
   ],
   "source": [
    "start=time.time()\n",
    "M=4\n",
    "n=3000\n",
    "ruta=\"/Users/elPatan03/Desktop/lala/lala/4x3000x3.5x5.csv\"\n",
    "archivo=open(ruta,\"r\")\n",
    "jobs=[]\n",
    "for i in range(n+1):\n",
    "    if (i==0):\n",
    "        nada=archivo.readline()\n",
    "    else:\n",
    "        Ji,di,pi=archivo.readline().strip().split(\";\")\n",
    "        jobs.append([Ji,float(di),float(pi)])\n",
    "schedules, rejected, impossible = H2(jobs, M)"
   ]
  },
  {
   "cell_type": "markdown",
   "metadata": {},
   "source": [
    "## Entrada de datos: 4x3000x4x1"
   ]
  },
  {
   "cell_type": "code",
   "execution_count": 111,
   "metadata": {},
   "outputs": [
    {
     "name": "stdout",
     "output_type": "stream",
     "text": [
      "Execution time 8.707801342010498\n",
      "2073\n"
     ]
    }
   ],
   "source": [
    "start=time.time()\n",
    "M=4\n",
    "n=3000\n",
    "ruta=\"/Users/elPatan03/Desktop/lala/lala/4x3000x4x1.csv\"\n",
    "archivo=open(ruta,\"r\")\n",
    "jobs=[]\n",
    "for i in range(n+1):\n",
    "    if (i==0):\n",
    "        nada=archivo.readline()\n",
    "    else:\n",
    "        Ji,di,pi=archivo.readline().strip().split(\";\")\n",
    "        jobs.append([Ji,float(di),float(pi)])\n",
    "schedules, rejected, impossible = H2(jobs, M)"
   ]
  },
  {
   "cell_type": "markdown",
   "metadata": {},
   "source": [
    "## Entrada de datos: 4x3000x4x2"
   ]
  },
  {
   "cell_type": "code",
   "execution_count": 112,
   "metadata": {},
   "outputs": [
    {
     "name": "stdout",
     "output_type": "stream",
     "text": [
      "Execution time 13.664306640625\n",
      "2073\n"
     ]
    }
   ],
   "source": [
    "start=time.time()\n",
    "M=4\n",
    "n=3000\n",
    "ruta=\"/Users/elPatan03/Desktop/lala/lala/4x3000x4x2.csv\"\n",
    "archivo=open(ruta,\"r\")\n",
    "jobs=[]\n",
    "for i in range(n+1):\n",
    "    if (i==0):\n",
    "        nada=archivo.readline()\n",
    "    else:\n",
    "        Ji,di,pi=archivo.readline().strip().split(\";\")\n",
    "        jobs.append([Ji,float(di),float(pi)])\n",
    "schedules, rejected, impossible = H2(jobs, M)"
   ]
  },
  {
   "cell_type": "markdown",
   "metadata": {},
   "source": [
    "## Entrada de datos: 4x3000x4x3"
   ]
  },
  {
   "cell_type": "code",
   "execution_count": 113,
   "metadata": {},
   "outputs": [
    {
     "name": "stdout",
     "output_type": "stream",
     "text": [
      "Execution time 5.321613550186157\n",
      "2072\n"
     ]
    }
   ],
   "source": [
    "start=time.time()\n",
    "M=4\n",
    "n=3000\n",
    "ruta=\"/Users/elPatan03/Desktop/lala/lala/4x3000x4x3.csv\"\n",
    "archivo=open(ruta,\"r\")\n",
    "jobs=[]\n",
    "for i in range(n+1):\n",
    "    if (i==0):\n",
    "        nada=archivo.readline()\n",
    "    else:\n",
    "        Ji,di,pi=archivo.readline().strip().split(\";\")\n",
    "        jobs.append([Ji,float(di),float(pi)])\n",
    "schedules, rejected, impossible = H2(jobs, M)"
   ]
  },
  {
   "cell_type": "markdown",
   "metadata": {},
   "source": [
    "## Entrada de datos: 4x3000x4x4"
   ]
  },
  {
   "cell_type": "code",
   "execution_count": 114,
   "metadata": {},
   "outputs": [
    {
     "name": "stdout",
     "output_type": "stream",
     "text": [
      "Execution time 5.534543752670288\n",
      "2085\n"
     ]
    }
   ],
   "source": [
    "start=time.time()\n",
    "M=4\n",
    "n=3000\n",
    "ruta=\"/Users/elPatan03/Desktop/lala/lala/4x3000x4x4.csv\"\n",
    "archivo=open(ruta,\"r\")\n",
    "jobs=[]\n",
    "for i in range(n+1):\n",
    "    if (i==0):\n",
    "        nada=archivo.readline()\n",
    "    else:\n",
    "        Ji,di,pi=archivo.readline().strip().split(\";\")\n",
    "        jobs.append([Ji,float(di),float(pi)])\n",
    "schedules, rejected, impossible = H2(jobs, M)"
   ]
  },
  {
   "cell_type": "markdown",
   "metadata": {},
   "source": [
    "## Entrada de datos: 4x3000x4x5"
   ]
  },
  {
   "cell_type": "code",
   "execution_count": 115,
   "metadata": {},
   "outputs": [
    {
     "name": "stdout",
     "output_type": "stream",
     "text": [
      "Execution time 5.063645839691162\n",
      "2075\n"
     ]
    }
   ],
   "source": [
    "start=time.time()\n",
    "M=4\n",
    "n=3000\n",
    "ruta=\"/Users/elPatan03/Desktop/lala/lala/4x3000x4x5.csv\"\n",
    "archivo=open(ruta,\"r\")\n",
    "jobs=[]\n",
    "for i in range(n+1):\n",
    "    if (i==0):\n",
    "        nada=archivo.readline()\n",
    "    else:\n",
    "        Ji,di,pi=archivo.readline().strip().split(\";\")\n",
    "        jobs.append([Ji,float(di),float(pi)])\n",
    "schedules, rejected, impossible = H2(jobs, M)"
   ]
  },
  {
   "cell_type": "markdown",
   "metadata": {},
   "source": [
    "## Entrada de datos: 4x3000x4.5x1"
   ]
  },
  {
   "cell_type": "code",
   "execution_count": 116,
   "metadata": {},
   "outputs": [
    {
     "name": "stdout",
     "output_type": "stream",
     "text": [
      "Execution time 4.457067966461182\n",
      "1934\n"
     ]
    }
   ],
   "source": [
    "start=time.time()\n",
    "M=4\n",
    "n=3000\n",
    "ruta=\"/Users/elPatan03/Desktop/lala/lala/4x3000x4.5x1.csv\"\n",
    "archivo=open(ruta,\"r\")\n",
    "jobs=[]\n",
    "for i in range(n+1):\n",
    "    if (i==0):\n",
    "        nada=archivo.readline()\n",
    "    else:\n",
    "        Ji,di,pi=archivo.readline().strip().split(\";\")\n",
    "        jobs.append([Ji,float(di),float(pi)])\n",
    "schedules, rejected, impossible = H2(jobs, M)"
   ]
  },
  {
   "cell_type": "markdown",
   "metadata": {},
   "source": [
    "## Entrada de datos: 4x3000x4.5x2"
   ]
  },
  {
   "cell_type": "code",
   "execution_count": 117,
   "metadata": {},
   "outputs": [
    {
     "name": "stdout",
     "output_type": "stream",
     "text": [
      "Execution time 5.329521179199219\n",
      "1949\n"
     ]
    }
   ],
   "source": [
    "start=time.time()\n",
    "M=4\n",
    "n=3000\n",
    "ruta=\"/Users/elPatan03/Desktop/lala/lala/4x3000x4.5x2.csv\"\n",
    "archivo=open(ruta,\"r\")\n",
    "jobs=[]\n",
    "for i in range(n+1):\n",
    "    if (i==0):\n",
    "        nada=archivo.readline()\n",
    "    else:\n",
    "        Ji,di,pi=archivo.readline().strip().split(\";\")\n",
    "        jobs.append([Ji,float(di),float(pi)])\n",
    "schedules, rejected, impossible = H2(jobs, M)"
   ]
  },
  {
   "cell_type": "markdown",
   "metadata": {},
   "source": [
    "## Entrada de datos: 4x3000x4.5x3"
   ]
  },
  {
   "cell_type": "code",
   "execution_count": 118,
   "metadata": {},
   "outputs": [
    {
     "name": "stdout",
     "output_type": "stream",
     "text": [
      "Execution time 5.006656169891357\n",
      "1950\n"
     ]
    }
   ],
   "source": [
    "start=time.time()\n",
    "M=4\n",
    "n=3000\n",
    "ruta=\"/Users/elPatan03/Desktop/lala/lala/4x3000x4.5x3.csv\"\n",
    "archivo=open(ruta,\"r\")\n",
    "jobs=[]\n",
    "for i in range(n+1):\n",
    "    if (i==0):\n",
    "        nada=archivo.readline()\n",
    "    else:\n",
    "        Ji,di,pi=archivo.readline().strip().split(\";\")\n",
    "        jobs.append([Ji,float(di),float(pi)])\n",
    "schedules, rejected, impossible = H2(jobs, M)"
   ]
  },
  {
   "cell_type": "markdown",
   "metadata": {},
   "source": [
    "## Entrada de datos: 4x3000x4.5x4"
   ]
  },
  {
   "cell_type": "code",
   "execution_count": 119,
   "metadata": {},
   "outputs": [
    {
     "name": "stdout",
     "output_type": "stream",
     "text": [
      "Execution time 4.676807641983032\n",
      "1955\n"
     ]
    }
   ],
   "source": [
    "start=time.time()\n",
    "M=4\n",
    "n=3000\n",
    "ruta=\"/Users/elPatan03/Desktop/lala/lala/4x3000x4.5x4.csv\"\n",
    "archivo=open(ruta,\"r\")\n",
    "jobs=[]\n",
    "for i in range(n+1):\n",
    "    if (i==0):\n",
    "        nada=archivo.readline()\n",
    "    else:\n",
    "        Ji,di,pi=archivo.readline().strip().split(\";\")\n",
    "        jobs.append([Ji,float(di),float(pi)])\n",
    "schedules, rejected, impossible = H2(jobs, M)"
   ]
  },
  {
   "cell_type": "markdown",
   "metadata": {},
   "source": [
    "## Entrada de datos: 4x3000x4.5x5"
   ]
  },
  {
   "cell_type": "code",
   "execution_count": 120,
   "metadata": {
    "scrolled": true
   },
   "outputs": [
    {
     "name": "stdout",
     "output_type": "stream",
     "text": [
      "Execution time 4.872705698013306\n",
      "1932\n"
     ]
    }
   ],
   "source": [
    "start=time.time()\n",
    "M=4\n",
    "n=3000\n",
    "ruta=\"/Users/elPatan03/Desktop/lala/lala/4x3000x4.5x5.csv\"\n",
    "archivo=open(ruta,\"r\")\n",
    "jobs=[]\n",
    "for i in range(n+1):\n",
    "    if (i==0):\n",
    "        nada=archivo.readline()\n",
    "    else:\n",
    "        Ji,di,pi=archivo.readline().strip().split(\";\")\n",
    "        jobs.append([Ji,float(di),float(pi)])\n",
    "schedules, rejected, impossible = H2(jobs, M)"
   ]
  },
  {
   "cell_type": "markdown",
   "metadata": {},
   "source": [
    "## Entrada de datos: 4x3000x5x1"
   ]
  },
  {
   "cell_type": "code",
   "execution_count": 121,
   "metadata": {},
   "outputs": [
    {
     "name": "stdout",
     "output_type": "stream",
     "text": [
      "Execution time 4.880640983581543\n",
      "1844\n"
     ]
    }
   ],
   "source": [
    "start=time.time()\n",
    "M=4\n",
    "n=3000\n",
    "ruta=\"/Users/elPatan03/Desktop/lala/lala/4x3000x5x1.csv\"\n",
    "archivo=open(ruta,\"r\")\n",
    "jobs=[]\n",
    "for i in range(n+1):\n",
    "    if (i==0):\n",
    "        nada=archivo.readline()\n",
    "    else:\n",
    "        Ji,di,pi=archivo.readline().strip().split(\";\")\n",
    "        jobs.append([Ji,float(di),float(pi)])\n",
    "schedules, rejected, impossible = H2(jobs, M)"
   ]
  },
  {
   "cell_type": "markdown",
   "metadata": {},
   "source": [
    "## Entrada de datos: 4x3000x5x2"
   ]
  },
  {
   "cell_type": "code",
   "execution_count": 122,
   "metadata": {},
   "outputs": [
    {
     "name": "stdout",
     "output_type": "stream",
     "text": [
      "Execution time 4.451601028442383\n",
      "1830\n"
     ]
    }
   ],
   "source": [
    "start=time.time()\n",
    "M=4\n",
    "n=3000\n",
    "ruta=\"/Users/elPatan03/Desktop/lala/lala/4x3000x5x2.csv\"\n",
    "archivo=open(ruta,\"r\")\n",
    "jobs=[]\n",
    "for i in range(n+1):\n",
    "    if (i==0):\n",
    "        nada=archivo.readline()\n",
    "    else:\n",
    "        Ji,di,pi=archivo.readline().strip().split(\";\")\n",
    "        jobs.append([Ji,float(di),float(pi)])\n",
    "schedules, rejected, impossible = H2(jobs, M)"
   ]
  },
  {
   "cell_type": "markdown",
   "metadata": {},
   "source": [
    "## Entrada de datos: 4x1000x5x3"
   ]
  },
  {
   "cell_type": "code",
   "execution_count": 123,
   "metadata": {},
   "outputs": [
    {
     "name": "stdout",
     "output_type": "stream",
     "text": [
      "Execution time 8.168157577514648\n",
      "1835\n"
     ]
    }
   ],
   "source": [
    "start=time.time()\n",
    "M=4\n",
    "n=3000\n",
    "ruta=\"/Users/elPatan03/Desktop/lala/lala/4x3000x5x3.csv\"\n",
    "archivo=open(ruta,\"r\")\n",
    "jobs=[]\n",
    "for i in range(n+1):\n",
    "    if (i==0):\n",
    "        nada=archivo.readline()\n",
    "    else:\n",
    "        Ji,di,pi=archivo.readline().strip().split(\";\")\n",
    "        jobs.append([Ji,float(di),float(pi)])\n",
    "schedules, rejected, impossible = H2(jobs, M)"
   ]
  },
  {
   "cell_type": "markdown",
   "metadata": {},
   "source": [
    "## Entrada de datos: 4x3000x5x4"
   ]
  },
  {
   "cell_type": "code",
   "execution_count": 124,
   "metadata": {},
   "outputs": [
    {
     "name": "stdout",
     "output_type": "stream",
     "text": [
      "Execution time 5.833953142166138\n",
      "1838\n"
     ]
    }
   ],
   "source": [
    "start=time.time()\n",
    "M=4\n",
    "n=3000\n",
    "ruta=\"/Users/elPatan03/Desktop/lala/lala/4x3000x5x4.csv\"\n",
    "archivo=open(ruta,\"r\")\n",
    "jobs=[]\n",
    "for i in range(n+1):\n",
    "    if (i==0):\n",
    "        nada=archivo.readline()\n",
    "    else:\n",
    "        Ji,di,pi=archivo.readline().strip().split(\";\")\n",
    "        jobs.append([Ji,float(di),float(pi)])\n",
    "schedules, rejected, impossible = H2(jobs, M)"
   ]
  },
  {
   "cell_type": "markdown",
   "metadata": {},
   "source": [
    "## Entrada de datos: 4x3000x5x5"
   ]
  },
  {
   "cell_type": "code",
   "execution_count": 125,
   "metadata": {},
   "outputs": [
    {
     "name": "stdout",
     "output_type": "stream",
     "text": [
      "Execution time 7.744574069976807\n",
      "1841\n"
     ]
    }
   ],
   "source": [
    "start=time.time()\n",
    "M=4\n",
    "n=3000\n",
    "ruta=\"/Users/elPatan03/Desktop/lala/lala/4x3000x5x5.csv\"\n",
    "archivo=open(ruta,\"r\")\n",
    "jobs=[]\n",
    "for i in range(n+1):\n",
    "    if (i==0):\n",
    "        nada=archivo.readline()\n",
    "    else:\n",
    "        Ji,di,pi=archivo.readline().strip().split(\";\")\n",
    "        jobs.append([Ji,float(di),float(pi)])\n",
    "schedules, rejected, impossible = H2(jobs, M)"
   ]
  }
 ],
 "metadata": {
  "kernelspec": {
   "display_name": "Python 3",
   "language": "python",
   "name": "python3"
  },
  "language_info": {
   "codemirror_mode": {
    "name": "ipython",
    "version": 3
   },
   "file_extension": ".py",
   "mimetype": "text/x-python",
   "name": "python",
   "nbconvert_exporter": "python",
   "pygments_lexer": "ipython3",
   "version": "3.8.5"
  }
 },
 "nbformat": 4,
 "nbformat_minor": 4
}

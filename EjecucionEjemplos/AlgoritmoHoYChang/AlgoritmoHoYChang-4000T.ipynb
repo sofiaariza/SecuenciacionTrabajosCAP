{
 "cells": [
  {
   "cell_type": "markdown",
   "metadata": {},
   "source": [
    "# Adaptación algoritmo de Ho y Chang"
   ]
  },
  {
   "cell_type": "code",
   "execution_count": 1,
   "metadata": {},
   "outputs": [],
   "source": [
    "import time\n",
    "INF = float('inf')\n",
    "nINF = float('-inf')"
   ]
  },
  {
   "cell_type": "code",
   "execution_count": 2,
   "metadata": {},
   "outputs": [],
   "source": [
    "def firstLate(schedule):\n",
    "\n",
    "    ans,i,f = None,0,0\n",
    "    while ans==None and i!=len(schedule):\n",
    "        if f+schedule[i][2]<=schedule[i][1]: f += schedule[i][2]\n",
    "        else: ans = i\n",
    "        i += 1\n",
    "    return ans"
   ]
  },
  {
   "cell_type": "code",
   "execution_count": 3,
   "metadata": {},
   "outputs": [],
   "source": [
    "def computeValues(jobs, j, ans, minSlack): return (ans[j][0], minSlack[j], jobs[j][1]-ans[j][1])"
   ]
  },
  {
   "cell_type": "code",
   "execution_count": 4,
   "metadata": {},
   "outputs": [],
   "source": [
    "def checkC1(di, bj, pi): return (di>=bj+pi)\n",
    "\n",
    "def checkC2(minimumSlack, pi, pj): return (minimumSlack>=pi-pj)\n",
    "\n",
    "def checkC3a(slackJob, di, bj, pi): return (slackJob> di-bj-pi)\n",
    "\n",
    "def checkC3b(di, dj, pi, pj, jobCnt, j): return [(di>dj),(pi>pj),((pi-pj)*(jobCnt-j) > (di-dj))]"
   ]
  },
  {
   "cell_type": "code",
   "execution_count": 5,
   "metadata": {},
   "outputs": [],
   "source": [
    "def H2(jobs, M):\n",
    "\n",
    "    ###Initialize\n",
    "    N= len(jobs)\n",
    "    schedules=[[] for _ in range(M)]\n",
    "    unscheduled,rejected,impossible = [],[],[]\n",
    "\n",
    "    for i in range(len(jobs)):\n",
    "        if(jobs[i][2]>jobs[i][1]):\n",
    "            impossible.append(jobs[i])\n",
    "        else:\n",
    "            unscheduled.append(jobs[i])\n",
    "    ###Initialize\n",
    "    ###H2\n",
    "    for k in range(M):\n",
    "        schedules[k]=unscheduled\n",
    "        unscheduled =[]\n",
    "        schedules[k].sort(key = lambda x: (x[1],x[2]))\n",
    "        ans= firstLate(schedules[k])\n",
    "\n",
    "        while(ans != None):\n",
    "            maxPi=nINF\n",
    "            for i in range(ans+1):\n",
    "                if(maxPi<schedules[k][i][2]):\n",
    "                    maxPi=schedules[k][i][2]\n",
    "                    jMax=schedules[k][i]\n",
    "            schedules[k].remove(jMax)\n",
    "            unscheduled.append(jMax)\n",
    "            ans= firstLate(schedules[k])\n",
    "\n",
    "        if((k<M-1) and (len(unscheduled)!=0)):\n",
    "            ans2 = [ None for _ in schedules[k]]\n",
    "            f = 0\n",
    "            for l in range(len(schedules[k])):\n",
    "                ans2[l] = (f, f+schedules[k][l][2])\n",
    "                f += schedules[k][l][2]\n",
    "            minSlack = [ INF for _ in schedules[k]]\n",
    "            for q in range(len(schedules[k])-1):\n",
    "                for r in range(q+1,len(schedules[k])):\n",
    "                    minSlack[q]= min(minSlack[q], schedules[k][r][1]-ans2[r][1])\n",
    "                    \n",
    "            for j in range(len(schedules[k])):\n",
    "                for i in range(len(unscheduled)):\n",
    "                    ans=computeValues(schedules[k], j, ans2, minSlack)\n",
    "                    dj, pj=schedules[k][j][1], schedules[k][j][2]\n",
    "                    di, pi= unscheduled[i][1], unscheduled[i][2]\n",
    "                    bj, minimumSlack, slackJob = ans\n",
    "                    jobCnt=len(schedules[k])\n",
    "\n",
    "                    if(checkC1(di, bj, pi) and checkC2(minimumSlack, pi, pj) and (checkC3a(slackJob, di, bj, pi) or (False not in checkC3b(di, dj, pi, pj, jobCnt, j)))):\n",
    "                        aux = schedules[k][j]\n",
    "                        schedules[k][j]= unscheduled[i] ##Swap\n",
    "                        unscheduled[i]= aux\n",
    "                        if(j==0):\n",
    "                            f=0\n",
    "                        else:\n",
    "                            f=ans2[j-1][1]\n",
    "                        for l in range(j, len(schedules[k])):\n",
    "                            ans2[l] = (f, f+schedules[k][l][2])\n",
    "                            f += schedules[k][l][2]\n",
    "                        for q in range(len(schedules[k])-1):\n",
    "                            for r in range(q+1,len(schedules[k])):\n",
    "                                minSlack[q]= min(minSlack[q], schedules[k][r][1]-ans2[r][1])\n",
    "    rejectedJobs=unscheduled\n",
    "    print(\"Execution time\", time.time()-start)\n",
    "    #Impresión de resultados\n",
    "    t=0\n",
    "    for i in range(len(schedules)):\n",
    "        for j in range(len(schedules[i])):\n",
    "            t+=1\n",
    "    print(t)\n",
    "    ###H2\n",
    "    return [schedules, rejected, impossible]"
   ]
  },
  {
   "cell_type": "markdown",
   "metadata": {},
   "source": [
    "## Entrada de datos: 2x4000x1.5x1"
   ]
  },
  {
   "cell_type": "code",
   "execution_count": 6,
   "metadata": {},
   "outputs": [
    {
     "name": "stdout",
     "output_type": "stream",
     "text": [
      "Execution time 337.1894016265869\n",
      "3998\n"
     ]
    }
   ],
   "source": [
    "start=time.time()\n",
    "M=2\n",
    "n=4000\n",
    "ruta=\"/Users/elPatan03/Desktop/lala/lala/2x4000x1.5x1.csv\"\n",
    "archivo=open(ruta,\"r\")\n",
    "jobs=[]\n",
    "for i in range(n+1):\n",
    "    if (i==0):\n",
    "        nada=archivo.readline()\n",
    "    else:\n",
    "        Ji,di,pi=archivo.readline().strip().split(\";\")\n",
    "        jobs.append([Ji,float(di),float(pi)])\n",
    "schedules, rejected, impossible = H2(jobs, M)"
   ]
  },
  {
   "cell_type": "markdown",
   "metadata": {},
   "source": [
    "## Entrada de datos: 2x4000x1.5x2"
   ]
  },
  {
   "cell_type": "code",
   "execution_count": 7,
   "metadata": {},
   "outputs": [
    {
     "name": "stdout",
     "output_type": "stream",
     "text": [
      "Execution time 9.41673755645752\n",
      "4000\n"
     ]
    }
   ],
   "source": [
    "start=time.time()\n",
    "M=2\n",
    "n=4000\n",
    "ruta=\"/Users/elPatan03/Desktop/lala/lala/2x4000x1.5x2.csv\"\n",
    "archivo=open(ruta,\"r\")\n",
    "jobs=[]\n",
    "for i in range(n+1):\n",
    "    if (i==0):\n",
    "        nada=archivo.readline()\n",
    "    else:\n",
    "        Ji,di,pi=archivo.readline().strip().split(\";\")\n",
    "        jobs.append([Ji,float(di),float(pi)])\n",
    "schedules, rejected, impossible = H2(jobs, M)"
   ]
  },
  {
   "cell_type": "markdown",
   "metadata": {},
   "source": [
    "## Entrada de datos: 2x4000x1.5x3"
   ]
  },
  {
   "cell_type": "code",
   "execution_count": 8,
   "metadata": {},
   "outputs": [
    {
     "name": "stdout",
     "output_type": "stream",
     "text": [
      "Execution time 14.522411346435547\n",
      "3995\n"
     ]
    }
   ],
   "source": [
    "start=time.time()\n",
    "M=2\n",
    "n=4000\n",
    "ruta=\"/Users/elPatan03/Desktop/lala/lala/2x4000x1.5x3.csv\"\n",
    "archivo=open(ruta,\"r\")\n",
    "jobs=[]\n",
    "for i in range(n+1):\n",
    "    if (i==0):\n",
    "        nada=archivo.readline()\n",
    "    else:\n",
    "        Ji,di,pi=archivo.readline().strip().split(\";\")\n",
    "        jobs.append([Ji,float(di),float(pi)])\n",
    "schedules, rejected, impossible = H2(jobs, M)"
   ]
  },
  {
   "cell_type": "markdown",
   "metadata": {},
   "source": [
    "## Entrada de datos: 2x4000x1.5x4"
   ]
  },
  {
   "cell_type": "code",
   "execution_count": 9,
   "metadata": {},
   "outputs": [
    {
     "name": "stdout",
     "output_type": "stream",
     "text": [
      "Execution time 42.325679302215576\n",
      "3996\n"
     ]
    }
   ],
   "source": [
    "start=time.time()\n",
    "M=2\n",
    "n=4000\n",
    "ruta=\"/Users/elPatan03/Desktop/lala/lala/2x4000x1.5x4.csv\"\n",
    "archivo=open(ruta,\"r\")\n",
    "jobs=[]\n",
    "for i in range(n+1):\n",
    "    if (i==0):\n",
    "        nada=archivo.readline()\n",
    "    else:\n",
    "        Ji,di,pi=archivo.readline().strip().split(\";\")\n",
    "        jobs.append([Ji,float(di),float(pi)])\n",
    "schedules, rejected, impossible = H2(jobs, M)"
   ]
  },
  {
   "cell_type": "markdown",
   "metadata": {},
   "source": [
    "## Entrada de datos: 2x4000x1.5x5"
   ]
  },
  {
   "cell_type": "code",
   "execution_count": 10,
   "metadata": {},
   "outputs": [
    {
     "name": "stdout",
     "output_type": "stream",
     "text": [
      "Execution time 37.546743392944336\n",
      "3994\n"
     ]
    }
   ],
   "source": [
    "start=time.time()\n",
    "M=2\n",
    "n=4000\n",
    "ruta=\"/Users/elPatan03/Desktop/lala/lala/2x4000x1.5x5.csv\"\n",
    "archivo=open(ruta,\"r\")\n",
    "jobs=[]\n",
    "for i in range(n+1):\n",
    "    if (i==0):\n",
    "        nada=archivo.readline()\n",
    "    else:\n",
    "        Ji,di,pi=archivo.readline().strip().split(\";\")\n",
    "        jobs.append([Ji,float(di),float(pi)])\n",
    "schedules, rejected, impossible = H2(jobs, M)"
   ]
  },
  {
   "cell_type": "markdown",
   "metadata": {},
   "source": [
    "## Entrada de datos: 2x4000x2x1"
   ]
  },
  {
   "cell_type": "code",
   "execution_count": 11,
   "metadata": {},
   "outputs": [
    {
     "name": "stdout",
     "output_type": "stream",
     "text": [
      "Execution time 11.122304439544678\n",
      "3948\n"
     ]
    }
   ],
   "source": [
    "start=time.time()\n",
    "M=2\n",
    "n=4000\n",
    "ruta=\"/Users/elPatan03/Desktop/lala/lala/2x4000x2x1.csv\"\n",
    "archivo=open(ruta,\"r\")\n",
    "jobs=[]\n",
    "for i in range(n+1):\n",
    "    if (i==0):\n",
    "        nada=archivo.readline()\n",
    "    else:\n",
    "        Ji,di,pi=archivo.readline().strip().split(\";\")\n",
    "        jobs.append([Ji,float(di),float(pi)])\n",
    "schedules, rejected, impossible = H2(jobs, M)"
   ]
  },
  {
   "cell_type": "markdown",
   "metadata": {},
   "source": [
    "## Entrada de datos: 2x4000x2x2"
   ]
  },
  {
   "cell_type": "code",
   "execution_count": 12,
   "metadata": {},
   "outputs": [
    {
     "name": "stdout",
     "output_type": "stream",
     "text": [
      "Execution time 23.13696599006653\n",
      "3988\n"
     ]
    }
   ],
   "source": [
    "start=time.time()\n",
    "M=2\n",
    "n=4000\n",
    "ruta=\"/Users/elPatan03/Desktop/lala/lala/2x4000x2x2.csv\"\n",
    "archivo=open(ruta,\"r\")\n",
    "jobs=[]\n",
    "for i in range(n+1):\n",
    "    if (i==0):\n",
    "        nada=archivo.readline()\n",
    "    else:\n",
    "        Ji,di,pi=archivo.readline().strip().split(\";\")\n",
    "        jobs.append([Ji,float(di),float(pi)])\n",
    "schedules, rejected, impossible = H2(jobs, M)"
   ]
  },
  {
   "cell_type": "markdown",
   "metadata": {},
   "source": [
    "## Entrada de datos: 2x4000x2x3"
   ]
  },
  {
   "cell_type": "code",
   "execution_count": 13,
   "metadata": {},
   "outputs": [
    {
     "name": "stdout",
     "output_type": "stream",
     "text": [
      "Execution time 10.20373821258545\n",
      "3965\n"
     ]
    }
   ],
   "source": [
    "start=time.time()\n",
    "M=2\n",
    "n=4000\n",
    "ruta=\"/Users/elPatan03/Desktop/lala/lala/2x4000x2x3.csv\"\n",
    "archivo=open(ruta,\"r\")\n",
    "jobs=[]\n",
    "for i in range(n+1):\n",
    "    if (i==0):\n",
    "        nada=archivo.readline()\n",
    "    else:\n",
    "        Ji,di,pi=archivo.readline().strip().split(\";\")\n",
    "        jobs.append([Ji,float(di),float(pi)])\n",
    "schedules, rejected, impossible = H2(jobs, M)"
   ]
  },
  {
   "cell_type": "markdown",
   "metadata": {},
   "source": [
    "## Entrada de datos: 2x4000x2x4"
   ]
  },
  {
   "cell_type": "code",
   "execution_count": 14,
   "metadata": {},
   "outputs": [
    {
     "name": "stdout",
     "output_type": "stream",
     "text": [
      "Execution time 10.08911919593811\n",
      "3972\n"
     ]
    }
   ],
   "source": [
    "start=time.time()\n",
    "M=2\n",
    "n=4000\n",
    "ruta=\"/Users/elPatan03/Desktop/lala/lala/2x4000x2x4.csv\"\n",
    "archivo=open(ruta,\"r\")\n",
    "jobs=[]\n",
    "for i in range(n+1):\n",
    "    if (i==0):\n",
    "        nada=archivo.readline()\n",
    "    else:\n",
    "        Ji,di,pi=archivo.readline().strip().split(\";\")\n",
    "        jobs.append([Ji,float(di),float(pi)])\n",
    "schedules, rejected, impossible = H2(jobs, M)"
   ]
  },
  {
   "cell_type": "markdown",
   "metadata": {},
   "source": [
    "## Entrada de datos: 2x4000x2x5"
   ]
  },
  {
   "cell_type": "code",
   "execution_count": 15,
   "metadata": {},
   "outputs": [
    {
     "name": "stdout",
     "output_type": "stream",
     "text": [
      "Execution time 20.8206205368042\n",
      "3972\n"
     ]
    }
   ],
   "source": [
    "start=time.time()\n",
    "M=2\n",
    "n=4000\n",
    "ruta=\"/Users/elPatan03/Desktop/lala/lala/2x4000x2x5.csv\"\n",
    "archivo=open(ruta,\"r\")\n",
    "jobs=[]\n",
    "for i in range(n+1):\n",
    "    if (i==0):\n",
    "        nada=archivo.readline()\n",
    "    else:\n",
    "        Ji,di,pi=archivo.readline().strip().split(\";\")\n",
    "        jobs.append([Ji,float(di),float(pi)])\n",
    "schedules, rejected, impossible = H2(jobs, M)"
   ]
  },
  {
   "cell_type": "markdown",
   "metadata": {},
   "source": [
    "## Entrada de datos: 2x4000x2.5x1"
   ]
  },
  {
   "cell_type": "code",
   "execution_count": 16,
   "metadata": {},
   "outputs": [
    {
     "name": "stdout",
     "output_type": "stream",
     "text": [
      "Execution time 20.84641718864441\n",
      "3554\n"
     ]
    }
   ],
   "source": [
    "start=time.time()\n",
    "M=2\n",
    "n=4000\n",
    "ruta=\"/Users/elPatan03/Desktop/lala/lala/2x4000x2.5x1.csv\"\n",
    "archivo=open(ruta,\"r\")\n",
    "jobs=[]\n",
    "for i in range(n+1):\n",
    "    if (i==0):\n",
    "        nada=archivo.readline()\n",
    "    else:\n",
    "        Ji,di,pi=archivo.readline().strip().split(\";\")\n",
    "        jobs.append([Ji,float(di),float(pi)])\n",
    "schedules, rejected, impossible = H2(jobs, M)"
   ]
  },
  {
   "cell_type": "markdown",
   "metadata": {},
   "source": [
    "## Entrada de datos: 2x4000x2.5x2"
   ]
  },
  {
   "cell_type": "code",
   "execution_count": 17,
   "metadata": {},
   "outputs": [
    {
     "name": "stdout",
     "output_type": "stream",
     "text": [
      "Execution time 10.373351097106934\n",
      "3558\n"
     ]
    }
   ],
   "source": [
    "start=time.time()\n",
    "M=2\n",
    "n=4000\n",
    "ruta=\"/Users/elPatan03/Desktop/lala/lala/2x4000x2.5x2.csv\"\n",
    "archivo=open(ruta,\"r\")\n",
    "jobs=[]\n",
    "for i in range(n+1):\n",
    "    if (i==0):\n",
    "        nada=archivo.readline()\n",
    "    else:\n",
    "        Ji,di,pi=archivo.readline().strip().split(\";\")\n",
    "        jobs.append([Ji,float(di),float(pi)])\n",
    "schedules, rejected, impossible = H2(jobs, M)"
   ]
  },
  {
   "cell_type": "markdown",
   "metadata": {},
   "source": [
    "## Entrada de datos: 2x4000x2.5x3"
   ]
  },
  {
   "cell_type": "code",
   "execution_count": 18,
   "metadata": {},
   "outputs": [
    {
     "name": "stdout",
     "output_type": "stream",
     "text": [
      "Execution time 26.762187242507935\n",
      "3557\n"
     ]
    }
   ],
   "source": [
    "start=time.time()\n",
    "M=2\n",
    "n=4000\n",
    "ruta=\"/Users/elPatan03/Desktop/lala/lala/2x4000x2.5x3.csv\"\n",
    "archivo=open(ruta,\"r\")\n",
    "jobs=[]\n",
    "for i in range(n+1):\n",
    "    if (i==0):\n",
    "        nada=archivo.readline()\n",
    "    else:\n",
    "        Ji,di,pi=archivo.readline().strip().split(\";\")\n",
    "        jobs.append([Ji,float(di),float(pi)])\n",
    "schedules, rejected, impossible = H2(jobs, M)"
   ]
  },
  {
   "cell_type": "markdown",
   "metadata": {},
   "source": [
    "## Entrada de datos: 2x4000x2.5x4"
   ]
  },
  {
   "cell_type": "code",
   "execution_count": 19,
   "metadata": {},
   "outputs": [
    {
     "name": "stdout",
     "output_type": "stream",
     "text": [
      "Execution time 16.121495962142944\n",
      "3553\n"
     ]
    }
   ],
   "source": [
    "start=time.time()\n",
    "M=2\n",
    "n=4000\n",
    "ruta=\"/Users/elPatan03/Desktop/lala/lala/2x4000x2.5x4.csv\"\n",
    "archivo=open(ruta,\"r\")\n",
    "jobs=[]\n",
    "for i in range(n+1):\n",
    "    if (i==0):\n",
    "        nada=archivo.readline()\n",
    "    else:\n",
    "        Ji,di,pi=archivo.readline().strip().split(\";\")\n",
    "        jobs.append([Ji,float(di),float(pi)])\n",
    "schedules, rejected, impossible = H2(jobs, M)"
   ]
  },
  {
   "cell_type": "markdown",
   "metadata": {},
   "source": [
    "## Entrada de datos: 2x4000x2.5x5"
   ]
  },
  {
   "cell_type": "code",
   "execution_count": 20,
   "metadata": {
    "scrolled": true
   },
   "outputs": [
    {
     "name": "stdout",
     "output_type": "stream",
     "text": [
      "Execution time 18.983941078186035\n",
      "3548\n"
     ]
    }
   ],
   "source": [
    "start=time.time()\n",
    "M=2\n",
    "n=4000\n",
    "ruta=\"/Users/elPatan03/Desktop/lala/lala/2x4000x2.5x5.csv\"\n",
    "archivo=open(ruta,\"r\")\n",
    "jobs=[]\n",
    "for i in range(n+1):\n",
    "    if (i==0):\n",
    "        nada=archivo.readline()\n",
    "    else:\n",
    "        Ji,di,pi=archivo.readline().strip().split(\";\")\n",
    "        jobs.append([Ji,float(di),float(pi)])\n",
    "schedules, rejected, impossible = H2(jobs, M)"
   ]
  },
  {
   "cell_type": "markdown",
   "metadata": {},
   "source": [
    "## Entrada de datos: 2x4000x3x1"
   ]
  },
  {
   "cell_type": "code",
   "execution_count": 21,
   "metadata": {},
   "outputs": [
    {
     "name": "stdout",
     "output_type": "stream",
     "text": [
      "Execution time 8.764821290969849\n",
      "3230\n"
     ]
    }
   ],
   "source": [
    "start=time.time()\n",
    "M=2\n",
    "n=4000\n",
    "ruta=\"/Users/elPatan03/Desktop/lala/lala/2x4000x3x1.csv\"\n",
    "archivo=open(ruta,\"r\")\n",
    "jobs=[]\n",
    "for i in range(n+1):\n",
    "    if (i==0):\n",
    "        nada=archivo.readline()\n",
    "    else:\n",
    "        Ji,di,pi=archivo.readline().strip().split(\";\")\n",
    "        jobs.append([Ji,float(di),float(pi)])\n",
    "schedules, rejected, impossible = H2(jobs, M)"
   ]
  },
  {
   "cell_type": "markdown",
   "metadata": {},
   "source": [
    "## Entrada de datos: 2x4000x3x2"
   ]
  },
  {
   "cell_type": "code",
   "execution_count": 22,
   "metadata": {},
   "outputs": [
    {
     "name": "stdout",
     "output_type": "stream",
     "text": [
      "Execution time 8.95877718925476\n",
      "3235\n"
     ]
    }
   ],
   "source": [
    "start=time.time()\n",
    "M=2\n",
    "n=4000\n",
    "ruta=\"/Users/elPatan03/Desktop/lala/lala/2x4000x3x2.csv\"\n",
    "archivo=open(ruta,\"r\")\n",
    "jobs=[]\n",
    "for i in range(n+1):\n",
    "    if (i==0):\n",
    "        nada=archivo.readline()\n",
    "    else:\n",
    "        Ji,di,pi=archivo.readline().strip().split(\";\")\n",
    "        jobs.append([Ji,float(di),float(pi)])\n",
    "schedules, rejected, impossible = H2(jobs, M)"
   ]
  },
  {
   "cell_type": "markdown",
   "metadata": {},
   "source": [
    "## Entrada de datos: 2x4000x3x3"
   ]
  },
  {
   "cell_type": "code",
   "execution_count": 23,
   "metadata": {},
   "outputs": [
    {
     "name": "stdout",
     "output_type": "stream",
     "text": [
      "Execution time 57.03016662597656\n",
      "3227\n"
     ]
    }
   ],
   "source": [
    "start=time.time()\n",
    "M=2\n",
    "n=4000\n",
    "ruta=\"/Users/elPatan03/Desktop/lala/lala/2x4000x3x3.csv\"\n",
    "archivo=open(ruta,\"r\")\n",
    "jobs=[]\n",
    "for i in range(n+1):\n",
    "    if (i==0):\n",
    "        nada=archivo.readline()\n",
    "    else:\n",
    "        Ji,di,pi=archivo.readline().strip().split(\";\")\n",
    "        jobs.append([Ji,float(di),float(pi)])\n",
    "schedules, rejected, impossible = H2(jobs, M)"
   ]
  },
  {
   "cell_type": "markdown",
   "metadata": {},
   "source": [
    "## Entrada de datos: 2x4000x3x4"
   ]
  },
  {
   "cell_type": "code",
   "execution_count": 24,
   "metadata": {},
   "outputs": [
    {
     "name": "stdout",
     "output_type": "stream",
     "text": [
      "Execution time 24.735548734664917\n",
      "3230\n"
     ]
    }
   ],
   "source": [
    "start=time.time()\n",
    "M=2\n",
    "n=4000\n",
    "ruta=\"/Users/elPatan03/Desktop/lala/lala/2x4000x3x4.csv\"\n",
    "archivo=open(ruta,\"r\")\n",
    "jobs=[]\n",
    "for i in range(n+1):\n",
    "    if (i==0):\n",
    "        nada=archivo.readline()\n",
    "    else:\n",
    "        Ji,di,pi=archivo.readline().strip().split(\";\")\n",
    "        jobs.append([Ji,float(di),float(pi)])\n",
    "schedules, rejected, impossible = H2(jobs, M)"
   ]
  },
  {
   "cell_type": "markdown",
   "metadata": {},
   "source": [
    "## Entrada de datos: 2x4000x3x5"
   ]
  },
  {
   "cell_type": "code",
   "execution_count": 25,
   "metadata": {},
   "outputs": [
    {
     "name": "stdout",
     "output_type": "stream",
     "text": [
      "Execution time 38.19448947906494\n",
      "3227\n"
     ]
    }
   ],
   "source": [
    "start=time.time()\n",
    "M=2\n",
    "n=4000\n",
    "ruta=\"/Users/elPatan03/Desktop/lala/lala/2x4000x3x5.csv\"\n",
    "archivo=open(ruta,\"r\")\n",
    "jobs=[]\n",
    "for i in range(n+1):\n",
    "    if (i==0):\n",
    "        nada=archivo.readline()\n",
    "    else:\n",
    "        Ji,di,pi=archivo.readline().strip().split(\";\")\n",
    "        jobs.append([Ji,float(di),float(pi)])\n",
    "schedules, rejected, impossible = H2(jobs, M)"
   ]
  },
  {
   "cell_type": "markdown",
   "metadata": {},
   "source": [
    "## Entrada de datos: 2x4000x3.5x1"
   ]
  },
  {
   "cell_type": "code",
   "execution_count": 26,
   "metadata": {},
   "outputs": [
    {
     "name": "stdout",
     "output_type": "stream",
     "text": [
      "Execution time 9.756847381591797\n",
      "2967\n"
     ]
    }
   ],
   "source": [
    "start=time.time()\n",
    "M=2\n",
    "n=4000\n",
    "ruta=\"/Users/elPatan03/Desktop/lala/lala/2x4000x3.5x1.csv\"\n",
    "archivo=open(ruta,\"r\")\n",
    "jobs=[]\n",
    "for i in range(n+1):\n",
    "    if (i==0):\n",
    "        nada=archivo.readline()\n",
    "    else:\n",
    "        Ji,di,pi=archivo.readline().strip().split(\";\")\n",
    "        jobs.append([Ji,float(di),float(pi)])\n",
    "schedules, rejected, impossible = H2(jobs, M)"
   ]
  },
  {
   "cell_type": "markdown",
   "metadata": {},
   "source": [
    "## Entrada de datos: 2x4000x3.5x2"
   ]
  },
  {
   "cell_type": "code",
   "execution_count": 27,
   "metadata": {},
   "outputs": [
    {
     "name": "stdout",
     "output_type": "stream",
     "text": [
      "Execution time 19.301348447799683\n",
      "2976\n"
     ]
    }
   ],
   "source": [
    "start=time.time()\n",
    "M=2\n",
    "n=4000\n",
    "ruta=\"/Users/elPatan03/Desktop/lala/lala/2x4000x3.5x2.csv\"\n",
    "archivo=open(ruta,\"r\")\n",
    "jobs=[]\n",
    "for i in range(n+1):\n",
    "    if (i==0):\n",
    "        nada=archivo.readline()\n",
    "    else:\n",
    "        Ji,di,pi=archivo.readline().strip().split(\";\")\n",
    "        jobs.append([Ji,float(di),float(pi)])\n",
    "schedules, rejected, impossible = H2(jobs, M)"
   ]
  },
  {
   "cell_type": "markdown",
   "metadata": {},
   "source": [
    "## Entrada de datos: 2x4000x3.5x3"
   ]
  },
  {
   "cell_type": "code",
   "execution_count": 28,
   "metadata": {},
   "outputs": [
    {
     "name": "stdout",
     "output_type": "stream",
     "text": [
      "Execution time 7.647975444793701\n",
      "2966\n"
     ]
    }
   ],
   "source": [
    "start=time.time()\n",
    "M=2\n",
    "n=4000\n",
    "ruta=\"/Users/elPatan03/Desktop/lala/lala/2x4000x3.5x3.csv\"\n",
    "archivo=open(ruta,\"r\")\n",
    "jobs=[]\n",
    "for i in range(n+1):\n",
    "    if (i==0):\n",
    "        nada=archivo.readline()\n",
    "    else:\n",
    "        Ji,di,pi=archivo.readline().strip().split(\";\")\n",
    "        jobs.append([Ji,float(di),float(pi)])\n",
    "schedules, rejected, impossible = H2(jobs, M)"
   ]
  },
  {
   "cell_type": "markdown",
   "metadata": {},
   "source": [
    "## Entrada de datos: 2x4000x3.5x4"
   ]
  },
  {
   "cell_type": "code",
   "execution_count": 29,
   "metadata": {},
   "outputs": [
    {
     "name": "stdout",
     "output_type": "stream",
     "text": [
      "Execution time 40.19339346885681\n",
      "2959\n"
     ]
    }
   ],
   "source": [
    "start=time.time()\n",
    "M=2\n",
    "n=4000\n",
    "ruta=\"/Users/elPatan03/Desktop/lala/lala/2x4000x3.5x4.csv\"\n",
    "archivo=open(ruta,\"r\")\n",
    "jobs=[]\n",
    "for i in range(n+1):\n",
    "    if (i==0):\n",
    "        nada=archivo.readline()\n",
    "    else:\n",
    "        Ji,di,pi=archivo.readline().strip().split(\";\")\n",
    "        jobs.append([Ji,float(di),float(pi)])\n",
    "schedules, rejected, impossible = H2(jobs, M)"
   ]
  },
  {
   "cell_type": "markdown",
   "metadata": {},
   "source": [
    "## Entrada de datos: 2x4000x3.5x5"
   ]
  },
  {
   "cell_type": "code",
   "execution_count": 30,
   "metadata": {},
   "outputs": [
    {
     "name": "stdout",
     "output_type": "stream",
     "text": [
      "Execution time 7.827386856079102\n",
      "2987\n"
     ]
    }
   ],
   "source": [
    "start=time.time()\n",
    "M=2\n",
    "n=4000\n",
    "ruta=\"/Users/elPatan03/Desktop/lala/lala/2x4000x3.5x5.csv\"\n",
    "archivo=open(ruta,\"r\")\n",
    "jobs=[]\n",
    "for i in range(n+1):\n",
    "    if (i==0):\n",
    "        nada=archivo.readline()\n",
    "    else:\n",
    "        Ji,di,pi=archivo.readline().strip().split(\";\")\n",
    "        jobs.append([Ji,float(di),float(pi)])\n",
    "schedules, rejected, impossible = H2(jobs, M)"
   ]
  },
  {
   "cell_type": "markdown",
   "metadata": {},
   "source": [
    "## Entrada de datos: 2x4000x4x1"
   ]
  },
  {
   "cell_type": "code",
   "execution_count": 31,
   "metadata": {},
   "outputs": [
    {
     "name": "stdout",
     "output_type": "stream",
     "text": [
      "Execution time 6.77588152885437\n",
      "2770\n"
     ]
    }
   ],
   "source": [
    "start=time.time()\n",
    "M=2\n",
    "n=4000\n",
    "ruta=\"/Users/elPatan03/Desktop/lala/lala/2x4000x4x1.csv\"\n",
    "archivo=open(ruta,\"r\")\n",
    "jobs=[]\n",
    "for i in range(n+1):\n",
    "    if (i==0):\n",
    "        nada=archivo.readline()\n",
    "    else:\n",
    "        Ji,di,pi=archivo.readline().strip().split(\";\")\n",
    "        jobs.append([Ji,float(di),float(pi)])\n",
    "schedules, rejected, impossible = H2(jobs, M)"
   ]
  },
  {
   "cell_type": "markdown",
   "metadata": {},
   "source": [
    "## Entrada de datos: 2x4000x4x2"
   ]
  },
  {
   "cell_type": "code",
   "execution_count": 32,
   "metadata": {},
   "outputs": [
    {
     "name": "stdout",
     "output_type": "stream",
     "text": [
      "Execution time 13.925203084945679\n",
      "2769\n"
     ]
    }
   ],
   "source": [
    "start=time.time()\n",
    "M=2\n",
    "n=4000\n",
    "ruta=\"/Users/elPatan03/Desktop/lala/lala/2x4000x4x2.csv\"\n",
    "archivo=open(ruta,\"r\")\n",
    "jobs=[]\n",
    "for i in range(n+1):\n",
    "    if (i==0):\n",
    "        nada=archivo.readline()\n",
    "    else:\n",
    "        Ji,di,pi=archivo.readline().strip().split(\";\")\n",
    "        jobs.append([Ji,float(di),float(pi)])\n",
    "schedules, rejected, impossible = H2(jobs, M)"
   ]
  },
  {
   "cell_type": "markdown",
   "metadata": {},
   "source": [
    "## Entrada de datos: 2x4000x4x3"
   ]
  },
  {
   "cell_type": "code",
   "execution_count": 33,
   "metadata": {},
   "outputs": [
    {
     "name": "stdout",
     "output_type": "stream",
     "text": [
      "Execution time 47.85360288619995\n",
      "2774\n"
     ]
    }
   ],
   "source": [
    "start=time.time()\n",
    "M=2\n",
    "n=4000\n",
    "ruta=\"/Users/elPatan03/Desktop/lala/lala/2x4000x4x3.csv\"\n",
    "archivo=open(ruta,\"r\")\n",
    "jobs=[]\n",
    "for i in range(n+1):\n",
    "    if (i==0):\n",
    "        nada=archivo.readline()\n",
    "    else:\n",
    "        Ji,di,pi=archivo.readline().strip().split(\";\")\n",
    "        jobs.append([Ji,float(di),float(pi)])\n",
    "schedules, rejected, impossible = H2(jobs, M)"
   ]
  },
  {
   "cell_type": "markdown",
   "metadata": {},
   "source": [
    "## Entrada de datos: 2x4000x4x4"
   ]
  },
  {
   "cell_type": "code",
   "execution_count": 34,
   "metadata": {},
   "outputs": [
    {
     "name": "stdout",
     "output_type": "stream",
     "text": [
      "Execution time 8.981567144393921\n",
      "2758\n"
     ]
    }
   ],
   "source": [
    "start=time.time()\n",
    "M=2\n",
    "n=4000\n",
    "ruta=\"/Users/elPatan03/Desktop/lala/lala/2x4000x4x4.csv\"\n",
    "archivo=open(ruta,\"r\")\n",
    "jobs=[]\n",
    "for i in range(n+1):\n",
    "    if (i==0):\n",
    "        nada=archivo.readline()\n",
    "    else:\n",
    "        Ji,di,pi=archivo.readline().strip().split(\";\")\n",
    "        jobs.append([Ji,float(di),float(pi)])\n",
    "schedules, rejected, impossible = H2(jobs, M)"
   ]
  },
  {
   "cell_type": "markdown",
   "metadata": {},
   "source": [
    "## Entrada de datos: 2x4000x4x5"
   ]
  },
  {
   "cell_type": "code",
   "execution_count": 35,
   "metadata": {},
   "outputs": [
    {
     "name": "stdout",
     "output_type": "stream",
     "text": [
      "Execution time 7.337476491928101\n",
      "2762\n"
     ]
    }
   ],
   "source": [
    "start=time.time()\n",
    "M=2\n",
    "n=4000\n",
    "ruta=\"/Users/elPatan03/Desktop/lala/lala/2x4000x4x5.csv\"\n",
    "archivo=open(ruta,\"r\")\n",
    "jobs=[]\n",
    "for i in range(n+1):\n",
    "    if (i==0):\n",
    "        nada=archivo.readline()\n",
    "    else:\n",
    "        Ji,di,pi=archivo.readline().strip().split(\";\")\n",
    "        jobs.append([Ji,float(di),float(pi)])\n",
    "schedules, rejected, impossible = H2(jobs, M)"
   ]
  },
  {
   "cell_type": "markdown",
   "metadata": {},
   "source": [
    "## Entrada de datos: 2x4000x4.5x1"
   ]
  },
  {
   "cell_type": "code",
   "execution_count": 36,
   "metadata": {},
   "outputs": [
    {
     "name": "stdout",
     "output_type": "stream",
     "text": [
      "Execution time 17.885291814804077\n",
      "2605\n"
     ]
    }
   ],
   "source": [
    "start=time.time()\n",
    "M=2\n",
    "n=4000\n",
    "ruta=\"/Users/elPatan03/Desktop/lala/lala/2x4000x4.5x1.csv\"\n",
    "archivo=open(ruta,\"r\")\n",
    "jobs=[]\n",
    "for i in range(n+1):\n",
    "    if (i==0):\n",
    "        nada=archivo.readline()\n",
    "    else:\n",
    "        Ji,di,pi=archivo.readline().strip().split(\";\")\n",
    "        jobs.append([Ji,float(di),float(pi)])\n",
    "schedules, rejected, impossible = H2(jobs, M)"
   ]
  },
  {
   "cell_type": "markdown",
   "metadata": {},
   "source": [
    "## Entrada de datos: 2x4000x4.5x2"
   ]
  },
  {
   "cell_type": "code",
   "execution_count": 37,
   "metadata": {},
   "outputs": [
    {
     "name": "stdout",
     "output_type": "stream",
     "text": [
      "Execution time 7.986125707626343\n",
      "2585\n"
     ]
    }
   ],
   "source": [
    "start=time.time()\n",
    "M=2\n",
    "n=4000\n",
    "ruta=\"/Users/elPatan03/Desktop/lala/lala/2x4000x4.5x2.csv\"\n",
    "archivo=open(ruta,\"r\")\n",
    "jobs=[]\n",
    "for i in range(n+1):\n",
    "    if (i==0):\n",
    "        nada=archivo.readline()\n",
    "    else:\n",
    "        Ji,di,pi=archivo.readline().strip().split(\";\")\n",
    "        jobs.append([Ji,float(di),float(pi)])\n",
    "schedules, rejected, impossible = H2(jobs, M)"
   ]
  },
  {
   "cell_type": "markdown",
   "metadata": {},
   "source": [
    "## Entrada de datos: 2x4000x4.5x3"
   ]
  },
  {
   "cell_type": "code",
   "execution_count": 38,
   "metadata": {},
   "outputs": [
    {
     "name": "stdout",
     "output_type": "stream",
     "text": [
      "Execution time 6.478778123855591\n",
      "2585\n"
     ]
    }
   ],
   "source": [
    "start=time.time()\n",
    "M=2\n",
    "n=4000\n",
    "ruta=\"/Users/elPatan03/Desktop/lala/lala/2x4000x4.5x3.csv\"\n",
    "archivo=open(ruta,\"r\")\n",
    "jobs=[]\n",
    "for i in range(n+1):\n",
    "    if (i==0):\n",
    "        nada=archivo.readline()\n",
    "    else:\n",
    "        Ji,di,pi=archivo.readline().strip().split(\";\")\n",
    "        jobs.append([Ji,float(di),float(pi)])\n",
    "schedules, rejected, impossible = H2(jobs, M)"
   ]
  },
  {
   "cell_type": "markdown",
   "metadata": {},
   "source": [
    "## Entrada de datos: 2x4000x4.5x4"
   ]
  },
  {
   "cell_type": "code",
   "execution_count": 39,
   "metadata": {},
   "outputs": [
    {
     "name": "stdout",
     "output_type": "stream",
     "text": [
      "Execution time 8.00891399383545\n",
      "2604\n"
     ]
    }
   ],
   "source": [
    "start=time.time()\n",
    "M=2\n",
    "n=4000\n",
    "ruta=\"/Users/elPatan03/Desktop/lala/lala/2x4000x4.5x4.csv\"\n",
    "archivo=open(ruta,\"r\")\n",
    "jobs=[]\n",
    "for i in range(n+1):\n",
    "    if (i==0):\n",
    "        nada=archivo.readline()\n",
    "    else:\n",
    "        Ji,di,pi=archivo.readline().strip().split(\";\")\n",
    "        jobs.append([Ji,float(di),float(pi)])\n",
    "schedules, rejected, impossible = H2(jobs, M)"
   ]
  },
  {
   "cell_type": "markdown",
   "metadata": {},
   "source": [
    "## Entrada de datos: 2x4000x4.5x5"
   ]
  },
  {
   "cell_type": "code",
   "execution_count": 40,
   "metadata": {
    "scrolled": true
   },
   "outputs": [
    {
     "name": "stdout",
     "output_type": "stream",
     "text": [
      "Execution time 12.712511539459229\n",
      "2565\n"
     ]
    }
   ],
   "source": [
    "start=time.time()\n",
    "M=2\n",
    "n=4000\n",
    "ruta=\"/Users/elPatan03/Desktop/lala/lala/2x4000x4.5x5.csv\"\n",
    "archivo=open(ruta,\"r\")\n",
    "jobs=[]\n",
    "for i in range(n+1):\n",
    "    if (i==0):\n",
    "        nada=archivo.readline()\n",
    "    else:\n",
    "        Ji,di,pi=archivo.readline().strip().split(\";\")\n",
    "        jobs.append([Ji,float(di),float(pi)])\n",
    "schedules, rejected, impossible = H2(jobs, M)"
   ]
  },
  {
   "cell_type": "markdown",
   "metadata": {},
   "source": [
    "## Entrada de datos: 2x4000x5x1"
   ]
  },
  {
   "cell_type": "code",
   "execution_count": 41,
   "metadata": {},
   "outputs": [
    {
     "name": "stdout",
     "output_type": "stream",
     "text": [
      "Execution time 9.385342597961426\n",
      "2447\n"
     ]
    }
   ],
   "source": [
    "start=time.time()\n",
    "M=2\n",
    "n=4000\n",
    "ruta=\"/Users/elPatan03/Desktop/lala/lala/2x4000x5x1.csv\"\n",
    "archivo=open(ruta,\"r\")\n",
    "jobs=[]\n",
    "for i in range(n+1):\n",
    "    if (i==0):\n",
    "        nada=archivo.readline()\n",
    "    else:\n",
    "        Ji,di,pi=archivo.readline().strip().split(\";\")\n",
    "        jobs.append([Ji,float(di),float(pi)])\n",
    "schedules, rejected, impossible = H2(jobs, M)"
   ]
  },
  {
   "cell_type": "markdown",
   "metadata": {},
   "source": [
    "## Entrada de datos: 2x4000x5x2"
   ]
  },
  {
   "cell_type": "code",
   "execution_count": 42,
   "metadata": {},
   "outputs": [
    {
     "name": "stdout",
     "output_type": "stream",
     "text": [
      "Execution time 6.309615850448608\n",
      "2459\n"
     ]
    }
   ],
   "source": [
    "start=time.time()\n",
    "M=2\n",
    "n=4000\n",
    "ruta=\"/Users/elPatan03/Desktop/lala/lala/2x4000x5x2.csv\"\n",
    "archivo=open(ruta,\"r\")\n",
    "jobs=[]\n",
    "for i in range(n+1):\n",
    "    if (i==0):\n",
    "        nada=archivo.readline()\n",
    "    else:\n",
    "        Ji,di,pi=archivo.readline().strip().split(\";\")\n",
    "        jobs.append([Ji,float(di),float(pi)])\n",
    "schedules, rejected, impossible = H2(jobs, M)"
   ]
  },
  {
   "cell_type": "markdown",
   "metadata": {},
   "source": [
    "## Entrada de datos: 2x4000x5x3"
   ]
  },
  {
   "cell_type": "code",
   "execution_count": 43,
   "metadata": {},
   "outputs": [
    {
     "name": "stdout",
     "output_type": "stream",
     "text": [
      "Execution time 8.234593629837036\n",
      "2462\n"
     ]
    }
   ],
   "source": [
    "start=time.time()\n",
    "M=2\n",
    "n=4000\n",
    "ruta=\"/Users/elPatan03/Desktop/lala/lala/2x4000x5x3.csv\"\n",
    "archivo=open(ruta,\"r\")\n",
    "jobs=[]\n",
    "for i in range(n+1):\n",
    "    if (i==0):\n",
    "        nada=archivo.readline()\n",
    "    else:\n",
    "        Ji,di,pi=archivo.readline().strip().split(\";\")\n",
    "        jobs.append([Ji,float(di),float(pi)])\n",
    "schedules, rejected, impossible = H2(jobs, M)"
   ]
  },
  {
   "cell_type": "markdown",
   "metadata": {},
   "source": [
    "## Entrada de datos: 2x4000x5x4"
   ]
  },
  {
   "cell_type": "code",
   "execution_count": 44,
   "metadata": {},
   "outputs": [
    {
     "name": "stdout",
     "output_type": "stream",
     "text": [
      "Execution time 7.147882461547852\n",
      "2436\n"
     ]
    }
   ],
   "source": [
    "start=time.time()\n",
    "M=2\n",
    "n=4000\n",
    "ruta=\"/Users/elPatan03/Desktop/lala/lala/2x4000x5x4.csv\"\n",
    "archivo=open(ruta,\"r\")\n",
    "jobs=[]\n",
    "for i in range(n+1):\n",
    "    if (i==0):\n",
    "        nada=archivo.readline()\n",
    "    else:\n",
    "        Ji,di,pi=archivo.readline().strip().split(\";\")\n",
    "        jobs.append([Ji,float(di),float(pi)])\n",
    "schedules, rejected, impossible = H2(jobs, M)"
   ]
  },
  {
   "cell_type": "markdown",
   "metadata": {},
   "source": [
    "## Entrada de datos: 2x4000x5x5"
   ]
  },
  {
   "cell_type": "code",
   "execution_count": 45,
   "metadata": {},
   "outputs": [
    {
     "name": "stdout",
     "output_type": "stream",
     "text": [
      "Execution time 8.059038162231445\n",
      "2448\n"
     ]
    }
   ],
   "source": [
    "start=time.time()\n",
    "M=2\n",
    "n=4000\n",
    "ruta=\"/Users/elPatan03/Desktop/lala/lala/2x4000x5x5.csv\"\n",
    "archivo=open(ruta,\"r\")\n",
    "jobs=[]\n",
    "for i in range(n+1):\n",
    "    if (i==0):\n",
    "        nada=archivo.readline()\n",
    "    else:\n",
    "        Ji,di,pi=archivo.readline().strip().split(\";\")\n",
    "        jobs.append([Ji,float(di),float(pi)])\n",
    "schedules, rejected, impossible = H2(jobs, M)"
   ]
  },
  {
   "cell_type": "markdown",
   "metadata": {},
   "source": [
    "## Entrada de datos: 3x4000x1.5x1"
   ]
  },
  {
   "cell_type": "code",
   "execution_count": 46,
   "metadata": {},
   "outputs": [
    {
     "name": "stdout",
     "output_type": "stream",
     "text": [
      "Execution time 45.4331431388855\n",
      "3999\n"
     ]
    }
   ],
   "source": [
    "start=time.time()\n",
    "M=3\n",
    "n=4000\n",
    "ruta=\"/Users/elPatan03/Desktop/lala/lala/3x4000x1.5x1.csv\"\n",
    "archivo=open(ruta,\"r\")\n",
    "jobs=[]\n",
    "for i in range(n+1):\n",
    "    if (i==0):\n",
    "        nada=archivo.readline()\n",
    "    else:\n",
    "        Ji,di,pi=archivo.readline().strip().split(\";\")\n",
    "        jobs.append([Ji,float(di),float(pi)])\n",
    "schedules, rejected, impossible = H2(jobs, M)"
   ]
  },
  {
   "cell_type": "markdown",
   "metadata": {},
   "source": [
    "## Entrada de datos: 3x4000x1.5x2"
   ]
  },
  {
   "cell_type": "code",
   "execution_count": 47,
   "metadata": {},
   "outputs": [
    {
     "name": "stdout",
     "output_type": "stream",
     "text": [
      "Execution time 15.657759666442871\n",
      "3998\n"
     ]
    }
   ],
   "source": [
    "start=time.time()\n",
    "M=3\n",
    "n=4000\n",
    "ruta=\"/Users/elPatan03/Desktop/lala/lala/3x4000x1.5x2.csv\"\n",
    "archivo=open(ruta,\"r\")\n",
    "jobs=[]\n",
    "for i in range(n+1):\n",
    "    if (i==0):\n",
    "        nada=archivo.readline()\n",
    "    else:\n",
    "        Ji,di,pi=archivo.readline().strip().split(\";\")\n",
    "        jobs.append([Ji,float(di),float(pi)])\n",
    "schedules, rejected, impossible = H2(jobs, M)"
   ]
  },
  {
   "cell_type": "markdown",
   "metadata": {},
   "source": [
    "## Entrada de datos: 3x4000x1.5x3"
   ]
  },
  {
   "cell_type": "code",
   "execution_count": 48,
   "metadata": {},
   "outputs": [
    {
     "name": "stdout",
     "output_type": "stream",
     "text": [
      "Execution time 17.695324182510376\n",
      "3994\n"
     ]
    }
   ],
   "source": [
    "start=time.time()\n",
    "M=3\n",
    "n=4000\n",
    "ruta=\"/Users/elPatan03/Desktop/lala/lala/3x4000x1.5x3.csv\"\n",
    "archivo=open(ruta,\"r\")\n",
    "jobs=[]\n",
    "for i in range(n+1):\n",
    "    if (i==0):\n",
    "        nada=archivo.readline()\n",
    "    else:\n",
    "        Ji,di,pi=archivo.readline().strip().split(\";\")\n",
    "        jobs.append([Ji,float(di),float(pi)])\n",
    "schedules, rejected, impossible = H2(jobs, M)"
   ]
  },
  {
   "cell_type": "markdown",
   "metadata": {},
   "source": [
    "## Entrada de datos: 3x4000x1.5x4"
   ]
  },
  {
   "cell_type": "code",
   "execution_count": 49,
   "metadata": {},
   "outputs": [
    {
     "name": "stdout",
     "output_type": "stream",
     "text": [
      "Execution time 53.73811674118042\n",
      "3993\n"
     ]
    }
   ],
   "source": [
    "start=time.time()\n",
    "M=3\n",
    "n=4000\n",
    "ruta=\"/Users/elPatan03/Desktop/lala/lala/3x4000x1.5x4.csv\"\n",
    "archivo=open(ruta,\"r\")\n",
    "jobs=[]\n",
    "for i in range(n+1):\n",
    "    if (i==0):\n",
    "        nada=archivo.readline()\n",
    "    else:\n",
    "        Ji,di,pi=archivo.readline().strip().split(\";\")\n",
    "        jobs.append([Ji,float(di),float(pi)])\n",
    "schedules, rejected, impossible = H2(jobs, M)"
   ]
  },
  {
   "cell_type": "markdown",
   "metadata": {},
   "source": [
    "## Entrada de datos: 3x4000x1.5x5"
   ]
  },
  {
   "cell_type": "code",
   "execution_count": 50,
   "metadata": {},
   "outputs": [
    {
     "name": "stdout",
     "output_type": "stream",
     "text": [
      "Execution time 18.61937713623047\n",
      "3998\n"
     ]
    }
   ],
   "source": [
    "start=time.time()\n",
    "M=3\n",
    "n=4000\n",
    "ruta=\"/Users/elPatan03/Desktop/lala/lala/3x4000x1.5x5.csv\"\n",
    "archivo=open(ruta,\"r\")\n",
    "jobs=[]\n",
    "for i in range(n+1):\n",
    "    if (i==0):\n",
    "        nada=archivo.readline()\n",
    "    else:\n",
    "        Ji,di,pi=archivo.readline().strip().split(\";\")\n",
    "        jobs.append([Ji,float(di),float(pi)])\n",
    "schedules, rejected, impossible = H2(jobs, M)"
   ]
  },
  {
   "cell_type": "markdown",
   "metadata": {},
   "source": [
    "## Entrada de datos: 3x4000x2x1"
   ]
  },
  {
   "cell_type": "code",
   "execution_count": 51,
   "metadata": {},
   "outputs": [
    {
     "name": "stdout",
     "output_type": "stream",
     "text": [
      "Execution time 14.551155090332031\n",
      "3965\n"
     ]
    }
   ],
   "source": [
    "start=time.time()\n",
    "M=3\n",
    "n=4000\n",
    "ruta=\"/Users/elPatan03/Desktop/lala/lala/3x4000x2x1.csv\"\n",
    "archivo=open(ruta,\"r\")\n",
    "jobs=[]\n",
    "for i in range(n+1):\n",
    "    if (i==0):\n",
    "        nada=archivo.readline()\n",
    "    else:\n",
    "        Ji,di,pi=archivo.readline().strip().split(\";\")\n",
    "        jobs.append([Ji,float(di),float(pi)])\n",
    "schedules, rejected, impossible = H2(jobs, M)"
   ]
  },
  {
   "cell_type": "markdown",
   "metadata": {},
   "source": [
    "## Entrada de datos: 3x4000x2x2"
   ]
  },
  {
   "cell_type": "code",
   "execution_count": 52,
   "metadata": {},
   "outputs": [
    {
     "name": "stdout",
     "output_type": "stream",
     "text": [
      "Execution time 12.899498462677002\n",
      "3954\n"
     ]
    }
   ],
   "source": [
    "start=time.time()\n",
    "M=3\n",
    "n=4000\n",
    "ruta=\"/Users/elPatan03/Desktop/lala/lala/3x4000x2x2.csv\"\n",
    "archivo=open(ruta,\"r\")\n",
    "jobs=[]\n",
    "for i in range(n+1):\n",
    "    if (i==0):\n",
    "        nada=archivo.readline()\n",
    "    else:\n",
    "        Ji,di,pi=archivo.readline().strip().split(\";\")\n",
    "        jobs.append([Ji,float(di),float(pi)])\n",
    "schedules, rejected, impossible = H2(jobs, M)"
   ]
  },
  {
   "cell_type": "markdown",
   "metadata": {},
   "source": [
    "## Entrada de datos: 3x4000x2x3"
   ]
  },
  {
   "cell_type": "code",
   "execution_count": 53,
   "metadata": {},
   "outputs": [
    {
     "name": "stdout",
     "output_type": "stream",
     "text": [
      "Execution time 86.59327983856201\n",
      "3976\n"
     ]
    }
   ],
   "source": [
    "start=time.time()\n",
    "M=3\n",
    "n=4000\n",
    "ruta=\"/Users/elPatan03/Desktop/lala/lala/3x4000x2x3.csv\"\n",
    "archivo=open(ruta,\"r\")\n",
    "jobs=[]\n",
    "for i in range(n+1):\n",
    "    if (i==0):\n",
    "        nada=archivo.readline()\n",
    "    else:\n",
    "        Ji,di,pi=archivo.readline().strip().split(\";\")\n",
    "        jobs.append([Ji,float(di),float(pi)])\n",
    "schedules, rejected, impossible = H2(jobs, M)"
   ]
  },
  {
   "cell_type": "markdown",
   "metadata": {},
   "source": [
    "## Entrada de datos: 3x4000x2x4"
   ]
  },
  {
   "cell_type": "code",
   "execution_count": 54,
   "metadata": {},
   "outputs": [
    {
     "name": "stdout",
     "output_type": "stream",
     "text": [
      "Execution time 16.990975379943848\n",
      "3957\n"
     ]
    }
   ],
   "source": [
    "start=time.time()\n",
    "M=3\n",
    "n=4000\n",
    "ruta=\"/Users/elPatan03/Desktop/lala/lala/3x4000x2x4.csv\"\n",
    "archivo=open(ruta,\"r\")\n",
    "jobs=[]\n",
    "for i in range(n+1):\n",
    "    if (i==0):\n",
    "        nada=archivo.readline()\n",
    "    else:\n",
    "        Ji,di,pi=archivo.readline().strip().split(\";\")\n",
    "        jobs.append([Ji,float(di),float(pi)])\n",
    "schedules, rejected, impossible = H2(jobs, M)"
   ]
  },
  {
   "cell_type": "markdown",
   "metadata": {},
   "source": [
    "## Entrada de datos: 3x4000x2x5"
   ]
  },
  {
   "cell_type": "code",
   "execution_count": 55,
   "metadata": {},
   "outputs": [
    {
     "name": "stdout",
     "output_type": "stream",
     "text": [
      "Execution time 27.634810209274292\n",
      "3963\n"
     ]
    }
   ],
   "source": [
    "start=time.time()\n",
    "M=3\n",
    "n=4000\n",
    "ruta=\"/Users/elPatan03/Desktop/lala/lala/3x4000x2x5.csv\"\n",
    "archivo=open(ruta,\"r\")\n",
    "jobs=[]\n",
    "for i in range(n+1):\n",
    "    if (i==0):\n",
    "        nada=archivo.readline()\n",
    "    else:\n",
    "        Ji,di,pi=archivo.readline().strip().split(\";\")\n",
    "        jobs.append([Ji,float(di),float(pi)])\n",
    "schedules, rejected, impossible = H2(jobs, M)"
   ]
  },
  {
   "cell_type": "markdown",
   "metadata": {},
   "source": [
    "## Entrada de datos: 3x4000x2.5x1"
   ]
  },
  {
   "cell_type": "code",
   "execution_count": 56,
   "metadata": {},
   "outputs": [
    {
     "name": "stdout",
     "output_type": "stream",
     "text": [
      "Execution time 12.513616800308228\n",
      "3554\n"
     ]
    }
   ],
   "source": [
    "start=time.time()\n",
    "M=3\n",
    "n=4000\n",
    "ruta=\"/Users/elPatan03/Desktop/lala/lala/3x4000x2.5x1.csv\"\n",
    "archivo=open(ruta,\"r\")\n",
    "jobs=[]\n",
    "for i in range(n+1):\n",
    "    if (i==0):\n",
    "        nada=archivo.readline()\n",
    "    else:\n",
    "        Ji,di,pi=archivo.readline().strip().split(\";\")\n",
    "        jobs.append([Ji,float(di),float(pi)])\n",
    "schedules, rejected, impossible = H2(jobs, M)"
   ]
  },
  {
   "cell_type": "markdown",
   "metadata": {},
   "source": [
    "## Entrada de datos: 3x4000x2.5x2"
   ]
  },
  {
   "cell_type": "code",
   "execution_count": 57,
   "metadata": {},
   "outputs": [
    {
     "name": "stdout",
     "output_type": "stream",
     "text": [
      "Execution time 72.34462237358093\n",
      "3556\n"
     ]
    }
   ],
   "source": [
    "start=time.time()\n",
    "M=3\n",
    "n=4000\n",
    "ruta=\"/Users/elPatan03/Desktop/lala/lala/3x4000x2.5x2.csv\"\n",
    "archivo=open(ruta,\"r\")\n",
    "jobs=[]\n",
    "for i in range(n+1):\n",
    "    if (i==0):\n",
    "        nada=archivo.readline()\n",
    "    else:\n",
    "        Ji,di,pi=archivo.readline().strip().split(\";\")\n",
    "        jobs.append([Ji,float(di),float(pi)])\n",
    "schedules, rejected, impossible = H2(jobs, M)"
   ]
  },
  {
   "cell_type": "markdown",
   "metadata": {},
   "source": [
    "## Entrada de datos: 3x4000x2.5x3"
   ]
  },
  {
   "cell_type": "code",
   "execution_count": 58,
   "metadata": {},
   "outputs": [
    {
     "name": "stdout",
     "output_type": "stream",
     "text": [
      "Execution time 42.16397953033447\n",
      "3551\n"
     ]
    }
   ],
   "source": [
    "start=time.time()\n",
    "M=3\n",
    "n=4000\n",
    "ruta=\"/Users/elPatan03/Desktop/lala/lala/3x4000x2.5x3.csv\"\n",
    "archivo=open(ruta,\"r\")\n",
    "jobs=[]\n",
    "for i in range(n+1):\n",
    "    if (i==0):\n",
    "        nada=archivo.readline()\n",
    "    else:\n",
    "        Ji,di,pi=archivo.readline().strip().split(\";\")\n",
    "        jobs.append([Ji,float(di),float(pi)])\n",
    "schedules, rejected, impossible = H2(jobs, M)"
   ]
  },
  {
   "cell_type": "markdown",
   "metadata": {},
   "source": [
    "## Entrada de datos: 3x4000x2.5x4"
   ]
  },
  {
   "cell_type": "code",
   "execution_count": 59,
   "metadata": {},
   "outputs": [
    {
     "name": "stdout",
     "output_type": "stream",
     "text": [
      "Execution time 13.439642667770386\n",
      "3550\n"
     ]
    }
   ],
   "source": [
    "start=time.time()\n",
    "M=3\n",
    "n=4000\n",
    "ruta=\"/Users/elPatan03/Desktop/lala/lala/3x4000x2.5x4.csv\"\n",
    "archivo=open(ruta,\"r\")\n",
    "jobs=[]\n",
    "for i in range(n+1):\n",
    "    if (i==0):\n",
    "        nada=archivo.readline()\n",
    "    else:\n",
    "        Ji,di,pi=archivo.readline().strip().split(\";\")\n",
    "        jobs.append([Ji,float(di),float(pi)])\n",
    "schedules, rejected, impossible = H2(jobs, M)"
   ]
  },
  {
   "cell_type": "markdown",
   "metadata": {},
   "source": [
    "## Entrada de datos: 3x4000x2.5x5"
   ]
  },
  {
   "cell_type": "code",
   "execution_count": 60,
   "metadata": {
    "scrolled": true
   },
   "outputs": [
    {
     "name": "stdout",
     "output_type": "stream",
     "text": [
      "Execution time 15.846675872802734\n",
      "3551\n"
     ]
    }
   ],
   "source": [
    "start=time.time()\n",
    "M=3\n",
    "n=4000\n",
    "ruta=\"/Users/elPatan03/Desktop/lala/lala/3x4000x2.5x5.csv\"\n",
    "archivo=open(ruta,\"r\")\n",
    "jobs=[]\n",
    "for i in range(n+1):\n",
    "    if (i==0):\n",
    "        nada=archivo.readline()\n",
    "    else:\n",
    "        Ji,di,pi=archivo.readline().strip().split(\";\")\n",
    "        jobs.append([Ji,float(di),float(pi)])\n",
    "schedules, rejected, impossible = H2(jobs, M)"
   ]
  },
  {
   "cell_type": "markdown",
   "metadata": {},
   "source": [
    "## Entrada de datos: 3x4000x3x1"
   ]
  },
  {
   "cell_type": "code",
   "execution_count": 61,
   "metadata": {},
   "outputs": [
    {
     "name": "stdout",
     "output_type": "stream",
     "text": [
      "Execution time 11.090230226516724\n",
      "3221\n"
     ]
    }
   ],
   "source": [
    "start=time.time()\n",
    "M=3\n",
    "n=4000\n",
    "ruta=\"/Users/elPatan03/Desktop/lala/lala/3x4000x3x1.csv\"\n",
    "archivo=open(ruta,\"r\")\n",
    "jobs=[]\n",
    "for i in range(n+1):\n",
    "    if (i==0):\n",
    "        nada=archivo.readline()\n",
    "    else:\n",
    "        Ji,di,pi=archivo.readline().strip().split(\";\")\n",
    "        jobs.append([Ji,float(di),float(pi)])\n",
    "schedules, rejected, impossible = H2(jobs, M)"
   ]
  },
  {
   "cell_type": "markdown",
   "metadata": {},
   "source": [
    "## Entrada de datos: 3x4000x3x2"
   ]
  },
  {
   "cell_type": "code",
   "execution_count": 62,
   "metadata": {},
   "outputs": [
    {
     "name": "stdout",
     "output_type": "stream",
     "text": [
      "Execution time 14.262715101242065\n",
      "3225\n"
     ]
    }
   ],
   "source": [
    "start=time.time()\n",
    "M=3\n",
    "n=4000\n",
    "ruta=\"/Users/elPatan03/Desktop/lala/lala/3x4000x3x2.csv\"\n",
    "archivo=open(ruta,\"r\")\n",
    "jobs=[]\n",
    "for i in range(n+1):\n",
    "    if (i==0):\n",
    "        nada=archivo.readline()\n",
    "    else:\n",
    "        Ji,di,pi=archivo.readline().strip().split(\";\")\n",
    "        jobs.append([Ji,float(di),float(pi)])\n",
    "schedules, rejected, impossible = H2(jobs, M)"
   ]
  },
  {
   "cell_type": "markdown",
   "metadata": {},
   "source": [
    "## Entrada de datos: 3x4000x3x3"
   ]
  },
  {
   "cell_type": "code",
   "execution_count": 63,
   "metadata": {},
   "outputs": [
    {
     "name": "stdout",
     "output_type": "stream",
     "text": [
      "Execution time 26.461634874343872\n",
      "3226\n"
     ]
    }
   ],
   "source": [
    "start=time.time()\n",
    "M=3\n",
    "n=4000\n",
    "ruta=\"/Users/elPatan03/Desktop/lala/lala/3x4000x3x3.csv\"\n",
    "archivo=open(ruta,\"r\")\n",
    "jobs=[]\n",
    "for i in range(n+1):\n",
    "    if (i==0):\n",
    "        nada=archivo.readline()\n",
    "    else:\n",
    "        Ji,di,pi=archivo.readline().strip().split(\";\")\n",
    "        jobs.append([Ji,float(di),float(pi)])\n",
    "schedules, rejected, impossible = H2(jobs, M)"
   ]
  },
  {
   "cell_type": "markdown",
   "metadata": {},
   "source": [
    "## Entrada de datos: 3x4000x3x4"
   ]
  },
  {
   "cell_type": "code",
   "execution_count": 64,
   "metadata": {},
   "outputs": [
    {
     "name": "stdout",
     "output_type": "stream",
     "text": [
      "Execution time 55.979092836380005\n",
      "3205\n"
     ]
    }
   ],
   "source": [
    "start=time.time()\n",
    "M=3\n",
    "n=4000\n",
    "ruta=\"/Users/elPatan03/Desktop/lala/lala/3x4000x3x4.csv\"\n",
    "archivo=open(ruta,\"r\")\n",
    "jobs=[]\n",
    "for i in range(n+1):\n",
    "    if (i==0):\n",
    "        nada=archivo.readline()\n",
    "    else:\n",
    "        Ji,di,pi=archivo.readline().strip().split(\";\")\n",
    "        jobs.append([Ji,float(di),float(pi)])\n",
    "schedules, rejected, impossible = H2(jobs, M)"
   ]
  },
  {
   "cell_type": "markdown",
   "metadata": {},
   "source": [
    "## Entrada de datos: 3x4000x3x5"
   ]
  },
  {
   "cell_type": "code",
   "execution_count": 65,
   "metadata": {},
   "outputs": [
    {
     "name": "stdout",
     "output_type": "stream",
     "text": [
      "Execution time 9.36252236366272\n",
      "3229\n"
     ]
    }
   ],
   "source": [
    "start=time.time()\n",
    "M=3\n",
    "n=4000\n",
    "ruta=\"/Users/elPatan03/Desktop/lala/lala/3x4000x3x5.csv\"\n",
    "archivo=open(ruta,\"r\")\n",
    "jobs=[]\n",
    "for i in range(n+1):\n",
    "    if (i==0):\n",
    "        nada=archivo.readline()\n",
    "    else:\n",
    "        Ji,di,pi=archivo.readline().strip().split(\";\")\n",
    "        jobs.append([Ji,float(di),float(pi)])\n",
    "schedules, rejected, impossible = H2(jobs, M)"
   ]
  },
  {
   "cell_type": "markdown",
   "metadata": {},
   "source": [
    "## Entrada de datos: 3x4000x3.5x1"
   ]
  },
  {
   "cell_type": "code",
   "execution_count": 66,
   "metadata": {},
   "outputs": [
    {
     "name": "stdout",
     "output_type": "stream",
     "text": [
      "Execution time 16.49600315093994\n",
      "2975\n"
     ]
    }
   ],
   "source": [
    "start=time.time()\n",
    "M=3\n",
    "n=4000\n",
    "ruta=\"/Users/elPatan03/Desktop/lala/lala/3x4000x3.5x1.csv\"\n",
    "archivo=open(ruta,\"r\")\n",
    "jobs=[]\n",
    "for i in range(n+1):\n",
    "    if (i==0):\n",
    "        nada=archivo.readline()\n",
    "    else:\n",
    "        Ji,di,pi=archivo.readline().strip().split(\";\")\n",
    "        jobs.append([Ji,float(di),float(pi)])\n",
    "schedules, rejected, impossible = H2(jobs, M)"
   ]
  },
  {
   "cell_type": "markdown",
   "metadata": {},
   "source": [
    "## Entrada de datos: 3x4000x3.5x2"
   ]
  },
  {
   "cell_type": "code",
   "execution_count": 67,
   "metadata": {},
   "outputs": [
    {
     "name": "stdout",
     "output_type": "stream",
     "text": [
      "Execution time 15.380470037460327\n",
      "2979\n"
     ]
    }
   ],
   "source": [
    "start=time.time()\n",
    "M=3\n",
    "n=4000\n",
    "ruta=\"/Users/elPatan03/Desktop/lala/lala/3x4000x3.5x2.csv\"\n",
    "archivo=open(ruta,\"r\")\n",
    "jobs=[]\n",
    "for i in range(n+1):\n",
    "    if (i==0):\n",
    "        nada=archivo.readline()\n",
    "    else:\n",
    "        Ji,di,pi=archivo.readline().strip().split(\";\")\n",
    "        jobs.append([Ji,float(di),float(pi)])\n",
    "schedules, rejected, impossible = H2(jobs, M)"
   ]
  },
  {
   "cell_type": "markdown",
   "metadata": {},
   "source": [
    "## Entrada de datos: 3x4000x3.5x3"
   ]
  },
  {
   "cell_type": "code",
   "execution_count": 68,
   "metadata": {},
   "outputs": [
    {
     "name": "stdout",
     "output_type": "stream",
     "text": [
      "Execution time 7.919656991958618\n",
      "2970\n"
     ]
    }
   ],
   "source": [
    "start=time.time()\n",
    "M=3\n",
    "n=4000\n",
    "ruta=\"/Users/elPatan03/Desktop/lala/lala/3x4000x3.5x3.csv\"\n",
    "archivo=open(ruta,\"r\")\n",
    "jobs=[]\n",
    "for i in range(n+1):\n",
    "    if (i==0):\n",
    "        nada=archivo.readline()\n",
    "    else:\n",
    "        Ji,di,pi=archivo.readline().strip().split(\";\")\n",
    "        jobs.append([Ji,float(di),float(pi)])\n",
    "schedules, rejected, impossible = H2(jobs, M)"
   ]
  },
  {
   "cell_type": "markdown",
   "metadata": {},
   "source": [
    "## Entrada de datos: 3x4000x3.5x4"
   ]
  },
  {
   "cell_type": "code",
   "execution_count": 69,
   "metadata": {},
   "outputs": [
    {
     "name": "stdout",
     "output_type": "stream",
     "text": [
      "Execution time 14.634512424468994\n",
      "2964\n"
     ]
    }
   ],
   "source": [
    "start=time.time()\n",
    "M=3\n",
    "n=4000\n",
    "ruta=\"/Users/elPatan03/Desktop/lala/lala/3x4000x3.5x4.csv\"\n",
    "archivo=open(ruta,\"r\")\n",
    "jobs=[]\n",
    "for i in range(n+1):\n",
    "    if (i==0):\n",
    "        nada=archivo.readline()\n",
    "    else:\n",
    "        Ji,di,pi=archivo.readline().strip().split(\";\")\n",
    "        jobs.append([Ji,float(di),float(pi)])\n",
    "schedules, rejected, impossible = H2(jobs, M)"
   ]
  },
  {
   "cell_type": "markdown",
   "metadata": {},
   "source": [
    "## Entrada de datos: 3x4000x3.5x5"
   ]
  },
  {
   "cell_type": "code",
   "execution_count": 70,
   "metadata": {},
   "outputs": [
    {
     "name": "stdout",
     "output_type": "stream",
     "text": [
      "Execution time 13.915312051773071\n",
      "2959\n"
     ]
    }
   ],
   "source": [
    "start=time.time()\n",
    "M=3\n",
    "n=4000\n",
    "ruta=\"/Users/elPatan03/Desktop/lala/lala/3x4000x3.5x5.csv\"\n",
    "archivo=open(ruta,\"r\")\n",
    "jobs=[]\n",
    "for i in range(n+1):\n",
    "    if (i==0):\n",
    "        nada=archivo.readline()\n",
    "    else:\n",
    "        Ji,di,pi=archivo.readline().strip().split(\";\")\n",
    "        jobs.append([Ji,float(di),float(pi)])\n",
    "schedules, rejected, impossible = H2(jobs, M)"
   ]
  },
  {
   "cell_type": "markdown",
   "metadata": {},
   "source": [
    "## Entrada de datos: 3x4000x4x1"
   ]
  },
  {
   "cell_type": "code",
   "execution_count": 71,
   "metadata": {},
   "outputs": [
    {
     "name": "stdout",
     "output_type": "stream",
     "text": [
      "Execution time 8.20533037185669\n",
      "2765\n"
     ]
    }
   ],
   "source": [
    "start=time.time()\n",
    "M=3\n",
    "n=4000\n",
    "ruta=\"/Users/elPatan03/Desktop/lala/lala/3x4000x4x1.csv\"\n",
    "archivo=open(ruta,\"r\")\n",
    "jobs=[]\n",
    "for i in range(n+1):\n",
    "    if (i==0):\n",
    "        nada=archivo.readline()\n",
    "    else:\n",
    "        Ji,di,pi=archivo.readline().strip().split(\";\")\n",
    "        jobs.append([Ji,float(di),float(pi)])\n",
    "schedules, rejected, impossible = H2(jobs, M)"
   ]
  },
  {
   "cell_type": "markdown",
   "metadata": {},
   "source": [
    "## Entrada de datos: 3x4000x4x2"
   ]
  },
  {
   "cell_type": "code",
   "execution_count": 72,
   "metadata": {},
   "outputs": [
    {
     "name": "stdout",
     "output_type": "stream",
     "text": [
      "Execution time 9.994397401809692\n",
      "2772\n"
     ]
    }
   ],
   "source": [
    "start=time.time()\n",
    "M=3\n",
    "n=4000\n",
    "ruta=\"/Users/elPatan03/Desktop/lala/lala/3x4000x4x2.csv\"\n",
    "archivo=open(ruta,\"r\")\n",
    "jobs=[]\n",
    "for i in range(n+1):\n",
    "    if (i==0):\n",
    "        nada=archivo.readline()\n",
    "    else:\n",
    "        Ji,di,pi=archivo.readline().strip().split(\";\")\n",
    "        jobs.append([Ji,float(di),float(pi)])\n",
    "schedules, rejected, impossible = H2(jobs, M)"
   ]
  },
  {
   "cell_type": "markdown",
   "metadata": {},
   "source": [
    "## Entrada de datos: 3x4000x4x3"
   ]
  },
  {
   "cell_type": "code",
   "execution_count": 73,
   "metadata": {},
   "outputs": [
    {
     "name": "stdout",
     "output_type": "stream",
     "text": [
      "Execution time 7.535758972167969\n",
      "2766\n"
     ]
    }
   ],
   "source": [
    "start=time.time()\n",
    "M=3\n",
    "n=4000\n",
    "ruta=\"/Users/elPatan03/Desktop/lala/lala/3x4000x4x3.csv\"\n",
    "archivo=open(ruta,\"r\")\n",
    "jobs=[]\n",
    "for i in range(n+1):\n",
    "    if (i==0):\n",
    "        nada=archivo.readline()\n",
    "    else:\n",
    "        Ji,di,pi=archivo.readline().strip().split(\";\")\n",
    "        jobs.append([Ji,float(di),float(pi)])\n",
    "schedules, rejected, impossible = H2(jobs, M)"
   ]
  },
  {
   "cell_type": "markdown",
   "metadata": {},
   "source": [
    "## Entrada de datos: 3x4000x4x4"
   ]
  },
  {
   "cell_type": "code",
   "execution_count": 74,
   "metadata": {},
   "outputs": [
    {
     "name": "stdout",
     "output_type": "stream",
     "text": [
      "Execution time 11.252229928970337\n",
      "2766\n"
     ]
    }
   ],
   "source": [
    "start=time.time()\n",
    "M=3\n",
    "n=4000\n",
    "ruta=\"/Users/elPatan03/Desktop/lala/lala/3x4000x4x4.csv\"\n",
    "archivo=open(ruta,\"r\")\n",
    "jobs=[]\n",
    "for i in range(n+1):\n",
    "    if (i==0):\n",
    "        nada=archivo.readline()\n",
    "    else:\n",
    "        Ji,di,pi=archivo.readline().strip().split(\";\")\n",
    "        jobs.append([Ji,float(di),float(pi)])\n",
    "schedules, rejected, impossible = H2(jobs, M)"
   ]
  },
  {
   "cell_type": "markdown",
   "metadata": {},
   "source": [
    "## Entrada de datos: 3x4000x4x5"
   ]
  },
  {
   "cell_type": "code",
   "execution_count": 75,
   "metadata": {},
   "outputs": [
    {
     "name": "stdout",
     "output_type": "stream",
     "text": [
      "Execution time 9.376360416412354\n",
      "2770\n"
     ]
    }
   ],
   "source": [
    "start=time.time()\n",
    "M=3\n",
    "n=4000\n",
    "ruta=\"/Users/elPatan03/Desktop/lala/lala/3x4000x4x5.csv\"\n",
    "archivo=open(ruta,\"r\")\n",
    "jobs=[]\n",
    "for i in range(n+1):\n",
    "    if (i==0):\n",
    "        nada=archivo.readline()\n",
    "    else:\n",
    "        Ji,di,pi=archivo.readline().strip().split(\";\")\n",
    "        jobs.append([Ji,float(di),float(pi)])\n",
    "schedules, rejected, impossible = H2(jobs, M)"
   ]
  },
  {
   "cell_type": "markdown",
   "metadata": {},
   "source": [
    "## Entrada de datos: 3x4000x4.5x1"
   ]
  },
  {
   "cell_type": "code",
   "execution_count": 76,
   "metadata": {},
   "outputs": [
    {
     "name": "stdout",
     "output_type": "stream",
     "text": [
      "Execution time 8.682977676391602\n",
      "2590\n"
     ]
    }
   ],
   "source": [
    "start=time.time()\n",
    "M=3\n",
    "n=4000\n",
    "ruta=\"/Users/elPatan03/Desktop/lala/lala/3x4000x4.5x1.csv\"\n",
    "archivo=open(ruta,\"r\")\n",
    "jobs=[]\n",
    "for i in range(n+1):\n",
    "    if (i==0):\n",
    "        nada=archivo.readline()\n",
    "    else:\n",
    "        Ji,di,pi=archivo.readline().strip().split(\";\")\n",
    "        jobs.append([Ji,float(di),float(pi)])\n",
    "schedules, rejected, impossible = H2(jobs, M)"
   ]
  },
  {
   "cell_type": "markdown",
   "metadata": {},
   "source": [
    "## Entrada de datos: 3x4000x4.5x2"
   ]
  },
  {
   "cell_type": "code",
   "execution_count": 77,
   "metadata": {},
   "outputs": [
    {
     "name": "stdout",
     "output_type": "stream",
     "text": [
      "Execution time 9.407125473022461\n",
      "2599\n"
     ]
    }
   ],
   "source": [
    "start=time.time()\n",
    "M=3\n",
    "n=4000\n",
    "ruta=\"/Users/elPatan03/Desktop/lala/lala/3x4000x4.5x2.csv\"\n",
    "archivo=open(ruta,\"r\")\n",
    "jobs=[]\n",
    "for i in range(n+1):\n",
    "    if (i==0):\n",
    "        nada=archivo.readline()\n",
    "    else:\n",
    "        Ji,di,pi=archivo.readline().strip().split(\";\")\n",
    "        jobs.append([Ji,float(di),float(pi)])\n",
    "schedules, rejected, impossible = H2(jobs, M)"
   ]
  },
  {
   "cell_type": "markdown",
   "metadata": {},
   "source": [
    "## Entrada de datos: 3x4000x4.5x3"
   ]
  },
  {
   "cell_type": "code",
   "execution_count": 78,
   "metadata": {},
   "outputs": [
    {
     "name": "stdout",
     "output_type": "stream",
     "text": [
      "Execution time 7.936025142669678\n",
      "2613\n"
     ]
    }
   ],
   "source": [
    "start=time.time()\n",
    "M=3\n",
    "n=4000\n",
    "ruta=\"/Users/elPatan03/Desktop/lala/lala/3x4000x4.5x3.csv\"\n",
    "archivo=open(ruta,\"r\")\n",
    "jobs=[]\n",
    "for i in range(n+1):\n",
    "    if (i==0):\n",
    "        nada=archivo.readline()\n",
    "    else:\n",
    "        Ji,di,pi=archivo.readline().strip().split(\";\")\n",
    "        jobs.append([Ji,float(di),float(pi)])\n",
    "schedules, rejected, impossible = H2(jobs, M)"
   ]
  },
  {
   "cell_type": "markdown",
   "metadata": {},
   "source": [
    "## Entrada de datos: 3x4000x4.5x4"
   ]
  },
  {
   "cell_type": "code",
   "execution_count": 79,
   "metadata": {},
   "outputs": [
    {
     "name": "stdout",
     "output_type": "stream",
     "text": [
      "Execution time 10.291033506393433\n",
      "2585\n"
     ]
    }
   ],
   "source": [
    "start=time.time()\n",
    "M=3\n",
    "n=4000\n",
    "ruta=\"/Users/elPatan03/Desktop/lala/lala/3x4000x4.5x4.csv\"\n",
    "archivo=open(ruta,\"r\")\n",
    "jobs=[]\n",
    "for i in range(n+1):\n",
    "    if (i==0):\n",
    "        nada=archivo.readline()\n",
    "    else:\n",
    "        Ji,di,pi=archivo.readline().strip().split(\";\")\n",
    "        jobs.append([Ji,float(di),float(pi)])\n",
    "schedules, rejected, impossible = H2(jobs, M)"
   ]
  },
  {
   "cell_type": "markdown",
   "metadata": {},
   "source": [
    "## Entrada de datos: 3x4000x4.5x5"
   ]
  },
  {
   "cell_type": "code",
   "execution_count": 80,
   "metadata": {
    "scrolled": true
   },
   "outputs": [
    {
     "name": "stdout",
     "output_type": "stream",
     "text": [
      "Execution time 9.44979453086853\n",
      "2598\n"
     ]
    }
   ],
   "source": [
    "start=time.time()\n",
    "M=3\n",
    "n=4000\n",
    "ruta=\"/Users/elPatan03/Desktop/lala/lala/3x4000x4.5x5.csv\"\n",
    "archivo=open(ruta,\"r\")\n",
    "jobs=[]\n",
    "for i in range(n+1):\n",
    "    if (i==0):\n",
    "        nada=archivo.readline()\n",
    "    else:\n",
    "        Ji,di,pi=archivo.readline().strip().split(\";\")\n",
    "        jobs.append([Ji,float(di),float(pi)])\n",
    "schedules, rejected, impossible = H2(jobs, M)"
   ]
  },
  {
   "cell_type": "markdown",
   "metadata": {},
   "source": [
    "## Entrada de datos: 3x4000x5x1"
   ]
  },
  {
   "cell_type": "code",
   "execution_count": 81,
   "metadata": {},
   "outputs": [
    {
     "name": "stdout",
     "output_type": "stream",
     "text": [
      "Execution time 11.558809995651245\n",
      "2461\n"
     ]
    }
   ],
   "source": [
    "start=time.time()\n",
    "M=3\n",
    "n=4000\n",
    "ruta=\"/Users/elPatan03/Desktop/lala/lala/3x4000x5x1.csv\"\n",
    "archivo=open(ruta,\"r\")\n",
    "jobs=[]\n",
    "for i in range(n+1):\n",
    "    if (i==0):\n",
    "        nada=archivo.readline()\n",
    "    else:\n",
    "        Ji,di,pi=archivo.readline().strip().split(\";\")\n",
    "        jobs.append([Ji,float(di),float(pi)])\n",
    "schedules, rejected, impossible = H2(jobs, M)"
   ]
  },
  {
   "cell_type": "markdown",
   "metadata": {},
   "source": [
    "## Entrada de datos: 3x4000x5x2"
   ]
  },
  {
   "cell_type": "code",
   "execution_count": 82,
   "metadata": {},
   "outputs": [
    {
     "name": "stdout",
     "output_type": "stream",
     "text": [
      "Execution time 9.725050687789917\n",
      "2462\n"
     ]
    }
   ],
   "source": [
    "start=time.time()\n",
    "M=3\n",
    "n=4000\n",
    "ruta=\"/Users/elPatan03/Desktop/lala/lala/3x4000x5x2.csv\"\n",
    "archivo=open(ruta,\"r\")\n",
    "jobs=[]\n",
    "for i in range(n+1):\n",
    "    if (i==0):\n",
    "        nada=archivo.readline()\n",
    "    else:\n",
    "        Ji,di,pi=archivo.readline().strip().split(\";\")\n",
    "        jobs.append([Ji,float(di),float(pi)])\n",
    "schedules, rejected, impossible = H2(jobs, M)"
   ]
  },
  {
   "cell_type": "markdown",
   "metadata": {},
   "source": [
    "## Entrada de datos: 3x4000x5x3"
   ]
  },
  {
   "cell_type": "code",
   "execution_count": 83,
   "metadata": {},
   "outputs": [
    {
     "name": "stdout",
     "output_type": "stream",
     "text": [
      "Execution time 8.260879755020142\n",
      "2459\n"
     ]
    }
   ],
   "source": [
    "start=time.time()\n",
    "M=3\n",
    "n=4000\n",
    "ruta=\"/Users/elPatan03/Desktop/lala/lala/3x4000x5x3.csv\"\n",
    "archivo=open(ruta,\"r\")\n",
    "jobs=[]\n",
    "for i in range(n+1):\n",
    "    if (i==0):\n",
    "        nada=archivo.readline()\n",
    "    else:\n",
    "        Ji,di,pi=archivo.readline().strip().split(\";\")\n",
    "        jobs.append([Ji,float(di),float(pi)])\n",
    "schedules, rejected, impossible = H2(jobs, M)"
   ]
  },
  {
   "cell_type": "markdown",
   "metadata": {},
   "source": [
    "## Entrada de datos: 3x4000x5x4"
   ]
  },
  {
   "cell_type": "code",
   "execution_count": 84,
   "metadata": {},
   "outputs": [
    {
     "name": "stdout",
     "output_type": "stream",
     "text": [
      "Execution time 11.192762851715088\n",
      "2436\n"
     ]
    }
   ],
   "source": [
    "start=time.time()\n",
    "M=3\n",
    "n=4000\n",
    "ruta=\"/Users/elPatan03/Desktop/lala/lala/3x4000x5x4.csv\"\n",
    "archivo=open(ruta,\"r\")\n",
    "jobs=[]\n",
    "for i in range(n+1):\n",
    "    if (i==0):\n",
    "        nada=archivo.readline()\n",
    "    else:\n",
    "        Ji,di,pi=archivo.readline().strip().split(\";\")\n",
    "        jobs.append([Ji,float(di),float(pi)])\n",
    "schedules, rejected, impossible = H2(jobs, M)"
   ]
  },
  {
   "cell_type": "markdown",
   "metadata": {},
   "source": [
    "## Entrada de datos: 3x4000x5x5"
   ]
  },
  {
   "cell_type": "code",
   "execution_count": 85,
   "metadata": {
    "scrolled": true
   },
   "outputs": [
    {
     "name": "stdout",
     "output_type": "stream",
     "text": [
      "Execution time 10.855982065200806\n",
      "2468\n"
     ]
    }
   ],
   "source": [
    "start=time.time()\n",
    "M=3\n",
    "n=4000\n",
    "ruta=\"/Users/elPatan03/Desktop/lala/lala/3x4000x5x5.csv\"\n",
    "archivo=open(ruta,\"r\")\n",
    "jobs=[]\n",
    "for i in range(n+1):\n",
    "    if (i==0):\n",
    "        nada=archivo.readline()\n",
    "    else:\n",
    "        Ji,di,pi=archivo.readline().strip().split(\";\")\n",
    "        jobs.append([Ji,float(di),float(pi)])\n",
    "schedules, rejected, impossible = H2(jobs, M)"
   ]
  },
  {
   "cell_type": "markdown",
   "metadata": {},
   "source": [
    "## Entrada de datos: 4x4000x1.5x1"
   ]
  },
  {
   "cell_type": "code",
   "execution_count": 86,
   "metadata": {},
   "outputs": [
    {
     "name": "stdout",
     "output_type": "stream",
     "text": [
      "Execution time 44.936593770980835\n",
      "3997\n"
     ]
    }
   ],
   "source": [
    "start=time.time()\n",
    "M=4\n",
    "n=4000\n",
    "ruta=\"/Users/elPatan03/Desktop/lala/lala/4x4000x1.5x1.csv\"\n",
    "archivo=open(ruta,\"r\")\n",
    "jobs=[]\n",
    "for i in range(n+1):\n",
    "    if (i==0):\n",
    "        nada=archivo.readline()\n",
    "    else:\n",
    "        Ji,di,pi=archivo.readline().strip().split(\";\")\n",
    "        jobs.append([Ji,float(di),float(pi)])\n",
    "schedules, rejected, impossible = H2(jobs, M)"
   ]
  },
  {
   "cell_type": "markdown",
   "metadata": {},
   "source": [
    "## Entrada de datos: 4x4000x1.5x2"
   ]
  },
  {
   "cell_type": "code",
   "execution_count": 87,
   "metadata": {},
   "outputs": [
    {
     "name": "stdout",
     "output_type": "stream",
     "text": [
      "Execution time 21.951974153518677\n",
      "3994\n"
     ]
    }
   ],
   "source": [
    "start=time.time()\n",
    "M=4\n",
    "n=4000\n",
    "ruta=\"/Users/elPatan03/Desktop/lala/lala/4x4000x1.5x2.csv\"\n",
    "archivo=open(ruta,\"r\")\n",
    "jobs=[]\n",
    "for i in range(n+1):\n",
    "    if (i==0):\n",
    "        nada=archivo.readline()\n",
    "    else:\n",
    "        Ji,di,pi=archivo.readline().strip().split(\";\")\n",
    "        jobs.append([Ji,float(di),float(pi)])\n",
    "schedules, rejected, impossible = H2(jobs, M)"
   ]
  },
  {
   "cell_type": "markdown",
   "metadata": {},
   "source": [
    "## Entrada de datos: 4x4000x1.5x3"
   ]
  },
  {
   "cell_type": "code",
   "execution_count": 88,
   "metadata": {},
   "outputs": [
    {
     "name": "stdout",
     "output_type": "stream",
     "text": [
      "Execution time 12.649489879608154\n",
      "3996\n"
     ]
    }
   ],
   "source": [
    "start=time.time()\n",
    "M=4\n",
    "n=4000\n",
    "ruta=\"/Users/elPatan03/Desktop/lala/lala/4x4000x1.5x3.csv\"\n",
    "archivo=open(ruta,\"r\")\n",
    "jobs=[]\n",
    "for i in range(n+1):\n",
    "    if (i==0):\n",
    "        nada=archivo.readline()\n",
    "    else:\n",
    "        Ji,di,pi=archivo.readline().strip().split(\";\")\n",
    "        jobs.append([Ji,float(di),float(pi)])\n",
    "schedules, rejected, impossible = H2(jobs, M)"
   ]
  },
  {
   "cell_type": "markdown",
   "metadata": {},
   "source": [
    "## Entrada de datos: 4x4000x1.5x4"
   ]
  },
  {
   "cell_type": "code",
   "execution_count": 89,
   "metadata": {},
   "outputs": [
    {
     "name": "stdout",
     "output_type": "stream",
     "text": [
      "Execution time 16.921045064926147\n",
      "3995\n"
     ]
    }
   ],
   "source": [
    "start=time.time()\n",
    "M=4\n",
    "n=4000\n",
    "ruta=\"/Users/elPatan03/Desktop/lala/lala/4x4000x1.5x4.csv\"\n",
    "archivo=open(ruta,\"r\")\n",
    "jobs=[]\n",
    "for i in range(n+1):\n",
    "    if (i==0):\n",
    "        nada=archivo.readline()\n",
    "    else:\n",
    "        Ji,di,pi=archivo.readline().strip().split(\";\")\n",
    "        jobs.append([Ji,float(di),float(pi)])\n",
    "schedules, rejected, impossible = H2(jobs, M)"
   ]
  },
  {
   "cell_type": "markdown",
   "metadata": {},
   "source": [
    "## Entrada de datos: 4x4000x1.5x5"
   ]
  },
  {
   "cell_type": "code",
   "execution_count": 90,
   "metadata": {},
   "outputs": [
    {
     "name": "stdout",
     "output_type": "stream",
     "text": [
      "Execution time 19.94662117958069\n",
      "3998\n"
     ]
    }
   ],
   "source": [
    "start=time.time()\n",
    "M=4\n",
    "n=4000\n",
    "ruta=\"/Users/elPatan03/Desktop/lala/lala/4x4000x1.5x5.csv\"\n",
    "archivo=open(ruta,\"r\")\n",
    "jobs=[]\n",
    "for i in range(n+1):\n",
    "    if (i==0):\n",
    "        nada=archivo.readline()\n",
    "    else:\n",
    "        Ji,di,pi=archivo.readline().strip().split(\";\")\n",
    "        jobs.append([Ji,float(di),float(pi)])\n",
    "schedules, rejected, impossible = H2(jobs, M)"
   ]
  },
  {
   "cell_type": "markdown",
   "metadata": {},
   "source": [
    "## Entrada de datos: 4x4000x2x1"
   ]
  },
  {
   "cell_type": "code",
   "execution_count": 91,
   "metadata": {},
   "outputs": [
    {
     "name": "stdout",
     "output_type": "stream",
     "text": [
      "Execution time 12.95302152633667\n",
      "3957\n"
     ]
    }
   ],
   "source": [
    "start=time.time()\n",
    "M=4\n",
    "n=4000\n",
    "ruta=\"/Users/elPatan03/Desktop/lala/lala/4x4000x2x1.csv\"\n",
    "archivo=open(ruta,\"r\")\n",
    "jobs=[]\n",
    "for i in range(n+1):\n",
    "    if (i==0):\n",
    "        nada=archivo.readline()\n",
    "    else:\n",
    "        Ji,di,pi=archivo.readline().strip().split(\";\")\n",
    "        jobs.append([Ji,float(di),float(pi)])\n",
    "schedules, rejected, impossible = H2(jobs, M)"
   ]
  },
  {
   "cell_type": "markdown",
   "metadata": {},
   "source": [
    "## Entrada de datos: 4x4000x2x2"
   ]
  },
  {
   "cell_type": "code",
   "execution_count": 92,
   "metadata": {},
   "outputs": [
    {
     "name": "stdout",
     "output_type": "stream",
     "text": [
      "Execution time 14.804143190383911\n",
      "3945\n"
     ]
    }
   ],
   "source": [
    "start=time.time()\n",
    "M=4\n",
    "n=4000\n",
    "ruta=\"/Users/elPatan03/Desktop/lala/lala/4x4000x2x2.csv\"\n",
    "archivo=open(ruta,\"r\")\n",
    "jobs=[]\n",
    "for i in range(n+1):\n",
    "    if (i==0):\n",
    "        nada=archivo.readline()\n",
    "    else:\n",
    "        Ji,di,pi=archivo.readline().strip().split(\";\")\n",
    "        jobs.append([Ji,float(di),float(pi)])\n",
    "schedules, rejected, impossible = H2(jobs, M)"
   ]
  },
  {
   "cell_type": "markdown",
   "metadata": {},
   "source": [
    "## Entrada de datos: 4x4000x2x3"
   ]
  },
  {
   "cell_type": "code",
   "execution_count": 93,
   "metadata": {},
   "outputs": [
    {
     "name": "stdout",
     "output_type": "stream",
     "text": [
      "Execution time 26.796492338180542\n",
      "3967\n"
     ]
    }
   ],
   "source": [
    "start=time.time()\n",
    "M=4\n",
    "n=4000\n",
    "ruta=\"/Users/elPatan03/Desktop/lala/lala/4x4000x2x3.csv\"\n",
    "archivo=open(ruta,\"r\")\n",
    "jobs=[]\n",
    "for i in range(n+1):\n",
    "    if (i==0):\n",
    "        nada=archivo.readline()\n",
    "    else:\n",
    "        Ji,di,pi=archivo.readline().strip().split(\";\")\n",
    "        jobs.append([Ji,float(di),float(pi)])\n",
    "schedules, rejected, impossible = H2(jobs, M)"
   ]
  },
  {
   "cell_type": "markdown",
   "metadata": {},
   "source": [
    "## Entrada de datos: 4x4000x2x4"
   ]
  },
  {
   "cell_type": "code",
   "execution_count": 94,
   "metadata": {},
   "outputs": [
    {
     "name": "stdout",
     "output_type": "stream",
     "text": [
      "Execution time 24.73357081413269\n",
      "3958\n"
     ]
    }
   ],
   "source": [
    "start=time.time()\n",
    "M=4\n",
    "n=4000\n",
    "ruta=\"/Users/elPatan03/Desktop/lala/lala/4x4000x2x4.csv\"\n",
    "archivo=open(ruta,\"r\")\n",
    "jobs=[]\n",
    "for i in range(n+1):\n",
    "    if (i==0):\n",
    "        nada=archivo.readline()\n",
    "    else:\n",
    "        Ji,di,pi=archivo.readline().strip().split(\";\")\n",
    "        jobs.append([Ji,float(di),float(pi)])\n",
    "schedules, rejected, impossible = H2(jobs, M)"
   ]
  },
  {
   "cell_type": "markdown",
   "metadata": {},
   "source": [
    "## Entrada de datos: 4x4000x2x5"
   ]
  },
  {
   "cell_type": "code",
   "execution_count": 95,
   "metadata": {},
   "outputs": [
    {
     "name": "stdout",
     "output_type": "stream",
     "text": [
      "Execution time 25.795508861541748\n",
      "3948\n"
     ]
    }
   ],
   "source": [
    "start=time.time()\n",
    "M=4\n",
    "n=4000\n",
    "ruta=\"/Users/elPatan03/Desktop/lala/lala/4x4000x2x5.csv\"\n",
    "archivo=open(ruta,\"r\")\n",
    "jobs=[]\n",
    "for i in range(n+1):\n",
    "    if (i==0):\n",
    "        nada=archivo.readline()\n",
    "    else:\n",
    "        Ji,di,pi=archivo.readline().strip().split(\";\")\n",
    "        jobs.append([Ji,float(di),float(pi)])\n",
    "schedules, rejected, impossible = H2(jobs, M)"
   ]
  },
  {
   "cell_type": "markdown",
   "metadata": {},
   "source": [
    "## Entrada de datos: 4x4000x2.5x1"
   ]
  },
  {
   "cell_type": "code",
   "execution_count": 96,
   "metadata": {},
   "outputs": [
    {
     "name": "stdout",
     "output_type": "stream",
     "text": [
      "Execution time 14.621652603149414\n",
      "3549\n"
     ]
    }
   ],
   "source": [
    "start=time.time()\n",
    "M=4\n",
    "n=4000\n",
    "ruta=\"/Users/elPatan03/Desktop/lala/lala/4x4000x2.5x1.csv\"\n",
    "archivo=open(ruta,\"r\")\n",
    "jobs=[]\n",
    "for i in range(n+1):\n",
    "    if (i==0):\n",
    "        nada=archivo.readline()\n",
    "    else:\n",
    "        Ji,di,pi=archivo.readline().strip().split(\";\")\n",
    "        jobs.append([Ji,float(di),float(pi)])\n",
    "schedules, rejected, impossible = H2(jobs, M)"
   ]
  },
  {
   "cell_type": "markdown",
   "metadata": {},
   "source": [
    "## Entrada de datos: 4x4000x2.5x2"
   ]
  },
  {
   "cell_type": "code",
   "execution_count": 97,
   "metadata": {},
   "outputs": [
    {
     "name": "stdout",
     "output_type": "stream",
     "text": [
      "Execution time 11.618019580841064\n",
      "3553\n"
     ]
    }
   ],
   "source": [
    "start=time.time()\n",
    "M=4\n",
    "n=4000\n",
    "ruta=\"/Users/elPatan03/Desktop/lala/lala/4x4000x2.5x2.csv\"\n",
    "archivo=open(ruta,\"r\")\n",
    "jobs=[]\n",
    "for i in range(n+1):\n",
    "    if (i==0):\n",
    "        nada=archivo.readline()\n",
    "    else:\n",
    "        Ji,di,pi=archivo.readline().strip().split(\";\")\n",
    "        jobs.append([Ji,float(di),float(pi)])\n",
    "schedules, rejected, impossible = H2(jobs, M)"
   ]
  },
  {
   "cell_type": "markdown",
   "metadata": {},
   "source": [
    "## Entrada de datos: 4x4000x2.5x3"
   ]
  },
  {
   "cell_type": "code",
   "execution_count": 98,
   "metadata": {},
   "outputs": [
    {
     "name": "stdout",
     "output_type": "stream",
     "text": [
      "Execution time 9.529678344726562\n",
      "3554\n"
     ]
    }
   ],
   "source": [
    "start=time.time()\n",
    "M=4\n",
    "n=4000\n",
    "ruta=\"/Users/elPatan03/Desktop/lala/lala/4x4000x2.5x3.csv\"\n",
    "archivo=open(ruta,\"r\")\n",
    "jobs=[]\n",
    "for i in range(n+1):\n",
    "    if (i==0):\n",
    "        nada=archivo.readline()\n",
    "    else:\n",
    "        Ji,di,pi=archivo.readline().strip().split(\";\")\n",
    "        jobs.append([Ji,float(di),float(pi)])\n",
    "schedules, rejected, impossible = H2(jobs, M)"
   ]
  },
  {
   "cell_type": "markdown",
   "metadata": {},
   "source": [
    "## Entrada de datos: 4x4000x2.5x4"
   ]
  },
  {
   "cell_type": "code",
   "execution_count": 99,
   "metadata": {},
   "outputs": [
    {
     "name": "stdout",
     "output_type": "stream",
     "text": [
      "Execution time 10.444957971572876\n",
      "3550\n"
     ]
    }
   ],
   "source": [
    "start=time.time()\n",
    "M=4\n",
    "n=4000\n",
    "ruta=\"/Users/elPatan03/Desktop/lala/lala/4x4000x2.5x4.csv\"\n",
    "archivo=open(ruta,\"r\")\n",
    "jobs=[]\n",
    "for i in range(n+1):\n",
    "    if (i==0):\n",
    "        nada=archivo.readline()\n",
    "    else:\n",
    "        Ji,di,pi=archivo.readline().strip().split(\";\")\n",
    "        jobs.append([Ji,float(di),float(pi)])\n",
    "schedules, rejected, impossible = H2(jobs, M)"
   ]
  },
  {
   "cell_type": "markdown",
   "metadata": {},
   "source": [
    "## Entrada de datos: 4x4000x2.5x5"
   ]
  },
  {
   "cell_type": "code",
   "execution_count": 100,
   "metadata": {
    "scrolled": true
   },
   "outputs": [
    {
     "name": "stdout",
     "output_type": "stream",
     "text": [
      "Execution time 11.617786884307861\n",
      "3549\n"
     ]
    }
   ],
   "source": [
    "start=time.time()\n",
    "M=4\n",
    "n=4000\n",
    "ruta=\"/Users/elPatan03/Desktop/lala/lala/4x4000x2.5x5.csv\"\n",
    "archivo=open(ruta,\"r\")\n",
    "jobs=[]\n",
    "for i in range(n+1):\n",
    "    if (i==0):\n",
    "        nada=archivo.readline()\n",
    "    else:\n",
    "        Ji,di,pi=archivo.readline().strip().split(\";\")\n",
    "        jobs.append([Ji,float(di),float(pi)])\n",
    "schedules, rejected, impossible = H2(jobs, M)"
   ]
  },
  {
   "cell_type": "markdown",
   "metadata": {},
   "source": [
    "## Entrada de datos: 4x4000x3x1"
   ]
  },
  {
   "cell_type": "code",
   "execution_count": 101,
   "metadata": {},
   "outputs": [
    {
     "name": "stdout",
     "output_type": "stream",
     "text": [
      "Execution time 24.0872540473938\n",
      "3227\n"
     ]
    }
   ],
   "source": [
    "start=time.time()\n",
    "M=4\n",
    "n=4000\n",
    "ruta=\"/Users/elPatan03/Desktop/lala/lala/4x4000x3x1.csv\"\n",
    "archivo=open(ruta,\"r\")\n",
    "jobs=[]\n",
    "for i in range(n+1):\n",
    "    if (i==0):\n",
    "        nada=archivo.readline()\n",
    "    else:\n",
    "        Ji,di,pi=archivo.readline().strip().split(\";\")\n",
    "        jobs.append([Ji,float(di),float(pi)])\n",
    "schedules, rejected, impossible = H2(jobs, M)"
   ]
  },
  {
   "cell_type": "markdown",
   "metadata": {},
   "source": [
    "## Entrada de datos: 4x4000x3x2"
   ]
  },
  {
   "cell_type": "code",
   "execution_count": 102,
   "metadata": {},
   "outputs": [
    {
     "name": "stdout",
     "output_type": "stream",
     "text": [
      "Execution time 10.24342679977417\n",
      "3225\n"
     ]
    }
   ],
   "source": [
    "start=time.time()\n",
    "M=4\n",
    "n=4000\n",
    "ruta=\"/Users/elPatan03/Desktop/lala/lala/4x4000x3x2.csv\"\n",
    "archivo=open(ruta,\"r\")\n",
    "jobs=[]\n",
    "for i in range(n+1):\n",
    "    if (i==0):\n",
    "        nada=archivo.readline()\n",
    "    else:\n",
    "        Ji,di,pi=archivo.readline().strip().split(\";\")\n",
    "        jobs.append([Ji,float(di),float(pi)])\n",
    "schedules, rejected, impossible = H2(jobs, M)"
   ]
  },
  {
   "cell_type": "markdown",
   "metadata": {},
   "source": [
    "## Entrada de datos: 4x4000x3x3"
   ]
  },
  {
   "cell_type": "code",
   "execution_count": 103,
   "metadata": {},
   "outputs": [
    {
     "name": "stdout",
     "output_type": "stream",
     "text": [
      "Execution time 14.052266597747803\n",
      "3221\n"
     ]
    }
   ],
   "source": [
    "start=time.time()\n",
    "M=4\n",
    "n=4000\n",
    "ruta=\"/Users/elPatan03/Desktop/lala/lala/4x4000x3x3.csv\"\n",
    "archivo=open(ruta,\"r\")\n",
    "jobs=[]\n",
    "for i in range(n+1):\n",
    "    if (i==0):\n",
    "        nada=archivo.readline()\n",
    "    else:\n",
    "        Ji,di,pi=archivo.readline().strip().split(\";\")\n",
    "        jobs.append([Ji,float(di),float(pi)])\n",
    "schedules, rejected, impossible = H2(jobs, M)"
   ]
  },
  {
   "cell_type": "markdown",
   "metadata": {},
   "source": [
    "## Entrada de datos: 4x4000x3x4"
   ]
  },
  {
   "cell_type": "code",
   "execution_count": 104,
   "metadata": {},
   "outputs": [
    {
     "name": "stdout",
     "output_type": "stream",
     "text": [
      "Execution time 12.846410512924194\n",
      "3230\n"
     ]
    }
   ],
   "source": [
    "start=time.time()\n",
    "M=4\n",
    "n=4000\n",
    "ruta=\"/Users/elPatan03/Desktop/lala/lala/4x4000x3x4.csv\"\n",
    "archivo=open(ruta,\"r\")\n",
    "jobs=[]\n",
    "for i in range(n+1):\n",
    "    if (i==0):\n",
    "        nada=archivo.readline()\n",
    "    else:\n",
    "        Ji,di,pi=archivo.readline().strip().split(\";\")\n",
    "        jobs.append([Ji,float(di),float(pi)])\n",
    "schedules, rejected, impossible = H2(jobs, M)"
   ]
  },
  {
   "cell_type": "markdown",
   "metadata": {},
   "source": [
    "## Entrada de datos: 4x4000x3x5"
   ]
  },
  {
   "cell_type": "code",
   "execution_count": 105,
   "metadata": {},
   "outputs": [
    {
     "name": "stdout",
     "output_type": "stream",
     "text": [
      "Execution time 17.52023696899414\n",
      "3232\n"
     ]
    }
   ],
   "source": [
    "start=time.time()\n",
    "M=4\n",
    "n=4000\n",
    "ruta=\"/Users/elPatan03/Desktop/lala/lala/4x4000x3x5.csv\"\n",
    "archivo=open(ruta,\"r\")\n",
    "jobs=[]\n",
    "for i in range(n+1):\n",
    "    if (i==0):\n",
    "        nada=archivo.readline()\n",
    "    else:\n",
    "        Ji,di,pi=archivo.readline().strip().split(\";\")\n",
    "        jobs.append([Ji,float(di),float(pi)])\n",
    "schedules, rejected, impossible = H2(jobs, M)"
   ]
  },
  {
   "cell_type": "markdown",
   "metadata": {},
   "source": [
    "## Entrada de datos: 4x4000x3.5x1"
   ]
  },
  {
   "cell_type": "code",
   "execution_count": 106,
   "metadata": {},
   "outputs": [
    {
     "name": "stdout",
     "output_type": "stream",
     "text": [
      "Execution time 12.982802391052246\n",
      "2956\n"
     ]
    }
   ],
   "source": [
    "start=time.time()\n",
    "M=4\n",
    "n=4000\n",
    "ruta=\"/Users/elPatan03/Desktop/lala/lala/4x4000x3.5x1.csv\"\n",
    "archivo=open(ruta,\"r\")\n",
    "jobs=[]\n",
    "for i in range(n+1):\n",
    "    if (i==0):\n",
    "        nada=archivo.readline()\n",
    "    else:\n",
    "        Ji,di,pi=archivo.readline().strip().split(\";\")\n",
    "        jobs.append([Ji,float(di),float(pi)])\n",
    "schedules, rejected, impossible = H2(jobs, M)"
   ]
  },
  {
   "cell_type": "markdown",
   "metadata": {},
   "source": [
    "## Entrada de datos: 4x4000x3.5x2"
   ]
  },
  {
   "cell_type": "code",
   "execution_count": 107,
   "metadata": {},
   "outputs": [
    {
     "name": "stdout",
     "output_type": "stream",
     "text": [
      "Execution time 13.657861471176147\n",
      "2959\n"
     ]
    }
   ],
   "source": [
    "start=time.time()\n",
    "M=4\n",
    "n=4000\n",
    "ruta=\"/Users/elPatan03/Desktop/lala/lala/4x4000x3.5x2.csv\"\n",
    "archivo=open(ruta,\"r\")\n",
    "jobs=[]\n",
    "for i in range(n+1):\n",
    "    if (i==0):\n",
    "        nada=archivo.readline()\n",
    "    else:\n",
    "        Ji,di,pi=archivo.readline().strip().split(\";\")\n",
    "        jobs.append([Ji,float(di),float(pi)])\n",
    "schedules, rejected, impossible = H2(jobs, M)"
   ]
  },
  {
   "cell_type": "markdown",
   "metadata": {},
   "source": [
    "## Entrada de datos: 4x4000x3.5x3"
   ]
  },
  {
   "cell_type": "code",
   "execution_count": 108,
   "metadata": {},
   "outputs": [
    {
     "name": "stdout",
     "output_type": "stream",
     "text": [
      "Execution time 16.19688868522644\n",
      "2976\n"
     ]
    }
   ],
   "source": [
    "start=time.time()\n",
    "M=4\n",
    "n=4000\n",
    "ruta=\"/Users/elPatan03/Desktop/lala/lala/4x4000x3.5x3.csv\"\n",
    "archivo=open(ruta,\"r\")\n",
    "jobs=[]\n",
    "for i in range(n+1):\n",
    "    if (i==0):\n",
    "        nada=archivo.readline()\n",
    "    else:\n",
    "        Ji,di,pi=archivo.readline().strip().split(\";\")\n",
    "        jobs.append([Ji,float(di),float(pi)])\n",
    "schedules, rejected, impossible = H2(jobs, M)"
   ]
  },
  {
   "cell_type": "markdown",
   "metadata": {},
   "source": [
    "## Entrada de datos: 4x4000x3.5x4"
   ]
  },
  {
   "cell_type": "code",
   "execution_count": 109,
   "metadata": {},
   "outputs": [
    {
     "name": "stdout",
     "output_type": "stream",
     "text": [
      "Execution time 19.796388626098633\n",
      "2966\n"
     ]
    }
   ],
   "source": [
    "start=time.time()\n",
    "M=4\n",
    "n=4000\n",
    "ruta=\"/Users/elPatan03/Desktop/lala/lala/4x4000x3.5x4.csv\"\n",
    "archivo=open(ruta,\"r\")\n",
    "jobs=[]\n",
    "for i in range(n+1):\n",
    "    if (i==0):\n",
    "        nada=archivo.readline()\n",
    "    else:\n",
    "        Ji,di,pi=archivo.readline().strip().split(\";\")\n",
    "        jobs.append([Ji,float(di),float(pi)])\n",
    "schedules, rejected, impossible = H2(jobs, M)"
   ]
  },
  {
   "cell_type": "markdown",
   "metadata": {},
   "source": [
    "## Entrada de datos: 4x4000x3.5x5"
   ]
  },
  {
   "cell_type": "code",
   "execution_count": 110,
   "metadata": {},
   "outputs": [
    {
     "name": "stdout",
     "output_type": "stream",
     "text": [
      "Execution time 8.789153099060059\n",
      "2980\n"
     ]
    }
   ],
   "source": [
    "start=time.time()\n",
    "M=4\n",
    "n=4000\n",
    "ruta=\"/Users/elPatan03/Desktop/lala/lala/4x4000x3.5x5.csv\"\n",
    "archivo=open(ruta,\"r\")\n",
    "jobs=[]\n",
    "for i in range(n+1):\n",
    "    if (i==0):\n",
    "        nada=archivo.readline()\n",
    "    else:\n",
    "        Ji,di,pi=archivo.readline().strip().split(\";\")\n",
    "        jobs.append([Ji,float(di),float(pi)])\n",
    "schedules, rejected, impossible = H2(jobs, M)"
   ]
  },
  {
   "cell_type": "markdown",
   "metadata": {},
   "source": [
    "## Entrada de datos: 4x4000x4x1"
   ]
  },
  {
   "cell_type": "code",
   "execution_count": 111,
   "metadata": {},
   "outputs": [
    {
     "name": "stdout",
     "output_type": "stream",
     "text": [
      "Execution time 7.827896595001221\n",
      "2774\n"
     ]
    }
   ],
   "source": [
    "start=time.time()\n",
    "M=4\n",
    "n=4000\n",
    "ruta=\"/Users/elPatan03/Desktop/lala/lala/4x4000x4x1.csv\"\n",
    "archivo=open(ruta,\"r\")\n",
    "jobs=[]\n",
    "for i in range(n+1):\n",
    "    if (i==0):\n",
    "        nada=archivo.readline()\n",
    "    else:\n",
    "        Ji,di,pi=archivo.readline().strip().split(\";\")\n",
    "        jobs.append([Ji,float(di),float(pi)])\n",
    "schedules, rejected, impossible = H2(jobs, M)"
   ]
  },
  {
   "cell_type": "markdown",
   "metadata": {},
   "source": [
    "## Entrada de datos: 4x4000x4x2"
   ]
  },
  {
   "cell_type": "code",
   "execution_count": 112,
   "metadata": {},
   "outputs": [
    {
     "name": "stdout",
     "output_type": "stream",
     "text": [
      "Execution time 10.235459327697754\n",
      "2771\n"
     ]
    }
   ],
   "source": [
    "start=time.time()\n",
    "M=4\n",
    "n=4000\n",
    "ruta=\"/Users/elPatan03/Desktop/lala/lala/4x4000x4x2.csv\"\n",
    "archivo=open(ruta,\"r\")\n",
    "jobs=[]\n",
    "for i in range(n+1):\n",
    "    if (i==0):\n",
    "        nada=archivo.readline()\n",
    "    else:\n",
    "        Ji,di,pi=archivo.readline().strip().split(\";\")\n",
    "        jobs.append([Ji,float(di),float(pi)])\n",
    "schedules, rejected, impossible = H2(jobs, M)"
   ]
  },
  {
   "cell_type": "markdown",
   "metadata": {},
   "source": [
    "## Entrada de datos: 4x4000x4x3"
   ]
  },
  {
   "cell_type": "code",
   "execution_count": 113,
   "metadata": {},
   "outputs": [
    {
     "name": "stdout",
     "output_type": "stream",
     "text": [
      "Execution time 13.253151655197144\n",
      "2782\n"
     ]
    }
   ],
   "source": [
    "start=time.time()\n",
    "M=4\n",
    "n=4000\n",
    "ruta=\"/Users/elPatan03/Desktop/lala/lala/4x4000x4x3.csv\"\n",
    "archivo=open(ruta,\"r\")\n",
    "jobs=[]\n",
    "for i in range(n+1):\n",
    "    if (i==0):\n",
    "        nada=archivo.readline()\n",
    "    else:\n",
    "        Ji,di,pi=archivo.readline().strip().split(\";\")\n",
    "        jobs.append([Ji,float(di),float(pi)])\n",
    "schedules, rejected, impossible = H2(jobs, M)"
   ]
  },
  {
   "cell_type": "markdown",
   "metadata": {},
   "source": [
    "## Entrada de datos: 4x4000x4x4"
   ]
  },
  {
   "cell_type": "code",
   "execution_count": 114,
   "metadata": {},
   "outputs": [
    {
     "name": "stdout",
     "output_type": "stream",
     "text": [
      "Execution time 11.260225296020508\n",
      "2777\n"
     ]
    }
   ],
   "source": [
    "start=time.time()\n",
    "M=4\n",
    "n=4000\n",
    "ruta=\"/Users/elPatan03/Desktop/lala/lala/4x4000x4x4.csv\"\n",
    "archivo=open(ruta,\"r\")\n",
    "jobs=[]\n",
    "for i in range(n+1):\n",
    "    if (i==0):\n",
    "        nada=archivo.readline()\n",
    "    else:\n",
    "        Ji,di,pi=archivo.readline().strip().split(\";\")\n",
    "        jobs.append([Ji,float(di),float(pi)])\n",
    "schedules, rejected, impossible = H2(jobs, M)"
   ]
  },
  {
   "cell_type": "markdown",
   "metadata": {},
   "source": [
    "## Entrada de datos: 4x4000x4x5"
   ]
  },
  {
   "cell_type": "code",
   "execution_count": 115,
   "metadata": {},
   "outputs": [
    {
     "name": "stdout",
     "output_type": "stream",
     "text": [
      "Execution time 9.130897045135498\n",
      "2754\n"
     ]
    }
   ],
   "source": [
    "start=time.time()\n",
    "M=4\n",
    "n=4000\n",
    "ruta=\"/Users/elPatan03/Desktop/lala/lala/4x4000x4x5.csv\"\n",
    "archivo=open(ruta,\"r\")\n",
    "jobs=[]\n",
    "for i in range(n+1):\n",
    "    if (i==0):\n",
    "        nada=archivo.readline()\n",
    "    else:\n",
    "        Ji,di,pi=archivo.readline().strip().split(\";\")\n",
    "        jobs.append([Ji,float(di),float(pi)])\n",
    "schedules, rejected, impossible = H2(jobs, M)"
   ]
  },
  {
   "cell_type": "markdown",
   "metadata": {},
   "source": [
    "## Entrada de datos: 4x4000x4.5x1"
   ]
  },
  {
   "cell_type": "code",
   "execution_count": 116,
   "metadata": {},
   "outputs": [
    {
     "name": "stdout",
     "output_type": "stream",
     "text": [
      "Execution time 10.233975648880005\n",
      "2593\n"
     ]
    }
   ],
   "source": [
    "start=time.time()\n",
    "M=4\n",
    "n=4000\n",
    "ruta=\"/Users/elPatan03/Desktop/lala/lala/4x4000x4.5x1.csv\"\n",
    "archivo=open(ruta,\"r\")\n",
    "jobs=[]\n",
    "for i in range(n+1):\n",
    "    if (i==0):\n",
    "        nada=archivo.readline()\n",
    "    else:\n",
    "        Ji,di,pi=archivo.readline().strip().split(\";\")\n",
    "        jobs.append([Ji,float(di),float(pi)])\n",
    "schedules, rejected, impossible = H2(jobs, M)"
   ]
  },
  {
   "cell_type": "markdown",
   "metadata": {},
   "source": [
    "## Entrada de datos: 4x4000x4.5x2"
   ]
  },
  {
   "cell_type": "code",
   "execution_count": 117,
   "metadata": {},
   "outputs": [
    {
     "name": "stdout",
     "output_type": "stream",
     "text": [
      "Execution time 10.212618827819824\n",
      "2602\n"
     ]
    }
   ],
   "source": [
    "start=time.time()\n",
    "M=4\n",
    "n=4000\n",
    "ruta=\"/Users/elPatan03/Desktop/lala/lala/4x4000x4.5x2.csv\"\n",
    "archivo=open(ruta,\"r\")\n",
    "jobs=[]\n",
    "for i in range(n+1):\n",
    "    if (i==0):\n",
    "        nada=archivo.readline()\n",
    "    else:\n",
    "        Ji,di,pi=archivo.readline().strip().split(\";\")\n",
    "        jobs.append([Ji,float(di),float(pi)])\n",
    "schedules, rejected, impossible = H2(jobs, M)"
   ]
  },
  {
   "cell_type": "markdown",
   "metadata": {},
   "source": [
    "## Entrada de datos: 4x4000x4.5x3"
   ]
  },
  {
   "cell_type": "code",
   "execution_count": 118,
   "metadata": {},
   "outputs": [
    {
     "name": "stdout",
     "output_type": "stream",
     "text": [
      "Execution time 9.288264036178589\n",
      "2606\n"
     ]
    }
   ],
   "source": [
    "start=time.time()\n",
    "M=4\n",
    "n=4000\n",
    "ruta=\"/Users/elPatan03/Desktop/lala/lala/4x4000x4.5x3.csv\"\n",
    "archivo=open(ruta,\"r\")\n",
    "jobs=[]\n",
    "for i in range(n+1):\n",
    "    if (i==0):\n",
    "        nada=archivo.readline()\n",
    "    else:\n",
    "        Ji,di,pi=archivo.readline().strip().split(\";\")\n",
    "        jobs.append([Ji,float(di),float(pi)])\n",
    "schedules, rejected, impossible = H2(jobs, M)"
   ]
  },
  {
   "cell_type": "markdown",
   "metadata": {},
   "source": [
    "## Entrada de datos: 4x4000x4.5x4"
   ]
  },
  {
   "cell_type": "code",
   "execution_count": 119,
   "metadata": {},
   "outputs": [
    {
     "name": "stdout",
     "output_type": "stream",
     "text": [
      "Execution time 12.854834794998169\n",
      "2595\n"
     ]
    }
   ],
   "source": [
    "start=time.time()\n",
    "M=4\n",
    "n=4000\n",
    "ruta=\"/Users/elPatan03/Desktop/lala/lala/4x4000x4.5x4.csv\"\n",
    "archivo=open(ruta,\"r\")\n",
    "jobs=[]\n",
    "for i in range(n+1):\n",
    "    if (i==0):\n",
    "        nada=archivo.readline()\n",
    "    else:\n",
    "        Ji,di,pi=archivo.readline().strip().split(\";\")\n",
    "        jobs.append([Ji,float(di),float(pi)])\n",
    "schedules, rejected, impossible = H2(jobs, M)"
   ]
  },
  {
   "cell_type": "markdown",
   "metadata": {},
   "source": [
    "## Entrada de datos: 4x4000x4.5x5"
   ]
  },
  {
   "cell_type": "code",
   "execution_count": 120,
   "metadata": {
    "scrolled": true
   },
   "outputs": [
    {
     "name": "stdout",
     "output_type": "stream",
     "text": [
      "Execution time 12.315334558486938\n",
      "2594\n"
     ]
    }
   ],
   "source": [
    "start=time.time()\n",
    "M=4\n",
    "n=4000\n",
    "ruta=\"/Users/elPatan03/Desktop/lala/lala/4x4000x4.5x5.csv\"\n",
    "archivo=open(ruta,\"r\")\n",
    "jobs=[]\n",
    "for i in range(n+1):\n",
    "    if (i==0):\n",
    "        nada=archivo.readline()\n",
    "    else:\n",
    "        Ji,di,pi=archivo.readline().strip().split(\";\")\n",
    "        jobs.append([Ji,float(di),float(pi)])\n",
    "schedules, rejected, impossible = H2(jobs, M)"
   ]
  },
  {
   "cell_type": "markdown",
   "metadata": {},
   "source": [
    "## Entrada de datos: 4x4000x5x1"
   ]
  },
  {
   "cell_type": "code",
   "execution_count": 121,
   "metadata": {},
   "outputs": [
    {
     "name": "stdout",
     "output_type": "stream",
     "text": [
      "Execution time 8.655726432800293\n",
      "2481\n"
     ]
    }
   ],
   "source": [
    "start=time.time()\n",
    "M=4\n",
    "n=4000\n",
    "ruta=\"/Users/elPatan03/Desktop/lala/lala/4x4000x5x1.csv\"\n",
    "archivo=open(ruta,\"r\")\n",
    "jobs=[]\n",
    "for i in range(n+1):\n",
    "    if (i==0):\n",
    "        nada=archivo.readline()\n",
    "    else:\n",
    "        Ji,di,pi=archivo.readline().strip().split(\";\")\n",
    "        jobs.append([Ji,float(di),float(pi)])\n",
    "schedules, rejected, impossible = H2(jobs, M)"
   ]
  },
  {
   "cell_type": "markdown",
   "metadata": {},
   "source": [
    "## Entrada de datos: 4x4000x5x2"
   ]
  },
  {
   "cell_type": "code",
   "execution_count": 122,
   "metadata": {},
   "outputs": [
    {
     "name": "stdout",
     "output_type": "stream",
     "text": [
      "Execution time 8.825960636138916\n",
      "2471\n"
     ]
    }
   ],
   "source": [
    "start=time.time()\n",
    "M=4\n",
    "n=4000\n",
    "ruta=\"/Users/elPatan03/Desktop/lala/lala/4x4000x5x2.csv\"\n",
    "archivo=open(ruta,\"r\")\n",
    "jobs=[]\n",
    "for i in range(n+1):\n",
    "    if (i==0):\n",
    "        nada=archivo.readline()\n",
    "    else:\n",
    "        Ji,di,pi=archivo.readline().strip().split(\";\")\n",
    "        jobs.append([Ji,float(di),float(pi)])\n",
    "schedules, rejected, impossible = H2(jobs, M)"
   ]
  },
  {
   "cell_type": "markdown",
   "metadata": {},
   "source": [
    "## Entrada de datos: 4x4000x5x3"
   ]
  },
  {
   "cell_type": "code",
   "execution_count": 123,
   "metadata": {},
   "outputs": [
    {
     "name": "stdout",
     "output_type": "stream",
     "text": [
      "Execution time 10.827334642410278\n",
      "2459\n"
     ]
    }
   ],
   "source": [
    "start=time.time()\n",
    "M=4\n",
    "n=4000\n",
    "ruta=\"/Users/elPatan03/Desktop/lala/lala/4x4000x5x3.csv\"\n",
    "archivo=open(ruta,\"r\")\n",
    "jobs=[]\n",
    "for i in range(n+1):\n",
    "    if (i==0):\n",
    "        nada=archivo.readline()\n",
    "    else:\n",
    "        Ji,di,pi=archivo.readline().strip().split(\";\")\n",
    "        jobs.append([Ji,float(di),float(pi)])\n",
    "schedules, rejected, impossible = H2(jobs, M)"
   ]
  },
  {
   "cell_type": "markdown",
   "metadata": {},
   "source": [
    "## Entrada de datos: 4x4000x5x4"
   ]
  },
  {
   "cell_type": "code",
   "execution_count": 124,
   "metadata": {},
   "outputs": [
    {
     "name": "stdout",
     "output_type": "stream",
     "text": [
      "Execution time 9.904626369476318\n",
      "2445\n"
     ]
    }
   ],
   "source": [
    "start=time.time()\n",
    "M=4\n",
    "n=4000\n",
    "ruta=\"/Users/elPatan03/Desktop/lala/lala/4x4000x5x4.csv\"\n",
    "archivo=open(ruta,\"r\")\n",
    "jobs=[]\n",
    "for i in range(n+1):\n",
    "    if (i==0):\n",
    "        nada=archivo.readline()\n",
    "    else:\n",
    "        Ji,di,pi=archivo.readline().strip().split(\";\")\n",
    "        jobs.append([Ji,float(di),float(pi)])\n",
    "schedules, rejected, impossible = H2(jobs, M)"
   ]
  },
  {
   "cell_type": "markdown",
   "metadata": {},
   "source": [
    "## Entrada de datos: 4x4000x5x5"
   ]
  },
  {
   "cell_type": "code",
   "execution_count": 125,
   "metadata": {},
   "outputs": [
    {
     "name": "stdout",
     "output_type": "stream",
     "text": [
      "Execution time 9.82132363319397\n",
      "2456\n"
     ]
    }
   ],
   "source": [
    "start=time.time()\n",
    "M=4\n",
    "n=4000\n",
    "ruta=\"/Users/elPatan03/Desktop/lala/lala/4x4000x5x5.csv\"\n",
    "archivo=open(ruta,\"r\")\n",
    "jobs=[]\n",
    "for i in range(n+1):\n",
    "    if (i==0):\n",
    "        nada=archivo.readline()\n",
    "    else:\n",
    "        Ji,di,pi=archivo.readline().strip().split(\";\")\n",
    "        jobs.append([Ji,float(di),float(pi)])\n",
    "schedules, rejected, impossible = H2(jobs, M)"
   ]
  }
 ],
 "metadata": {
  "kernelspec": {
   "display_name": "Python 3",
   "language": "python",
   "name": "python3"
  },
  "language_info": {
   "codemirror_mode": {
    "name": "ipython",
    "version": 3
   },
   "file_extension": ".py",
   "mimetype": "text/x-python",
   "name": "python",
   "nbconvert_exporter": "python",
   "pygments_lexer": "ipython3",
   "version": "3.8.5"
  }
 },
 "nbformat": 4,
 "nbformat_minor": 4
}

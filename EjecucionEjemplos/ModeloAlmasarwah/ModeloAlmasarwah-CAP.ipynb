{
 "cells": [
  {
   "cell_type": "markdown",
   "metadata": {},
   "source": [
    "# Modelo de programación lineal"
   ]
  },
  {
   "cell_type": "code",
   "execution_count": 1,
   "metadata": {},
   "outputs": [],
   "source": [
    "import pandas as pd\n",
    "import gurobipy as grb"
   ]
  },
  {
   "cell_type": "markdown",
   "metadata": {},
   "source": [
    "## Entrada de datos: Instancia 49x1"
   ]
  },
  {
   "cell_type": "code",
   "execution_count": 2,
   "metadata": {},
   "outputs": [
    {
     "data": {
      "text/plain": [
       "49"
      ]
     },
     "execution_count": 2,
     "metadata": {},
     "output_type": "execute_result"
    }
   ],
   "source": [
    "datafile=\"49x1.csv\"\n",
    "data=pd.DataFrame(pd.read_csv(datafile,sep=\";\"))\n",
    "\n",
    "data[\"JOB\"]=\"J\"+data[\"JOB\"].map(str)\n",
    "dictJobs={i:[data.set_index('JOB').to_dict()[\"Deadline\"][i],data.set_index('JOB').to_dict()[\"PT\"][i]] for i in data.set_index('JOB').to_dict()[\"Deadline\"].keys()}\n",
    "\n",
    "dictJobs=dict(sorted(dictJobs.items(), key=lambda item: item[1]))\n",
    "ordDict={}\n",
    "cont=0\n",
    "for i in dictJobs:\n",
    "    ordDict[cont]=[i,dictJobs[i][0],dictJobs[i][1]]\n",
    "    cont+=1\n",
    "len(dictJobs)"
   ]
  },
  {
   "cell_type": "markdown",
   "metadata": {},
   "source": [
    "## Modelo"
   ]
  },
  {
   "cell_type": "code",
   "execution_count": 3,
   "metadata": {
    "scrolled": true
   },
   "outputs": [
    {
     "name": "stdout",
     "output_type": "stream",
     "text": [
      "Academic license - for non-commercial use only - expires 2021-06-11\n",
      "Using license file C:\\Users\\elPatan03\\gurobi.lic\n",
      "Changed value of parameter timeLimit to 3600.0\n",
      "   Prev: inf  Min: 0.0  Max: inf  Default: inf\n",
      "Gurobi Optimizer version 9.1.1 build v9.1.1rc0 (win64)\n",
      "Thread count: 6 physical cores, 6 logical processors, using up to 6 threads\n",
      "Optimize a model with 83447 rows, 9604 columns and 254506 nonzeros\n",
      "Model fingerprint: 0xcd6b59cc\n",
      "Variable types: 0 continuous, 9604 integer (9604 binary)\n",
      "Coefficient statistics:\n",
      "  Matrix range     [1e+00, 2e+03]\n",
      "  Objective range  [1e+00, 1e+00]\n",
      "  Bounds range     [1e+00, 1e+00]\n",
      "  RHS range        [1e+00, 3e+02]\n",
      "Found heuristic solution: objective -0.0000000\n",
      "Found heuristic solution: objective 8.0000000\n",
      "Presolve removed 83283 rows and 9048 columns\n",
      "Presolve time: 0.21s\n",
      "Presolved: 164 rows, 556 columns, 1600 nonzeros\n",
      "Variable types: 0 continuous, 556 integer (556 binary)\n",
      "\n",
      "Root relaxation: objective 4.800000e+01, 146 iterations, 0.00 seconds\n",
      "\n",
      "    Nodes    |    Current Node    |     Objective Bounds      |     Work\n",
      " Expl Unexpl |  Obj  Depth IntInf | Incumbent    BestBd   Gap | It/Node Time\n",
      "\n",
      "H    0     0                      48.0000000  556.00000  1058%     -    0s\n",
      "     0     0          -    0        48.00000   48.00000  0.00%     -    0s\n",
      "\n",
      "Explored 0 nodes (304 simplex iterations) in 0.35 seconds\n",
      "Thread count was 6 (of 6 available processors)\n",
      "\n",
      "Solution count 3: 48 8 -0 \n",
      "\n",
      "Optimal solution found (tolerance 1.00e-04)\n",
      "Best objective 4.800000000000e+01, best bound 4.800000000000e+01, gap 0.0000%\n"
     ]
    }
   ],
   "source": [
    "p = []\n",
    "d = []\n",
    "for i in ordDict.keys():\n",
    "    p.append(ordDict[i][2])\n",
    "    d.append(ordDict[i][1])\n",
    "    \n",
    "ith = len(ordDict)\n",
    "jth = 2\n",
    "N = range(ith)\n",
    "M = range(jth)\n",
    "indices=[(i,j,k) for i in N for j in M for k in N]\n",
    "\n",
    "t =[0,24,48,72,96,168,192,216,240,264,336,360,384,408,432,504,528,552,576,600,672,696,720,744,768,840,864,888,912,936,1008,1032,1056,1080,1104,1176,1200,1224,1248,1272,1344,1368,1392,1416,1440,1512,1536,1560,1584,1608,1680,1704,1728,1752,1776,1848,1872,1896,1920,1944,2016,2040,2064,2088,2112,2184,2208,2232,2256,2280,2352,2376,2400,2424,2448,2520,2544,2568,2592,2616,2688,2712,2736,2760,2784,2856,2880,2904,2928,2952,3024,3048,3072,3096,3120,3192,3216,3240,3264,3288,3360,3384,3408,3432,3456,3528,3552,3576,3600,3624,3696,3720,3744,3768,3792,3864,3888,3912,3936,3960,4032,4056,4080,4104,4128,4200,4224,4248,4272,4296,4368,4392,4416,4440,4464,4536,4560,4584,4608,4632,4704,4728,4752,4776,4800,4872,4896,4920,4944,4968,5040,5064,5088,5112,5136,5208,5232,5256,5280,5304,5376,5400,5424,5448,5472,5544,5568,5592,5616,5640,5712,5736,5760,5784,5808,5880,5904,5928,5952,5976,6048,6072,6096,6120,6144,6216,6240,6264,6288,6312,6384,6408,6432,6456,6480,6552,6576,6600,6624,6648,6720,6744,6768,6792,6816,6888,6912,6936,6960,6984,7056,7080,7104,7128,7152,7224,7248,7272,7296,7320,7392,7416,7440,7464,7488,7560,7584,7608,7632,7656,7728,7752,7776,7800,7824,7896,7920,7944,7968,7992,8064,8088,8112,8136,8160,8232,8256,8280,8304,8328,8400,8424,8448,8472,8496,8568,8592,8616,8640,8664,8736,8760,8784,8808,8832,8904,8928,8952,8976,9000,9072,9096,9120,9144,9168,9240,9264,9288,9312,9336,9408,9432,9456,9480,9504,9576,9600,9624,9648,9672,9744,9768,9792,9816,9840,9912,9936,9960,9984,10008,10080,10104,10128,10152,10176,10248,10272,10296,10320,10344,10416,10440,10464,10488,10512,10584,10608,10632,10656,10680,10752,10776,10800,10824,10848,10920,10944,10968,10992,11016,11088,11112,11136,11160,11184,11256,11280,11304,11328,11352,11424,11448,11472,11496,11520,11592,11616,11640,11664,11688,11760,11784,11808,11832,11856,11928,11952,11976,12000,12024,12096,12120,12144,12168,12192,12264,12288,12312,12336,12360,12432,12456,12480,12504,12528,12600,12624,12648,12672,12696,12768,12792,12816,12840,12864,12936,12960,12984,13008,13032,13104,13128,13152,13176,13200,13272,13296,13320,13344,13368,13440,13464,13488,13512,13536,13608,13632,13656,13680,13704,13776,13800,13824,13848,13872,13944,13968,13992,14016,14040,14112,14136,14160,14184,14208,14280,14304,14328,14352,14376,14448,14472,14496,14520,14544,14616,14640,14664,14688,14712,14784,14808,14832,14856,14880,14952,14976,15000,15024,15048,15120,15144,15168,15192,15216,15288,15312,15336,15360,15384,15456,15480,15504,15528,15552,15624,15648,15672,15696,15720,15792,15816,15840,15864,15888,15960,15984,16008,16032,16056,16128,16152,16176,16200,16224,16296,16320,16344,16368,16392,16464,16488,16512,16536,16560,16632,16656,16680,16704,16728,16800,16824,16848,16872,16896,16968]\n",
    "WT = 11\n",
    "\n",
    "mdl = grb.Model(\"modelo\")\n",
    "\n",
    "x = mdl.addVars(indices, vtype=grb.GRB.BINARY, name='x')\n",
    "MAX = mdl.addVars(indices, vtype=grb.GRB.BINARY, name='y')\n",
    "\n",
    "mdl.Params.timeLimit=3600.0\n",
    "\n",
    "mdl.setObjective(sum(x[(i,j,k)] for i in N for j in M for k in N))\n",
    "\n",
    "mdl.addConstrs((sum(x[(i,j,k)] for j in M for k in N) <= 1 for i in N), name='B')\n",
    "\n",
    "mdl.addConstrs((sum(x[(i,j,k)]*p[i] for i in N) <= WT  for k in N for j in M), name='D')\n",
    "\n",
    "for i in N:\n",
    "    for j in M:\n",
    "        for k in range(i+1):      \n",
    "            mdl.addConstr(sum((x[(z,j,k)])*p[z] for z in range(i+1))+(t[k]*MAX[(i,j,k)]) <= d[i])\n",
    "\n",
    "for i in N:\n",
    "    for j in M:\n",
    "        for k in range(i+1):\n",
    "            for z in range(i+1):\n",
    "                mdl.addConstr(x[(z,j,k)] <=MAX[(i,j,k)])\n",
    "                \n",
    "mdl.ModelSense = grb.GRB.MAXIMIZE\n",
    "mdl.optimize()"
   ]
  },
  {
   "cell_type": "markdown",
   "metadata": {},
   "source": [
    "## Entrada de datos: Instancia 49x2"
   ]
  },
  {
   "cell_type": "code",
   "execution_count": 4,
   "metadata": {},
   "outputs": [
    {
     "data": {
      "text/plain": [
       "49"
      ]
     },
     "execution_count": 4,
     "metadata": {},
     "output_type": "execute_result"
    }
   ],
   "source": [
    "datafile=\"49x2.csv\"\n",
    "data=pd.DataFrame(pd.read_csv(datafile,sep=\";\"))\n",
    "\n",
    "data[\"JOB\"]=\"J\"+data[\"JOB\"].map(str)\n",
    "dictJobs={i:[data.set_index('JOB').to_dict()[\"Deadline\"][i],data.set_index('JOB').to_dict()[\"PT\"][i]] for i in data.set_index('JOB').to_dict()[\"Deadline\"].keys()}\n",
    "\n",
    "dictJobs=dict(sorted(dictJobs.items(), key=lambda item: item[1]))\n",
    "ordDict={}\n",
    "cont=0\n",
    "for i in dictJobs:\n",
    "    ordDict[cont]=[i,dictJobs[i][0],dictJobs[i][1]]\n",
    "    cont+=1\n",
    "len(dictJobs)"
   ]
  },
  {
   "cell_type": "code",
   "execution_count": 5,
   "metadata": {},
   "outputs": [
    {
     "name": "stdout",
     "output_type": "stream",
     "text": [
      "Changed value of parameter timeLimit to 3600.0\n",
      "   Prev: inf  Min: 0.0  Max: inf  Default: inf\n",
      "Gurobi Optimizer version 9.1.1 build v9.1.1rc0 (win64)\n",
      "Thread count: 6 physical cores, 6 logical processors, using up to 6 threads\n",
      "Optimize a model with 83447 rows, 9604 columns and 254506 nonzeros\n",
      "Model fingerprint: 0x8f4f703c\n",
      "Variable types: 0 continuous, 9604 integer (9604 binary)\n",
      "Coefficient statistics:\n",
      "  Matrix range     [1e+00, 2e+03]\n",
      "  Objective range  [1e+00, 1e+00]\n",
      "  Bounds range     [1e+00, 1e+00]\n",
      "  RHS range        [1e+00, 3e+02]\n",
      "Found heuristic solution: objective -0.0000000\n",
      "Found heuristic solution: objective 9.0000000\n",
      "Presolve removed 83283 rows and 9038 columns\n",
      "Presolve time: 0.21s\n",
      "Presolved: 164 rows, 566 columns, 1516 nonzeros\n",
      "Variable types: 0 continuous, 566 integer (566 binary)\n",
      "\n",
      "Root relaxation: objective 4.600000e+01, 88 iterations, 0.00 seconds\n",
      "\n",
      "    Nodes    |    Current Node    |     Objective Bounds      |     Work\n",
      " Expl Unexpl |  Obj  Depth IntInf | Incumbent    BestBd   Gap | It/Node Time\n",
      "\n",
      "H    0     0                      46.0000000  566.00000  1130%     -    0s\n",
      "     0     0          -    0        46.00000   46.00000  0.00%     -    0s\n",
      "\n",
      "Explored 0 nodes (167 simplex iterations) in 0.32 seconds\n",
      "Thread count was 6 (of 6 available processors)\n",
      "\n",
      "Solution count 3: 46 9 -0 \n",
      "\n",
      "Optimal solution found (tolerance 1.00e-04)\n",
      "Best objective 4.600000000000e+01, best bound 4.600000000000e+01, gap 0.0000%\n"
     ]
    }
   ],
   "source": [
    "p = []\n",
    "d = []\n",
    "for i in ordDict.keys():\n",
    "    p.append(ordDict[i][2])\n",
    "    d.append(ordDict[i][1])\n",
    "    \n",
    "ith = len(ordDict)\n",
    "jth = 2\n",
    "N = range(ith)\n",
    "M = range(jth)\n",
    "indices=[(i,j,k) for i in N for j in M for k in N]\n",
    "\n",
    "t =[0,24,48,72,96,168,192,216,240,264,336,360,384,408,432,504,528,552,576,600,672,696,720,744,768,840,864,888,912,936,1008,1032,1056,1080,1104,1176,1200,1224,1248,1272,1344,1368,1392,1416,1440,1512,1536,1560,1584,1608,1680,1704,1728,1752,1776,1848,1872,1896,1920,1944,2016,2040,2064,2088,2112,2184,2208,2232,2256,2280,2352,2376,2400,2424,2448,2520,2544,2568,2592,2616,2688,2712,2736,2760,2784,2856,2880,2904,2928,2952,3024,3048,3072,3096,3120,3192,3216,3240,3264,3288,3360,3384,3408,3432,3456,3528,3552,3576,3600,3624,3696,3720,3744,3768,3792,3864,3888,3912,3936,3960,4032,4056,4080,4104,4128,4200,4224,4248,4272,4296,4368,4392,4416,4440,4464,4536,4560,4584,4608,4632,4704,4728,4752,4776,4800,4872,4896,4920,4944,4968,5040,5064,5088,5112,5136,5208,5232,5256,5280,5304,5376,5400,5424,5448,5472,5544,5568,5592,5616,5640,5712,5736,5760,5784,5808,5880,5904,5928,5952,5976,6048,6072,6096,6120,6144,6216,6240,6264,6288,6312,6384,6408,6432,6456,6480,6552,6576,6600,6624,6648,6720,6744,6768,6792,6816,6888,6912,6936,6960,6984,7056,7080,7104,7128,7152,7224,7248,7272,7296,7320,7392,7416,7440,7464,7488,7560,7584,7608,7632,7656,7728,7752,7776,7800,7824,7896,7920,7944,7968,7992,8064,8088,8112,8136,8160,8232,8256,8280,8304,8328,8400,8424,8448,8472,8496,8568,8592,8616,8640,8664,8736,8760,8784,8808,8832,8904,8928,8952,8976,9000,9072,9096,9120,9144,9168,9240,9264,9288,9312,9336,9408,9432,9456,9480,9504,9576,9600,9624,9648,9672,9744,9768,9792,9816,9840,9912,9936,9960,9984,10008,10080,10104,10128,10152,10176,10248,10272,10296,10320,10344,10416,10440,10464,10488,10512,10584,10608,10632,10656,10680,10752,10776,10800,10824,10848,10920,10944,10968,10992,11016,11088,11112,11136,11160,11184,11256,11280,11304,11328,11352,11424,11448,11472,11496,11520,11592,11616,11640,11664,11688,11760,11784,11808,11832,11856,11928,11952,11976,12000,12024,12096,12120,12144,12168,12192,12264,12288,12312,12336,12360,12432,12456,12480,12504,12528,12600,12624,12648,12672,12696,12768,12792,12816,12840,12864,12936,12960,12984,13008,13032,13104,13128,13152,13176,13200,13272,13296,13320,13344,13368,13440,13464,13488,13512,13536,13608,13632,13656,13680,13704,13776,13800,13824,13848,13872,13944,13968,13992,14016,14040,14112,14136,14160,14184,14208,14280,14304,14328,14352,14376,14448,14472,14496,14520,14544,14616,14640,14664,14688,14712,14784,14808,14832,14856,14880,14952,14976,15000,15024,15048,15120,15144,15168,15192,15216,15288,15312,15336,15360,15384,15456,15480,15504,15528,15552,15624,15648,15672,15696,15720,15792,15816,15840,15864,15888,15960,15984,16008,16032,16056,16128,16152,16176,16200,16224,16296,16320,16344,16368,16392,16464,16488,16512,16536,16560,16632,16656,16680,16704,16728,16800,16824,16848,16872,16896,16968]\n",
    "WT = 11\n",
    "\n",
    "mdl = grb.Model(\"modelo\")\n",
    "\n",
    "x = mdl.addVars(indices, vtype=grb.GRB.BINARY, name='x')\n",
    "MAX = mdl.addVars(indices, vtype=grb.GRB.BINARY, name='y')\n",
    "\n",
    "mdl.Params.timeLimit=3600.0\n",
    "\n",
    "mdl.setObjective(sum(x[(i,j,k)] for i in N for j in M for k in N))\n",
    "\n",
    "mdl.addConstrs((sum(x[(i,j,k)] for j in M for k in N) <= 1 for i in N), name='B')\n",
    "\n",
    "mdl.addConstrs((sum(x[(i,j,k)]*p[i] for i in N) <= WT  for k in N for j in M), name='D')\n",
    "\n",
    "for i in N:\n",
    "    for j in M:\n",
    "        for k in range(i+1):      \n",
    "            mdl.addConstr(sum((x[(z,j,k)])*p[z] for z in range(i+1))+(t[k]*MAX[(i,j,k)]) <= d[i])\n",
    "\n",
    "for i in N:\n",
    "    for j in M:\n",
    "        for k in range(i+1):\n",
    "            for z in range(i+1):\n",
    "                mdl.addConstr(x[(z,j,k)] <=MAX[(i,j,k)])\n",
    "                \n",
    "mdl.ModelSense = grb.GRB.MAXIMIZE\n",
    "mdl.optimize()"
   ]
  },
  {
   "cell_type": "markdown",
   "metadata": {},
   "source": [
    "## Entrada de datos: Instancia 49x3"
   ]
  },
  {
   "cell_type": "code",
   "execution_count": 6,
   "metadata": {},
   "outputs": [
    {
     "data": {
      "text/plain": [
       "49"
      ]
     },
     "execution_count": 6,
     "metadata": {},
     "output_type": "execute_result"
    }
   ],
   "source": [
    "datafile=\"49x3.csv\"\n",
    "data=pd.DataFrame(pd.read_csv(datafile,sep=\";\"))\n",
    "\n",
    "data[\"JOB\"]=\"J\"+data[\"JOB\"].map(str)\n",
    "dictJobs={i:[data.set_index('JOB').to_dict()[\"Deadline\"][i],data.set_index('JOB').to_dict()[\"PT\"][i]] for i in data.set_index('JOB').to_dict()[\"Deadline\"].keys()}\n",
    "\n",
    "dictJobs=dict(sorted(dictJobs.items(), key=lambda item: item[1]))\n",
    "ordDict={}\n",
    "cont=0\n",
    "for i in dictJobs:\n",
    "    ordDict[cont]=[i,dictJobs[i][0],dictJobs[i][1]]\n",
    "    cont+=1\n",
    "len(dictJobs)"
   ]
  },
  {
   "cell_type": "code",
   "execution_count": 7,
   "metadata": {},
   "outputs": [
    {
     "name": "stdout",
     "output_type": "stream",
     "text": [
      "Changed value of parameter timeLimit to 3600.0\n",
      "   Prev: inf  Min: 0.0  Max: inf  Default: inf\n",
      "Gurobi Optimizer version 9.1.1 build v9.1.1rc0 (win64)\n",
      "Thread count: 6 physical cores, 6 logical processors, using up to 6 threads\n",
      "Optimize a model with 83447 rows, 9604 columns and 254506 nonzeros\n",
      "Model fingerprint: 0xb1217f64\n",
      "Variable types: 0 continuous, 9604 integer (9604 binary)\n",
      "Coefficient statistics:\n",
      "  Matrix range     [1e+00, 2e+03]\n",
      "  Objective range  [1e+00, 1e+00]\n",
      "  Bounds range     [1e+00, 1e+00]\n",
      "  RHS range        [1e+00, 3e+02]\n",
      "Found heuristic solution: objective -0.0000000\n",
      "Found heuristic solution: objective 8.0000000\n",
      "Presolve removed 83259 rows and 9106 columns\n",
      "Presolve time: 0.19s\n",
      "Presolved: 188 rows, 498 columns, 1450 nonzeros\n",
      "Found heuristic solution: objective 47.0000000\n",
      "Variable types: 0 continuous, 498 integer (498 binary)\n",
      "\n",
      "Root relaxation: objective 4.800000e+01, 97 iterations, 0.00 seconds\n",
      "\n",
      "    Nodes    |    Current Node    |     Objective Bounds      |     Work\n",
      " Expl Unexpl |  Obj  Depth IntInf | Incumbent    BestBd   Gap | It/Node Time\n",
      "\n",
      "H    0     0                      48.0000000  500.00000   942%     -    0s\n",
      "     0     0          -    0        48.00000   48.00000  0.00%     -    0s\n",
      "\n",
      "Explored 0 nodes (218 simplex iterations) in 0.34 seconds\n",
      "Thread count was 6 (of 6 available processors)\n",
      "\n",
      "Solution count 4: 48 47 8 -0 \n",
      "\n",
      "Optimal solution found (tolerance 1.00e-04)\n",
      "Best objective 4.800000000000e+01, best bound 4.800000000000e+01, gap 0.0000%\n"
     ]
    }
   ],
   "source": [
    "p = []\n",
    "d = []\n",
    "for i in ordDict.keys():\n",
    "    p.append(ordDict[i][2])\n",
    "    d.append(ordDict[i][1])\n",
    "    \n",
    "ith = len(ordDict)\n",
    "jth = 2\n",
    "N = range(ith)\n",
    "M = range(jth)\n",
    "indices=[(i,j,k) for i in N for j in M for k in N]\n",
    "\n",
    "t =[0,24,48,72,96,168,192,216,240,264,336,360,384,408,432,504,528,552,576,600,672,696,720,744,768,840,864,888,912,936,1008,1032,1056,1080,1104,1176,1200,1224,1248,1272,1344,1368,1392,1416,1440,1512,1536,1560,1584,1608,1680,1704,1728,1752,1776,1848,1872,1896,1920,1944,2016,2040,2064,2088,2112,2184,2208,2232,2256,2280,2352,2376,2400,2424,2448,2520,2544,2568,2592,2616,2688,2712,2736,2760,2784,2856,2880,2904,2928,2952,3024,3048,3072,3096,3120,3192,3216,3240,3264,3288,3360,3384,3408,3432,3456,3528,3552,3576,3600,3624,3696,3720,3744,3768,3792,3864,3888,3912,3936,3960,4032,4056,4080,4104,4128,4200,4224,4248,4272,4296,4368,4392,4416,4440,4464,4536,4560,4584,4608,4632,4704,4728,4752,4776,4800,4872,4896,4920,4944,4968,5040,5064,5088,5112,5136,5208,5232,5256,5280,5304,5376,5400,5424,5448,5472,5544,5568,5592,5616,5640,5712,5736,5760,5784,5808,5880,5904,5928,5952,5976,6048,6072,6096,6120,6144,6216,6240,6264,6288,6312,6384,6408,6432,6456,6480,6552,6576,6600,6624,6648,6720,6744,6768,6792,6816,6888,6912,6936,6960,6984,7056,7080,7104,7128,7152,7224,7248,7272,7296,7320,7392,7416,7440,7464,7488,7560,7584,7608,7632,7656,7728,7752,7776,7800,7824,7896,7920,7944,7968,7992,8064,8088,8112,8136,8160,8232,8256,8280,8304,8328,8400,8424,8448,8472,8496,8568,8592,8616,8640,8664,8736,8760,8784,8808,8832,8904,8928,8952,8976,9000,9072,9096,9120,9144,9168,9240,9264,9288,9312,9336,9408,9432,9456,9480,9504,9576,9600,9624,9648,9672,9744,9768,9792,9816,9840,9912,9936,9960,9984,10008,10080,10104,10128,10152,10176,10248,10272,10296,10320,10344,10416,10440,10464,10488,10512,10584,10608,10632,10656,10680,10752,10776,10800,10824,10848,10920,10944,10968,10992,11016,11088,11112,11136,11160,11184,11256,11280,11304,11328,11352,11424,11448,11472,11496,11520,11592,11616,11640,11664,11688,11760,11784,11808,11832,11856,11928,11952,11976,12000,12024,12096,12120,12144,12168,12192,12264,12288,12312,12336,12360,12432,12456,12480,12504,12528,12600,12624,12648,12672,12696,12768,12792,12816,12840,12864,12936,12960,12984,13008,13032,13104,13128,13152,13176,13200,13272,13296,13320,13344,13368,13440,13464,13488,13512,13536,13608,13632,13656,13680,13704,13776,13800,13824,13848,13872,13944,13968,13992,14016,14040,14112,14136,14160,14184,14208,14280,14304,14328,14352,14376,14448,14472,14496,14520,14544,14616,14640,14664,14688,14712,14784,14808,14832,14856,14880,14952,14976,15000,15024,15048,15120,15144,15168,15192,15216,15288,15312,15336,15360,15384,15456,15480,15504,15528,15552,15624,15648,15672,15696,15720,15792,15816,15840,15864,15888,15960,15984,16008,16032,16056,16128,16152,16176,16200,16224,16296,16320,16344,16368,16392,16464,16488,16512,16536,16560,16632,16656,16680,16704,16728,16800,16824,16848,16872,16896,16968]\n",
    "WT = 11\n",
    "\n",
    "mdl = grb.Model(\"modelo\")\n",
    "\n",
    "x = mdl.addVars(indices, vtype=grb.GRB.BINARY, name='x')\n",
    "MAX = mdl.addVars(indices, vtype=grb.GRB.BINARY, name='y')\n",
    "\n",
    "mdl.Params.timeLimit=3600.0\n",
    "\n",
    "mdl.setObjective(sum(x[(i,j,k)] for i in N for j in M for k in N))\n",
    "\n",
    "mdl.addConstrs((sum(x[(i,j,k)] for j in M for k in N) <= 1 for i in N), name='B')\n",
    "\n",
    "mdl.addConstrs((sum(x[(i,j,k)]*p[i] for i in N) <= WT  for k in N for j in M), name='D')\n",
    "\n",
    "for i in N:\n",
    "    for j in M:\n",
    "        for k in range(i+1):      \n",
    "            mdl.addConstr(sum((x[(z,j,k)])*p[z] for z in range(i+1))+(t[k]*MAX[(i,j,k)]) <= d[i])\n",
    "\n",
    "for i in N:\n",
    "    for j in M:\n",
    "        for k in range(i+1):\n",
    "            for z in range(i+1):\n",
    "                mdl.addConstr(x[(z,j,k)] <=MAX[(i,j,k)])\n",
    "                \n",
    "mdl.ModelSense = grb.GRB.MAXIMIZE\n",
    "mdl.optimize()"
   ]
  },
  {
   "cell_type": "markdown",
   "metadata": {},
   "source": [
    "## ## Entrada de datos: Instancia 49x4"
   ]
  },
  {
   "cell_type": "code",
   "execution_count": 8,
   "metadata": {},
   "outputs": [
    {
     "data": {
      "text/plain": [
       "49"
      ]
     },
     "execution_count": 8,
     "metadata": {},
     "output_type": "execute_result"
    }
   ],
   "source": [
    "datafile=\"49x4.csv\"\n",
    "data=pd.DataFrame(pd.read_csv(datafile,sep=\";\"))\n",
    "\n",
    "data[\"JOB\"]=\"J\"+data[\"JOB\"].map(str)\n",
    "dictJobs={i:[data.set_index('JOB').to_dict()[\"Deadline\"][i],data.set_index('JOB').to_dict()[\"PT\"][i]] for i in data.set_index('JOB').to_dict()[\"Deadline\"].keys()}\n",
    "\n",
    "dictJobs=dict(sorted(dictJobs.items(), key=lambda item: item[1]))\n",
    "ordDict={}\n",
    "cont=0\n",
    "for i in dictJobs:\n",
    "    ordDict[cont]=[i,dictJobs[i][0],dictJobs[i][1]]\n",
    "    cont+=1\n",
    "len(dictJobs)"
   ]
  },
  {
   "cell_type": "code",
   "execution_count": 9,
   "metadata": {
    "scrolled": true
   },
   "outputs": [
    {
     "name": "stdout",
     "output_type": "stream",
     "text": [
      "Changed value of parameter timeLimit to 3600.0\n",
      "   Prev: inf  Min: 0.0  Max: inf  Default: inf\n",
      "Gurobi Optimizer version 9.1.1 build v9.1.1rc0 (win64)\n",
      "Thread count: 6 physical cores, 6 logical processors, using up to 6 threads\n",
      "Optimize a model with 83447 rows, 9604 columns and 254506 nonzeros\n",
      "Model fingerprint: 0xa7be581b\n",
      "Variable types: 0 continuous, 9604 integer (9604 binary)\n",
      "Coefficient statistics:\n",
      "  Matrix range     [1e+00, 2e+03]\n",
      "  Objective range  [1e+00, 1e+00]\n",
      "  Bounds range     [1e+00, 1e+00]\n",
      "  RHS range        [1e+00, 3e+02]\n",
      "Found heuristic solution: objective -0.0000000\n",
      "Found heuristic solution: objective 11.0000000\n",
      "Presolve removed 83272 rows and 9090 columns\n",
      "Presolve time: 0.17s\n",
      "Presolved: 175 rows, 514 columns, 1562 nonzeros\n",
      "Variable types: 0 continuous, 514 integer (514 binary)\n",
      "\n",
      "Root relaxation: objective 4.900000e+01, 133 iterations, 0.00 seconds\n",
      "\n",
      "    Nodes    |    Current Node    |     Objective Bounds      |     Work\n",
      " Expl Unexpl |  Obj  Depth IntInf | Incumbent    BestBd   Gap | It/Node Time\n",
      "\n",
      "     0     0   49.00000    0   16   11.00000   49.00000   345%     -    0s\n",
      "H    0     0                      46.0000000   49.00000  6.52%     -    0s\n",
      "H    0     0                      47.0000000   49.00000  4.26%     -    0s\n",
      "H    0     0                      48.0000000   49.00000  2.08%     -    0s\n",
      "     0     0   49.00000    0   31   48.00000   49.00000  2.08%     -    0s\n",
      "     0     0   49.00000    0   31   48.00000   49.00000  2.08%     -    0s\n",
      "H    0     0                      49.0000000   49.00000  0.00%     -    0s\n",
      "     0     0   49.00000    0    5   49.00000   49.00000  0.00%     -    0s\n",
      "\n",
      "Cutting planes:\n",
      "  Gomory: 19\n",
      "  Cover: 14\n",
      "  Clique: 3\n",
      "  MIR: 19\n",
      "  StrongCG: 15\n",
      "  GUB cover: 3\n",
      "  Mod-K: 1\n",
      "  RLT: 8\n",
      "\n",
      "Explored 1 nodes (819 simplex iterations) in 0.33 seconds\n",
      "Thread count was 6 (of 6 available processors)\n",
      "\n",
      "Solution count 6: 49 48 47 ... -0\n",
      "\n",
      "Optimal solution found (tolerance 1.00e-04)\n",
      "Best objective 4.900000000000e+01, best bound 4.900000000000e+01, gap 0.0000%\n"
     ]
    }
   ],
   "source": [
    "p = []\n",
    "d = []\n",
    "for i in ordDict.keys():\n",
    "    p.append(ordDict[i][2])\n",
    "    d.append(ordDict[i][1])\n",
    "    \n",
    "ith = len(ordDict)\n",
    "jth = 2\n",
    "N = range(ith)\n",
    "M = range(jth)\n",
    "indices=[(i,j,k) for i in N for j in M for k in N]\n",
    "\n",
    "t =[0,24,48,72,96,168,192,216,240,264,336,360,384,408,432,504,528,552,576,600,672,696,720,744,768,840,864,888,912,936,1008,1032,1056,1080,1104,1176,1200,1224,1248,1272,1344,1368,1392,1416,1440,1512,1536,1560,1584,1608,1680,1704,1728,1752,1776,1848,1872,1896,1920,1944,2016,2040,2064,2088,2112,2184,2208,2232,2256,2280,2352,2376,2400,2424,2448,2520,2544,2568,2592,2616,2688,2712,2736,2760,2784,2856,2880,2904,2928,2952,3024,3048,3072,3096,3120,3192,3216,3240,3264,3288,3360,3384,3408,3432,3456,3528,3552,3576,3600,3624,3696,3720,3744,3768,3792,3864,3888,3912,3936,3960,4032,4056,4080,4104,4128,4200,4224,4248,4272,4296,4368,4392,4416,4440,4464,4536,4560,4584,4608,4632,4704,4728,4752,4776,4800,4872,4896,4920,4944,4968,5040,5064,5088,5112,5136,5208,5232,5256,5280,5304,5376,5400,5424,5448,5472,5544,5568,5592,5616,5640,5712,5736,5760,5784,5808,5880,5904,5928,5952,5976,6048,6072,6096,6120,6144,6216,6240,6264,6288,6312,6384,6408,6432,6456,6480,6552,6576,6600,6624,6648,6720,6744,6768,6792,6816,6888,6912,6936,6960,6984,7056,7080,7104,7128,7152,7224,7248,7272,7296,7320,7392,7416,7440,7464,7488,7560,7584,7608,7632,7656,7728,7752,7776,7800,7824,7896,7920,7944,7968,7992,8064,8088,8112,8136,8160,8232,8256,8280,8304,8328,8400,8424,8448,8472,8496,8568,8592,8616,8640,8664,8736,8760,8784,8808,8832,8904,8928,8952,8976,9000,9072,9096,9120,9144,9168,9240,9264,9288,9312,9336,9408,9432,9456,9480,9504,9576,9600,9624,9648,9672,9744,9768,9792,9816,9840,9912,9936,9960,9984,10008,10080,10104,10128,10152,10176,10248,10272,10296,10320,10344,10416,10440,10464,10488,10512,10584,10608,10632,10656,10680,10752,10776,10800,10824,10848,10920,10944,10968,10992,11016,11088,11112,11136,11160,11184,11256,11280,11304,11328,11352,11424,11448,11472,11496,11520,11592,11616,11640,11664,11688,11760,11784,11808,11832,11856,11928,11952,11976,12000,12024,12096,12120,12144,12168,12192,12264,12288,12312,12336,12360,12432,12456,12480,12504,12528,12600,12624,12648,12672,12696,12768,12792,12816,12840,12864,12936,12960,12984,13008,13032,13104,13128,13152,13176,13200,13272,13296,13320,13344,13368,13440,13464,13488,13512,13536,13608,13632,13656,13680,13704,13776,13800,13824,13848,13872,13944,13968,13992,14016,14040,14112,14136,14160,14184,14208,14280,14304,14328,14352,14376,14448,14472,14496,14520,14544,14616,14640,14664,14688,14712,14784,14808,14832,14856,14880,14952,14976,15000,15024,15048,15120,15144,15168,15192,15216,15288,15312,15336,15360,15384,15456,15480,15504,15528,15552,15624,15648,15672,15696,15720,15792,15816,15840,15864,15888,15960,15984,16008,16032,16056,16128,16152,16176,16200,16224,16296,16320,16344,16368,16392,16464,16488,16512,16536,16560,16632,16656,16680,16704,16728,16800,16824,16848,16872,16896,16968]\n",
    "WT = 11\n",
    "\n",
    "mdl = grb.Model(\"modelo\")\n",
    "\n",
    "x = mdl.addVars(indices, vtype=grb.GRB.BINARY, name='x')\n",
    "MAX = mdl.addVars(indices, vtype=grb.GRB.BINARY, name='y')\n",
    "\n",
    "mdl.Params.timeLimit=3600.0\n",
    "\n",
    "mdl.setObjective(sum(x[(i,j,k)] for i in N for j in M for k in N))\n",
    "\n",
    "mdl.addConstrs((sum(x[(i,j,k)] for j in M for k in N) <= 1 for i in N), name='B')\n",
    "\n",
    "mdl.addConstrs((sum(x[(i,j,k)]*p[i] for i in N) <= WT  for k in N for j in M), name='D')\n",
    "\n",
    "for i in N:\n",
    "    for j in M:\n",
    "        for k in range(i+1):      \n",
    "            mdl.addConstr(sum((x[(z,j,k)])*p[z] for z in range(i+1))+(t[k]*MAX[(i,j,k)]) <= d[i])\n",
    "\n",
    "for i in N:\n",
    "    for j in M:\n",
    "        for k in range(i+1):\n",
    "            for z in range(i+1):\n",
    "                mdl.addConstr(x[(z,j,k)] <=MAX[(i,j,k)])\n",
    "                \n",
    "mdl.ModelSense = grb.GRB.MAXIMIZE\n",
    "mdl.optimize()"
   ]
  },
  {
   "cell_type": "markdown",
   "metadata": {},
   "source": [
    "## Entrada de datos: Instancia 49x5"
   ]
  },
  {
   "cell_type": "code",
   "execution_count": 10,
   "metadata": {},
   "outputs": [
    {
     "data": {
      "text/plain": [
       "49"
      ]
     },
     "execution_count": 10,
     "metadata": {},
     "output_type": "execute_result"
    }
   ],
   "source": [
    "datafile=\"49x5.csv\"\n",
    "data=pd.DataFrame(pd.read_csv(datafile,sep=\";\"))\n",
    "\n",
    "data[\"JOB\"]=\"J\"+data[\"JOB\"].map(str)\n",
    "dictJobs={i:[data.set_index('JOB').to_dict()[\"Deadline\"][i],data.set_index('JOB').to_dict()[\"PT\"][i]] for i in data.set_index('JOB').to_dict()[\"Deadline\"].keys()}\n",
    "\n",
    "dictJobs=dict(sorted(dictJobs.items(), key=lambda item: item[1]))\n",
    "ordDict={}\n",
    "cont=0\n",
    "for i in dictJobs:\n",
    "    ordDict[cont]=[i,dictJobs[i][0],dictJobs[i][1]]\n",
    "    cont+=1\n",
    "len(dictJobs)"
   ]
  },
  {
   "cell_type": "code",
   "execution_count": 11,
   "metadata": {
    "scrolled": true
   },
   "outputs": [
    {
     "name": "stdout",
     "output_type": "stream",
     "text": [
      "Changed value of parameter timeLimit to 3600.0\n",
      "   Prev: inf  Min: 0.0  Max: inf  Default: inf\n",
      "Gurobi Optimizer version 9.1.1 build v9.1.1rc0 (win64)\n",
      "Thread count: 6 physical cores, 6 logical processors, using up to 6 threads\n",
      "Optimize a model with 83447 rows, 9604 columns and 254506 nonzeros\n",
      "Model fingerprint: 0xe0521972\n",
      "Variable types: 0 continuous, 9604 integer (9604 binary)\n",
      "Coefficient statistics:\n",
      "  Matrix range     [1e+00, 2e+03]\n",
      "  Objective range  [1e+00, 1e+00]\n",
      "  Bounds range     [1e+00, 1e+00]\n",
      "  RHS range        [1e+00, 3e+02]\n",
      "Found heuristic solution: objective -0.0000000\n",
      "Found heuristic solution: objective 10.0000000\n",
      "Presolve removed 83279 rows and 9082 columns\n",
      "Presolve time: 0.21s\n",
      "Presolved: 168 rows, 522 columns, 1534 nonzeros\n",
      "Found heuristic solution: objective 47.0000000\n",
      "Variable types: 0 continuous, 522 integer (522 binary)\n",
      "\n",
      "Root relaxation: objective 4.838139e+01, 122 iterations, 0.00 seconds\n",
      "\n",
      "    Nodes    |    Current Node    |     Objective Bounds      |     Work\n",
      " Expl Unexpl |  Obj  Depth IntInf | Incumbent    BestBd   Gap | It/Node Time\n",
      "\n",
      "     0     0   48.38139    0   21   47.00000   48.38139  2.94%     -    0s\n",
      "     0     0   48.00000    0   25   47.00000   48.00000  2.13%     -    0s\n",
      "H    0     0                      48.0000000   48.00000  0.00%     -    0s\n",
      "     0     0   48.00000    0   24   48.00000   48.00000  0.00%     -    0s\n",
      "\n",
      "Cutting planes:\n",
      "  Gomory: 3\n",
      "  Cover: 7\n",
      "  MIR: 5\n",
      "  StrongCG: 3\n",
      "  GUB cover: 1\n",
      "  RLT: 1\n",
      "\n",
      "Explored 1 nodes (320 simplex iterations) in 0.31 seconds\n",
      "Thread count was 6 (of 6 available processors)\n",
      "\n",
      "Solution count 4: 48 47 10 -0 \n",
      "\n",
      "Optimal solution found (tolerance 1.00e-04)\n",
      "Best objective 4.800000000000e+01, best bound 4.800000000000e+01, gap 0.0000%\n"
     ]
    }
   ],
   "source": [
    "p = []\n",
    "d = []\n",
    "for i in ordDict.keys():\n",
    "    p.append(ordDict[i][2])\n",
    "    d.append(ordDict[i][1])\n",
    "    \n",
    "ith = len(ordDict)\n",
    "jth = 2\n",
    "N = range(ith)\n",
    "M = range(jth)\n",
    "indices=[(i,j,k) for i in N for j in M for k in N]\n",
    "\n",
    "t =[0,24,48,72,96,168,192,216,240,264,336,360,384,408,432,504,528,552,576,600,672,696,720,744,768,840,864,888,912,936,1008,1032,1056,1080,1104,1176,1200,1224,1248,1272,1344,1368,1392,1416,1440,1512,1536,1560,1584,1608,1680,1704,1728,1752,1776,1848,1872,1896,1920,1944,2016,2040,2064,2088,2112,2184,2208,2232,2256,2280,2352,2376,2400,2424,2448,2520,2544,2568,2592,2616,2688,2712,2736,2760,2784,2856,2880,2904,2928,2952,3024,3048,3072,3096,3120,3192,3216,3240,3264,3288,3360,3384,3408,3432,3456,3528,3552,3576,3600,3624,3696,3720,3744,3768,3792,3864,3888,3912,3936,3960,4032,4056,4080,4104,4128,4200,4224,4248,4272,4296,4368,4392,4416,4440,4464,4536,4560,4584,4608,4632,4704,4728,4752,4776,4800,4872,4896,4920,4944,4968,5040,5064,5088,5112,5136,5208,5232,5256,5280,5304,5376,5400,5424,5448,5472,5544,5568,5592,5616,5640,5712,5736,5760,5784,5808,5880,5904,5928,5952,5976,6048,6072,6096,6120,6144,6216,6240,6264,6288,6312,6384,6408,6432,6456,6480,6552,6576,6600,6624,6648,6720,6744,6768,6792,6816,6888,6912,6936,6960,6984,7056,7080,7104,7128,7152,7224,7248,7272,7296,7320,7392,7416,7440,7464,7488,7560,7584,7608,7632,7656,7728,7752,7776,7800,7824,7896,7920,7944,7968,7992,8064,8088,8112,8136,8160,8232,8256,8280,8304,8328,8400,8424,8448,8472,8496,8568,8592,8616,8640,8664,8736,8760,8784,8808,8832,8904,8928,8952,8976,9000,9072,9096,9120,9144,9168,9240,9264,9288,9312,9336,9408,9432,9456,9480,9504,9576,9600,9624,9648,9672,9744,9768,9792,9816,9840,9912,9936,9960,9984,10008,10080,10104,10128,10152,10176,10248,10272,10296,10320,10344,10416,10440,10464,10488,10512,10584,10608,10632,10656,10680,10752,10776,10800,10824,10848,10920,10944,10968,10992,11016,11088,11112,11136,11160,11184,11256,11280,11304,11328,11352,11424,11448,11472,11496,11520,11592,11616,11640,11664,11688,11760,11784,11808,11832,11856,11928,11952,11976,12000,12024,12096,12120,12144,12168,12192,12264,12288,12312,12336,12360,12432,12456,12480,12504,12528,12600,12624,12648,12672,12696,12768,12792,12816,12840,12864,12936,12960,12984,13008,13032,13104,13128,13152,13176,13200,13272,13296,13320,13344,13368,13440,13464,13488,13512,13536,13608,13632,13656,13680,13704,13776,13800,13824,13848,13872,13944,13968,13992,14016,14040,14112,14136,14160,14184,14208,14280,14304,14328,14352,14376,14448,14472,14496,14520,14544,14616,14640,14664,14688,14712,14784,14808,14832,14856,14880,14952,14976,15000,15024,15048,15120,15144,15168,15192,15216,15288,15312,15336,15360,15384,15456,15480,15504,15528,15552,15624,15648,15672,15696,15720,15792,15816,15840,15864,15888,15960,15984,16008,16032,16056,16128,16152,16176,16200,16224,16296,16320,16344,16368,16392,16464,16488,16512,16536,16560,16632,16656,16680,16704,16728,16800,16824,16848,16872,16896,16968]\n",
    "WT = 11\n",
    "\n",
    "mdl = grb.Model(\"modelo\")\n",
    "\n",
    "x = mdl.addVars(indices, vtype=grb.GRB.BINARY, name='x')\n",
    "MAX = mdl.addVars(indices, vtype=grb.GRB.BINARY, name='y')\n",
    "\n",
    "mdl.Params.timeLimit=3600.0\n",
    "\n",
    "mdl.setObjective(sum(x[(i,j,k)] for i in N for j in M for k in N))\n",
    "\n",
    "mdl.addConstrs((sum(x[(i,j,k)] for j in M for k in N) <= 1 for i in N), name='B')\n",
    "\n",
    "mdl.addConstrs((sum(x[(i,j,k)]*p[i] for i in N) <= WT  for k in N for j in M), name='D')\n",
    "\n",
    "for i in N:\n",
    "    for j in M:\n",
    "        for k in range(i+1):      \n",
    "            mdl.addConstr(sum((x[(z,j,k)])*p[z] for z in range(i+1))+(t[k]*MAX[(i,j,k)]) <= d[i])\n",
    "\n",
    "for i in N:\n",
    "    for j in M:\n",
    "        for k in range(i+1):\n",
    "            for z in range(i+1):\n",
    "                mdl.addConstr(x[(z,j,k)] <=MAX[(i,j,k)])\n",
    "                \n",
    "mdl.ModelSense = grb.GRB.MAXIMIZE\n",
    "mdl.optimize()"
   ]
  },
  {
   "cell_type": "markdown",
   "metadata": {},
   "source": [
    "## Entrada de datos: Instancia 49x6"
   ]
  },
  {
   "cell_type": "code",
   "execution_count": 12,
   "metadata": {},
   "outputs": [
    {
     "data": {
      "text/plain": [
       "49"
      ]
     },
     "execution_count": 12,
     "metadata": {},
     "output_type": "execute_result"
    }
   ],
   "source": [
    "datafile=\"49x6.csv\"\n",
    "data=pd.DataFrame(pd.read_csv(datafile,sep=\";\"))\n",
    "\n",
    "data[\"JOB\"]=\"J\"+data[\"JOB\"].map(str)\n",
    "dictJobs={i:[data.set_index('JOB').to_dict()[\"Deadline\"][i],data.set_index('JOB').to_dict()[\"PT\"][i]] for i in data.set_index('JOB').to_dict()[\"Deadline\"].keys()}\n",
    "\n",
    "dictJobs=dict(sorted(dictJobs.items(), key=lambda item: item[1]))\n",
    "ordDict={}\n",
    "cont=0\n",
    "for i in dictJobs:\n",
    "    ordDict[cont]=[i,dictJobs[i][0],dictJobs[i][1]]\n",
    "    cont+=1\n",
    "len(dictJobs)"
   ]
  },
  {
   "cell_type": "code",
   "execution_count": 13,
   "metadata": {
    "scrolled": true
   },
   "outputs": [
    {
     "name": "stdout",
     "output_type": "stream",
     "text": [
      "Changed value of parameter timeLimit to 3600.0\n",
      "   Prev: inf  Min: 0.0  Max: inf  Default: inf\n",
      "Gurobi Optimizer version 9.1.1 build v9.1.1rc0 (win64)\n",
      "Thread count: 6 physical cores, 6 logical processors, using up to 6 threads\n",
      "Optimize a model with 83447 rows, 9604 columns and 254506 nonzeros\n",
      "Model fingerprint: 0xdc089539\n",
      "Variable types: 0 continuous, 9604 integer (9604 binary)\n",
      "Coefficient statistics:\n",
      "  Matrix range     [1e+00, 2e+03]\n",
      "  Objective range  [1e+00, 1e+00]\n",
      "  Bounds range     [1e+00, 1e+00]\n",
      "  RHS range        [1e+00, 3e+02]\n",
      "Found heuristic solution: objective -0.0000000\n",
      "Found heuristic solution: objective 11.0000000\n",
      "Presolve removed 83340 rows and 9080 columns\n",
      "Presolve time: 0.18s\n",
      "Presolved: 107 rows, 524 columns, 1250 nonzeros\n",
      "Found heuristic solution: objective 48.0000000\n",
      "Variable types: 0 continuous, 524 integer (524 binary)\n",
      "\n",
      "Root relaxation: cutoff, 0 iterations, 0.00 seconds\n",
      "\n",
      "Explored 0 nodes (0 simplex iterations) in 0.22 seconds\n",
      "Thread count was 6 (of 6 available processors)\n",
      "\n",
      "Solution count 3: 48 11 -0 \n",
      "\n",
      "Optimal solution found (tolerance 1.00e-04)\n",
      "Best objective 4.800000000000e+01, best bound 4.800000000000e+01, gap 0.0000%\n"
     ]
    }
   ],
   "source": [
    "p = []\n",
    "d = []\n",
    "for i in ordDict.keys():\n",
    "    p.append(ordDict[i][2])\n",
    "    d.append(ordDict[i][1])\n",
    "    \n",
    "ith = len(ordDict)\n",
    "jth = 2\n",
    "N = range(ith)\n",
    "M = range(jth)\n",
    "indices=[(i,j,k) for i in N for j in M for k in N]\n",
    "\n",
    "t =[0,24,48,72,96,168,192,216,240,264,336,360,384,408,432,504,528,552,576,600,672,696,720,744,768,840,864,888,912,936,1008,1032,1056,1080,1104,1176,1200,1224,1248,1272,1344,1368,1392,1416,1440,1512,1536,1560,1584,1608,1680,1704,1728,1752,1776,1848,1872,1896,1920,1944,2016,2040,2064,2088,2112,2184,2208,2232,2256,2280,2352,2376,2400,2424,2448,2520,2544,2568,2592,2616,2688,2712,2736,2760,2784,2856,2880,2904,2928,2952,3024,3048,3072,3096,3120,3192,3216,3240,3264,3288,3360,3384,3408,3432,3456,3528,3552,3576,3600,3624,3696,3720,3744,3768,3792,3864,3888,3912,3936,3960,4032,4056,4080,4104,4128,4200,4224,4248,4272,4296,4368,4392,4416,4440,4464,4536,4560,4584,4608,4632,4704,4728,4752,4776,4800,4872,4896,4920,4944,4968,5040,5064,5088,5112,5136,5208,5232,5256,5280,5304,5376,5400,5424,5448,5472,5544,5568,5592,5616,5640,5712,5736,5760,5784,5808,5880,5904,5928,5952,5976,6048,6072,6096,6120,6144,6216,6240,6264,6288,6312,6384,6408,6432,6456,6480,6552,6576,6600,6624,6648,6720,6744,6768,6792,6816,6888,6912,6936,6960,6984,7056,7080,7104,7128,7152,7224,7248,7272,7296,7320,7392,7416,7440,7464,7488,7560,7584,7608,7632,7656,7728,7752,7776,7800,7824,7896,7920,7944,7968,7992,8064,8088,8112,8136,8160,8232,8256,8280,8304,8328,8400,8424,8448,8472,8496,8568,8592,8616,8640,8664,8736,8760,8784,8808,8832,8904,8928,8952,8976,9000,9072,9096,9120,9144,9168,9240,9264,9288,9312,9336,9408,9432,9456,9480,9504,9576,9600,9624,9648,9672,9744,9768,9792,9816,9840,9912,9936,9960,9984,10008,10080,10104,10128,10152,10176,10248,10272,10296,10320,10344,10416,10440,10464,10488,10512,10584,10608,10632,10656,10680,10752,10776,10800,10824,10848,10920,10944,10968,10992,11016,11088,11112,11136,11160,11184,11256,11280,11304,11328,11352,11424,11448,11472,11496,11520,11592,11616,11640,11664,11688,11760,11784,11808,11832,11856,11928,11952,11976,12000,12024,12096,12120,12144,12168,12192,12264,12288,12312,12336,12360,12432,12456,12480,12504,12528,12600,12624,12648,12672,12696,12768,12792,12816,12840,12864,12936,12960,12984,13008,13032,13104,13128,13152,13176,13200,13272,13296,13320,13344,13368,13440,13464,13488,13512,13536,13608,13632,13656,13680,13704,13776,13800,13824,13848,13872,13944,13968,13992,14016,14040,14112,14136,14160,14184,14208,14280,14304,14328,14352,14376,14448,14472,14496,14520,14544,14616,14640,14664,14688,14712,14784,14808,14832,14856,14880,14952,14976,15000,15024,15048,15120,15144,15168,15192,15216,15288,15312,15336,15360,15384,15456,15480,15504,15528,15552,15624,15648,15672,15696,15720,15792,15816,15840,15864,15888,15960,15984,16008,16032,16056,16128,16152,16176,16200,16224,16296,16320,16344,16368,16392,16464,16488,16512,16536,16560,16632,16656,16680,16704,16728,16800,16824,16848,16872,16896,16968]\n",
    "WT = 11\n",
    "\n",
    "mdl = grb.Model(\"modelo\")\n",
    "\n",
    "x = mdl.addVars(indices, vtype=grb.GRB.BINARY, name='x')\n",
    "MAX = mdl.addVars(indices, vtype=grb.GRB.BINARY, name='y')\n",
    "\n",
    "mdl.Params.timeLimit=3600.0\n",
    "\n",
    "mdl.setObjective(sum(x[(i,j,k)] for i in N for j in M for k in N))\n",
    "\n",
    "mdl.addConstrs((sum(x[(i,j,k)] for j in M for k in N) <= 1 for i in N), name='B')\n",
    "\n",
    "mdl.addConstrs((sum(x[(i,j,k)]*p[i] for i in N) <= WT  for k in N for j in M), name='D')\n",
    "\n",
    "for i in N:\n",
    "    for j in M:\n",
    "        for k in range(i+1):      \n",
    "            mdl.addConstr(sum((x[(z,j,k)])*p[z] for z in range(i+1))+(t[k]*MAX[(i,j,k)]) <= d[i])\n",
    "\n",
    "for i in N:\n",
    "    for j in M:\n",
    "        for k in range(i+1):\n",
    "            for z in range(i+1):\n",
    "                mdl.addConstr(x[(z,j,k)] <=MAX[(i,j,k)])\n",
    "                \n",
    "mdl.ModelSense = grb.GRB.MAXIMIZE\n",
    "mdl.optimize()"
   ]
  },
  {
   "cell_type": "markdown",
   "metadata": {},
   "source": [
    "## Entrada de datos: Instancia 49x7"
   ]
  },
  {
   "cell_type": "code",
   "execution_count": 14,
   "metadata": {},
   "outputs": [
    {
     "data": {
      "text/plain": [
       "49"
      ]
     },
     "execution_count": 14,
     "metadata": {},
     "output_type": "execute_result"
    }
   ],
   "source": [
    "datafile=\"49x7.csv\"\n",
    "data=pd.DataFrame(pd.read_csv(datafile,sep=\";\"))\n",
    "\n",
    "data[\"JOB\"]=\"J\"+data[\"JOB\"].map(str)\n",
    "dictJobs={i:[data.set_index('JOB').to_dict()[\"Deadline\"][i],data.set_index('JOB').to_dict()[\"PT\"][i]] for i in data.set_index('JOB').to_dict()[\"Deadline\"].keys()}\n",
    "\n",
    "dictJobs=dict(sorted(dictJobs.items(), key=lambda item: item[1]))\n",
    "ordDict={}\n",
    "cont=0\n",
    "for i in dictJobs:\n",
    "    ordDict[cont]=[i,dictJobs[i][0],dictJobs[i][1]]\n",
    "    cont+=1\n",
    "len(dictJobs)"
   ]
  },
  {
   "cell_type": "code",
   "execution_count": 15,
   "metadata": {
    "scrolled": true
   },
   "outputs": [
    {
     "name": "stdout",
     "output_type": "stream",
     "text": [
      "Changed value of parameter timeLimit to 3600.0\n",
      "   Prev: inf  Min: 0.0  Max: inf  Default: inf\n",
      "Gurobi Optimizer version 9.1.1 build v9.1.1rc0 (win64)\n",
      "Thread count: 6 physical cores, 6 logical processors, using up to 6 threads\n",
      "Optimize a model with 83447 rows, 9604 columns and 254506 nonzeros\n",
      "Model fingerprint: 0xd24f5643\n",
      "Variable types: 0 continuous, 9604 integer (9604 binary)\n",
      "Coefficient statistics:\n",
      "  Matrix range     [1e+00, 2e+03]\n",
      "  Objective range  [1e+00, 1e+00]\n",
      "  Bounds range     [1e+00, 1e+00]\n",
      "  RHS range        [1e+00, 3e+02]\n",
      "Found heuristic solution: objective -0.0000000\n",
      "Found heuristic solution: objective 8.0000000\n",
      "Presolve removed 83240 rows and 9022 columns\n",
      "Presolve time: 0.22s\n",
      "Presolved: 207 rows, 582 columns, 1828 nonzeros\n",
      "Variable types: 0 continuous, 582 integer (582 binary)\n",
      "\n",
      "Root relaxation: objective 4.900000e+01, 100 iterations, 0.00 seconds\n",
      "\n",
      "    Nodes    |    Current Node    |     Objective Bounds      |     Work\n",
      " Expl Unexpl |  Obj  Depth IntInf | Incumbent    BestBd   Gap | It/Node Time\n",
      "\n",
      "H    0     0                      49.0000000  582.00000  1088%     -    0s\n",
      "     0     0          -    0        49.00000   49.00000  0.00%     -    0s\n",
      "\n",
      "Explored 0 nodes (402 simplex iterations) in 0.32 seconds\n",
      "Thread count was 6 (of 6 available processors)\n",
      "\n",
      "Solution count 3: 49 8 -0 \n",
      "\n",
      "Optimal solution found (tolerance 1.00e-04)\n",
      "Best objective 4.900000000000e+01, best bound 4.900000000000e+01, gap 0.0000%\n"
     ]
    }
   ],
   "source": [
    "p = []\n",
    "d = []\n",
    "for i in ordDict.keys():\n",
    "    p.append(ordDict[i][2])\n",
    "    d.append(ordDict[i][1])\n",
    "    \n",
    "ith = len(ordDict)\n",
    "jth = 2\n",
    "N = range(ith)\n",
    "M = range(jth)\n",
    "indices=[(i,j,k) for i in N for j in M for k in N]\n",
    "\n",
    "t =[0,24,48,72,96,168,192,216,240,264,336,360,384,408,432,504,528,552,576,600,672,696,720,744,768,840,864,888,912,936,1008,1032,1056,1080,1104,1176,1200,1224,1248,1272,1344,1368,1392,1416,1440,1512,1536,1560,1584,1608,1680,1704,1728,1752,1776,1848,1872,1896,1920,1944,2016,2040,2064,2088,2112,2184,2208,2232,2256,2280,2352,2376,2400,2424,2448,2520,2544,2568,2592,2616,2688,2712,2736,2760,2784,2856,2880,2904,2928,2952,3024,3048,3072,3096,3120,3192,3216,3240,3264,3288,3360,3384,3408,3432,3456,3528,3552,3576,3600,3624,3696,3720,3744,3768,3792,3864,3888,3912,3936,3960,4032,4056,4080,4104,4128,4200,4224,4248,4272,4296,4368,4392,4416,4440,4464,4536,4560,4584,4608,4632,4704,4728,4752,4776,4800,4872,4896,4920,4944,4968,5040,5064,5088,5112,5136,5208,5232,5256,5280,5304,5376,5400,5424,5448,5472,5544,5568,5592,5616,5640,5712,5736,5760,5784,5808,5880,5904,5928,5952,5976,6048,6072,6096,6120,6144,6216,6240,6264,6288,6312,6384,6408,6432,6456,6480,6552,6576,6600,6624,6648,6720,6744,6768,6792,6816,6888,6912,6936,6960,6984,7056,7080,7104,7128,7152,7224,7248,7272,7296,7320,7392,7416,7440,7464,7488,7560,7584,7608,7632,7656,7728,7752,7776,7800,7824,7896,7920,7944,7968,7992,8064,8088,8112,8136,8160,8232,8256,8280,8304,8328,8400,8424,8448,8472,8496,8568,8592,8616,8640,8664,8736,8760,8784,8808,8832,8904,8928,8952,8976,9000,9072,9096,9120,9144,9168,9240,9264,9288,9312,9336,9408,9432,9456,9480,9504,9576,9600,9624,9648,9672,9744,9768,9792,9816,9840,9912,9936,9960,9984,10008,10080,10104,10128,10152,10176,10248,10272,10296,10320,10344,10416,10440,10464,10488,10512,10584,10608,10632,10656,10680,10752,10776,10800,10824,10848,10920,10944,10968,10992,11016,11088,11112,11136,11160,11184,11256,11280,11304,11328,11352,11424,11448,11472,11496,11520,11592,11616,11640,11664,11688,11760,11784,11808,11832,11856,11928,11952,11976,12000,12024,12096,12120,12144,12168,12192,12264,12288,12312,12336,12360,12432,12456,12480,12504,12528,12600,12624,12648,12672,12696,12768,12792,12816,12840,12864,12936,12960,12984,13008,13032,13104,13128,13152,13176,13200,13272,13296,13320,13344,13368,13440,13464,13488,13512,13536,13608,13632,13656,13680,13704,13776,13800,13824,13848,13872,13944,13968,13992,14016,14040,14112,14136,14160,14184,14208,14280,14304,14328,14352,14376,14448,14472,14496,14520,14544,14616,14640,14664,14688,14712,14784,14808,14832,14856,14880,14952,14976,15000,15024,15048,15120,15144,15168,15192,15216,15288,15312,15336,15360,15384,15456,15480,15504,15528,15552,15624,15648,15672,15696,15720,15792,15816,15840,15864,15888,15960,15984,16008,16032,16056,16128,16152,16176,16200,16224,16296,16320,16344,16368,16392,16464,16488,16512,16536,16560,16632,16656,16680,16704,16728,16800,16824,16848,16872,16896,16968]\n",
    "WT = 11\n",
    "\n",
    "mdl = grb.Model(\"modelo\")\n",
    "\n",
    "x = mdl.addVars(indices, vtype=grb.GRB.BINARY, name='x')\n",
    "MAX = mdl.addVars(indices, vtype=grb.GRB.BINARY, name='y')\n",
    "\n",
    "mdl.Params.timeLimit=3600.0\n",
    "\n",
    "mdl.setObjective(sum(x[(i,j,k)] for i in N for j in M for k in N))\n",
    "\n",
    "mdl.addConstrs((sum(x[(i,j,k)] for j in M for k in N) <= 1 for i in N), name='B')\n",
    "\n",
    "mdl.addConstrs((sum(x[(i,j,k)]*p[i] for i in N) <= WT  for k in N for j in M), name='D')\n",
    "\n",
    "for i in N:\n",
    "    for j in M:\n",
    "        for k in range(i+1):      \n",
    "            mdl.addConstr(sum((x[(z,j,k)])*p[z] for z in range(i+1))+(t[k]*MAX[(i,j,k)]) <= d[i])\n",
    "\n",
    "for i in N:\n",
    "    for j in M:\n",
    "        for k in range(i+1):\n",
    "            for z in range(i+1):\n",
    "                mdl.addConstr(x[(z,j,k)] <=MAX[(i,j,k)])\n",
    "                \n",
    "mdl.ModelSense = grb.GRB.MAXIMIZE\n",
    "mdl.optimize()"
   ]
  },
  {
   "cell_type": "markdown",
   "metadata": {},
   "source": [
    "## Entrada de datos: Instancia 49x8"
   ]
  },
  {
   "cell_type": "code",
   "execution_count": 16,
   "metadata": {},
   "outputs": [
    {
     "data": {
      "text/plain": [
       "49"
      ]
     },
     "execution_count": 16,
     "metadata": {},
     "output_type": "execute_result"
    }
   ],
   "source": [
    "datafile=\"49x8.csv\"\n",
    "data=pd.DataFrame(pd.read_csv(datafile,sep=\";\"))\n",
    "\n",
    "data[\"JOB\"]=\"J\"+data[\"JOB\"].map(str)\n",
    "dictJobs={i:[data.set_index('JOB').to_dict()[\"Deadline\"][i],data.set_index('JOB').to_dict()[\"PT\"][i]] for i in data.set_index('JOB').to_dict()[\"Deadline\"].keys()}\n",
    "\n",
    "dictJobs=dict(sorted(dictJobs.items(), key=lambda item: item[1]))\n",
    "ordDict={}\n",
    "cont=0\n",
    "for i in dictJobs:\n",
    "    ordDict[cont]=[i,dictJobs[i][0],dictJobs[i][1]]\n",
    "    cont+=1\n",
    "len(dictJobs)"
   ]
  },
  {
   "cell_type": "code",
   "execution_count": 17,
   "metadata": {},
   "outputs": [
    {
     "name": "stdout",
     "output_type": "stream",
     "text": [
      "Changed value of parameter timeLimit to 3600.0\n",
      "   Prev: inf  Min: 0.0  Max: inf  Default: inf\n",
      "Gurobi Optimizer version 9.1.1 build v9.1.1rc0 (win64)\n",
      "Thread count: 6 physical cores, 6 logical processors, using up to 6 threads\n",
      "Optimize a model with 83447 rows, 9604 columns and 254506 nonzeros\n",
      "Model fingerprint: 0x18fc2627\n",
      "Variable types: 0 continuous, 9604 integer (9604 binary)\n",
      "Coefficient statistics:\n",
      "  Matrix range     [1e+00, 2e+03]\n",
      "  Objective range  [1e+00, 1e+00]\n",
      "  Bounds range     [1e+00, 1e+00]\n",
      "  RHS range        [1e+00, 3e+02]\n",
      "Found heuristic solution: objective -0.0000000\n",
      "Found heuristic solution: objective 9.0000000\n",
      "Presolve removed 83302 rows and 9012 columns\n",
      "Presolve time: 0.11s\n",
      "Presolved: 145 rows, 592 columns, 1508 nonzeros\n",
      "Variable types: 0 continuous, 592 integer (592 binary)\n",
      "\n",
      "Root relaxation: objective 4.900000e+01, 79 iterations, 0.00 seconds\n",
      "\n",
      "    Nodes    |    Current Node    |     Objective Bounds      |     Work\n",
      " Expl Unexpl |  Obj  Depth IntInf | Incumbent    BestBd   Gap | It/Node Time\n",
      "\n",
      "H    0     0                      49.0000000  592.00000  1108%     -    0s\n",
      "     0     0          -    0        49.00000   49.00000  0.00%     -    0s\n",
      "\n",
      "Explored 0 nodes (151 simplex iterations) in 0.17 seconds\n",
      "Thread count was 6 (of 6 available processors)\n",
      "\n",
      "Solution count 3: 49 9 -0 \n",
      "\n",
      "Optimal solution found (tolerance 1.00e-04)\n",
      "Best objective 4.900000000000e+01, best bound 4.900000000000e+01, gap 0.0000%\n"
     ]
    }
   ],
   "source": [
    "p = []\n",
    "d = []\n",
    "for i in ordDict.keys():\n",
    "    p.append(ordDict[i][2])\n",
    "    d.append(ordDict[i][1])\n",
    "    \n",
    "ith = len(ordDict)\n",
    "jth = 2\n",
    "N = range(ith)\n",
    "M = range(jth)\n",
    "indices=[(i,j,k) for i in N for j in M for k in N]\n",
    "\n",
    "t =[0,24,48,72,96,168,192,216,240,264,336,360,384,408,432,504,528,552,576,600,672,696,720,744,768,840,864,888,912,936,1008,1032,1056,1080,1104,1176,1200,1224,1248,1272,1344,1368,1392,1416,1440,1512,1536,1560,1584,1608,1680,1704,1728,1752,1776,1848,1872,1896,1920,1944,2016,2040,2064,2088,2112,2184,2208,2232,2256,2280,2352,2376,2400,2424,2448,2520,2544,2568,2592,2616,2688,2712,2736,2760,2784,2856,2880,2904,2928,2952,3024,3048,3072,3096,3120,3192,3216,3240,3264,3288,3360,3384,3408,3432,3456,3528,3552,3576,3600,3624,3696,3720,3744,3768,3792,3864,3888,3912,3936,3960,4032,4056,4080,4104,4128,4200,4224,4248,4272,4296,4368,4392,4416,4440,4464,4536,4560,4584,4608,4632,4704,4728,4752,4776,4800,4872,4896,4920,4944,4968,5040,5064,5088,5112,5136,5208,5232,5256,5280,5304,5376,5400,5424,5448,5472,5544,5568,5592,5616,5640,5712,5736,5760,5784,5808,5880,5904,5928,5952,5976,6048,6072,6096,6120,6144,6216,6240,6264,6288,6312,6384,6408,6432,6456,6480,6552,6576,6600,6624,6648,6720,6744,6768,6792,6816,6888,6912,6936,6960,6984,7056,7080,7104,7128,7152,7224,7248,7272,7296,7320,7392,7416,7440,7464,7488,7560,7584,7608,7632,7656,7728,7752,7776,7800,7824,7896,7920,7944,7968,7992,8064,8088,8112,8136,8160,8232,8256,8280,8304,8328,8400,8424,8448,8472,8496,8568,8592,8616,8640,8664,8736,8760,8784,8808,8832,8904,8928,8952,8976,9000,9072,9096,9120,9144,9168,9240,9264,9288,9312,9336,9408,9432,9456,9480,9504,9576,9600,9624,9648,9672,9744,9768,9792,9816,9840,9912,9936,9960,9984,10008,10080,10104,10128,10152,10176,10248,10272,10296,10320,10344,10416,10440,10464,10488,10512,10584,10608,10632,10656,10680,10752,10776,10800,10824,10848,10920,10944,10968,10992,11016,11088,11112,11136,11160,11184,11256,11280,11304,11328,11352,11424,11448,11472,11496,11520,11592,11616,11640,11664,11688,11760,11784,11808,11832,11856,11928,11952,11976,12000,12024,12096,12120,12144,12168,12192,12264,12288,12312,12336,12360,12432,12456,12480,12504,12528,12600,12624,12648,12672,12696,12768,12792,12816,12840,12864,12936,12960,12984,13008,13032,13104,13128,13152,13176,13200,13272,13296,13320,13344,13368,13440,13464,13488,13512,13536,13608,13632,13656,13680,13704,13776,13800,13824,13848,13872,13944,13968,13992,14016,14040,14112,14136,14160,14184,14208,14280,14304,14328,14352,14376,14448,14472,14496,14520,14544,14616,14640,14664,14688,14712,14784,14808,14832,14856,14880,14952,14976,15000,15024,15048,15120,15144,15168,15192,15216,15288,15312,15336,15360,15384,15456,15480,15504,15528,15552,15624,15648,15672,15696,15720,15792,15816,15840,15864,15888,15960,15984,16008,16032,16056,16128,16152,16176,16200,16224,16296,16320,16344,16368,16392,16464,16488,16512,16536,16560,16632,16656,16680,16704,16728,16800,16824,16848,16872,16896,16968]\n",
    "WT = 11\n",
    "\n",
    "mdl = grb.Model(\"modelo\")\n",
    "\n",
    "x = mdl.addVars(indices, vtype=grb.GRB.BINARY, name='x')\n",
    "MAX = mdl.addVars(indices, vtype=grb.GRB.BINARY, name='y')\n",
    "\n",
    "mdl.Params.timeLimit=3600.0\n",
    "\n",
    "mdl.setObjective(sum(x[(i,j,k)] for i in N for j in M for k in N))\n",
    "\n",
    "mdl.addConstrs((sum(x[(i,j,k)] for j in M for k in N) <= 1 for i in N), name='B')\n",
    "\n",
    "mdl.addConstrs((sum(x[(i,j,k)]*p[i] for i in N) <= WT  for k in N for j in M), name='D')\n",
    "\n",
    "for i in N:\n",
    "    for j in M:\n",
    "        for k in range(i+1):      \n",
    "            mdl.addConstr(sum((x[(z,j,k)])*p[z] for z in range(i+1))+(t[k]*MAX[(i,j,k)]) <= d[i])\n",
    "\n",
    "for i in N:\n",
    "    for j in M:\n",
    "        for k in range(i+1):\n",
    "            for z in range(i+1):\n",
    "                mdl.addConstr(x[(z,j,k)] <=MAX[(i,j,k)])\n",
    "                \n",
    "mdl.ModelSense = grb.GRB.MAXIMIZE\n",
    "mdl.optimize()"
   ]
  },
  {
   "cell_type": "markdown",
   "metadata": {},
   "source": [
    "## Entrada de datos: Instancia 49x9"
   ]
  },
  {
   "cell_type": "code",
   "execution_count": 18,
   "metadata": {},
   "outputs": [
    {
     "data": {
      "text/plain": [
       "49"
      ]
     },
     "execution_count": 18,
     "metadata": {},
     "output_type": "execute_result"
    }
   ],
   "source": [
    "datafile=\"49x9.csv\"\n",
    "data=pd.DataFrame(pd.read_csv(datafile,sep=\";\"))\n",
    "\n",
    "data[\"JOB\"]=\"J\"+data[\"JOB\"].map(str)\n",
    "dictJobs={i:[data.set_index('JOB').to_dict()[\"Deadline\"][i],data.set_index('JOB').to_dict()[\"PT\"][i]] for i in data.set_index('JOB').to_dict()[\"Deadline\"].keys()}\n",
    "\n",
    "dictJobs=dict(sorted(dictJobs.items(), key=lambda item: item[1]))\n",
    "ordDict={}\n",
    "cont=0\n",
    "for i in dictJobs:\n",
    "    ordDict[cont]=[i,dictJobs[i][0],dictJobs[i][1]]\n",
    "    cont+=1\n",
    "len(dictJobs)"
   ]
  },
  {
   "cell_type": "code",
   "execution_count": 19,
   "metadata": {
    "scrolled": true
   },
   "outputs": [
    {
     "name": "stdout",
     "output_type": "stream",
     "text": [
      "Changed value of parameter timeLimit to 3600.0\n",
      "   Prev: inf  Min: 0.0  Max: inf  Default: inf\n",
      "Gurobi Optimizer version 9.1.1 build v9.1.1rc0 (win64)\n",
      "Thread count: 6 physical cores, 6 logical processors, using up to 6 threads\n",
      "Optimize a model with 83447 rows, 9604 columns and 254506 nonzeros\n",
      "Model fingerprint: 0xc0774324\n",
      "Variable types: 0 continuous, 9604 integer (9604 binary)\n",
      "Coefficient statistics:\n",
      "  Matrix range     [1e+00, 2e+03]\n",
      "  Objective range  [1e+00, 1e+00]\n",
      "  Bounds range     [1e+00, 1e+00]\n",
      "  RHS range        [1e+00, 3e+02]\n",
      "Found heuristic solution: objective -0.0000000\n",
      "Found heuristic solution: objective 12.0000000\n",
      "Presolve removed 83281 rows and 9018 columns\n",
      "Presolve time: 0.17s\n",
      "Presolved: 166 rows, 586 columns, 1536 nonzeros\n",
      "Variable types: 0 continuous, 586 integer (586 binary)\n",
      "\n",
      "Root relaxation: objective 4.800000e+01, 85 iterations, 0.00 seconds\n",
      "\n",
      "    Nodes    |    Current Node    |     Objective Bounds      |     Work\n",
      " Expl Unexpl |  Obj  Depth IntInf | Incumbent    BestBd   Gap | It/Node Time\n",
      "\n",
      "H    0     0                      48.0000000  586.00000  1121%     -    0s\n",
      "     0     0          -    0        48.00000   48.00000  0.00%     -    0s\n",
      "\n",
      "Explored 0 nodes (184 simplex iterations) in 0.24 seconds\n",
      "Thread count was 6 (of 6 available processors)\n",
      "\n",
      "Solution count 3: 48 12 -0 \n",
      "\n",
      "Optimal solution found (tolerance 1.00e-04)\n",
      "Best objective 4.800000000000e+01, best bound 4.800000000000e+01, gap 0.0000%\n"
     ]
    }
   ],
   "source": [
    "p = []\n",
    "d = []\n",
    "for i in ordDict.keys():\n",
    "    p.append(ordDict[i][2])\n",
    "    d.append(ordDict[i][1])\n",
    "    \n",
    "ith = len(ordDict)\n",
    "jth = 2\n",
    "N = range(ith)\n",
    "M = range(jth)\n",
    "indices=[(i,j,k) for i in N for j in M for k in N]\n",
    "\n",
    "t =[0,24,48,72,96,168,192,216,240,264,336,360,384,408,432,504,528,552,576,600,672,696,720,744,768,840,864,888,912,936,1008,1032,1056,1080,1104,1176,1200,1224,1248,1272,1344,1368,1392,1416,1440,1512,1536,1560,1584,1608,1680,1704,1728,1752,1776,1848,1872,1896,1920,1944,2016,2040,2064,2088,2112,2184,2208,2232,2256,2280,2352,2376,2400,2424,2448,2520,2544,2568,2592,2616,2688,2712,2736,2760,2784,2856,2880,2904,2928,2952,3024,3048,3072,3096,3120,3192,3216,3240,3264,3288,3360,3384,3408,3432,3456,3528,3552,3576,3600,3624,3696,3720,3744,3768,3792,3864,3888,3912,3936,3960,4032,4056,4080,4104,4128,4200,4224,4248,4272,4296,4368,4392,4416,4440,4464,4536,4560,4584,4608,4632,4704,4728,4752,4776,4800,4872,4896,4920,4944,4968,5040,5064,5088,5112,5136,5208,5232,5256,5280,5304,5376,5400,5424,5448,5472,5544,5568,5592,5616,5640,5712,5736,5760,5784,5808,5880,5904,5928,5952,5976,6048,6072,6096,6120,6144,6216,6240,6264,6288,6312,6384,6408,6432,6456,6480,6552,6576,6600,6624,6648,6720,6744,6768,6792,6816,6888,6912,6936,6960,6984,7056,7080,7104,7128,7152,7224,7248,7272,7296,7320,7392,7416,7440,7464,7488,7560,7584,7608,7632,7656,7728,7752,7776,7800,7824,7896,7920,7944,7968,7992,8064,8088,8112,8136,8160,8232,8256,8280,8304,8328,8400,8424,8448,8472,8496,8568,8592,8616,8640,8664,8736,8760,8784,8808,8832,8904,8928,8952,8976,9000,9072,9096,9120,9144,9168,9240,9264,9288,9312,9336,9408,9432,9456,9480,9504,9576,9600,9624,9648,9672,9744,9768,9792,9816,9840,9912,9936,9960,9984,10008,10080,10104,10128,10152,10176,10248,10272,10296,10320,10344,10416,10440,10464,10488,10512,10584,10608,10632,10656,10680,10752,10776,10800,10824,10848,10920,10944,10968,10992,11016,11088,11112,11136,11160,11184,11256,11280,11304,11328,11352,11424,11448,11472,11496,11520,11592,11616,11640,11664,11688,11760,11784,11808,11832,11856,11928,11952,11976,12000,12024,12096,12120,12144,12168,12192,12264,12288,12312,12336,12360,12432,12456,12480,12504,12528,12600,12624,12648,12672,12696,12768,12792,12816,12840,12864,12936,12960,12984,13008,13032,13104,13128,13152,13176,13200,13272,13296,13320,13344,13368,13440,13464,13488,13512,13536,13608,13632,13656,13680,13704,13776,13800,13824,13848,13872,13944,13968,13992,14016,14040,14112,14136,14160,14184,14208,14280,14304,14328,14352,14376,14448,14472,14496,14520,14544,14616,14640,14664,14688,14712,14784,14808,14832,14856,14880,14952,14976,15000,15024,15048,15120,15144,15168,15192,15216,15288,15312,15336,15360,15384,15456,15480,15504,15528,15552,15624,15648,15672,15696,15720,15792,15816,15840,15864,15888,15960,15984,16008,16032,16056,16128,16152,16176,16200,16224,16296,16320,16344,16368,16392,16464,16488,16512,16536,16560,16632,16656,16680,16704,16728,16800,16824,16848,16872,16896,16968]\n",
    "WT = 11\n",
    "\n",
    "mdl = grb.Model(\"modelo\")\n",
    "\n",
    "x = mdl.addVars(indices, vtype=grb.GRB.BINARY, name='x')\n",
    "MAX = mdl.addVars(indices, vtype=grb.GRB.BINARY, name='y')\n",
    "\n",
    "mdl.Params.timeLimit=3600.0\n",
    "\n",
    "mdl.setObjective(sum(x[(i,j,k)] for i in N for j in M for k in N))\n",
    "\n",
    "mdl.addConstrs((sum(x[(i,j,k)] for j in M for k in N) <= 1 for i in N), name='B')\n",
    "\n",
    "mdl.addConstrs((sum(x[(i,j,k)]*p[i] for i in N) <= WT  for k in N for j in M), name='D')\n",
    "\n",
    "for i in N:\n",
    "    for j in M:\n",
    "        for k in range(i+1):      \n",
    "            mdl.addConstr(sum((x[(z,j,k)])*p[z] for z in range(i+1))+(t[k]*MAX[(i,j,k)]) <= d[i])\n",
    "\n",
    "for i in N:\n",
    "    for j in M:\n",
    "        for k in range(i+1):\n",
    "            for z in range(i+1):\n",
    "                mdl.addConstr(x[(z,j,k)] <=MAX[(i,j,k)])\n",
    "                \n",
    "mdl.ModelSense = grb.GRB.MAXIMIZE\n",
    "mdl.optimize()"
   ]
  },
  {
   "cell_type": "markdown",
   "metadata": {},
   "source": [
    "## Entrada de datos: Instancia 49x10"
   ]
  },
  {
   "cell_type": "code",
   "execution_count": 20,
   "metadata": {},
   "outputs": [
    {
     "data": {
      "text/plain": [
       "49"
      ]
     },
     "execution_count": 20,
     "metadata": {},
     "output_type": "execute_result"
    }
   ],
   "source": [
    "datafile=\"49x10.csv\"\n",
    "data=pd.DataFrame(pd.read_csv(datafile,sep=\";\"))\n",
    "\n",
    "data[\"JOB\"]=\"J\"+data[\"JOB\"].map(str)\n",
    "dictJobs={i:[data.set_index('JOB').to_dict()[\"Deadline\"][i],data.set_index('JOB').to_dict()[\"PT\"][i]] for i in data.set_index('JOB').to_dict()[\"Deadline\"].keys()}\n",
    "\n",
    "dictJobs=dict(sorted(dictJobs.items(), key=lambda item: item[1]))\n",
    "ordDict={}\n",
    "cont=0\n",
    "for i in dictJobs:\n",
    "    ordDict[cont]=[i,dictJobs[i][0],dictJobs[i][1]]\n",
    "    cont+=1\n",
    "len(dictJobs)"
   ]
  },
  {
   "cell_type": "code",
   "execution_count": 21,
   "metadata": {
    "scrolled": true
   },
   "outputs": [
    {
     "name": "stdout",
     "output_type": "stream",
     "text": [
      "Changed value of parameter timeLimit to 3600.0\n",
      "   Prev: inf  Min: 0.0  Max: inf  Default: inf\n",
      "Gurobi Optimizer version 9.1.1 build v9.1.1rc0 (win64)\n",
      "Thread count: 6 physical cores, 6 logical processors, using up to 6 threads\n",
      "Optimize a model with 83447 rows, 9604 columns and 254506 nonzeros\n",
      "Model fingerprint: 0x22e9586b\n",
      "Variable types: 0 continuous, 9604 integer (9604 binary)\n",
      "Coefficient statistics:\n",
      "  Matrix range     [1e+00, 2e+03]\n",
      "  Objective range  [1e+00, 1e+00]\n",
      "  Bounds range     [1e+00, 1e+00]\n",
      "  RHS range        [1e+00, 3e+02]\n",
      "Found heuristic solution: objective -0.0000000\n",
      "Found heuristic solution: objective 8.0000000\n",
      "Presolve removed 83280 rows and 9076 columns\n",
      "Presolve time: 0.22s\n",
      "Presolved: 167 rows, 528 columns, 1560 nonzeros\n",
      "Variable types: 0 continuous, 528 integer (528 binary)\n",
      "\n",
      "Root relaxation: objective 4.840067e+01, 138 iterations, 0.00 seconds\n",
      "\n",
      "    Nodes    |    Current Node    |     Objective Bounds      |     Work\n",
      " Expl Unexpl |  Obj  Depth IntInf | Incumbent    BestBd   Gap | It/Node Time\n",
      "\n",
      "     0     0   48.40067    0   19    8.00000   48.40067   505%     -    0s\n",
      "H    0     0                      46.0000000   48.40067  5.22%     -    0s\n",
      "H    0     0                      47.0000000   48.40067  2.98%     -    0s\n",
      "H    0     0                      48.0000000   48.40067  0.83%     -    0s\n",
      "     0     0   48.40067    0   19   48.00000   48.40067  0.83%     -    0s\n",
      "\n",
      "Explored 1 nodes (254 simplex iterations) in 0.29 seconds\n",
      "Thread count was 6 (of 6 available processors)\n",
      "\n",
      "Solution count 5: 48 47 46 ... -0\n",
      "\n",
      "Optimal solution found (tolerance 1.00e-04)\n",
      "Best objective 4.800000000000e+01, best bound 4.800000000000e+01, gap 0.0000%\n"
     ]
    }
   ],
   "source": [
    "p = []\n",
    "d = []\n",
    "for i in ordDict.keys():\n",
    "    p.append(ordDict[i][2])\n",
    "    d.append(ordDict[i][1])\n",
    "    \n",
    "ith = len(ordDict)\n",
    "jth = 2\n",
    "N = range(ith)\n",
    "M = range(jth)\n",
    "indices=[(i,j,k) for i in N for j in M for k in N]\n",
    "\n",
    "t =[0,24,48,72,96,168,192,216,240,264,336,360,384,408,432,504,528,552,576,600,672,696,720,744,768,840,864,888,912,936,1008,1032,1056,1080,1104,1176,1200,1224,1248,1272,1344,1368,1392,1416,1440,1512,1536,1560,1584,1608,1680,1704,1728,1752,1776,1848,1872,1896,1920,1944,2016,2040,2064,2088,2112,2184,2208,2232,2256,2280,2352,2376,2400,2424,2448,2520,2544,2568,2592,2616,2688,2712,2736,2760,2784,2856,2880,2904,2928,2952,3024,3048,3072,3096,3120,3192,3216,3240,3264,3288,3360,3384,3408,3432,3456,3528,3552,3576,3600,3624,3696,3720,3744,3768,3792,3864,3888,3912,3936,3960,4032,4056,4080,4104,4128,4200,4224,4248,4272,4296,4368,4392,4416,4440,4464,4536,4560,4584,4608,4632,4704,4728,4752,4776,4800,4872,4896,4920,4944,4968,5040,5064,5088,5112,5136,5208,5232,5256,5280,5304,5376,5400,5424,5448,5472,5544,5568,5592,5616,5640,5712,5736,5760,5784,5808,5880,5904,5928,5952,5976,6048,6072,6096,6120,6144,6216,6240,6264,6288,6312,6384,6408,6432,6456,6480,6552,6576,6600,6624,6648,6720,6744,6768,6792,6816,6888,6912,6936,6960,6984,7056,7080,7104,7128,7152,7224,7248,7272,7296,7320,7392,7416,7440,7464,7488,7560,7584,7608,7632,7656,7728,7752,7776,7800,7824,7896,7920,7944,7968,7992,8064,8088,8112,8136,8160,8232,8256,8280,8304,8328,8400,8424,8448,8472,8496,8568,8592,8616,8640,8664,8736,8760,8784,8808,8832,8904,8928,8952,8976,9000,9072,9096,9120,9144,9168,9240,9264,9288,9312,9336,9408,9432,9456,9480,9504,9576,9600,9624,9648,9672,9744,9768,9792,9816,9840,9912,9936,9960,9984,10008,10080,10104,10128,10152,10176,10248,10272,10296,10320,10344,10416,10440,10464,10488,10512,10584,10608,10632,10656,10680,10752,10776,10800,10824,10848,10920,10944,10968,10992,11016,11088,11112,11136,11160,11184,11256,11280,11304,11328,11352,11424,11448,11472,11496,11520,11592,11616,11640,11664,11688,11760,11784,11808,11832,11856,11928,11952,11976,12000,12024,12096,12120,12144,12168,12192,12264,12288,12312,12336,12360,12432,12456,12480,12504,12528,12600,12624,12648,12672,12696,12768,12792,12816,12840,12864,12936,12960,12984,13008,13032,13104,13128,13152,13176,13200,13272,13296,13320,13344,13368,13440,13464,13488,13512,13536,13608,13632,13656,13680,13704,13776,13800,13824,13848,13872,13944,13968,13992,14016,14040,14112,14136,14160,14184,14208,14280,14304,14328,14352,14376,14448,14472,14496,14520,14544,14616,14640,14664,14688,14712,14784,14808,14832,14856,14880,14952,14976,15000,15024,15048,15120,15144,15168,15192,15216,15288,15312,15336,15360,15384,15456,15480,15504,15528,15552,15624,15648,15672,15696,15720,15792,15816,15840,15864,15888,15960,15984,16008,16032,16056,16128,16152,16176,16200,16224,16296,16320,16344,16368,16392,16464,16488,16512,16536,16560,16632,16656,16680,16704,16728,16800,16824,16848,16872,16896,16968]\n",
    "WT = 11\n",
    "\n",
    "mdl = grb.Model(\"modelo\")\n",
    "\n",
    "x = mdl.addVars(indices, vtype=grb.GRB.BINARY, name='x')\n",
    "MAX = mdl.addVars(indices, vtype=grb.GRB.BINARY, name='y')\n",
    "\n",
    "mdl.Params.timeLimit=3600.0\n",
    "\n",
    "mdl.setObjective(sum(x[(i,j,k)] for i in N for j in M for k in N))\n",
    "\n",
    "mdl.addConstrs((sum(x[(i,j,k)] for j in M for k in N) <= 1 for i in N), name='B')\n",
    "\n",
    "mdl.addConstrs((sum(x[(i,j,k)]*p[i] for i in N) <= WT  for k in N for j in M), name='D')\n",
    "\n",
    "for i in N:\n",
    "    for j in M:\n",
    "        for k in range(i+1):      \n",
    "            mdl.addConstr(sum((x[(z,j,k)])*p[z] for z in range(i+1))+(t[k]*MAX[(i,j,k)]) <= d[i])\n",
    "\n",
    "for i in N:\n",
    "    for j in M:\n",
    "        for k in range(i+1):\n",
    "            for z in range(i+1):\n",
    "                mdl.addConstr(x[(z,j,k)] <=MAX[(i,j,k)])\n",
    "                \n",
    "mdl.ModelSense = grb.GRB.MAXIMIZE\n",
    "mdl.optimize()"
   ]
  },
  {
   "cell_type": "markdown",
   "metadata": {},
   "source": [
    "## Entrada de datos: Instancia 49x11"
   ]
  },
  {
   "cell_type": "code",
   "execution_count": 22,
   "metadata": {},
   "outputs": [
    {
     "data": {
      "text/plain": [
       "49"
      ]
     },
     "execution_count": 22,
     "metadata": {},
     "output_type": "execute_result"
    }
   ],
   "source": [
    "datafile=\"49x11.csv\"\n",
    "data=pd.DataFrame(pd.read_csv(datafile,sep=\";\"))\n",
    "\n",
    "data[\"JOB\"]=\"J\"+data[\"JOB\"].map(str)\n",
    "dictJobs={i:[data.set_index('JOB').to_dict()[\"Deadline\"][i],data.set_index('JOB').to_dict()[\"PT\"][i]] for i in data.set_index('JOB').to_dict()[\"Deadline\"].keys()}\n",
    "\n",
    "dictJobs=dict(sorted(dictJobs.items(), key=lambda item: item[1]))\n",
    "ordDict={}\n",
    "cont=0\n",
    "for i in dictJobs:\n",
    "    ordDict[cont]=[i,dictJobs[i][0],dictJobs[i][1]]\n",
    "    cont+=1\n",
    "len(dictJobs)"
   ]
  },
  {
   "cell_type": "code",
   "execution_count": 23,
   "metadata": {
    "scrolled": true
   },
   "outputs": [
    {
     "name": "stdout",
     "output_type": "stream",
     "text": [
      "Changed value of parameter timeLimit to 3600.0\n",
      "   Prev: inf  Min: 0.0  Max: inf  Default: inf\n",
      "Gurobi Optimizer version 9.1.1 build v9.1.1rc0 (win64)\n",
      "Thread count: 6 physical cores, 6 logical processors, using up to 6 threads\n",
      "Optimize a model with 83447 rows, 9604 columns and 254506 nonzeros\n",
      "Model fingerprint: 0x2a9eb126\n",
      "Variable types: 0 continuous, 9604 integer (9604 binary)\n",
      "Coefficient statistics:\n",
      "  Matrix range     [1e+00, 2e+03]\n",
      "  Objective range  [1e+00, 1e+00]\n",
      "  Bounds range     [1e+00, 1e+00]\n",
      "  RHS range        [1e+00, 3e+02]\n",
      "Found heuristic solution: objective -0.0000000\n",
      "Found heuristic solution: objective 7.0000000\n",
      "Presolve removed 83263 rows and 9026 columns\n",
      "Presolve time: 0.16s\n",
      "Presolved: 184 rows, 578 columns, 1682 nonzeros\n",
      "Variable types: 0 continuous, 578 integer (578 binary)\n",
      "\n",
      "Root relaxation: objective 4.800000e+01, 136 iterations, 0.00 seconds\n",
      "\n",
      "    Nodes    |    Current Node    |     Objective Bounds      |     Work\n",
      " Expl Unexpl |  Obj  Depth IntInf | Incumbent    BestBd   Gap | It/Node Time\n",
      "\n",
      "     0     0   48.00000    0    9    7.00000   48.00000   586%     -    0s\n",
      "H    0     0                      46.0000000   48.00000  4.35%     -    0s\n",
      "H    0     0                      47.0000000   48.00000  2.13%     -    0s\n",
      "H    0     0                      48.0000000   48.00000  0.00%     -    0s\n",
      "     0     0   48.00000    0   33   48.00000   48.00000  0.00%     -    0s\n",
      "\n",
      "Cutting planes:\n",
      "  Gomory: 3\n",
      "  Cover: 5\n",
      "  Clique: 1\n",
      "  MIR: 4\n",
      "  StrongCG: 5\n",
      "  GUB cover: 1\n",
      "  RLT: 4\n",
      "\n",
      "Explored 1 nodes (455 simplex iterations) in 0.32 seconds\n",
      "Thread count was 6 (of 6 available processors)\n",
      "\n",
      "Solution count 5: 48 47 46 ... -0\n",
      "\n",
      "Optimal solution found (tolerance 1.00e-04)\n",
      "Best objective 4.800000000000e+01, best bound 4.800000000000e+01, gap 0.0000%\n"
     ]
    }
   ],
   "source": [
    "p = []\n",
    "d = []\n",
    "for i in ordDict.keys():\n",
    "    p.append(ordDict[i][2])\n",
    "    d.append(ordDict[i][1])\n",
    "    \n",
    "ith = len(ordDict)\n",
    "jth = 2\n",
    "N = range(ith)\n",
    "M = range(jth)\n",
    "indices=[(i,j,k) for i in N for j in M for k in N]\n",
    "\n",
    "t =[0,24,48,72,96,168,192,216,240,264,336,360,384,408,432,504,528,552,576,600,672,696,720,744,768,840,864,888,912,936,1008,1032,1056,1080,1104,1176,1200,1224,1248,1272,1344,1368,1392,1416,1440,1512,1536,1560,1584,1608,1680,1704,1728,1752,1776,1848,1872,1896,1920,1944,2016,2040,2064,2088,2112,2184,2208,2232,2256,2280,2352,2376,2400,2424,2448,2520,2544,2568,2592,2616,2688,2712,2736,2760,2784,2856,2880,2904,2928,2952,3024,3048,3072,3096,3120,3192,3216,3240,3264,3288,3360,3384,3408,3432,3456,3528,3552,3576,3600,3624,3696,3720,3744,3768,3792,3864,3888,3912,3936,3960,4032,4056,4080,4104,4128,4200,4224,4248,4272,4296,4368,4392,4416,4440,4464,4536,4560,4584,4608,4632,4704,4728,4752,4776,4800,4872,4896,4920,4944,4968,5040,5064,5088,5112,5136,5208,5232,5256,5280,5304,5376,5400,5424,5448,5472,5544,5568,5592,5616,5640,5712,5736,5760,5784,5808,5880,5904,5928,5952,5976,6048,6072,6096,6120,6144,6216,6240,6264,6288,6312,6384,6408,6432,6456,6480,6552,6576,6600,6624,6648,6720,6744,6768,6792,6816,6888,6912,6936,6960,6984,7056,7080,7104,7128,7152,7224,7248,7272,7296,7320,7392,7416,7440,7464,7488,7560,7584,7608,7632,7656,7728,7752,7776,7800,7824,7896,7920,7944,7968,7992,8064,8088,8112,8136,8160,8232,8256,8280,8304,8328,8400,8424,8448,8472,8496,8568,8592,8616,8640,8664,8736,8760,8784,8808,8832,8904,8928,8952,8976,9000,9072,9096,9120,9144,9168,9240,9264,9288,9312,9336,9408,9432,9456,9480,9504,9576,9600,9624,9648,9672,9744,9768,9792,9816,9840,9912,9936,9960,9984,10008,10080,10104,10128,10152,10176,10248,10272,10296,10320,10344,10416,10440,10464,10488,10512,10584,10608,10632,10656,10680,10752,10776,10800,10824,10848,10920,10944,10968,10992,11016,11088,11112,11136,11160,11184,11256,11280,11304,11328,11352,11424,11448,11472,11496,11520,11592,11616,11640,11664,11688,11760,11784,11808,11832,11856,11928,11952,11976,12000,12024,12096,12120,12144,12168,12192,12264,12288,12312,12336,12360,12432,12456,12480,12504,12528,12600,12624,12648,12672,12696,12768,12792,12816,12840,12864,12936,12960,12984,13008,13032,13104,13128,13152,13176,13200,13272,13296,13320,13344,13368,13440,13464,13488,13512,13536,13608,13632,13656,13680,13704,13776,13800,13824,13848,13872,13944,13968,13992,14016,14040,14112,14136,14160,14184,14208,14280,14304,14328,14352,14376,14448,14472,14496,14520,14544,14616,14640,14664,14688,14712,14784,14808,14832,14856,14880,14952,14976,15000,15024,15048,15120,15144,15168,15192,15216,15288,15312,15336,15360,15384,15456,15480,15504,15528,15552,15624,15648,15672,15696,15720,15792,15816,15840,15864,15888,15960,15984,16008,16032,16056,16128,16152,16176,16200,16224,16296,16320,16344,16368,16392,16464,16488,16512,16536,16560,16632,16656,16680,16704,16728,16800,16824,16848,16872,16896,16968]\n",
    "WT = 11\n",
    "\n",
    "mdl = grb.Model(\"modelo\")\n",
    "\n",
    "x = mdl.addVars(indices, vtype=grb.GRB.BINARY, name='x')\n",
    "MAX = mdl.addVars(indices, vtype=grb.GRB.BINARY, name='y')\n",
    "\n",
    "mdl.Params.timeLimit=3600.0\n",
    "\n",
    "mdl.setObjective(sum(x[(i,j,k)] for i in N for j in M for k in N))\n",
    "\n",
    "mdl.addConstrs((sum(x[(i,j,k)] for j in M for k in N) <= 1 for i in N), name='B')\n",
    "\n",
    "mdl.addConstrs((sum(x[(i,j,k)]*p[i] for i in N) <= WT  for k in N for j in M), name='D')\n",
    "\n",
    "for i in N:\n",
    "    for j in M:\n",
    "        for k in range(i+1):      \n",
    "            mdl.addConstr(sum((x[(z,j,k)])*p[z] for z in range(i+1))+(t[k]*MAX[(i,j,k)]) <= d[i])\n",
    "\n",
    "for i in N:\n",
    "    for j in M:\n",
    "        for k in range(i+1):\n",
    "            for z in range(i+1):\n",
    "                mdl.addConstr(x[(z,j,k)] <=MAX[(i,j,k)])\n",
    "                \n",
    "mdl.ModelSense = grb.GRB.MAXIMIZE\n",
    "mdl.optimize()"
   ]
  },
  {
   "cell_type": "code",
   "execution_count": null,
   "metadata": {},
   "outputs": [],
   "source": []
  },
  {
   "cell_type": "markdown",
   "metadata": {},
   "source": [
    "## Entrada de datos: Instancia 49x12"
   ]
  },
  {
   "cell_type": "code",
   "execution_count": 24,
   "metadata": {},
   "outputs": [
    {
     "data": {
      "text/plain": [
       "49"
      ]
     },
     "execution_count": 24,
     "metadata": {},
     "output_type": "execute_result"
    }
   ],
   "source": [
    "datafile=\"49x12.csv\"\n",
    "data=pd.DataFrame(pd.read_csv(datafile,sep=\";\"))\n",
    "\n",
    "data[\"JOB\"]=\"J\"+data[\"JOB\"].map(str)\n",
    "dictJobs={i:[data.set_index('JOB').to_dict()[\"Deadline\"][i],data.set_index('JOB').to_dict()[\"PT\"][i]] for i in data.set_index('JOB').to_dict()[\"Deadline\"].keys()}\n",
    "\n",
    "dictJobs=dict(sorted(dictJobs.items(), key=lambda item: item[1]))\n",
    "ordDict={}\n",
    "cont=0\n",
    "for i in dictJobs:\n",
    "    ordDict[cont]=[i,dictJobs[i][0],dictJobs[i][1]]\n",
    "    cont+=1\n",
    "len(dictJobs)"
   ]
  },
  {
   "cell_type": "code",
   "execution_count": 25,
   "metadata": {},
   "outputs": [
    {
     "name": "stdout",
     "output_type": "stream",
     "text": [
      "Changed value of parameter timeLimit to 3600.0\n",
      "   Prev: inf  Min: 0.0  Max: inf  Default: inf\n",
      "Gurobi Optimizer version 9.1.1 build v9.1.1rc0 (win64)\n",
      "Thread count: 6 physical cores, 6 logical processors, using up to 6 threads\n",
      "Optimize a model with 83447 rows, 9604 columns and 254506 nonzeros\n",
      "Model fingerprint: 0xc925de3f\n",
      "Variable types: 0 continuous, 9604 integer (9604 binary)\n",
      "Coefficient statistics:\n",
      "  Matrix range     [1e+00, 2e+03]\n",
      "  Objective range  [1e+00, 1e+00]\n",
      "  Bounds range     [1e+00, 1e+00]\n",
      "  RHS range        [1e+00, 3e+02]\n",
      "Found heuristic solution: objective -0.0000000\n",
      "Found heuristic solution: objective 10.0000000\n",
      "Presolve removed 83253 rows and 9034 columns\n",
      "Presolve time: 0.20s\n",
      "Presolved: 194 rows, 570 columns, 1684 nonzeros\n",
      "Variable types: 0 continuous, 570 integer (570 binary)\n",
      "\n",
      "Root relaxation: objective 4.800000e+01, 93 iterations, 0.00 seconds\n",
      "\n",
      "    Nodes    |    Current Node    |     Objective Bounds      |     Work\n",
      " Expl Unexpl |  Obj  Depth IntInf | Incumbent    BestBd   Gap | It/Node Time\n",
      "\n",
      "H    0     0                      48.0000000  570.00000  1088%     -    0s\n",
      "     0     0          -    0        48.00000   48.00000  0.00%     -    0s\n",
      "\n",
      "Explored 0 nodes (211 simplex iterations) in 0.32 seconds\n",
      "Thread count was 6 (of 6 available processors)\n",
      "\n",
      "Solution count 3: 48 10 -0 \n",
      "\n",
      "Optimal solution found (tolerance 1.00e-04)\n",
      "Best objective 4.800000000000e+01, best bound 4.800000000000e+01, gap 0.0000%\n"
     ]
    }
   ],
   "source": [
    "p = []\n",
    "d = []\n",
    "for i in ordDict.keys():\n",
    "    p.append(ordDict[i][2])\n",
    "    d.append(ordDict[i][1])\n",
    "    \n",
    "ith = len(ordDict)\n",
    "jth = 2\n",
    "N = range(ith)\n",
    "M = range(jth)\n",
    "indices=[(i,j,k) for i in N for j in M for k in N]\n",
    "\n",
    "t =[0,24,48,72,96,168,192,216,240,264,336,360,384,408,432,504,528,552,576,600,672,696,720,744,768,840,864,888,912,936,1008,1032,1056,1080,1104,1176,1200,1224,1248,1272,1344,1368,1392,1416,1440,1512,1536,1560,1584,1608,1680,1704,1728,1752,1776,1848,1872,1896,1920,1944,2016,2040,2064,2088,2112,2184,2208,2232,2256,2280,2352,2376,2400,2424,2448,2520,2544,2568,2592,2616,2688,2712,2736,2760,2784,2856,2880,2904,2928,2952,3024,3048,3072,3096,3120,3192,3216,3240,3264,3288,3360,3384,3408,3432,3456,3528,3552,3576,3600,3624,3696,3720,3744,3768,3792,3864,3888,3912,3936,3960,4032,4056,4080,4104,4128,4200,4224,4248,4272,4296,4368,4392,4416,4440,4464,4536,4560,4584,4608,4632,4704,4728,4752,4776,4800,4872,4896,4920,4944,4968,5040,5064,5088,5112,5136,5208,5232,5256,5280,5304,5376,5400,5424,5448,5472,5544,5568,5592,5616,5640,5712,5736,5760,5784,5808,5880,5904,5928,5952,5976,6048,6072,6096,6120,6144,6216,6240,6264,6288,6312,6384,6408,6432,6456,6480,6552,6576,6600,6624,6648,6720,6744,6768,6792,6816,6888,6912,6936,6960,6984,7056,7080,7104,7128,7152,7224,7248,7272,7296,7320,7392,7416,7440,7464,7488,7560,7584,7608,7632,7656,7728,7752,7776,7800,7824,7896,7920,7944,7968,7992,8064,8088,8112,8136,8160,8232,8256,8280,8304,8328,8400,8424,8448,8472,8496,8568,8592,8616,8640,8664,8736,8760,8784,8808,8832,8904,8928,8952,8976,9000,9072,9096,9120,9144,9168,9240,9264,9288,9312,9336,9408,9432,9456,9480,9504,9576,9600,9624,9648,9672,9744,9768,9792,9816,9840,9912,9936,9960,9984,10008,10080,10104,10128,10152,10176,10248,10272,10296,10320,10344,10416,10440,10464,10488,10512,10584,10608,10632,10656,10680,10752,10776,10800,10824,10848,10920,10944,10968,10992,11016,11088,11112,11136,11160,11184,11256,11280,11304,11328,11352,11424,11448,11472,11496,11520,11592,11616,11640,11664,11688,11760,11784,11808,11832,11856,11928,11952,11976,12000,12024,12096,12120,12144,12168,12192,12264,12288,12312,12336,12360,12432,12456,12480,12504,12528,12600,12624,12648,12672,12696,12768,12792,12816,12840,12864,12936,12960,12984,13008,13032,13104,13128,13152,13176,13200,13272,13296,13320,13344,13368,13440,13464,13488,13512,13536,13608,13632,13656,13680,13704,13776,13800,13824,13848,13872,13944,13968,13992,14016,14040,14112,14136,14160,14184,14208,14280,14304,14328,14352,14376,14448,14472,14496,14520,14544,14616,14640,14664,14688,14712,14784,14808,14832,14856,14880,14952,14976,15000,15024,15048,15120,15144,15168,15192,15216,15288,15312,15336,15360,15384,15456,15480,15504,15528,15552,15624,15648,15672,15696,15720,15792,15816,15840,15864,15888,15960,15984,16008,16032,16056,16128,16152,16176,16200,16224,16296,16320,16344,16368,16392,16464,16488,16512,16536,16560,16632,16656,16680,16704,16728,16800,16824,16848,16872,16896,16968]\n",
    "WT = 11\n",
    "\n",
    "mdl = grb.Model(\"modelo\")\n",
    "\n",
    "x = mdl.addVars(indices, vtype=grb.GRB.BINARY, name='x')\n",
    "MAX = mdl.addVars(indices, vtype=grb.GRB.BINARY, name='y')\n",
    "\n",
    "mdl.Params.timeLimit=3600.0\n",
    "\n",
    "mdl.setObjective(sum(x[(i,j,k)] for i in N for j in M for k in N))\n",
    "\n",
    "mdl.addConstrs((sum(x[(i,j,k)] for j in M for k in N) <= 1 for i in N), name='B')\n",
    "\n",
    "mdl.addConstrs((sum(x[(i,j,k)]*p[i] for i in N) <= WT  for k in N for j in M), name='D')\n",
    "\n",
    "for i in N:\n",
    "    for j in M:\n",
    "        for k in range(i+1):      \n",
    "            mdl.addConstr(sum((x[(z,j,k)])*p[z] for z in range(i+1))+(t[k]*MAX[(i,j,k)]) <= d[i])\n",
    "\n",
    "for i in N:\n",
    "    for j in M:\n",
    "        for k in range(i+1):\n",
    "            for z in range(i+1):\n",
    "                mdl.addConstr(x[(z,j,k)] <=MAX[(i,j,k)])\n",
    "                \n",
    "mdl.ModelSense = grb.GRB.MAXIMIZE\n",
    "mdl.optimize()"
   ]
  },
  {
   "cell_type": "markdown",
   "metadata": {},
   "source": [
    "## Entrada de datos: Instancia 49x13"
   ]
  },
  {
   "cell_type": "code",
   "execution_count": 26,
   "metadata": {},
   "outputs": [
    {
     "data": {
      "text/plain": [
       "49"
      ]
     },
     "execution_count": 26,
     "metadata": {},
     "output_type": "execute_result"
    }
   ],
   "source": [
    "datafile=\"49x13.csv\"\n",
    "data=pd.DataFrame(pd.read_csv(datafile,sep=\";\"))\n",
    "\n",
    "data[\"JOB\"]=\"J\"+data[\"JOB\"].map(str)\n",
    "dictJobs={i:[data.set_index('JOB').to_dict()[\"Deadline\"][i],data.set_index('JOB').to_dict()[\"PT\"][i]] for i in data.set_index('JOB').to_dict()[\"Deadline\"].keys()}\n",
    "\n",
    "dictJobs=dict(sorted(dictJobs.items(), key=lambda item: item[1]))\n",
    "ordDict={}\n",
    "cont=0\n",
    "for i in dictJobs:\n",
    "    ordDict[cont]=[i,dictJobs[i][0],dictJobs[i][1]]\n",
    "    cont+=1\n",
    "len(dictJobs)"
   ]
  },
  {
   "cell_type": "code",
   "execution_count": 27,
   "metadata": {},
   "outputs": [
    {
     "name": "stdout",
     "output_type": "stream",
     "text": [
      "Changed value of parameter timeLimit to 3600.0\n",
      "   Prev: inf  Min: 0.0  Max: inf  Default: inf\n",
      "Gurobi Optimizer version 9.1.1 build v9.1.1rc0 (win64)\n",
      "Thread count: 6 physical cores, 6 logical processors, using up to 6 threads\n",
      "Optimize a model with 83447 rows, 9604 columns and 254506 nonzeros\n",
      "Model fingerprint: 0x331bd758\n",
      "Variable types: 0 continuous, 9604 integer (9604 binary)\n",
      "Coefficient statistics:\n",
      "  Matrix range     [1e+00, 2e+03]\n",
      "  Objective range  [1e+00, 1e+00]\n",
      "  Bounds range     [1e+00, 1e+00]\n",
      "  RHS range        [1e+00, 3e+02]\n",
      "Found heuristic solution: objective -0.0000000\n",
      "Found heuristic solution: objective 7.0000000\n",
      "Presolve removed 83196 rows and 8986 columns\n",
      "Presolve time: 0.18s\n",
      "Presolved: 251 rows, 618 columns, 1982 nonzeros\n",
      "Variable types: 0 continuous, 618 integer (618 binary)\n",
      "\n",
      "Root relaxation: objective 4.900000e+01, 105 iterations, 0.00 seconds\n",
      "\n",
      "    Nodes    |    Current Node    |     Objective Bounds      |     Work\n",
      " Expl Unexpl |  Obj  Depth IntInf | Incumbent    BestBd   Gap | It/Node Time\n",
      "\n",
      "H    0     0                      49.0000000  618.00000  1161%     -    0s\n",
      "     0     0          -    0        49.00000   49.00000  0.00%     -    0s\n",
      "\n",
      "Explored 0 nodes (239 simplex iterations) in 0.32 seconds\n",
      "Thread count was 6 (of 6 available processors)\n",
      "\n",
      "Solution count 3: 49 7 -0 \n",
      "\n",
      "Optimal solution found (tolerance 1.00e-04)\n",
      "Best objective 4.900000000000e+01, best bound 4.900000000000e+01, gap 0.0000%\n"
     ]
    }
   ],
   "source": [
    "p = []\n",
    "d = []\n",
    "for i in ordDict.keys():\n",
    "    p.append(ordDict[i][2])\n",
    "    d.append(ordDict[i][1])\n",
    "    \n",
    "ith = len(ordDict)\n",
    "jth = 2\n",
    "N = range(ith)\n",
    "M = range(jth)\n",
    "indices=[(i,j,k) for i in N for j in M for k in N]\n",
    "\n",
    "t =[0,24,48,72,96,168,192,216,240,264,336,360,384,408,432,504,528,552,576,600,672,696,720,744,768,840,864,888,912,936,1008,1032,1056,1080,1104,1176,1200,1224,1248,1272,1344,1368,1392,1416,1440,1512,1536,1560,1584,1608,1680,1704,1728,1752,1776,1848,1872,1896,1920,1944,2016,2040,2064,2088,2112,2184,2208,2232,2256,2280,2352,2376,2400,2424,2448,2520,2544,2568,2592,2616,2688,2712,2736,2760,2784,2856,2880,2904,2928,2952,3024,3048,3072,3096,3120,3192,3216,3240,3264,3288,3360,3384,3408,3432,3456,3528,3552,3576,3600,3624,3696,3720,3744,3768,3792,3864,3888,3912,3936,3960,4032,4056,4080,4104,4128,4200,4224,4248,4272,4296,4368,4392,4416,4440,4464,4536,4560,4584,4608,4632,4704,4728,4752,4776,4800,4872,4896,4920,4944,4968,5040,5064,5088,5112,5136,5208,5232,5256,5280,5304,5376,5400,5424,5448,5472,5544,5568,5592,5616,5640,5712,5736,5760,5784,5808,5880,5904,5928,5952,5976,6048,6072,6096,6120,6144,6216,6240,6264,6288,6312,6384,6408,6432,6456,6480,6552,6576,6600,6624,6648,6720,6744,6768,6792,6816,6888,6912,6936,6960,6984,7056,7080,7104,7128,7152,7224,7248,7272,7296,7320,7392,7416,7440,7464,7488,7560,7584,7608,7632,7656,7728,7752,7776,7800,7824,7896,7920,7944,7968,7992,8064,8088,8112,8136,8160,8232,8256,8280,8304,8328,8400,8424,8448,8472,8496,8568,8592,8616,8640,8664,8736,8760,8784,8808,8832,8904,8928,8952,8976,9000,9072,9096,9120,9144,9168,9240,9264,9288,9312,9336,9408,9432,9456,9480,9504,9576,9600,9624,9648,9672,9744,9768,9792,9816,9840,9912,9936,9960,9984,10008,10080,10104,10128,10152,10176,10248,10272,10296,10320,10344,10416,10440,10464,10488,10512,10584,10608,10632,10656,10680,10752,10776,10800,10824,10848,10920,10944,10968,10992,11016,11088,11112,11136,11160,11184,11256,11280,11304,11328,11352,11424,11448,11472,11496,11520,11592,11616,11640,11664,11688,11760,11784,11808,11832,11856,11928,11952,11976,12000,12024,12096,12120,12144,12168,12192,12264,12288,12312,12336,12360,12432,12456,12480,12504,12528,12600,12624,12648,12672,12696,12768,12792,12816,12840,12864,12936,12960,12984,13008,13032,13104,13128,13152,13176,13200,13272,13296,13320,13344,13368,13440,13464,13488,13512,13536,13608,13632,13656,13680,13704,13776,13800,13824,13848,13872,13944,13968,13992,14016,14040,14112,14136,14160,14184,14208,14280,14304,14328,14352,14376,14448,14472,14496,14520,14544,14616,14640,14664,14688,14712,14784,14808,14832,14856,14880,14952,14976,15000,15024,15048,15120,15144,15168,15192,15216,15288,15312,15336,15360,15384,15456,15480,15504,15528,15552,15624,15648,15672,15696,15720,15792,15816,15840,15864,15888,15960,15984,16008,16032,16056,16128,16152,16176,16200,16224,16296,16320,16344,16368,16392,16464,16488,16512,16536,16560,16632,16656,16680,16704,16728,16800,16824,16848,16872,16896,16968]\n",
    "WT = 11\n",
    "\n",
    "mdl = grb.Model(\"modelo\")\n",
    "\n",
    "x = mdl.addVars(indices, vtype=grb.GRB.BINARY, name='x')\n",
    "MAX = mdl.addVars(indices, vtype=grb.GRB.BINARY, name='y')\n",
    "\n",
    "mdl.Params.timeLimit=3600.0\n",
    "\n",
    "mdl.setObjective(sum(x[(i,j,k)] for i in N for j in M for k in N))\n",
    "\n",
    "mdl.addConstrs((sum(x[(i,j,k)] for j in M for k in N) <= 1 for i in N), name='B')\n",
    "\n",
    "mdl.addConstrs((sum(x[(i,j,k)]*p[i] for i in N) <= WT  for k in N for j in M), name='D')\n",
    "\n",
    "for i in N:\n",
    "    for j in M:\n",
    "        for k in range(i+1):      \n",
    "            mdl.addConstr(sum((x[(z,j,k)])*p[z] for z in range(i+1))+(t[k]*MAX[(i,j,k)]) <= d[i])\n",
    "\n",
    "for i in N:\n",
    "    for j in M:\n",
    "        for k in range(i+1):\n",
    "            for z in range(i+1):\n",
    "                mdl.addConstr(x[(z,j,k)] <=MAX[(i,j,k)])\n",
    "                \n",
    "mdl.ModelSense = grb.GRB.MAXIMIZE\n",
    "mdl.optimize()"
   ]
  },
  {
   "cell_type": "markdown",
   "metadata": {},
   "source": [
    "## Entrada de datos: Instancia 49x14"
   ]
  },
  {
   "cell_type": "code",
   "execution_count": 28,
   "metadata": {},
   "outputs": [
    {
     "data": {
      "text/plain": [
       "49"
      ]
     },
     "execution_count": 28,
     "metadata": {},
     "output_type": "execute_result"
    }
   ],
   "source": [
    "datafile=\"49x14.csv\"\n",
    "data=pd.DataFrame(pd.read_csv(datafile,sep=\";\"))\n",
    "\n",
    "data[\"JOB\"]=\"J\"+data[\"JOB\"].map(str)\n",
    "dictJobs={i:[data.set_index('JOB').to_dict()[\"Deadline\"][i],data.set_index('JOB').to_dict()[\"PT\"][i]] for i in data.set_index('JOB').to_dict()[\"Deadline\"].keys()}\n",
    "\n",
    "dictJobs=dict(sorted(dictJobs.items(), key=lambda item: item[1]))\n",
    "ordDict={}\n",
    "cont=0\n",
    "for i in dictJobs:\n",
    "    ordDict[cont]=[i,dictJobs[i][0],dictJobs[i][1]]\n",
    "    cont+=1\n",
    "len(dictJobs)"
   ]
  },
  {
   "cell_type": "code",
   "execution_count": 29,
   "metadata": {
    "scrolled": true
   },
   "outputs": [
    {
     "name": "stdout",
     "output_type": "stream",
     "text": [
      "Changed value of parameter timeLimit to 3600.0\n",
      "   Prev: inf  Min: 0.0  Max: inf  Default: inf\n",
      "Gurobi Optimizer version 9.1.1 build v9.1.1rc0 (win64)\n",
      "Thread count: 6 physical cores, 6 logical processors, using up to 6 threads\n",
      "Optimize a model with 83447 rows, 9604 columns and 254506 nonzeros\n",
      "Model fingerprint: 0xe2631a8f\n",
      "Variable types: 0 continuous, 9604 integer (9604 binary)\n",
      "Coefficient statistics:\n",
      "  Matrix range     [1e+00, 2e+03]\n",
      "  Objective range  [1e+00, 1e+00]\n",
      "  Bounds range     [1e+00, 1e+00]\n",
      "  RHS range        [1e+00, 3e+02]\n",
      "Found heuristic solution: objective -0.0000000\n",
      "Found heuristic solution: objective 8.0000000\n",
      "Presolve removed 83272 rows and 9064 columns\n",
      "Presolve time: 0.19s\n",
      "Presolved: 175 rows, 540 columns, 1510 nonzeros\n",
      "Variable types: 0 continuous, 540 integer (540 binary)\n",
      "\n",
      "Root relaxation: objective 4.822148e+01, 171 iterations, 0.00 seconds\n",
      "\n",
      "    Nodes    |    Current Node    |     Objective Bounds      |     Work\n",
      " Expl Unexpl |  Obj  Depth IntInf | Incumbent    BestBd   Gap | It/Node Time\n",
      "\n",
      "     0     0   48.22148    0   39    8.00000   48.22148   503%     -    0s\n",
      "H    0     0                      46.0000000   48.22148  4.83%     -    0s\n",
      "H    0     0                      47.0000000   48.22148  2.60%     -    0s\n",
      "     0     0   48.05171    0   47   47.00000   48.05171  2.24%     -    0s\n",
      "     0     0   48.05171    0   46   47.00000   48.05171  2.24%     -    0s\n",
      "     0     0   48.03040    0   28   47.00000   48.03040  2.19%     -    0s\n",
      "     0     0   48.00000    0   44   47.00000   48.00000  2.13%     -    0s\n",
      "     0     0   48.00000    0   61   47.00000   48.00000  2.13%     -    0s\n",
      "     0     0   48.00000    0   37   47.00000   48.00000  2.13%     -    0s\n",
      "     0     0   48.00000    0   41   47.00000   48.00000  2.13%     -    0s\n",
      "     0     0   48.00000    0   47   47.00000   48.00000  2.13%     -    0s\n",
      "     0     0   48.00000    0   35   47.00000   48.00000  2.13%     -    0s\n",
      "     0     0   48.00000    0   51   47.00000   48.00000  2.13%     -    0s\n",
      "     0     0   48.00000    0   35   47.00000   48.00000  2.13%     -    0s\n",
      "     0     0     cutoff    0        47.00000   47.00000  0.00%     -    0s\n",
      "\n",
      "Explored 1 nodes (2351 simplex iterations) in 0.76 seconds\n",
      "Thread count was 6 (of 6 available processors)\n",
      "\n",
      "Solution count 4: 47 46 8 -0 \n",
      "\n",
      "Optimal solution found (tolerance 1.00e-04)\n",
      "Best objective 4.700000000000e+01, best bound 4.700000000000e+01, gap 0.0000%\n"
     ]
    }
   ],
   "source": [
    "p = []\n",
    "d = []\n",
    "for i in ordDict.keys():\n",
    "    p.append(ordDict[i][2])\n",
    "    d.append(ordDict[i][1])\n",
    "    \n",
    "ith = len(ordDict)\n",
    "jth = 2\n",
    "N = range(ith)\n",
    "M = range(jth)\n",
    "indices=[(i,j,k) for i in N for j in M for k in N]\n",
    "\n",
    "t =[0,24,48,72,96,168,192,216,240,264,336,360,384,408,432,504,528,552,576,600,672,696,720,744,768,840,864,888,912,936,1008,1032,1056,1080,1104,1176,1200,1224,1248,1272,1344,1368,1392,1416,1440,1512,1536,1560,1584,1608,1680,1704,1728,1752,1776,1848,1872,1896,1920,1944,2016,2040,2064,2088,2112,2184,2208,2232,2256,2280,2352,2376,2400,2424,2448,2520,2544,2568,2592,2616,2688,2712,2736,2760,2784,2856,2880,2904,2928,2952,3024,3048,3072,3096,3120,3192,3216,3240,3264,3288,3360,3384,3408,3432,3456,3528,3552,3576,3600,3624,3696,3720,3744,3768,3792,3864,3888,3912,3936,3960,4032,4056,4080,4104,4128,4200,4224,4248,4272,4296,4368,4392,4416,4440,4464,4536,4560,4584,4608,4632,4704,4728,4752,4776,4800,4872,4896,4920,4944,4968,5040,5064,5088,5112,5136,5208,5232,5256,5280,5304,5376,5400,5424,5448,5472,5544,5568,5592,5616,5640,5712,5736,5760,5784,5808,5880,5904,5928,5952,5976,6048,6072,6096,6120,6144,6216,6240,6264,6288,6312,6384,6408,6432,6456,6480,6552,6576,6600,6624,6648,6720,6744,6768,6792,6816,6888,6912,6936,6960,6984,7056,7080,7104,7128,7152,7224,7248,7272,7296,7320,7392,7416,7440,7464,7488,7560,7584,7608,7632,7656,7728,7752,7776,7800,7824,7896,7920,7944,7968,7992,8064,8088,8112,8136,8160,8232,8256,8280,8304,8328,8400,8424,8448,8472,8496,8568,8592,8616,8640,8664,8736,8760,8784,8808,8832,8904,8928,8952,8976,9000,9072,9096,9120,9144,9168,9240,9264,9288,9312,9336,9408,9432,9456,9480,9504,9576,9600,9624,9648,9672,9744,9768,9792,9816,9840,9912,9936,9960,9984,10008,10080,10104,10128,10152,10176,10248,10272,10296,10320,10344,10416,10440,10464,10488,10512,10584,10608,10632,10656,10680,10752,10776,10800,10824,10848,10920,10944,10968,10992,11016,11088,11112,11136,11160,11184,11256,11280,11304,11328,11352,11424,11448,11472,11496,11520,11592,11616,11640,11664,11688,11760,11784,11808,11832,11856,11928,11952,11976,12000,12024,12096,12120,12144,12168,12192,12264,12288,12312,12336,12360,12432,12456,12480,12504,12528,12600,12624,12648,12672,12696,12768,12792,12816,12840,12864,12936,12960,12984,13008,13032,13104,13128,13152,13176,13200,13272,13296,13320,13344,13368,13440,13464,13488,13512,13536,13608,13632,13656,13680,13704,13776,13800,13824,13848,13872,13944,13968,13992,14016,14040,14112,14136,14160,14184,14208,14280,14304,14328,14352,14376,14448,14472,14496,14520,14544,14616,14640,14664,14688,14712,14784,14808,14832,14856,14880,14952,14976,15000,15024,15048,15120,15144,15168,15192,15216,15288,15312,15336,15360,15384,15456,15480,15504,15528,15552,15624,15648,15672,15696,15720,15792,15816,15840,15864,15888,15960,15984,16008,16032,16056,16128,16152,16176,16200,16224,16296,16320,16344,16368,16392,16464,16488,16512,16536,16560,16632,16656,16680,16704,16728,16800,16824,16848,16872,16896,16968]\n",
    "WT = 11\n",
    "\n",
    "mdl = grb.Model(\"modelo\")\n",
    "\n",
    "x = mdl.addVars(indices, vtype=grb.GRB.BINARY, name='x')\n",
    "MAX = mdl.addVars(indices, vtype=grb.GRB.BINARY, name='y')\n",
    "\n",
    "mdl.Params.timeLimit=3600.0\n",
    "\n",
    "mdl.setObjective(sum(x[(i,j,k)] for i in N for j in M for k in N))\n",
    "\n",
    "mdl.addConstrs((sum(x[(i,j,k)] for j in M for k in N) <= 1 for i in N), name='B')\n",
    "\n",
    "mdl.addConstrs((sum(x[(i,j,k)]*p[i] for i in N) <= WT  for k in N for j in M), name='D')\n",
    "\n",
    "for i in N:\n",
    "    for j in M:\n",
    "        for k in range(i+1):      \n",
    "            mdl.addConstr(sum((x[(z,j,k)])*p[z] for z in range(i+1))+(t[k]*MAX[(i,j,k)]) <= d[i])\n",
    "\n",
    "for i in N:\n",
    "    for j in M:\n",
    "        for k in range(i+1):\n",
    "            for z in range(i+1):\n",
    "                mdl.addConstr(x[(z,j,k)] <=MAX[(i,j,k)])\n",
    "                \n",
    "mdl.ModelSense = grb.GRB.MAXIMIZE\n",
    "mdl.optimize()"
   ]
  },
  {
   "cell_type": "markdown",
   "metadata": {},
   "source": [
    "## Entrada de datos: Instancia 49x15"
   ]
  },
  {
   "cell_type": "code",
   "execution_count": 30,
   "metadata": {},
   "outputs": [
    {
     "data": {
      "text/plain": [
       "49"
      ]
     },
     "execution_count": 30,
     "metadata": {},
     "output_type": "execute_result"
    }
   ],
   "source": [
    "datafile=\"49x15.csv\"\n",
    "data=pd.DataFrame(pd.read_csv(datafile,sep=\";\"))\n",
    "\n",
    "data[\"JOB\"]=\"J\"+data[\"JOB\"].map(str)\n",
    "dictJobs={i:[data.set_index('JOB').to_dict()[\"Deadline\"][i],data.set_index('JOB').to_dict()[\"PT\"][i]] for i in data.set_index('JOB').to_dict()[\"Deadline\"].keys()}\n",
    "\n",
    "dictJobs=dict(sorted(dictJobs.items(), key=lambda item: item[1]))\n",
    "ordDict={}\n",
    "cont=0\n",
    "for i in dictJobs:\n",
    "    ordDict[cont]=[i,dictJobs[i][0],dictJobs[i][1]]\n",
    "    cont+=1\n",
    "len(dictJobs)"
   ]
  },
  {
   "cell_type": "code",
   "execution_count": 31,
   "metadata": {
    "scrolled": true
   },
   "outputs": [
    {
     "name": "stdout",
     "output_type": "stream",
     "text": [
      "Changed value of parameter timeLimit to 3600.0\n",
      "   Prev: inf  Min: 0.0  Max: inf  Default: inf\n",
      "Gurobi Optimizer version 9.1.1 build v9.1.1rc0 (win64)\n",
      "Thread count: 6 physical cores, 6 logical processors, using up to 6 threads\n",
      "Optimize a model with 83447 rows, 9604 columns and 254506 nonzeros\n",
      "Model fingerprint: 0x3271d8b8\n",
      "Variable types: 0 continuous, 9604 integer (9604 binary)\n",
      "Coefficient statistics:\n",
      "  Matrix range     [1e+00, 2e+03]\n",
      "  Objective range  [1e+00, 1e+00]\n",
      "  Bounds range     [1e+00, 1e+00]\n",
      "  RHS range        [1e+00, 3e+02]\n",
      "Found heuristic solution: objective -0.0000000\n",
      "Found heuristic solution: objective 10.0000000\n",
      "Presolve removed 83230 rows and 9012 columns\n",
      "Presolve time: 0.12s\n",
      "Presolved: 217 rows, 592 columns, 1796 nonzeros\n",
      "Variable types: 0 continuous, 592 integer (592 binary)\n",
      "\n",
      "Root relaxation: objective 4.900000e+01, 107 iterations, 0.00 seconds\n",
      "\n",
      "    Nodes    |    Current Node    |     Objective Bounds      |     Work\n",
      " Expl Unexpl |  Obj  Depth IntInf | Incumbent    BestBd   Gap | It/Node Time\n",
      "\n",
      "H    0     0                      49.0000000  592.00000  1108%     -    0s\n",
      "     0     0          -    0        49.00000   49.00000  0.00%     -    0s\n",
      "\n",
      "Explored 0 nodes (199 simplex iterations) in 0.16 seconds\n",
      "Thread count was 6 (of 6 available processors)\n",
      "\n",
      "Solution count 3: 49 10 -0 \n",
      "\n",
      "Optimal solution found (tolerance 1.00e-04)\n",
      "Best objective 4.900000000000e+01, best bound 4.900000000000e+01, gap 0.0000%\n"
     ]
    }
   ],
   "source": [
    "p = []\n",
    "d = []\n",
    "for i in ordDict.keys():\n",
    "    p.append(ordDict[i][2])\n",
    "    d.append(ordDict[i][1])\n",
    "    \n",
    "ith = len(ordDict)\n",
    "jth = 2\n",
    "N = range(ith)\n",
    "M = range(jth)\n",
    "indices=[(i,j,k) for i in N for j in M for k in N]\n",
    "\n",
    "t =[0,24,48,72,96,168,192,216,240,264,336,360,384,408,432,504,528,552,576,600,672,696,720,744,768,840,864,888,912,936,1008,1032,1056,1080,1104,1176,1200,1224,1248,1272,1344,1368,1392,1416,1440,1512,1536,1560,1584,1608,1680,1704,1728,1752,1776,1848,1872,1896,1920,1944,2016,2040,2064,2088,2112,2184,2208,2232,2256,2280,2352,2376,2400,2424,2448,2520,2544,2568,2592,2616,2688,2712,2736,2760,2784,2856,2880,2904,2928,2952,3024,3048,3072,3096,3120,3192,3216,3240,3264,3288,3360,3384,3408,3432,3456,3528,3552,3576,3600,3624,3696,3720,3744,3768,3792,3864,3888,3912,3936,3960,4032,4056,4080,4104,4128,4200,4224,4248,4272,4296,4368,4392,4416,4440,4464,4536,4560,4584,4608,4632,4704,4728,4752,4776,4800,4872,4896,4920,4944,4968,5040,5064,5088,5112,5136,5208,5232,5256,5280,5304,5376,5400,5424,5448,5472,5544,5568,5592,5616,5640,5712,5736,5760,5784,5808,5880,5904,5928,5952,5976,6048,6072,6096,6120,6144,6216,6240,6264,6288,6312,6384,6408,6432,6456,6480,6552,6576,6600,6624,6648,6720,6744,6768,6792,6816,6888,6912,6936,6960,6984,7056,7080,7104,7128,7152,7224,7248,7272,7296,7320,7392,7416,7440,7464,7488,7560,7584,7608,7632,7656,7728,7752,7776,7800,7824,7896,7920,7944,7968,7992,8064,8088,8112,8136,8160,8232,8256,8280,8304,8328,8400,8424,8448,8472,8496,8568,8592,8616,8640,8664,8736,8760,8784,8808,8832,8904,8928,8952,8976,9000,9072,9096,9120,9144,9168,9240,9264,9288,9312,9336,9408,9432,9456,9480,9504,9576,9600,9624,9648,9672,9744,9768,9792,9816,9840,9912,9936,9960,9984,10008,10080,10104,10128,10152,10176,10248,10272,10296,10320,10344,10416,10440,10464,10488,10512,10584,10608,10632,10656,10680,10752,10776,10800,10824,10848,10920,10944,10968,10992,11016,11088,11112,11136,11160,11184,11256,11280,11304,11328,11352,11424,11448,11472,11496,11520,11592,11616,11640,11664,11688,11760,11784,11808,11832,11856,11928,11952,11976,12000,12024,12096,12120,12144,12168,12192,12264,12288,12312,12336,12360,12432,12456,12480,12504,12528,12600,12624,12648,12672,12696,12768,12792,12816,12840,12864,12936,12960,12984,13008,13032,13104,13128,13152,13176,13200,13272,13296,13320,13344,13368,13440,13464,13488,13512,13536,13608,13632,13656,13680,13704,13776,13800,13824,13848,13872,13944,13968,13992,14016,14040,14112,14136,14160,14184,14208,14280,14304,14328,14352,14376,14448,14472,14496,14520,14544,14616,14640,14664,14688,14712,14784,14808,14832,14856,14880,14952,14976,15000,15024,15048,15120,15144,15168,15192,15216,15288,15312,15336,15360,15384,15456,15480,15504,15528,15552,15624,15648,15672,15696,15720,15792,15816,15840,15864,15888,15960,15984,16008,16032,16056,16128,16152,16176,16200,16224,16296,16320,16344,16368,16392,16464,16488,16512,16536,16560,16632,16656,16680,16704,16728,16800,16824,16848,16872,16896,16968]\n",
    "WT = 11\n",
    "\n",
    "mdl = grb.Model(\"modelo\")\n",
    "\n",
    "x = mdl.addVars(indices, vtype=grb.GRB.BINARY, name='x')\n",
    "MAX = mdl.addVars(indices, vtype=grb.GRB.BINARY, name='y')\n",
    "\n",
    "mdl.Params.timeLimit=3600.0\n",
    "\n",
    "mdl.setObjective(sum(x[(i,j,k)] for i in N for j in M for k in N))\n",
    "\n",
    "mdl.addConstrs((sum(x[(i,j,k)] for j in M for k in N) <= 1 for i in N), name='B')\n",
    "\n",
    "mdl.addConstrs((sum(x[(i,j,k)]*p[i] for i in N) <= WT  for k in N for j in M), name='D')\n",
    "\n",
    "for i in N:\n",
    "    for j in M:\n",
    "        for k in range(i+1):      \n",
    "            mdl.addConstr(sum((x[(z,j,k)])*p[z] for z in range(i+1))+(t[k]*MAX[(i,j,k)]) <= d[i])\n",
    "\n",
    "for i in N:\n",
    "    for j in M:\n",
    "        for k in range(i+1):\n",
    "            for z in range(i+1):\n",
    "                mdl.addConstr(x[(z,j,k)] <=MAX[(i,j,k)])\n",
    "                \n",
    "mdl.ModelSense = grb.GRB.MAXIMIZE\n",
    "mdl.optimize()"
   ]
  },
  {
   "cell_type": "markdown",
   "metadata": {},
   "source": [
    "## Entrada de datos: Instancia 49x16"
   ]
  },
  {
   "cell_type": "code",
   "execution_count": 32,
   "metadata": {},
   "outputs": [
    {
     "data": {
      "text/plain": [
       "49"
      ]
     },
     "execution_count": 32,
     "metadata": {},
     "output_type": "execute_result"
    }
   ],
   "source": [
    "datafile=\"49x16.csv\"\n",
    "data=pd.DataFrame(pd.read_csv(datafile,sep=\";\"))\n",
    "\n",
    "data[\"JOB\"]=\"J\"+data[\"JOB\"].map(str)\n",
    "dictJobs={i:[data.set_index('JOB').to_dict()[\"Deadline\"][i],data.set_index('JOB').to_dict()[\"PT\"][i]] for i in data.set_index('JOB').to_dict()[\"Deadline\"].keys()}\n",
    "\n",
    "dictJobs=dict(sorted(dictJobs.items(), key=lambda item: item[1]))\n",
    "ordDict={}\n",
    "cont=0\n",
    "for i in dictJobs:\n",
    "    ordDict[cont]=[i,dictJobs[i][0],dictJobs[i][1]]\n",
    "    cont+=1\n",
    "len(dictJobs)"
   ]
  },
  {
   "cell_type": "code",
   "execution_count": 33,
   "metadata": {
    "scrolled": true
   },
   "outputs": [
    {
     "name": "stdout",
     "output_type": "stream",
     "text": [
      "Changed value of parameter timeLimit to 3600.0\n",
      "   Prev: inf  Min: 0.0  Max: inf  Default: inf\n",
      "Gurobi Optimizer version 9.1.1 build v9.1.1rc0 (win64)\n",
      "Thread count: 6 physical cores, 6 logical processors, using up to 6 threads\n",
      "Optimize a model with 83447 rows, 9604 columns and 254506 nonzeros\n",
      "Model fingerprint: 0x31630d31\n",
      "Variable types: 0 continuous, 9604 integer (9604 binary)\n",
      "Coefficient statistics:\n",
      "  Matrix range     [1e+00, 2e+03]\n",
      "  Objective range  [1e+00, 1e+00]\n",
      "  Bounds range     [1e+00, 1e+00]\n",
      "  RHS range        [1e+00, 3e+02]\n",
      "Found heuristic solution: objective -0.0000000\n",
      "Found heuristic solution: objective 7.0000000\n",
      "Presolve removed 83236 rows and 9004 columns\n",
      "Presolve time: 0.27s\n",
      "Presolved: 211 rows, 600 columns, 1810 nonzeros\n",
      "Variable types: 0 continuous, 600 integer (600 binary)\n",
      "\n",
      "Root relaxation: objective 4.900000e+01, 168 iterations, 0.00 seconds\n",
      "\n",
      "    Nodes    |    Current Node    |     Objective Bounds      |     Work\n",
      " Expl Unexpl |  Obj  Depth IntInf | Incumbent    BestBd   Gap | It/Node Time\n",
      "\n",
      "H    0     0                      49.0000000  600.00000  1124%     -    0s\n",
      "     0     0          -    0        49.00000   49.00000  0.00%     -    0s\n",
      "\n",
      "Explored 0 nodes (313 simplex iterations) in 0.34 seconds\n",
      "Thread count was 6 (of 6 available processors)\n",
      "\n",
      "Solution count 3: 49 7 -0 \n",
      "\n",
      "Optimal solution found (tolerance 1.00e-04)\n",
      "Best objective 4.900000000000e+01, best bound 4.900000000000e+01, gap 0.0000%\n"
     ]
    }
   ],
   "source": [
    "p = []\n",
    "d = []\n",
    "for i in ordDict.keys():\n",
    "    p.append(ordDict[i][2])\n",
    "    d.append(ordDict[i][1])\n",
    "    \n",
    "ith = len(ordDict)\n",
    "jth = 2\n",
    "N = range(ith)\n",
    "M = range(jth)\n",
    "indices=[(i,j,k) for i in N for j in M for k in N]\n",
    "\n",
    "t =[0,24,48,72,96,168,192,216,240,264,336,360,384,408,432,504,528,552,576,600,672,696,720,744,768,840,864,888,912,936,1008,1032,1056,1080,1104,1176,1200,1224,1248,1272,1344,1368,1392,1416,1440,1512,1536,1560,1584,1608,1680,1704,1728,1752,1776,1848,1872,1896,1920,1944,2016,2040,2064,2088,2112,2184,2208,2232,2256,2280,2352,2376,2400,2424,2448,2520,2544,2568,2592,2616,2688,2712,2736,2760,2784,2856,2880,2904,2928,2952,3024,3048,3072,3096,3120,3192,3216,3240,3264,3288,3360,3384,3408,3432,3456,3528,3552,3576,3600,3624,3696,3720,3744,3768,3792,3864,3888,3912,3936,3960,4032,4056,4080,4104,4128,4200,4224,4248,4272,4296,4368,4392,4416,4440,4464,4536,4560,4584,4608,4632,4704,4728,4752,4776,4800,4872,4896,4920,4944,4968,5040,5064,5088,5112,5136,5208,5232,5256,5280,5304,5376,5400,5424,5448,5472,5544,5568,5592,5616,5640,5712,5736,5760,5784,5808,5880,5904,5928,5952,5976,6048,6072,6096,6120,6144,6216,6240,6264,6288,6312,6384,6408,6432,6456,6480,6552,6576,6600,6624,6648,6720,6744,6768,6792,6816,6888,6912,6936,6960,6984,7056,7080,7104,7128,7152,7224,7248,7272,7296,7320,7392,7416,7440,7464,7488,7560,7584,7608,7632,7656,7728,7752,7776,7800,7824,7896,7920,7944,7968,7992,8064,8088,8112,8136,8160,8232,8256,8280,8304,8328,8400,8424,8448,8472,8496,8568,8592,8616,8640,8664,8736,8760,8784,8808,8832,8904,8928,8952,8976,9000,9072,9096,9120,9144,9168,9240,9264,9288,9312,9336,9408,9432,9456,9480,9504,9576,9600,9624,9648,9672,9744,9768,9792,9816,9840,9912,9936,9960,9984,10008,10080,10104,10128,10152,10176,10248,10272,10296,10320,10344,10416,10440,10464,10488,10512,10584,10608,10632,10656,10680,10752,10776,10800,10824,10848,10920,10944,10968,10992,11016,11088,11112,11136,11160,11184,11256,11280,11304,11328,11352,11424,11448,11472,11496,11520,11592,11616,11640,11664,11688,11760,11784,11808,11832,11856,11928,11952,11976,12000,12024,12096,12120,12144,12168,12192,12264,12288,12312,12336,12360,12432,12456,12480,12504,12528,12600,12624,12648,12672,12696,12768,12792,12816,12840,12864,12936,12960,12984,13008,13032,13104,13128,13152,13176,13200,13272,13296,13320,13344,13368,13440,13464,13488,13512,13536,13608,13632,13656,13680,13704,13776,13800,13824,13848,13872,13944,13968,13992,14016,14040,14112,14136,14160,14184,14208,14280,14304,14328,14352,14376,14448,14472,14496,14520,14544,14616,14640,14664,14688,14712,14784,14808,14832,14856,14880,14952,14976,15000,15024,15048,15120,15144,15168,15192,15216,15288,15312,15336,15360,15384,15456,15480,15504,15528,15552,15624,15648,15672,15696,15720,15792,15816,15840,15864,15888,15960,15984,16008,16032,16056,16128,16152,16176,16200,16224,16296,16320,16344,16368,16392,16464,16488,16512,16536,16560,16632,16656,16680,16704,16728,16800,16824,16848,16872,16896,16968]\n",
    "WT = 11\n",
    "\n",
    "mdl = grb.Model(\"modelo\")\n",
    "\n",
    "x = mdl.addVars(indices, vtype=grb.GRB.BINARY, name='x')\n",
    "MAX = mdl.addVars(indices, vtype=grb.GRB.BINARY, name='y')\n",
    "\n",
    "mdl.Params.timeLimit=3600.0\n",
    "\n",
    "mdl.setObjective(sum(x[(i,j,k)] for i in N for j in M for k in N))\n",
    "\n",
    "mdl.addConstrs((sum(x[(i,j,k)] for j in M for k in N) <= 1 for i in N), name='B')\n",
    "\n",
    "mdl.addConstrs((sum(x[(i,j,k)]*p[i] for i in N) <= WT  for k in N for j in M), name='D')\n",
    "\n",
    "for i in N:\n",
    "    for j in M:\n",
    "        for k in range(i+1):      \n",
    "            mdl.addConstr(sum((x[(z,j,k)])*p[z] for z in range(i+1))+(t[k]*MAX[(i,j,k)]) <= d[i])\n",
    "\n",
    "for i in N:\n",
    "    for j in M:\n",
    "        for k in range(i+1):\n",
    "            for z in range(i+1):\n",
    "                mdl.addConstr(x[(z,j,k)] <=MAX[(i,j,k)])\n",
    "                \n",
    "mdl.ModelSense = grb.GRB.MAXIMIZE\n",
    "mdl.optimize()"
   ]
  },
  {
   "cell_type": "markdown",
   "metadata": {},
   "source": [
    "## Entrada de datos: Instancia 49x17"
   ]
  },
  {
   "cell_type": "code",
   "execution_count": 34,
   "metadata": {},
   "outputs": [
    {
     "data": {
      "text/plain": [
       "49"
      ]
     },
     "execution_count": 34,
     "metadata": {},
     "output_type": "execute_result"
    }
   ],
   "source": [
    "datafile=\"49x17.csv\"\n",
    "data=pd.DataFrame(pd.read_csv(datafile,sep=\";\"))\n",
    "\n",
    "data[\"JOB\"]=\"J\"+data[\"JOB\"].map(str)\n",
    "dictJobs={i:[data.set_index('JOB').to_dict()[\"Deadline\"][i],data.set_index('JOB').to_dict()[\"PT\"][i]] for i in data.set_index('JOB').to_dict()[\"Deadline\"].keys()}\n",
    "\n",
    "dictJobs=dict(sorted(dictJobs.items(), key=lambda item: item[1]))\n",
    "ordDict={}\n",
    "cont=0\n",
    "for i in dictJobs:\n",
    "    ordDict[cont]=[i,dictJobs[i][0],dictJobs[i][1]]\n",
    "    cont+=1\n",
    "len(dictJobs)"
   ]
  },
  {
   "cell_type": "code",
   "execution_count": 35,
   "metadata": {
    "scrolled": true
   },
   "outputs": [
    {
     "name": "stdout",
     "output_type": "stream",
     "text": [
      "Changed value of parameter timeLimit to 3600.0\n",
      "   Prev: inf  Min: 0.0  Max: inf  Default: inf\n",
      "Gurobi Optimizer version 9.1.1 build v9.1.1rc0 (win64)\n",
      "Thread count: 6 physical cores, 6 logical processors, using up to 6 threads\n",
      "Optimize a model with 83447 rows, 9604 columns and 254506 nonzeros\n",
      "Model fingerprint: 0xb6127c2a\n",
      "Variable types: 0 continuous, 9604 integer (9604 binary)\n",
      "Coefficient statistics:\n",
      "  Matrix range     [1e+00, 2e+03]\n",
      "  Objective range  [1e+00, 1e+00]\n",
      "  Bounds range     [1e+00, 1e+00]\n",
      "  RHS range        [1e+00, 3e+02]\n",
      "Found heuristic solution: objective -0.0000000\n",
      "Found heuristic solution: objective 9.0000000\n",
      "Presolve removed 83308 rows and 9061 columns\n",
      "Presolve time: 0.17s\n",
      "Presolved: 139 rows, 543 columns, 1424 nonzeros\n",
      "Variable types: 0 continuous, 543 integer (543 binary)\n",
      "\n",
      "Root relaxation: objective 4.600000e+01, 89 iterations, 0.00 seconds\n",
      "\n",
      "    Nodes    |    Current Node    |     Objective Bounds      |     Work\n",
      " Expl Unexpl |  Obj  Depth IntInf | Incumbent    BestBd   Gap | It/Node Time\n",
      "\n",
      "H    0     0                      46.0000000  542.00000  1078%     -    0s\n",
      "     0     0          -    0        46.00000   46.00000  0.00%     -    0s\n",
      "\n",
      "Explored 0 nodes (219 simplex iterations) in 0.30 seconds\n",
      "Thread count was 6 (of 6 available processors)\n",
      "\n",
      "Solution count 3: 46 9 -0 \n",
      "\n",
      "Optimal solution found (tolerance 1.00e-04)\n",
      "Best objective 4.600000000000e+01, best bound 4.600000000000e+01, gap 0.0000%\n"
     ]
    }
   ],
   "source": [
    "p = []\n",
    "d = []\n",
    "for i in ordDict.keys():\n",
    "    p.append(ordDict[i][2])\n",
    "    d.append(ordDict[i][1])\n",
    "    \n",
    "ith = len(ordDict)\n",
    "jth = 2\n",
    "N = range(ith)\n",
    "M = range(jth)\n",
    "indices=[(i,j,k) for i in N for j in M for k in N]\n",
    "\n",
    "t =[0,24,48,72,96,168,192,216,240,264,336,360,384,408,432,504,528,552,576,600,672,696,720,744,768,840,864,888,912,936,1008,1032,1056,1080,1104,1176,1200,1224,1248,1272,1344,1368,1392,1416,1440,1512,1536,1560,1584,1608,1680,1704,1728,1752,1776,1848,1872,1896,1920,1944,2016,2040,2064,2088,2112,2184,2208,2232,2256,2280,2352,2376,2400,2424,2448,2520,2544,2568,2592,2616,2688,2712,2736,2760,2784,2856,2880,2904,2928,2952,3024,3048,3072,3096,3120,3192,3216,3240,3264,3288,3360,3384,3408,3432,3456,3528,3552,3576,3600,3624,3696,3720,3744,3768,3792,3864,3888,3912,3936,3960,4032,4056,4080,4104,4128,4200,4224,4248,4272,4296,4368,4392,4416,4440,4464,4536,4560,4584,4608,4632,4704,4728,4752,4776,4800,4872,4896,4920,4944,4968,5040,5064,5088,5112,5136,5208,5232,5256,5280,5304,5376,5400,5424,5448,5472,5544,5568,5592,5616,5640,5712,5736,5760,5784,5808,5880,5904,5928,5952,5976,6048,6072,6096,6120,6144,6216,6240,6264,6288,6312,6384,6408,6432,6456,6480,6552,6576,6600,6624,6648,6720,6744,6768,6792,6816,6888,6912,6936,6960,6984,7056,7080,7104,7128,7152,7224,7248,7272,7296,7320,7392,7416,7440,7464,7488,7560,7584,7608,7632,7656,7728,7752,7776,7800,7824,7896,7920,7944,7968,7992,8064,8088,8112,8136,8160,8232,8256,8280,8304,8328,8400,8424,8448,8472,8496,8568,8592,8616,8640,8664,8736,8760,8784,8808,8832,8904,8928,8952,8976,9000,9072,9096,9120,9144,9168,9240,9264,9288,9312,9336,9408,9432,9456,9480,9504,9576,9600,9624,9648,9672,9744,9768,9792,9816,9840,9912,9936,9960,9984,10008,10080,10104,10128,10152,10176,10248,10272,10296,10320,10344,10416,10440,10464,10488,10512,10584,10608,10632,10656,10680,10752,10776,10800,10824,10848,10920,10944,10968,10992,11016,11088,11112,11136,11160,11184,11256,11280,11304,11328,11352,11424,11448,11472,11496,11520,11592,11616,11640,11664,11688,11760,11784,11808,11832,11856,11928,11952,11976,12000,12024,12096,12120,12144,12168,12192,12264,12288,12312,12336,12360,12432,12456,12480,12504,12528,12600,12624,12648,12672,12696,12768,12792,12816,12840,12864,12936,12960,12984,13008,13032,13104,13128,13152,13176,13200,13272,13296,13320,13344,13368,13440,13464,13488,13512,13536,13608,13632,13656,13680,13704,13776,13800,13824,13848,13872,13944,13968,13992,14016,14040,14112,14136,14160,14184,14208,14280,14304,14328,14352,14376,14448,14472,14496,14520,14544,14616,14640,14664,14688,14712,14784,14808,14832,14856,14880,14952,14976,15000,15024,15048,15120,15144,15168,15192,15216,15288,15312,15336,15360,15384,15456,15480,15504,15528,15552,15624,15648,15672,15696,15720,15792,15816,15840,15864,15888,15960,15984,16008,16032,16056,16128,16152,16176,16200,16224,16296,16320,16344,16368,16392,16464,16488,16512,16536,16560,16632,16656,16680,16704,16728,16800,16824,16848,16872,16896,16968]\n",
    "WT = 11\n",
    "\n",
    "mdl = grb.Model(\"modelo\")\n",
    "\n",
    "x = mdl.addVars(indices, vtype=grb.GRB.BINARY, name='x')\n",
    "MAX = mdl.addVars(indices, vtype=grb.GRB.BINARY, name='y')\n",
    "\n",
    "mdl.Params.timeLimit=3600.0\n",
    "\n",
    "mdl.setObjective(sum(x[(i,j,k)] for i in N for j in M for k in N))\n",
    "\n",
    "mdl.addConstrs((sum(x[(i,j,k)] for j in M for k in N) <= 1 for i in N), name='B')\n",
    "\n",
    "mdl.addConstrs((sum(x[(i,j,k)]*p[i] for i in N) <= WT  for k in N for j in M), name='D')\n",
    "\n",
    "for i in N:\n",
    "    for j in M:\n",
    "        for k in range(i+1):      \n",
    "            mdl.addConstr(sum((x[(z,j,k)])*p[z] for z in range(i+1))+(t[k]*MAX[(i,j,k)]) <= d[i])\n",
    "\n",
    "for i in N:\n",
    "    for j in M:\n",
    "        for k in range(i+1):\n",
    "            for z in range(i+1):\n",
    "                mdl.addConstr(x[(z,j,k)] <=MAX[(i,j,k)])\n",
    "                \n",
    "mdl.ModelSense = grb.GRB.MAXIMIZE\n",
    "mdl.optimize()"
   ]
  },
  {
   "cell_type": "markdown",
   "metadata": {},
   "source": [
    "## Entrada de datos: Instancia 49x18"
   ]
  },
  {
   "cell_type": "code",
   "execution_count": 36,
   "metadata": {},
   "outputs": [
    {
     "data": {
      "text/plain": [
       "49"
      ]
     },
     "execution_count": 36,
     "metadata": {},
     "output_type": "execute_result"
    }
   ],
   "source": [
    "datafile=\"49x18.csv\"\n",
    "data=pd.DataFrame(pd.read_csv(datafile,sep=\";\"))\n",
    "\n",
    "data[\"JOB\"]=\"J\"+data[\"JOB\"].map(str)\n",
    "dictJobs={i:[data.set_index('JOB').to_dict()[\"Deadline\"][i],data.set_index('JOB').to_dict()[\"PT\"][i]] for i in data.set_index('JOB').to_dict()[\"Deadline\"].keys()}\n",
    "\n",
    "dictJobs=dict(sorted(dictJobs.items(), key=lambda item: item[1]))\n",
    "ordDict={}\n",
    "cont=0\n",
    "for i in dictJobs:\n",
    "    ordDict[cont]=[i,dictJobs[i][0],dictJobs[i][1]]\n",
    "    cont+=1\n",
    "len(dictJobs)"
   ]
  },
  {
   "cell_type": "code",
   "execution_count": 37,
   "metadata": {},
   "outputs": [
    {
     "name": "stdout",
     "output_type": "stream",
     "text": [
      "Changed value of parameter timeLimit to 3600.0\n",
      "   Prev: inf  Min: 0.0  Max: inf  Default: inf\n",
      "Gurobi Optimizer version 9.1.1 build v9.1.1rc0 (win64)\n",
      "Thread count: 6 physical cores, 6 logical processors, using up to 6 threads\n",
      "Optimize a model with 83447 rows, 9604 columns and 254506 nonzeros\n",
      "Model fingerprint: 0xc8f057b2\n",
      "Variable types: 0 continuous, 9604 integer (9604 binary)\n",
      "Coefficient statistics:\n",
      "  Matrix range     [1e+00, 2e+03]\n",
      "  Objective range  [1e+00, 1e+00]\n",
      "  Bounds range     [1e+00, 1e+00]\n",
      "  RHS range        [1e+00, 3e+02]\n",
      "Found heuristic solution: objective -0.0000000\n",
      "Found heuristic solution: objective 7.0000000\n",
      "Presolve removed 83240 rows and 9006 columns\n",
      "Presolve time: 0.19s\n",
      "Presolved: 207 rows, 598 columns, 1886 nonzeros\n",
      "Variable types: 0 continuous, 598 integer (598 binary)\n",
      "\n",
      "Root relaxation: objective 4.900000e+01, 140 iterations, 0.00 seconds\n",
      "\n",
      "    Nodes    |    Current Node    |     Objective Bounds      |     Work\n",
      " Expl Unexpl |  Obj  Depth IntInf | Incumbent    BestBd   Gap | It/Node Time\n",
      "\n",
      "H    0     0                      49.0000000  598.00000  1120%     -    0s\n",
      "     0     0          -    0        49.00000   49.00000  0.00%     -    0s\n",
      "\n",
      "Explored 0 nodes (299 simplex iterations) in 0.26 seconds\n",
      "Thread count was 6 (of 6 available processors)\n",
      "\n",
      "Solution count 3: 49 7 -0 \n",
      "\n",
      "Optimal solution found (tolerance 1.00e-04)\n",
      "Best objective 4.900000000000e+01, best bound 4.900000000000e+01, gap 0.0000%\n"
     ]
    }
   ],
   "source": [
    "p = []\n",
    "d = []\n",
    "for i in ordDict.keys():\n",
    "    p.append(ordDict[i][2])\n",
    "    d.append(ordDict[i][1])\n",
    "    \n",
    "ith = len(ordDict)\n",
    "jth = 2\n",
    "N = range(ith)\n",
    "M = range(jth)\n",
    "indices=[(i,j,k) for i in N for j in M for k in N]\n",
    "\n",
    "t =[0,24,48,72,96,168,192,216,240,264,336,360,384,408,432,504,528,552,576,600,672,696,720,744,768,840,864,888,912,936,1008,1032,1056,1080,1104,1176,1200,1224,1248,1272,1344,1368,1392,1416,1440,1512,1536,1560,1584,1608,1680,1704,1728,1752,1776,1848,1872,1896,1920,1944,2016,2040,2064,2088,2112,2184,2208,2232,2256,2280,2352,2376,2400,2424,2448,2520,2544,2568,2592,2616,2688,2712,2736,2760,2784,2856,2880,2904,2928,2952,3024,3048,3072,3096,3120,3192,3216,3240,3264,3288,3360,3384,3408,3432,3456,3528,3552,3576,3600,3624,3696,3720,3744,3768,3792,3864,3888,3912,3936,3960,4032,4056,4080,4104,4128,4200,4224,4248,4272,4296,4368,4392,4416,4440,4464,4536,4560,4584,4608,4632,4704,4728,4752,4776,4800,4872,4896,4920,4944,4968,5040,5064,5088,5112,5136,5208,5232,5256,5280,5304,5376,5400,5424,5448,5472,5544,5568,5592,5616,5640,5712,5736,5760,5784,5808,5880,5904,5928,5952,5976,6048,6072,6096,6120,6144,6216,6240,6264,6288,6312,6384,6408,6432,6456,6480,6552,6576,6600,6624,6648,6720,6744,6768,6792,6816,6888,6912,6936,6960,6984,7056,7080,7104,7128,7152,7224,7248,7272,7296,7320,7392,7416,7440,7464,7488,7560,7584,7608,7632,7656,7728,7752,7776,7800,7824,7896,7920,7944,7968,7992,8064,8088,8112,8136,8160,8232,8256,8280,8304,8328,8400,8424,8448,8472,8496,8568,8592,8616,8640,8664,8736,8760,8784,8808,8832,8904,8928,8952,8976,9000,9072,9096,9120,9144,9168,9240,9264,9288,9312,9336,9408,9432,9456,9480,9504,9576,9600,9624,9648,9672,9744,9768,9792,9816,9840,9912,9936,9960,9984,10008,10080,10104,10128,10152,10176,10248,10272,10296,10320,10344,10416,10440,10464,10488,10512,10584,10608,10632,10656,10680,10752,10776,10800,10824,10848,10920,10944,10968,10992,11016,11088,11112,11136,11160,11184,11256,11280,11304,11328,11352,11424,11448,11472,11496,11520,11592,11616,11640,11664,11688,11760,11784,11808,11832,11856,11928,11952,11976,12000,12024,12096,12120,12144,12168,12192,12264,12288,12312,12336,12360,12432,12456,12480,12504,12528,12600,12624,12648,12672,12696,12768,12792,12816,12840,12864,12936,12960,12984,13008,13032,13104,13128,13152,13176,13200,13272,13296,13320,13344,13368,13440,13464,13488,13512,13536,13608,13632,13656,13680,13704,13776,13800,13824,13848,13872,13944,13968,13992,14016,14040,14112,14136,14160,14184,14208,14280,14304,14328,14352,14376,14448,14472,14496,14520,14544,14616,14640,14664,14688,14712,14784,14808,14832,14856,14880,14952,14976,15000,15024,15048,15120,15144,15168,15192,15216,15288,15312,15336,15360,15384,15456,15480,15504,15528,15552,15624,15648,15672,15696,15720,15792,15816,15840,15864,15888,15960,15984,16008,16032,16056,16128,16152,16176,16200,16224,16296,16320,16344,16368,16392,16464,16488,16512,16536,16560,16632,16656,16680,16704,16728,16800,16824,16848,16872,16896,16968]\n",
    "WT = 11\n",
    "\n",
    "mdl = grb.Model(\"modelo\")\n",
    "\n",
    "x = mdl.addVars(indices, vtype=grb.GRB.BINARY, name='x')\n",
    "MAX = mdl.addVars(indices, vtype=grb.GRB.BINARY, name='y')\n",
    "\n",
    "mdl.Params.timeLimit=3600.0\n",
    "\n",
    "mdl.setObjective(sum(x[(i,j,k)] for i in N for j in M for k in N))\n",
    "\n",
    "mdl.addConstrs((sum(x[(i,j,k)] for j in M for k in N) <= 1 for i in N), name='B')\n",
    "\n",
    "mdl.addConstrs((sum(x[(i,j,k)]*p[i] for i in N) <= WT  for k in N for j in M), name='D')\n",
    "\n",
    "for i in N:\n",
    "    for j in M:\n",
    "        for k in range(i+1):      \n",
    "            mdl.addConstr(sum((x[(z,j,k)])*p[z] for z in range(i+1))+(t[k]*MAX[(i,j,k)]) <= d[i])\n",
    "\n",
    "for i in N:\n",
    "    for j in M:\n",
    "        for k in range(i+1):\n",
    "            for z in range(i+1):\n",
    "                mdl.addConstr(x[(z,j,k)] <=MAX[(i,j,k)])\n",
    "                \n",
    "mdl.ModelSense = grb.GRB.MAXIMIZE\n",
    "mdl.optimize()"
   ]
  },
  {
   "cell_type": "markdown",
   "metadata": {},
   "source": [
    "## Entrada de datos: Instancia 49x19"
   ]
  },
  {
   "cell_type": "code",
   "execution_count": 38,
   "metadata": {},
   "outputs": [
    {
     "data": {
      "text/plain": [
       "49"
      ]
     },
     "execution_count": 38,
     "metadata": {},
     "output_type": "execute_result"
    }
   ],
   "source": [
    "datafile=\"49x19.csv\"\n",
    "data=pd.DataFrame(pd.read_csv(datafile,sep=\";\"))\n",
    "\n",
    "data[\"JOB\"]=\"J\"+data[\"JOB\"].map(str)\n",
    "dictJobs={i:[data.set_index('JOB').to_dict()[\"Deadline\"][i],data.set_index('JOB').to_dict()[\"PT\"][i]] for i in data.set_index('JOB').to_dict()[\"Deadline\"].keys()}\n",
    "\n",
    "dictJobs=dict(sorted(dictJobs.items(), key=lambda item: item[1]))\n",
    "ordDict={}\n",
    "cont=0\n",
    "for i in dictJobs:\n",
    "    ordDict[cont]=[i,dictJobs[i][0],dictJobs[i][1]]\n",
    "    cont+=1\n",
    "len(dictJobs)"
   ]
  },
  {
   "cell_type": "code",
   "execution_count": 39,
   "metadata": {
    "scrolled": true
   },
   "outputs": [
    {
     "name": "stdout",
     "output_type": "stream",
     "text": [
      "Changed value of parameter timeLimit to 3600.0\n",
      "   Prev: inf  Min: 0.0  Max: inf  Default: inf\n",
      "Gurobi Optimizer version 9.1.1 build v9.1.1rc0 (win64)\n",
      "Thread count: 6 physical cores, 6 logical processors, using up to 6 threads\n",
      "Optimize a model with 83447 rows, 9604 columns and 254506 nonzeros\n",
      "Model fingerprint: 0xb2b0ed8c\n",
      "Variable types: 0 continuous, 9604 integer (9604 binary)\n",
      "Coefficient statistics:\n",
      "  Matrix range     [1e+00, 2e+03]\n",
      "  Objective range  [1e+00, 1e+00]\n",
      "  Bounds range     [1e+00, 1e+00]\n",
      "  RHS range        [1e+00, 3e+02]\n",
      "Found heuristic solution: objective -0.0000000\n",
      "Found heuristic solution: objective 9.0000000\n",
      "Presolve removed 83209 rows and 9070 columns\n",
      "Presolve time: 0.17s\n",
      "Presolved: 238 rows, 534 columns, 1765 nonzeros\n",
      "Variable types: 0 continuous, 534 integer (534 binary)\n",
      "\n",
      "Root relaxation: objective 4.800000e+01, 107 iterations, 0.01 seconds\n",
      "\n",
      "    Nodes    |    Current Node    |     Objective Bounds      |     Work\n",
      " Expl Unexpl |  Obj  Depth IntInf | Incumbent    BestBd   Gap | It/Node Time\n",
      "\n",
      "H    0     0                      48.0000000  534.00000  1013%     -    0s\n",
      "     0     0          -    0        48.00000   48.00000  0.00%     -    0s\n",
      "\n",
      "Explored 0 nodes (258 simplex iterations) in 0.30 seconds\n",
      "Thread count was 6 (of 6 available processors)\n",
      "\n",
      "Solution count 3: 48 9 -0 \n",
      "\n",
      "Optimal solution found (tolerance 1.00e-04)\n",
      "Best objective 4.800000000000e+01, best bound 4.800000000000e+01, gap 0.0000%\n"
     ]
    }
   ],
   "source": [
    "p = []\n",
    "d = []\n",
    "for i in ordDict.keys():\n",
    "    p.append(ordDict[i][2])\n",
    "    d.append(ordDict[i][1])\n",
    "    \n",
    "ith = len(ordDict)\n",
    "jth = 2\n",
    "N = range(ith)\n",
    "M = range(jth)\n",
    "indices=[(i,j,k) for i in N for j in M for k in N]\n",
    "\n",
    "t =[0,24,48,72,96,168,192,216,240,264,336,360,384,408,432,504,528,552,576,600,672,696,720,744,768,840,864,888,912,936,1008,1032,1056,1080,1104,1176,1200,1224,1248,1272,1344,1368,1392,1416,1440,1512,1536,1560,1584,1608,1680,1704,1728,1752,1776,1848,1872,1896,1920,1944,2016,2040,2064,2088,2112,2184,2208,2232,2256,2280,2352,2376,2400,2424,2448,2520,2544,2568,2592,2616,2688,2712,2736,2760,2784,2856,2880,2904,2928,2952,3024,3048,3072,3096,3120,3192,3216,3240,3264,3288,3360,3384,3408,3432,3456,3528,3552,3576,3600,3624,3696,3720,3744,3768,3792,3864,3888,3912,3936,3960,4032,4056,4080,4104,4128,4200,4224,4248,4272,4296,4368,4392,4416,4440,4464,4536,4560,4584,4608,4632,4704,4728,4752,4776,4800,4872,4896,4920,4944,4968,5040,5064,5088,5112,5136,5208,5232,5256,5280,5304,5376,5400,5424,5448,5472,5544,5568,5592,5616,5640,5712,5736,5760,5784,5808,5880,5904,5928,5952,5976,6048,6072,6096,6120,6144,6216,6240,6264,6288,6312,6384,6408,6432,6456,6480,6552,6576,6600,6624,6648,6720,6744,6768,6792,6816,6888,6912,6936,6960,6984,7056,7080,7104,7128,7152,7224,7248,7272,7296,7320,7392,7416,7440,7464,7488,7560,7584,7608,7632,7656,7728,7752,7776,7800,7824,7896,7920,7944,7968,7992,8064,8088,8112,8136,8160,8232,8256,8280,8304,8328,8400,8424,8448,8472,8496,8568,8592,8616,8640,8664,8736,8760,8784,8808,8832,8904,8928,8952,8976,9000,9072,9096,9120,9144,9168,9240,9264,9288,9312,9336,9408,9432,9456,9480,9504,9576,9600,9624,9648,9672,9744,9768,9792,9816,9840,9912,9936,9960,9984,10008,10080,10104,10128,10152,10176,10248,10272,10296,10320,10344,10416,10440,10464,10488,10512,10584,10608,10632,10656,10680,10752,10776,10800,10824,10848,10920,10944,10968,10992,11016,11088,11112,11136,11160,11184,11256,11280,11304,11328,11352,11424,11448,11472,11496,11520,11592,11616,11640,11664,11688,11760,11784,11808,11832,11856,11928,11952,11976,12000,12024,12096,12120,12144,12168,12192,12264,12288,12312,12336,12360,12432,12456,12480,12504,12528,12600,12624,12648,12672,12696,12768,12792,12816,12840,12864,12936,12960,12984,13008,13032,13104,13128,13152,13176,13200,13272,13296,13320,13344,13368,13440,13464,13488,13512,13536,13608,13632,13656,13680,13704,13776,13800,13824,13848,13872,13944,13968,13992,14016,14040,14112,14136,14160,14184,14208,14280,14304,14328,14352,14376,14448,14472,14496,14520,14544,14616,14640,14664,14688,14712,14784,14808,14832,14856,14880,14952,14976,15000,15024,15048,15120,15144,15168,15192,15216,15288,15312,15336,15360,15384,15456,15480,15504,15528,15552,15624,15648,15672,15696,15720,15792,15816,15840,15864,15888,15960,15984,16008,16032,16056,16128,16152,16176,16200,16224,16296,16320,16344,16368,16392,16464,16488,16512,16536,16560,16632,16656,16680,16704,16728,16800,16824,16848,16872,16896,16968]\n",
    "WT = 11\n",
    "\n",
    "mdl = grb.Model(\"modelo\")\n",
    "\n",
    "x = mdl.addVars(indices, vtype=grb.GRB.BINARY, name='x')\n",
    "MAX = mdl.addVars(indices, vtype=grb.GRB.BINARY, name='y')\n",
    "\n",
    "mdl.Params.timeLimit=3600.0\n",
    "\n",
    "mdl.setObjective(sum(x[(i,j,k)] for i in N for j in M for k in N))\n",
    "\n",
    "mdl.addConstrs((sum(x[(i,j,k)] for j in M for k in N) <= 1 for i in N), name='B')\n",
    "\n",
    "mdl.addConstrs((sum(x[(i,j,k)]*p[i] for i in N) <= WT  for k in N for j in M), name='D')\n",
    "\n",
    "for i in N:\n",
    "    for j in M:\n",
    "        for k in range(i+1):      \n",
    "            mdl.addConstr(sum((x[(z,j,k)])*p[z] for z in range(i+1))+(t[k]*MAX[(i,j,k)]) <= d[i])\n",
    "\n",
    "for i in N:\n",
    "    for j in M:\n",
    "        for k in range(i+1):\n",
    "            for z in range(i+1):\n",
    "                mdl.addConstr(x[(z,j,k)] <=MAX[(i,j,k)])\n",
    "                \n",
    "mdl.ModelSense = grb.GRB.MAXIMIZE\n",
    "mdl.optimize()"
   ]
  },
  {
   "cell_type": "markdown",
   "metadata": {},
   "source": [
    "## Entrada de datos: Instancia 49x20"
   ]
  },
  {
   "cell_type": "code",
   "execution_count": 40,
   "metadata": {},
   "outputs": [
    {
     "data": {
      "text/plain": [
       "49"
      ]
     },
     "execution_count": 40,
     "metadata": {},
     "output_type": "execute_result"
    }
   ],
   "source": [
    "datafile=\"49x20.csv\"\n",
    "data=pd.DataFrame(pd.read_csv(datafile,sep=\";\"))\n",
    "\n",
    "data[\"JOB\"]=\"J\"+data[\"JOB\"].map(str)\n",
    "dictJobs={i:[data.set_index('JOB').to_dict()[\"Deadline\"][i],data.set_index('JOB').to_dict()[\"PT\"][i]] for i in data.set_index('JOB').to_dict()[\"Deadline\"].keys()}\n",
    "\n",
    "dictJobs=dict(sorted(dictJobs.items(), key=lambda item: item[1]))\n",
    "ordDict={}\n",
    "cont=0\n",
    "for i in dictJobs:\n",
    "    ordDict[cont]=[i,dictJobs[i][0],dictJobs[i][1]]\n",
    "    cont+=1\n",
    "len(dictJobs)"
   ]
  },
  {
   "cell_type": "code",
   "execution_count": 41,
   "metadata": {
    "scrolled": true
   },
   "outputs": [
    {
     "name": "stdout",
     "output_type": "stream",
     "text": [
      "Changed value of parameter timeLimit to 3600.0\n",
      "   Prev: inf  Min: 0.0  Max: inf  Default: inf\n",
      "Gurobi Optimizer version 9.1.1 build v9.1.1rc0 (win64)\n",
      "Thread count: 6 physical cores, 6 logical processors, using up to 6 threads\n",
      "Optimize a model with 83447 rows, 9604 columns and 254506 nonzeros\n",
      "Model fingerprint: 0x1ca7ebbf\n",
      "Variable types: 0 continuous, 9604 integer (9604 binary)\n",
      "Coefficient statistics:\n",
      "  Matrix range     [1e+00, 2e+03]\n",
      "  Objective range  [1e+00, 1e+00]\n",
      "  Bounds range     [1e+00, 1e+00]\n",
      "  RHS range        [1e+00, 3e+02]\n",
      "Found heuristic solution: objective -0.0000000\n",
      "Found heuristic solution: objective 6.0000000\n",
      "Presolve removed 83263 rows and 9090 columns\n",
      "Presolve time: 0.20s\n",
      "Presolved: 184 rows, 514 columns, 1498 nonzeros\n",
      "Found heuristic solution: objective 49.0000000\n",
      "Variable types: 0 continuous, 514 integer (514 binary)\n",
      "\n",
      "Root relaxation: cutoff, 0 iterations, 0.00 seconds\n",
      "\n",
      "Explored 0 nodes (0 simplex iterations) in 0.25 seconds\n",
      "Thread count was 6 (of 6 available processors)\n",
      "\n",
      "Solution count 3: 49 6 -0 \n",
      "\n",
      "Optimal solution found (tolerance 1.00e-04)\n",
      "Best objective 4.900000000000e+01, best bound 4.900000000000e+01, gap 0.0000%\n"
     ]
    }
   ],
   "source": [
    "p = []\n",
    "d = []\n",
    "for i in ordDict.keys():\n",
    "    p.append(ordDict[i][2])\n",
    "    d.append(ordDict[i][1])\n",
    "    \n",
    "ith = len(ordDict)\n",
    "jth = 2\n",
    "N = range(ith)\n",
    "M = range(jth)\n",
    "indices=[(i,j,k) for i in N for j in M for k in N]\n",
    "\n",
    "t =[0,24,48,72,96,168,192,216,240,264,336,360,384,408,432,504,528,552,576,600,672,696,720,744,768,840,864,888,912,936,1008,1032,1056,1080,1104,1176,1200,1224,1248,1272,1344,1368,1392,1416,1440,1512,1536,1560,1584,1608,1680,1704,1728,1752,1776,1848,1872,1896,1920,1944,2016,2040,2064,2088,2112,2184,2208,2232,2256,2280,2352,2376,2400,2424,2448,2520,2544,2568,2592,2616,2688,2712,2736,2760,2784,2856,2880,2904,2928,2952,3024,3048,3072,3096,3120,3192,3216,3240,3264,3288,3360,3384,3408,3432,3456,3528,3552,3576,3600,3624,3696,3720,3744,3768,3792,3864,3888,3912,3936,3960,4032,4056,4080,4104,4128,4200,4224,4248,4272,4296,4368,4392,4416,4440,4464,4536,4560,4584,4608,4632,4704,4728,4752,4776,4800,4872,4896,4920,4944,4968,5040,5064,5088,5112,5136,5208,5232,5256,5280,5304,5376,5400,5424,5448,5472,5544,5568,5592,5616,5640,5712,5736,5760,5784,5808,5880,5904,5928,5952,5976,6048,6072,6096,6120,6144,6216,6240,6264,6288,6312,6384,6408,6432,6456,6480,6552,6576,6600,6624,6648,6720,6744,6768,6792,6816,6888,6912,6936,6960,6984,7056,7080,7104,7128,7152,7224,7248,7272,7296,7320,7392,7416,7440,7464,7488,7560,7584,7608,7632,7656,7728,7752,7776,7800,7824,7896,7920,7944,7968,7992,8064,8088,8112,8136,8160,8232,8256,8280,8304,8328,8400,8424,8448,8472,8496,8568,8592,8616,8640,8664,8736,8760,8784,8808,8832,8904,8928,8952,8976,9000,9072,9096,9120,9144,9168,9240,9264,9288,9312,9336,9408,9432,9456,9480,9504,9576,9600,9624,9648,9672,9744,9768,9792,9816,9840,9912,9936,9960,9984,10008,10080,10104,10128,10152,10176,10248,10272,10296,10320,10344,10416,10440,10464,10488,10512,10584,10608,10632,10656,10680,10752,10776,10800,10824,10848,10920,10944,10968,10992,11016,11088,11112,11136,11160,11184,11256,11280,11304,11328,11352,11424,11448,11472,11496,11520,11592,11616,11640,11664,11688,11760,11784,11808,11832,11856,11928,11952,11976,12000,12024,12096,12120,12144,12168,12192,12264,12288,12312,12336,12360,12432,12456,12480,12504,12528,12600,12624,12648,12672,12696,12768,12792,12816,12840,12864,12936,12960,12984,13008,13032,13104,13128,13152,13176,13200,13272,13296,13320,13344,13368,13440,13464,13488,13512,13536,13608,13632,13656,13680,13704,13776,13800,13824,13848,13872,13944,13968,13992,14016,14040,14112,14136,14160,14184,14208,14280,14304,14328,14352,14376,14448,14472,14496,14520,14544,14616,14640,14664,14688,14712,14784,14808,14832,14856,14880,14952,14976,15000,15024,15048,15120,15144,15168,15192,15216,15288,15312,15336,15360,15384,15456,15480,15504,15528,15552,15624,15648,15672,15696,15720,15792,15816,15840,15864,15888,15960,15984,16008,16032,16056,16128,16152,16176,16200,16224,16296,16320,16344,16368,16392,16464,16488,16512,16536,16560,16632,16656,16680,16704,16728,16800,16824,16848,16872,16896,16968]\n",
    "WT = 11\n",
    "\n",
    "mdl = grb.Model(\"modelo\")\n",
    "\n",
    "x = mdl.addVars(indices, vtype=grb.GRB.BINARY, name='x')\n",
    "MAX = mdl.addVars(indices, vtype=grb.GRB.BINARY, name='y')\n",
    "\n",
    "mdl.Params.timeLimit=3600.0\n",
    "\n",
    "mdl.setObjective(sum(x[(i,j,k)] for i in N for j in M for k in N))\n",
    "\n",
    "mdl.addConstrs((sum(x[(i,j,k)] for j in M for k in N) <= 1 for i in N), name='B')\n",
    "\n",
    "mdl.addConstrs((sum(x[(i,j,k)]*p[i] for i in N) <= WT  for k in N for j in M), name='D')\n",
    "\n",
    "for i in N:\n",
    "    for j in M:\n",
    "        for k in range(i+1):      \n",
    "            mdl.addConstr(sum((x[(z,j,k)])*p[z] for z in range(i+1))+(t[k]*MAX[(i,j,k)]) <= d[i])\n",
    "\n",
    "for i in N:\n",
    "    for j in M:\n",
    "        for k in range(i+1):\n",
    "            for z in range(i+1):\n",
    "                mdl.addConstr(x[(z,j,k)] <=MAX[(i,j,k)])\n",
    "                \n",
    "mdl.ModelSense = grb.GRB.MAXIMIZE\n",
    "mdl.optimize()"
   ]
  },
  {
   "cell_type": "markdown",
   "metadata": {},
   "source": [
    "## Entrada de datos: Instancia 49x21"
   ]
  },
  {
   "cell_type": "code",
   "execution_count": 42,
   "metadata": {},
   "outputs": [
    {
     "data": {
      "text/plain": [
       "49"
      ]
     },
     "execution_count": 42,
     "metadata": {},
     "output_type": "execute_result"
    }
   ],
   "source": [
    "datafile=\"49x21.csv\"\n",
    "data=pd.DataFrame(pd.read_csv(datafile,sep=\";\"))\n",
    "\n",
    "data[\"JOB\"]=\"J\"+data[\"JOB\"].map(str)\n",
    "dictJobs={i:[data.set_index('JOB').to_dict()[\"Deadline\"][i],data.set_index('JOB').to_dict()[\"PT\"][i]] for i in data.set_index('JOB').to_dict()[\"Deadline\"].keys()}\n",
    "\n",
    "dictJobs=dict(sorted(dictJobs.items(), key=lambda item: item[1]))\n",
    "ordDict={}\n",
    "cont=0\n",
    "for i in dictJobs:\n",
    "    ordDict[cont]=[i,dictJobs[i][0],dictJobs[i][1]]\n",
    "    cont+=1\n",
    "len(dictJobs)"
   ]
  },
  {
   "cell_type": "code",
   "execution_count": 43,
   "metadata": {
    "scrolled": true
   },
   "outputs": [
    {
     "name": "stdout",
     "output_type": "stream",
     "text": [
      "Changed value of parameter timeLimit to 3600.0\n",
      "   Prev: inf  Min: 0.0  Max: inf  Default: inf\n",
      "Gurobi Optimizer version 9.1.1 build v9.1.1rc0 (win64)\n",
      "Thread count: 6 physical cores, 6 logical processors, using up to 6 threads\n",
      "Optimize a model with 83447 rows, 9604 columns and 254506 nonzeros\n",
      "Model fingerprint: 0x391bf2d2\n",
      "Variable types: 0 continuous, 9604 integer (9604 binary)\n",
      "Coefficient statistics:\n",
      "  Matrix range     [1e+00, 2e+03]\n",
      "  Objective range  [1e+00, 1e+00]\n",
      "  Bounds range     [1e+00, 1e+00]\n",
      "  RHS range        [1e+00, 3e+02]\n",
      "Found heuristic solution: objective -0.0000000\n",
      "Found heuristic solution: objective 7.0000000\n",
      "Presolve removed 83296 rows and 9072 columns\n",
      "Presolve time: 0.15s\n",
      "Presolved: 151 rows, 532 columns, 1506 nonzeros\n",
      "Found heuristic solution: objective 48.0000000\n",
      "Variable types: 0 continuous, 532 integer (532 binary)\n",
      "\n",
      "Root relaxation: cutoff, 0 iterations, 0.00 seconds\n",
      "\n",
      "Explored 0 nodes (0 simplex iterations) in 0.21 seconds\n",
      "Thread count was 6 (of 6 available processors)\n",
      "\n",
      "Solution count 3: 48 7 -0 \n",
      "\n",
      "Optimal solution found (tolerance 1.00e-04)\n",
      "Best objective 4.800000000000e+01, best bound 4.800000000000e+01, gap 0.0000%\n"
     ]
    }
   ],
   "source": [
    "p = []\n",
    "d = []\n",
    "for i in ordDict.keys():\n",
    "    p.append(ordDict[i][2])\n",
    "    d.append(ordDict[i][1])\n",
    "    \n",
    "ith = len(ordDict)\n",
    "jth = 2\n",
    "N = range(ith)\n",
    "M = range(jth)\n",
    "indices=[(i,j,k) for i in N for j in M for k in N]\n",
    "\n",
    "t =[0,24,48,72,96,168,192,216,240,264,336,360,384,408,432,504,528,552,576,600,672,696,720,744,768,840,864,888,912,936,1008,1032,1056,1080,1104,1176,1200,1224,1248,1272,1344,1368,1392,1416,1440,1512,1536,1560,1584,1608,1680,1704,1728,1752,1776,1848,1872,1896,1920,1944,2016,2040,2064,2088,2112,2184,2208,2232,2256,2280,2352,2376,2400,2424,2448,2520,2544,2568,2592,2616,2688,2712,2736,2760,2784,2856,2880,2904,2928,2952,3024,3048,3072,3096,3120,3192,3216,3240,3264,3288,3360,3384,3408,3432,3456,3528,3552,3576,3600,3624,3696,3720,3744,3768,3792,3864,3888,3912,3936,3960,4032,4056,4080,4104,4128,4200,4224,4248,4272,4296,4368,4392,4416,4440,4464,4536,4560,4584,4608,4632,4704,4728,4752,4776,4800,4872,4896,4920,4944,4968,5040,5064,5088,5112,5136,5208,5232,5256,5280,5304,5376,5400,5424,5448,5472,5544,5568,5592,5616,5640,5712,5736,5760,5784,5808,5880,5904,5928,5952,5976,6048,6072,6096,6120,6144,6216,6240,6264,6288,6312,6384,6408,6432,6456,6480,6552,6576,6600,6624,6648,6720,6744,6768,6792,6816,6888,6912,6936,6960,6984,7056,7080,7104,7128,7152,7224,7248,7272,7296,7320,7392,7416,7440,7464,7488,7560,7584,7608,7632,7656,7728,7752,7776,7800,7824,7896,7920,7944,7968,7992,8064,8088,8112,8136,8160,8232,8256,8280,8304,8328,8400,8424,8448,8472,8496,8568,8592,8616,8640,8664,8736,8760,8784,8808,8832,8904,8928,8952,8976,9000,9072,9096,9120,9144,9168,9240,9264,9288,9312,9336,9408,9432,9456,9480,9504,9576,9600,9624,9648,9672,9744,9768,9792,9816,9840,9912,9936,9960,9984,10008,10080,10104,10128,10152,10176,10248,10272,10296,10320,10344,10416,10440,10464,10488,10512,10584,10608,10632,10656,10680,10752,10776,10800,10824,10848,10920,10944,10968,10992,11016,11088,11112,11136,11160,11184,11256,11280,11304,11328,11352,11424,11448,11472,11496,11520,11592,11616,11640,11664,11688,11760,11784,11808,11832,11856,11928,11952,11976,12000,12024,12096,12120,12144,12168,12192,12264,12288,12312,12336,12360,12432,12456,12480,12504,12528,12600,12624,12648,12672,12696,12768,12792,12816,12840,12864,12936,12960,12984,13008,13032,13104,13128,13152,13176,13200,13272,13296,13320,13344,13368,13440,13464,13488,13512,13536,13608,13632,13656,13680,13704,13776,13800,13824,13848,13872,13944,13968,13992,14016,14040,14112,14136,14160,14184,14208,14280,14304,14328,14352,14376,14448,14472,14496,14520,14544,14616,14640,14664,14688,14712,14784,14808,14832,14856,14880,14952,14976,15000,15024,15048,15120,15144,15168,15192,15216,15288,15312,15336,15360,15384,15456,15480,15504,15528,15552,15624,15648,15672,15696,15720,15792,15816,15840,15864,15888,15960,15984,16008,16032,16056,16128,16152,16176,16200,16224,16296,16320,16344,16368,16392,16464,16488,16512,16536,16560,16632,16656,16680,16704,16728,16800,16824,16848,16872,16896,16968]\n",
    "WT = 11\n",
    "\n",
    "mdl = grb.Model(\"modelo\")\n",
    "\n",
    "x = mdl.addVars(indices, vtype=grb.GRB.BINARY, name='x')\n",
    "MAX = mdl.addVars(indices, vtype=grb.GRB.BINARY, name='y')\n",
    "\n",
    "mdl.Params.timeLimit=3600.0\n",
    "\n",
    "mdl.setObjective(sum(x[(i,j,k)] for i in N for j in M for k in N))\n",
    "\n",
    "mdl.addConstrs((sum(x[(i,j,k)] for j in M for k in N) <= 1 for i in N), name='B')\n",
    "\n",
    "mdl.addConstrs((sum(x[(i,j,k)]*p[i] for i in N) <= WT  for k in N for j in M), name='D')\n",
    "\n",
    "for i in N:\n",
    "    for j in M:\n",
    "        for k in range(i+1):      \n",
    "            mdl.addConstr(sum((x[(z,j,k)])*p[z] for z in range(i+1))+(t[k]*MAX[(i,j,k)]) <= d[i])\n",
    "\n",
    "for i in N:\n",
    "    for j in M:\n",
    "        for k in range(i+1):\n",
    "            for z in range(i+1):\n",
    "                mdl.addConstr(x[(z,j,k)] <=MAX[(i,j,k)])\n",
    "                \n",
    "mdl.ModelSense = grb.GRB.MAXIMIZE\n",
    "mdl.optimize()\n"
   ]
  },
  {
   "cell_type": "markdown",
   "metadata": {},
   "source": [
    "## Entrada de datos: Instancia 49x22"
   ]
  },
  {
   "cell_type": "code",
   "execution_count": 44,
   "metadata": {},
   "outputs": [
    {
     "data": {
      "text/plain": [
       "49"
      ]
     },
     "execution_count": 44,
     "metadata": {},
     "output_type": "execute_result"
    }
   ],
   "source": [
    "datafile=\"49x22.csv\"\n",
    "data=pd.DataFrame(pd.read_csv(datafile,sep=\";\"))\n",
    "\n",
    "data[\"JOB\"]=\"J\"+data[\"JOB\"].map(str)\n",
    "dictJobs={i:[data.set_index('JOB').to_dict()[\"Deadline\"][i],data.set_index('JOB').to_dict()[\"PT\"][i]] for i in data.set_index('JOB').to_dict()[\"Deadline\"].keys()}\n",
    "\n",
    "dictJobs=dict(sorted(dictJobs.items(), key=lambda item: item[1]))\n",
    "ordDict={}\n",
    "cont=0\n",
    "for i in dictJobs:\n",
    "    ordDict[cont]=[i,dictJobs[i][0],dictJobs[i][1]]\n",
    "    cont+=1\n",
    "len(dictJobs)"
   ]
  },
  {
   "cell_type": "code",
   "execution_count": 45,
   "metadata": {
    "scrolled": true
   },
   "outputs": [
    {
     "name": "stdout",
     "output_type": "stream",
     "text": [
      "Changed value of parameter timeLimit to 3600.0\n",
      "   Prev: inf  Min: 0.0  Max: inf  Default: inf\n",
      "Gurobi Optimizer version 9.1.1 build v9.1.1rc0 (win64)\n",
      "Thread count: 6 physical cores, 6 logical processors, using up to 6 threads\n",
      "Optimize a model with 83447 rows, 9604 columns and 254506 nonzeros\n",
      "Model fingerprint: 0xcb7073d1\n",
      "Variable types: 0 continuous, 9604 integer (9604 binary)\n",
      "Coefficient statistics:\n",
      "  Matrix range     [1e+00, 2e+03]\n",
      "  Objective range  [1e+00, 1e+00]\n",
      "  Bounds range     [1e+00, 1e+00]\n",
      "  RHS range        [1e+00, 3e+02]\n",
      "Found heuristic solution: objective -0.0000000\n",
      "Found heuristic solution: objective 8.0000000\n",
      "Presolve removed 83251 rows and 9042 columns\n",
      "Presolve time: 0.16s\n",
      "Presolved: 196 rows, 562 columns, 1770 nonzeros\n",
      "Variable types: 0 continuous, 562 integer (562 binary)\n",
      "\n",
      "Root relaxation: objective 4.748210e+01, 157 iterations, 0.00 seconds\n",
      "\n",
      "    Nodes    |    Current Node    |     Objective Bounds      |     Work\n",
      " Expl Unexpl |  Obj  Depth IntInf | Incumbent    BestBd   Gap | It/Node Time\n",
      "\n",
      "     0     0   47.48210    0   17    8.00000   47.48210   494%     -    0s\n",
      "H    0     0                      46.0000000   47.48210  3.22%     -    0s\n",
      "H    0     0                      47.0000000   47.48210  1.03%     -    0s\n",
      "     0     0   47.48210    0   17   47.00000   47.48210  1.03%     -    0s\n",
      "\n",
      "Explored 1 nodes (324 simplex iterations) in 0.28 seconds\n",
      "Thread count was 6 (of 6 available processors)\n",
      "\n",
      "Solution count 4: 47 46 8 -0 \n",
      "\n",
      "Optimal solution found (tolerance 1.00e-04)\n",
      "Best objective 4.700000000000e+01, best bound 4.700000000000e+01, gap 0.0000%\n"
     ]
    }
   ],
   "source": [
    "p = []\n",
    "d = []\n",
    "for i in ordDict.keys():\n",
    "    p.append(ordDict[i][2])\n",
    "    d.append(ordDict[i][1])\n",
    "    \n",
    "ith = len(ordDict)\n",
    "jth = 2\n",
    "N = range(ith)\n",
    "M = range(jth)\n",
    "indices=[(i,j,k) for i in N for j in M for k in N]\n",
    "\n",
    "t =[0,24,48,72,96,168,192,216,240,264,336,360,384,408,432,504,528,552,576,600,672,696,720,744,768,840,864,888,912,936,1008,1032,1056,1080,1104,1176,1200,1224,1248,1272,1344,1368,1392,1416,1440,1512,1536,1560,1584,1608,1680,1704,1728,1752,1776,1848,1872,1896,1920,1944,2016,2040,2064,2088,2112,2184,2208,2232,2256,2280,2352,2376,2400,2424,2448,2520,2544,2568,2592,2616,2688,2712,2736,2760,2784,2856,2880,2904,2928,2952,3024,3048,3072,3096,3120,3192,3216,3240,3264,3288,3360,3384,3408,3432,3456,3528,3552,3576,3600,3624,3696,3720,3744,3768,3792,3864,3888,3912,3936,3960,4032,4056,4080,4104,4128,4200,4224,4248,4272,4296,4368,4392,4416,4440,4464,4536,4560,4584,4608,4632,4704,4728,4752,4776,4800,4872,4896,4920,4944,4968,5040,5064,5088,5112,5136,5208,5232,5256,5280,5304,5376,5400,5424,5448,5472,5544,5568,5592,5616,5640,5712,5736,5760,5784,5808,5880,5904,5928,5952,5976,6048,6072,6096,6120,6144,6216,6240,6264,6288,6312,6384,6408,6432,6456,6480,6552,6576,6600,6624,6648,6720,6744,6768,6792,6816,6888,6912,6936,6960,6984,7056,7080,7104,7128,7152,7224,7248,7272,7296,7320,7392,7416,7440,7464,7488,7560,7584,7608,7632,7656,7728,7752,7776,7800,7824,7896,7920,7944,7968,7992,8064,8088,8112,8136,8160,8232,8256,8280,8304,8328,8400,8424,8448,8472,8496,8568,8592,8616,8640,8664,8736,8760,8784,8808,8832,8904,8928,8952,8976,9000,9072,9096,9120,9144,9168,9240,9264,9288,9312,9336,9408,9432,9456,9480,9504,9576,9600,9624,9648,9672,9744,9768,9792,9816,9840,9912,9936,9960,9984,10008,10080,10104,10128,10152,10176,10248,10272,10296,10320,10344,10416,10440,10464,10488,10512,10584,10608,10632,10656,10680,10752,10776,10800,10824,10848,10920,10944,10968,10992,11016,11088,11112,11136,11160,11184,11256,11280,11304,11328,11352,11424,11448,11472,11496,11520,11592,11616,11640,11664,11688,11760,11784,11808,11832,11856,11928,11952,11976,12000,12024,12096,12120,12144,12168,12192,12264,12288,12312,12336,12360,12432,12456,12480,12504,12528,12600,12624,12648,12672,12696,12768,12792,12816,12840,12864,12936,12960,12984,13008,13032,13104,13128,13152,13176,13200,13272,13296,13320,13344,13368,13440,13464,13488,13512,13536,13608,13632,13656,13680,13704,13776,13800,13824,13848,13872,13944,13968,13992,14016,14040,14112,14136,14160,14184,14208,14280,14304,14328,14352,14376,14448,14472,14496,14520,14544,14616,14640,14664,14688,14712,14784,14808,14832,14856,14880,14952,14976,15000,15024,15048,15120,15144,15168,15192,15216,15288,15312,15336,15360,15384,15456,15480,15504,15528,15552,15624,15648,15672,15696,15720,15792,15816,15840,15864,15888,15960,15984,16008,16032,16056,16128,16152,16176,16200,16224,16296,16320,16344,16368,16392,16464,16488,16512,16536,16560,16632,16656,16680,16704,16728,16800,16824,16848,16872,16896,16968]\n",
    "WT = 11\n",
    "\n",
    "mdl = grb.Model(\"modelo\")\n",
    "\n",
    "x = mdl.addVars(indices, vtype=grb.GRB.BINARY, name='x')\n",
    "MAX = mdl.addVars(indices, vtype=grb.GRB.BINARY, name='y')\n",
    "\n",
    "mdl.Params.timeLimit=3600.0\n",
    "\n",
    "mdl.setObjective(sum(x[(i,j,k)] for i in N for j in M for k in N))\n",
    "\n",
    "mdl.addConstrs((sum(x[(i,j,k)] for j in M for k in N) <= 1 for i in N), name='B')\n",
    "\n",
    "mdl.addConstrs((sum(x[(i,j,k)]*p[i] for i in N) <= WT  for k in N for j in M), name='D')\n",
    "\n",
    "for i in N:\n",
    "    for j in M:\n",
    "        for k in range(i+1):      \n",
    "            mdl.addConstr(sum((x[(z,j,k)])*p[z] for z in range(i+1))+(t[k]*MAX[(i,j,k)]) <= d[i])\n",
    "\n",
    "for i in N:\n",
    "    for j in M:\n",
    "        for k in range(i+1):\n",
    "            for z in range(i+1):\n",
    "                mdl.addConstr(x[(z,j,k)] <=MAX[(i,j,k)])\n",
    "                \n",
    "mdl.ModelSense = grb.GRB.MAXIMIZE\n",
    "mdl.optimize()"
   ]
  },
  {
   "cell_type": "code",
   "execution_count": null,
   "metadata": {},
   "outputs": [],
   "source": []
  },
  {
   "cell_type": "markdown",
   "metadata": {},
   "source": [
    "## Entrada de datos: Instancia 49x23"
   ]
  },
  {
   "cell_type": "code",
   "execution_count": 46,
   "metadata": {},
   "outputs": [
    {
     "data": {
      "text/plain": [
       "49"
      ]
     },
     "execution_count": 46,
     "metadata": {},
     "output_type": "execute_result"
    }
   ],
   "source": [
    "datafile=\"49x23.csv\"\n",
    "data=pd.DataFrame(pd.read_csv(datafile,sep=\";\"))\n",
    "\n",
    "data[\"JOB\"]=\"J\"+data[\"JOB\"].map(str)\n",
    "dictJobs={i:[data.set_index('JOB').to_dict()[\"Deadline\"][i],data.set_index('JOB').to_dict()[\"PT\"][i]] for i in data.set_index('JOB').to_dict()[\"Deadline\"].keys()}\n",
    "\n",
    "dictJobs=dict(sorted(dictJobs.items(), key=lambda item: item[1]))\n",
    "ordDict={}\n",
    "cont=0\n",
    "for i in dictJobs:\n",
    "    ordDict[cont]=[i,dictJobs[i][0],dictJobs[i][1]]\n",
    "    cont+=1\n",
    "len(dictJobs)"
   ]
  },
  {
   "cell_type": "code",
   "execution_count": 47,
   "metadata": {},
   "outputs": [
    {
     "name": "stdout",
     "output_type": "stream",
     "text": [
      "Changed value of parameter timeLimit to 3600.0\n",
      "   Prev: inf  Min: 0.0  Max: inf  Default: inf\n",
      "Gurobi Optimizer version 9.1.1 build v9.1.1rc0 (win64)\n",
      "Thread count: 6 physical cores, 6 logical processors, using up to 6 threads\n",
      "Optimize a model with 83447 rows, 9604 columns and 254506 nonzeros\n",
      "Model fingerprint: 0x932effa9\n",
      "Variable types: 0 continuous, 9604 integer (9604 binary)\n",
      "Coefficient statistics:\n",
      "  Matrix range     [1e+00, 2e+03]\n",
      "  Objective range  [1e+00, 1e+00]\n",
      "  Bounds range     [1e+00, 1e+00]\n",
      "  RHS range        [1e+00, 3e+02]\n",
      "Found heuristic solution: objective -0.0000000\n",
      "Found heuristic solution: objective 6.0000000\n",
      "Presolve removed 83256 rows and 9002 columns\n",
      "Presolve time: 0.21s\n",
      "Presolved: 191 rows, 602 columns, 1692 nonzeros\n",
      "Variable types: 0 continuous, 602 integer (602 binary)\n",
      "\n",
      "Root relaxation: objective 4.900000e+01, 114 iterations, 0.00 seconds\n",
      "\n",
      "    Nodes    |    Current Node    |     Objective Bounds      |     Work\n",
      " Expl Unexpl |  Obj  Depth IntInf | Incumbent    BestBd   Gap | It/Node Time\n",
      "\n",
      "H    0     0                      49.0000000  602.00000  1129%     -    0s\n",
      "     0     0          -    0        49.00000   49.00000  0.00%     -    0s\n",
      "\n",
      "Explored 0 nodes (228 simplex iterations) in 0.27 seconds\n",
      "Thread count was 6 (of 6 available processors)\n",
      "\n",
      "Solution count 3: 49 6 -0 \n",
      "\n",
      "Optimal solution found (tolerance 1.00e-04)\n",
      "Best objective 4.900000000000e+01, best bound 4.900000000000e+01, gap 0.0000%\n"
     ]
    }
   ],
   "source": [
    "p = []\n",
    "d = []\n",
    "for i in ordDict.keys():\n",
    "    p.append(ordDict[i][2])\n",
    "    d.append(ordDict[i][1])\n",
    "    \n",
    "ith = len(ordDict)\n",
    "jth = 2\n",
    "N = range(ith)\n",
    "M = range(jth)\n",
    "indices=[(i,j,k) for i in N for j in M for k in N]\n",
    "\n",
    "t =[0,24,48,72,96,168,192,216,240,264,336,360,384,408,432,504,528,552,576,600,672,696,720,744,768,840,864,888,912,936,1008,1032,1056,1080,1104,1176,1200,1224,1248,1272,1344,1368,1392,1416,1440,1512,1536,1560,1584,1608,1680,1704,1728,1752,1776,1848,1872,1896,1920,1944,2016,2040,2064,2088,2112,2184,2208,2232,2256,2280,2352,2376,2400,2424,2448,2520,2544,2568,2592,2616,2688,2712,2736,2760,2784,2856,2880,2904,2928,2952,3024,3048,3072,3096,3120,3192,3216,3240,3264,3288,3360,3384,3408,3432,3456,3528,3552,3576,3600,3624,3696,3720,3744,3768,3792,3864,3888,3912,3936,3960,4032,4056,4080,4104,4128,4200,4224,4248,4272,4296,4368,4392,4416,4440,4464,4536,4560,4584,4608,4632,4704,4728,4752,4776,4800,4872,4896,4920,4944,4968,5040,5064,5088,5112,5136,5208,5232,5256,5280,5304,5376,5400,5424,5448,5472,5544,5568,5592,5616,5640,5712,5736,5760,5784,5808,5880,5904,5928,5952,5976,6048,6072,6096,6120,6144,6216,6240,6264,6288,6312,6384,6408,6432,6456,6480,6552,6576,6600,6624,6648,6720,6744,6768,6792,6816,6888,6912,6936,6960,6984,7056,7080,7104,7128,7152,7224,7248,7272,7296,7320,7392,7416,7440,7464,7488,7560,7584,7608,7632,7656,7728,7752,7776,7800,7824,7896,7920,7944,7968,7992,8064,8088,8112,8136,8160,8232,8256,8280,8304,8328,8400,8424,8448,8472,8496,8568,8592,8616,8640,8664,8736,8760,8784,8808,8832,8904,8928,8952,8976,9000,9072,9096,9120,9144,9168,9240,9264,9288,9312,9336,9408,9432,9456,9480,9504,9576,9600,9624,9648,9672,9744,9768,9792,9816,9840,9912,9936,9960,9984,10008,10080,10104,10128,10152,10176,10248,10272,10296,10320,10344,10416,10440,10464,10488,10512,10584,10608,10632,10656,10680,10752,10776,10800,10824,10848,10920,10944,10968,10992,11016,11088,11112,11136,11160,11184,11256,11280,11304,11328,11352,11424,11448,11472,11496,11520,11592,11616,11640,11664,11688,11760,11784,11808,11832,11856,11928,11952,11976,12000,12024,12096,12120,12144,12168,12192,12264,12288,12312,12336,12360,12432,12456,12480,12504,12528,12600,12624,12648,12672,12696,12768,12792,12816,12840,12864,12936,12960,12984,13008,13032,13104,13128,13152,13176,13200,13272,13296,13320,13344,13368,13440,13464,13488,13512,13536,13608,13632,13656,13680,13704,13776,13800,13824,13848,13872,13944,13968,13992,14016,14040,14112,14136,14160,14184,14208,14280,14304,14328,14352,14376,14448,14472,14496,14520,14544,14616,14640,14664,14688,14712,14784,14808,14832,14856,14880,14952,14976,15000,15024,15048,15120,15144,15168,15192,15216,15288,15312,15336,15360,15384,15456,15480,15504,15528,15552,15624,15648,15672,15696,15720,15792,15816,15840,15864,15888,15960,15984,16008,16032,16056,16128,16152,16176,16200,16224,16296,16320,16344,16368,16392,16464,16488,16512,16536,16560,16632,16656,16680,16704,16728,16800,16824,16848,16872,16896,16968]\n",
    "WT = 11\n",
    "\n",
    "mdl = grb.Model(\"modelo\")\n",
    "\n",
    "x = mdl.addVars(indices, vtype=grb.GRB.BINARY, name='x')\n",
    "MAX = mdl.addVars(indices, vtype=grb.GRB.BINARY, name='y')\n",
    "\n",
    "mdl.Params.timeLimit=3600.0\n",
    "\n",
    "mdl.setObjective(sum(x[(i,j,k)] for i in N for j in M for k in N))\n",
    "\n",
    "mdl.addConstrs((sum(x[(i,j,k)] for j in M for k in N) <= 1 for i in N), name='B')\n",
    "\n",
    "mdl.addConstrs((sum(x[(i,j,k)]*p[i] for i in N) <= WT  for k in N for j in M), name='D')\n",
    "\n",
    "for i in N:\n",
    "    for j in M:\n",
    "        for k in range(i+1):      \n",
    "            mdl.addConstr(sum((x[(z,j,k)])*p[z] for z in range(i+1))+(t[k]*MAX[(i,j,k)]) <= d[i])\n",
    "\n",
    "for i in N:\n",
    "    for j in M:\n",
    "        for k in range(i+1):\n",
    "            for z in range(i+1):\n",
    "                mdl.addConstr(x[(z,j,k)] <=MAX[(i,j,k)])\n",
    "                \n",
    "mdl.ModelSense = grb.GRB.MAXIMIZE\n",
    "mdl.optimize()"
   ]
  },
  {
   "cell_type": "markdown",
   "metadata": {},
   "source": [
    "## Entrada de datos: Instancia 49x24"
   ]
  },
  {
   "cell_type": "code",
   "execution_count": 48,
   "metadata": {},
   "outputs": [
    {
     "data": {
      "text/plain": [
       "49"
      ]
     },
     "execution_count": 48,
     "metadata": {},
     "output_type": "execute_result"
    }
   ],
   "source": [
    "datafile=\"49x24.csv\"\n",
    "data=pd.DataFrame(pd.read_csv(datafile,sep=\";\"))\n",
    "\n",
    "data[\"JOB\"]=\"J\"+data[\"JOB\"].map(str)\n",
    "dictJobs={i:[data.set_index('JOB').to_dict()[\"Deadline\"][i],data.set_index('JOB').to_dict()[\"PT\"][i]] for i in data.set_index('JOB').to_dict()[\"Deadline\"].keys()}\n",
    "\n",
    "dictJobs=dict(sorted(dictJobs.items(), key=lambda item: item[1]))\n",
    "ordDict={}\n",
    "cont=0\n",
    "for i in dictJobs:\n",
    "    ordDict[cont]=[i,dictJobs[i][0],dictJobs[i][1]]\n",
    "    cont+=1\n",
    "len(dictJobs)"
   ]
  },
  {
   "cell_type": "code",
   "execution_count": 49,
   "metadata": {},
   "outputs": [
    {
     "name": "stdout",
     "output_type": "stream",
     "text": [
      "Changed value of parameter timeLimit to 3600.0\n",
      "   Prev: inf  Min: 0.0  Max: inf  Default: inf\n",
      "Gurobi Optimizer version 9.1.1 build v9.1.1rc0 (win64)\n",
      "Thread count: 6 physical cores, 6 logical processors, using up to 6 threads\n",
      "Optimize a model with 83447 rows, 9604 columns and 254506 nonzeros\n",
      "Model fingerprint: 0x7b754b7b\n",
      "Variable types: 0 continuous, 9604 integer (9604 binary)\n",
      "Coefficient statistics:\n",
      "  Matrix range     [1e+00, 2e+03]\n",
      "  Objective range  [1e+00, 1e+00]\n",
      "  Bounds range     [1e+00, 1e+00]\n",
      "  RHS range        [1e+00, 3e+02]\n",
      "Found heuristic solution: objective -0.0000000\n",
      "Found heuristic solution: objective 6.0000000\n",
      "Presolve removed 83208 rows and 8974 columns\n",
      "Presolve time: 0.12s\n",
      "Presolved: 239 rows, 630 columns, 2012 nonzeros\n",
      "Variable types: 0 continuous, 630 integer (630 binary)\n",
      "\n",
      "Root relaxation: objective 4.900000e+01, 193 iterations, 0.00 seconds\n",
      "\n",
      "    Nodes    |    Current Node    |     Objective Bounds      |     Work\n",
      " Expl Unexpl |  Obj  Depth IntInf | Incumbent    BestBd   Gap | It/Node Time\n",
      "\n",
      "     0     0   49.00000    0   13    6.00000   49.00000   717%     -    0s\n",
      "H    0     0                      46.0000000   49.00000  6.52%     -    0s\n",
      "H    0     0                      47.0000000   49.00000  4.26%     -    0s\n",
      "     0     0   49.00000    0   37   47.00000   49.00000  4.26%     -    0s\n",
      "H    0     0                      48.0000000   49.00000  2.08%     -    0s\n",
      "     0     0   49.00000    0   40   48.00000   49.00000  2.08%     -    0s\n",
      "     0     0   49.00000    0   18   48.00000   49.00000  2.08%     -    0s\n",
      "     0     0   49.00000    0   18   48.00000   49.00000  2.08%     -    0s\n",
      "     0     2   49.00000    0   18   48.00000   49.00000  2.08%     -    0s\n",
      "H    6     5                      49.0000000   49.00000  0.00%   7.2    0s\n",
      "\n",
      "Cutting planes:\n",
      "  Gomory: 22\n",
      "  Cover: 22\n",
      "  Clique: 1\n",
      "  MIR: 23\n",
      "  StrongCG: 19\n",
      "  Flow cover: 23\n",
      "  GUB cover: 3\n",
      "  Zero half: 3\n",
      "  RLT: 6\n",
      "\n",
      "Explored 6 nodes (3187 simplex iterations) in 0.51 seconds\n",
      "Thread count was 6 (of 6 available processors)\n",
      "\n",
      "Solution count 6: 49 48 47 ... -0\n",
      "\n",
      "Optimal solution found (tolerance 1.00e-04)\n",
      "Best objective 4.900000000000e+01, best bound 4.900000000000e+01, gap 0.0000%\n"
     ]
    }
   ],
   "source": [
    "p = []\n",
    "d = []\n",
    "for i in ordDict.keys():\n",
    "    p.append(ordDict[i][2])\n",
    "    d.append(ordDict[i][1])\n",
    "    \n",
    "ith = len(ordDict)\n",
    "jth = 2\n",
    "N = range(ith)\n",
    "M = range(jth)\n",
    "indices=[(i,j,k) for i in N for j in M for k in N]\n",
    "\n",
    "t =[0,24,48,72,96,168,192,216,240,264,336,360,384,408,432,504,528,552,576,600,672,696,720,744,768,840,864,888,912,936,1008,1032,1056,1080,1104,1176,1200,1224,1248,1272,1344,1368,1392,1416,1440,1512,1536,1560,1584,1608,1680,1704,1728,1752,1776,1848,1872,1896,1920,1944,2016,2040,2064,2088,2112,2184,2208,2232,2256,2280,2352,2376,2400,2424,2448,2520,2544,2568,2592,2616,2688,2712,2736,2760,2784,2856,2880,2904,2928,2952,3024,3048,3072,3096,3120,3192,3216,3240,3264,3288,3360,3384,3408,3432,3456,3528,3552,3576,3600,3624,3696,3720,3744,3768,3792,3864,3888,3912,3936,3960,4032,4056,4080,4104,4128,4200,4224,4248,4272,4296,4368,4392,4416,4440,4464,4536,4560,4584,4608,4632,4704,4728,4752,4776,4800,4872,4896,4920,4944,4968,5040,5064,5088,5112,5136,5208,5232,5256,5280,5304,5376,5400,5424,5448,5472,5544,5568,5592,5616,5640,5712,5736,5760,5784,5808,5880,5904,5928,5952,5976,6048,6072,6096,6120,6144,6216,6240,6264,6288,6312,6384,6408,6432,6456,6480,6552,6576,6600,6624,6648,6720,6744,6768,6792,6816,6888,6912,6936,6960,6984,7056,7080,7104,7128,7152,7224,7248,7272,7296,7320,7392,7416,7440,7464,7488,7560,7584,7608,7632,7656,7728,7752,7776,7800,7824,7896,7920,7944,7968,7992,8064,8088,8112,8136,8160,8232,8256,8280,8304,8328,8400,8424,8448,8472,8496,8568,8592,8616,8640,8664,8736,8760,8784,8808,8832,8904,8928,8952,8976,9000,9072,9096,9120,9144,9168,9240,9264,9288,9312,9336,9408,9432,9456,9480,9504,9576,9600,9624,9648,9672,9744,9768,9792,9816,9840,9912,9936,9960,9984,10008,10080,10104,10128,10152,10176,10248,10272,10296,10320,10344,10416,10440,10464,10488,10512,10584,10608,10632,10656,10680,10752,10776,10800,10824,10848,10920,10944,10968,10992,11016,11088,11112,11136,11160,11184,11256,11280,11304,11328,11352,11424,11448,11472,11496,11520,11592,11616,11640,11664,11688,11760,11784,11808,11832,11856,11928,11952,11976,12000,12024,12096,12120,12144,12168,12192,12264,12288,12312,12336,12360,12432,12456,12480,12504,12528,12600,12624,12648,12672,12696,12768,12792,12816,12840,12864,12936,12960,12984,13008,13032,13104,13128,13152,13176,13200,13272,13296,13320,13344,13368,13440,13464,13488,13512,13536,13608,13632,13656,13680,13704,13776,13800,13824,13848,13872,13944,13968,13992,14016,14040,14112,14136,14160,14184,14208,14280,14304,14328,14352,14376,14448,14472,14496,14520,14544,14616,14640,14664,14688,14712,14784,14808,14832,14856,14880,14952,14976,15000,15024,15048,15120,15144,15168,15192,15216,15288,15312,15336,15360,15384,15456,15480,15504,15528,15552,15624,15648,15672,15696,15720,15792,15816,15840,15864,15888,15960,15984,16008,16032,16056,16128,16152,16176,16200,16224,16296,16320,16344,16368,16392,16464,16488,16512,16536,16560,16632,16656,16680,16704,16728,16800,16824,16848,16872,16896,16968]\n",
    "WT = 11\n",
    "\n",
    "mdl = grb.Model(\"modelo\")\n",
    "\n",
    "x = mdl.addVars(indices, vtype=grb.GRB.BINARY, name='x')\n",
    "MAX = mdl.addVars(indices, vtype=grb.GRB.BINARY, name='y')\n",
    "\n",
    "mdl.Params.timeLimit=3600.0\n",
    "\n",
    "mdl.setObjective(sum(x[(i,j,k)] for i in N for j in M for k in N))\n",
    "\n",
    "mdl.addConstrs((sum(x[(i,j,k)] for j in M for k in N) <= 1 for i in N), name='B')\n",
    "\n",
    "mdl.addConstrs((sum(x[(i,j,k)]*p[i] for i in N) <= WT  for k in N for j in M), name='D')\n",
    "\n",
    "for i in N:\n",
    "    for j in M:\n",
    "        for k in range(i+1):      \n",
    "            mdl.addConstr(sum((x[(z,j,k)])*p[z] for z in range(i+1))+(t[k]*MAX[(i,j,k)]) <= d[i])\n",
    "\n",
    "for i in N:\n",
    "    for j in M:\n",
    "        for k in range(i+1):\n",
    "            for z in range(i+1):\n",
    "                mdl.addConstr(x[(z,j,k)] <=MAX[(i,j,k)])\n",
    "                \n",
    "mdl.ModelSense = grb.GRB.MAXIMIZE\n",
    "mdl.optimize()"
   ]
  },
  {
   "cell_type": "markdown",
   "metadata": {},
   "source": [
    "## Entrada de datos: Instancia 49x25"
   ]
  },
  {
   "cell_type": "code",
   "execution_count": 50,
   "metadata": {},
   "outputs": [
    {
     "data": {
      "text/plain": [
       "49"
      ]
     },
     "execution_count": 50,
     "metadata": {},
     "output_type": "execute_result"
    }
   ],
   "source": [
    "datafile=\"49x25.csv\"\n",
    "data=pd.DataFrame(pd.read_csv(datafile,sep=\";\"))\n",
    "\n",
    "data[\"JOB\"]=\"J\"+data[\"JOB\"].map(str)\n",
    "dictJobs={i:[data.set_index('JOB').to_dict()[\"Deadline\"][i],data.set_index('JOB').to_dict()[\"PT\"][i]] for i in data.set_index('JOB').to_dict()[\"Deadline\"].keys()}\n",
    "\n",
    "dictJobs=dict(sorted(dictJobs.items(), key=lambda item: item[1]))\n",
    "ordDict={}\n",
    "cont=0\n",
    "for i in dictJobs:\n",
    "    ordDict[cont]=[i,dictJobs[i][0],dictJobs[i][1]]\n",
    "    cont+=1\n",
    "len(dictJobs)"
   ]
  },
  {
   "cell_type": "code",
   "execution_count": 51,
   "metadata": {
    "scrolled": true
   },
   "outputs": [
    {
     "name": "stdout",
     "output_type": "stream",
     "text": [
      "Changed value of parameter timeLimit to 3600.0\n",
      "   Prev: inf  Min: 0.0  Max: inf  Default: inf\n",
      "Gurobi Optimizer version 9.1.1 build v9.1.1rc0 (win64)\n",
      "Thread count: 6 physical cores, 6 logical processors, using up to 6 threads\n",
      "Optimize a model with 83447 rows, 9604 columns and 254506 nonzeros\n",
      "Model fingerprint: 0x1fdeb476\n",
      "Variable types: 0 continuous, 9604 integer (9604 binary)\n",
      "Coefficient statistics:\n",
      "  Matrix range     [1e+00, 2e+03]\n",
      "  Objective range  [1e+00, 1e+00]\n",
      "  Bounds range     [1e+00, 1e+00]\n",
      "  RHS range        [1e+00, 3e+02]\n",
      "Found heuristic solution: objective -0.0000000\n",
      "Found heuristic solution: objective 7.0000000\n",
      "Presolve removed 83275 rows and 8970 columns\n",
      "Presolve time: 0.19s\n",
      "Presolved: 172 rows, 634 columns, 1666 nonzeros\n",
      "Variable types: 0 continuous, 634 integer (634 binary)\n",
      "\n",
      "Root relaxation: objective 4.800000e+01, 82 iterations, 0.00 seconds\n",
      "\n",
      "    Nodes    |    Current Node    |     Objective Bounds      |     Work\n",
      " Expl Unexpl |  Obj  Depth IntInf | Incumbent    BestBd   Gap | It/Node Time\n",
      "\n",
      "H    0     0                      48.0000000  634.00000  1221%     -    0s\n",
      "     0     0          -    0        48.00000   48.00000  0.00%     -    0s\n",
      "\n",
      "Explored 0 nodes (149 simplex iterations) in 0.33 seconds\n",
      "Thread count was 6 (of 6 available processors)\n",
      "\n",
      "Solution count 3: 48 7 -0 \n",
      "\n",
      "Optimal solution found (tolerance 1.00e-04)\n",
      "Best objective 4.800000000000e+01, best bound 4.800000000000e+01, gap 0.0000%\n"
     ]
    }
   ],
   "source": [
    "p = []\n",
    "d = []\n",
    "for i in ordDict.keys():\n",
    "    p.append(ordDict[i][2])\n",
    "    d.append(ordDict[i][1])\n",
    "    \n",
    "ith = len(ordDict)\n",
    "jth = 2\n",
    "N = range(ith)\n",
    "M = range(jth)\n",
    "indices=[(i,j,k) for i in N for j in M for k in N]\n",
    "\n",
    "t =[0,24,48,72,96,168,192,216,240,264,336,360,384,408,432,504,528,552,576,600,672,696,720,744,768,840,864,888,912,936,1008,1032,1056,1080,1104,1176,1200,1224,1248,1272,1344,1368,1392,1416,1440,1512,1536,1560,1584,1608,1680,1704,1728,1752,1776,1848,1872,1896,1920,1944,2016,2040,2064,2088,2112,2184,2208,2232,2256,2280,2352,2376,2400,2424,2448,2520,2544,2568,2592,2616,2688,2712,2736,2760,2784,2856,2880,2904,2928,2952,3024,3048,3072,3096,3120,3192,3216,3240,3264,3288,3360,3384,3408,3432,3456,3528,3552,3576,3600,3624,3696,3720,3744,3768,3792,3864,3888,3912,3936,3960,4032,4056,4080,4104,4128,4200,4224,4248,4272,4296,4368,4392,4416,4440,4464,4536,4560,4584,4608,4632,4704,4728,4752,4776,4800,4872,4896,4920,4944,4968,5040,5064,5088,5112,5136,5208,5232,5256,5280,5304,5376,5400,5424,5448,5472,5544,5568,5592,5616,5640,5712,5736,5760,5784,5808,5880,5904,5928,5952,5976,6048,6072,6096,6120,6144,6216,6240,6264,6288,6312,6384,6408,6432,6456,6480,6552,6576,6600,6624,6648,6720,6744,6768,6792,6816,6888,6912,6936,6960,6984,7056,7080,7104,7128,7152,7224,7248,7272,7296,7320,7392,7416,7440,7464,7488,7560,7584,7608,7632,7656,7728,7752,7776,7800,7824,7896,7920,7944,7968,7992,8064,8088,8112,8136,8160,8232,8256,8280,8304,8328,8400,8424,8448,8472,8496,8568,8592,8616,8640,8664,8736,8760,8784,8808,8832,8904,8928,8952,8976,9000,9072,9096,9120,9144,9168,9240,9264,9288,9312,9336,9408,9432,9456,9480,9504,9576,9600,9624,9648,9672,9744,9768,9792,9816,9840,9912,9936,9960,9984,10008,10080,10104,10128,10152,10176,10248,10272,10296,10320,10344,10416,10440,10464,10488,10512,10584,10608,10632,10656,10680,10752,10776,10800,10824,10848,10920,10944,10968,10992,11016,11088,11112,11136,11160,11184,11256,11280,11304,11328,11352,11424,11448,11472,11496,11520,11592,11616,11640,11664,11688,11760,11784,11808,11832,11856,11928,11952,11976,12000,12024,12096,12120,12144,12168,12192,12264,12288,12312,12336,12360,12432,12456,12480,12504,12528,12600,12624,12648,12672,12696,12768,12792,12816,12840,12864,12936,12960,12984,13008,13032,13104,13128,13152,13176,13200,13272,13296,13320,13344,13368,13440,13464,13488,13512,13536,13608,13632,13656,13680,13704,13776,13800,13824,13848,13872,13944,13968,13992,14016,14040,14112,14136,14160,14184,14208,14280,14304,14328,14352,14376,14448,14472,14496,14520,14544,14616,14640,14664,14688,14712,14784,14808,14832,14856,14880,14952,14976,15000,15024,15048,15120,15144,15168,15192,15216,15288,15312,15336,15360,15384,15456,15480,15504,15528,15552,15624,15648,15672,15696,15720,15792,15816,15840,15864,15888,15960,15984,16008,16032,16056,16128,16152,16176,16200,16224,16296,16320,16344,16368,16392,16464,16488,16512,16536,16560,16632,16656,16680,16704,16728,16800,16824,16848,16872,16896,16968]\n",
    "WT = 11\n",
    "\n",
    "mdl = grb.Model(\"modelo\")\n",
    "\n",
    "x = mdl.addVars(indices, vtype=grb.GRB.BINARY, name='x')\n",
    "MAX = mdl.addVars(indices, vtype=grb.GRB.BINARY, name='y')\n",
    "\n",
    "mdl.Params.timeLimit=3600.0\n",
    "\n",
    "mdl.setObjective(sum(x[(i,j,k)] for i in N for j in M for k in N))\n",
    "\n",
    "mdl.addConstrs((sum(x[(i,j,k)] for j in M for k in N) <= 1 for i in N), name='B')\n",
    "\n",
    "mdl.addConstrs((sum(x[(i,j,k)]*p[i] for i in N) <= WT  for k in N for j in M), name='D')\n",
    "\n",
    "for i in N:\n",
    "    for j in M:\n",
    "        for k in range(i+1):      \n",
    "            mdl.addConstr(sum((x[(z,j,k)])*p[z] for z in range(i+1))+(t[k]*MAX[(i,j,k)]) <= d[i])\n",
    "\n",
    "for i in N:\n",
    "    for j in M:\n",
    "        for k in range(i+1):\n",
    "            for z in range(i+1):\n",
    "                mdl.addConstr(x[(z,j,k)] <=MAX[(i,j,k)])\n",
    "                \n",
    "mdl.ModelSense = grb.GRB.MAXIMIZE\n",
    "mdl.optimize()"
   ]
  },
  {
   "cell_type": "markdown",
   "metadata": {},
   "source": [
    "## Entrada de datos: Instancia 49x26"
   ]
  },
  {
   "cell_type": "code",
   "execution_count": 52,
   "metadata": {},
   "outputs": [
    {
     "data": {
      "text/plain": [
       "49"
      ]
     },
     "execution_count": 52,
     "metadata": {},
     "output_type": "execute_result"
    }
   ],
   "source": [
    "datafile=\"49x26.csv\"\n",
    "data=pd.DataFrame(pd.read_csv(datafile,sep=\";\"))\n",
    "\n",
    "data[\"JOB\"]=\"J\"+data[\"JOB\"].map(str)\n",
    "dictJobs={i:[data.set_index('JOB').to_dict()[\"Deadline\"][i],data.set_index('JOB').to_dict()[\"PT\"][i]] for i in data.set_index('JOB').to_dict()[\"Deadline\"].keys()}\n",
    "\n",
    "dictJobs=dict(sorted(dictJobs.items(), key=lambda item: item[1]))\n",
    "ordDict={}\n",
    "cont=0\n",
    "for i in dictJobs:\n",
    "    ordDict[cont]=[i,dictJobs[i][0],dictJobs[i][1]]\n",
    "    cont+=1\n",
    "len(dictJobs)"
   ]
  },
  {
   "cell_type": "code",
   "execution_count": 53,
   "metadata": {
    "scrolled": true
   },
   "outputs": [
    {
     "name": "stdout",
     "output_type": "stream",
     "text": [
      "Changed value of parameter timeLimit to 3600.0\n",
      "   Prev: inf  Min: 0.0  Max: inf  Default: inf\n",
      "Gurobi Optimizer version 9.1.1 build v9.1.1rc0 (win64)\n",
      "Thread count: 6 physical cores, 6 logical processors, using up to 6 threads\n",
      "Optimize a model with 83447 rows, 9604 columns and 254506 nonzeros\n",
      "Model fingerprint: 0x9aae7612\n",
      "Variable types: 0 continuous, 9604 integer (9604 binary)\n",
      "Coefficient statistics:\n",
      "  Matrix range     [1e+00, 2e+03]\n",
      "  Objective range  [1e+00, 1e+00]\n",
      "  Bounds range     [1e+00, 1e+00]\n",
      "  RHS range        [1e+00, 3e+02]\n",
      "Found heuristic solution: objective -0.0000000\n",
      "Found heuristic solution: objective 12.0000000\n",
      "Presolve removed 83297 rows and 9004 columns\n",
      "Presolve time: 0.19s\n",
      "Presolved: 150 rows, 600 columns, 1510 nonzeros\n",
      "Variable types: 0 continuous, 600 integer (600 binary)\n",
      "\n",
      "Root relaxation: objective 4.800000e+01, 66 iterations, 0.00 seconds\n",
      "\n",
      "    Nodes    |    Current Node    |     Objective Bounds      |     Work\n",
      " Expl Unexpl |  Obj  Depth IntInf | Incumbent    BestBd   Gap | It/Node Time\n",
      "\n",
      "H    0     0                      48.0000000  600.00000  1150%     -    0s\n",
      "     0     0          -    0        48.00000   48.00000  0.00%     -    0s\n",
      "\n",
      "Explored 0 nodes (150 simplex iterations) in 0.28 seconds\n",
      "Thread count was 6 (of 6 available processors)\n",
      "\n",
      "Solution count 3: 48 12 -0 \n",
      "\n",
      "Optimal solution found (tolerance 1.00e-04)\n",
      "Best objective 4.800000000000e+01, best bound 4.800000000000e+01, gap 0.0000%\n"
     ]
    }
   ],
   "source": [
    "p = []\n",
    "d = []\n",
    "for i in ordDict.keys():\n",
    "    p.append(ordDict[i][2])\n",
    "    d.append(ordDict[i][1])\n",
    "    \n",
    "ith = len(ordDict)\n",
    "jth = 2\n",
    "N = range(ith)\n",
    "M = range(jth)\n",
    "indices=[(i,j,k) for i in N for j in M for k in N]\n",
    "\n",
    "t =[0,24,48,72,96,168,192,216,240,264,336,360,384,408,432,504,528,552,576,600,672,696,720,744,768,840,864,888,912,936,1008,1032,1056,1080,1104,1176,1200,1224,1248,1272,1344,1368,1392,1416,1440,1512,1536,1560,1584,1608,1680,1704,1728,1752,1776,1848,1872,1896,1920,1944,2016,2040,2064,2088,2112,2184,2208,2232,2256,2280,2352,2376,2400,2424,2448,2520,2544,2568,2592,2616,2688,2712,2736,2760,2784,2856,2880,2904,2928,2952,3024,3048,3072,3096,3120,3192,3216,3240,3264,3288,3360,3384,3408,3432,3456,3528,3552,3576,3600,3624,3696,3720,3744,3768,3792,3864,3888,3912,3936,3960,4032,4056,4080,4104,4128,4200,4224,4248,4272,4296,4368,4392,4416,4440,4464,4536,4560,4584,4608,4632,4704,4728,4752,4776,4800,4872,4896,4920,4944,4968,5040,5064,5088,5112,5136,5208,5232,5256,5280,5304,5376,5400,5424,5448,5472,5544,5568,5592,5616,5640,5712,5736,5760,5784,5808,5880,5904,5928,5952,5976,6048,6072,6096,6120,6144,6216,6240,6264,6288,6312,6384,6408,6432,6456,6480,6552,6576,6600,6624,6648,6720,6744,6768,6792,6816,6888,6912,6936,6960,6984,7056,7080,7104,7128,7152,7224,7248,7272,7296,7320,7392,7416,7440,7464,7488,7560,7584,7608,7632,7656,7728,7752,7776,7800,7824,7896,7920,7944,7968,7992,8064,8088,8112,8136,8160,8232,8256,8280,8304,8328,8400,8424,8448,8472,8496,8568,8592,8616,8640,8664,8736,8760,8784,8808,8832,8904,8928,8952,8976,9000,9072,9096,9120,9144,9168,9240,9264,9288,9312,9336,9408,9432,9456,9480,9504,9576,9600,9624,9648,9672,9744,9768,9792,9816,9840,9912,9936,9960,9984,10008,10080,10104,10128,10152,10176,10248,10272,10296,10320,10344,10416,10440,10464,10488,10512,10584,10608,10632,10656,10680,10752,10776,10800,10824,10848,10920,10944,10968,10992,11016,11088,11112,11136,11160,11184,11256,11280,11304,11328,11352,11424,11448,11472,11496,11520,11592,11616,11640,11664,11688,11760,11784,11808,11832,11856,11928,11952,11976,12000,12024,12096,12120,12144,12168,12192,12264,12288,12312,12336,12360,12432,12456,12480,12504,12528,12600,12624,12648,12672,12696,12768,12792,12816,12840,12864,12936,12960,12984,13008,13032,13104,13128,13152,13176,13200,13272,13296,13320,13344,13368,13440,13464,13488,13512,13536,13608,13632,13656,13680,13704,13776,13800,13824,13848,13872,13944,13968,13992,14016,14040,14112,14136,14160,14184,14208,14280,14304,14328,14352,14376,14448,14472,14496,14520,14544,14616,14640,14664,14688,14712,14784,14808,14832,14856,14880,14952,14976,15000,15024,15048,15120,15144,15168,15192,15216,15288,15312,15336,15360,15384,15456,15480,15504,15528,15552,15624,15648,15672,15696,15720,15792,15816,15840,15864,15888,15960,15984,16008,16032,16056,16128,16152,16176,16200,16224,16296,16320,16344,16368,16392,16464,16488,16512,16536,16560,16632,16656,16680,16704,16728,16800,16824,16848,16872,16896,16968]\n",
    "WT = 11\n",
    "\n",
    "mdl = grb.Model(\"modelo\")\n",
    "\n",
    "x = mdl.addVars(indices, vtype=grb.GRB.BINARY, name='x')\n",
    "MAX = mdl.addVars(indices, vtype=grb.GRB.BINARY, name='y')\n",
    "\n",
    "mdl.Params.timeLimit=3600.0\n",
    "\n",
    "mdl.setObjective(sum(x[(i,j,k)] for i in N for j in M for k in N))\n",
    "\n",
    "mdl.addConstrs((sum(x[(i,j,k)] for j in M for k in N) <= 1 for i in N), name='B')\n",
    "\n",
    "mdl.addConstrs((sum(x[(i,j,k)]*p[i] for i in N) <= WT  for k in N for j in M), name='D')\n",
    "\n",
    "for i in N:\n",
    "    for j in M:\n",
    "        for k in range(i+1):      \n",
    "            mdl.addConstr(sum((x[(z,j,k)])*p[z] for z in range(i+1))+(t[k]*MAX[(i,j,k)]) <= d[i])\n",
    "\n",
    "for i in N:\n",
    "    for j in M:\n",
    "        for k in range(i+1):\n",
    "            for z in range(i+1):\n",
    "                mdl.addConstr(x[(z,j,k)] <=MAX[(i,j,k)])\n",
    "                \n",
    "mdl.ModelSense = grb.GRB.MAXIMIZE\n",
    "mdl.optimize()"
   ]
  },
  {
   "cell_type": "markdown",
   "metadata": {},
   "source": [
    "## Entrada de datos: Instancia 49x27"
   ]
  },
  {
   "cell_type": "code",
   "execution_count": 54,
   "metadata": {},
   "outputs": [
    {
     "data": {
      "text/plain": [
       "49"
      ]
     },
     "execution_count": 54,
     "metadata": {},
     "output_type": "execute_result"
    }
   ],
   "source": [
    "datafile=\"49x27.csv\"\n",
    "data=pd.DataFrame(pd.read_csv(datafile,sep=\";\"))\n",
    "\n",
    "data[\"JOB\"]=\"J\"+data[\"JOB\"].map(str)\n",
    "dictJobs={i:[data.set_index('JOB').to_dict()[\"Deadline\"][i],data.set_index('JOB').to_dict()[\"PT\"][i]] for i in data.set_index('JOB').to_dict()[\"Deadline\"].keys()}\n",
    "\n",
    "dictJobs=dict(sorted(dictJobs.items(), key=lambda item: item[1]))\n",
    "ordDict={}\n",
    "cont=0\n",
    "for i in dictJobs:\n",
    "    ordDict[cont]=[i,dictJobs[i][0],dictJobs[i][1]]\n",
    "    cont+=1\n",
    "len(dictJobs)"
   ]
  },
  {
   "cell_type": "code",
   "execution_count": 55,
   "metadata": {
    "scrolled": true
   },
   "outputs": [
    {
     "name": "stdout",
     "output_type": "stream",
     "text": [
      "Changed value of parameter timeLimit to 3600.0\n",
      "   Prev: inf  Min: 0.0  Max: inf  Default: inf\n",
      "Gurobi Optimizer version 9.1.1 build v9.1.1rc0 (win64)\n",
      "Thread count: 6 physical cores, 6 logical processors, using up to 6 threads\n",
      "Optimize a model with 83447 rows, 9604 columns and 254506 nonzeros\n",
      "Model fingerprint: 0x5bb2e868\n",
      "Variable types: 0 continuous, 9604 integer (9604 binary)\n",
      "Coefficient statistics:\n",
      "  Matrix range     [1e+00, 2e+03]\n",
      "  Objective range  [1e+00, 1e+00]\n",
      "  Bounds range     [1e+00, 1e+00]\n",
      "  RHS range        [1e+00, 3e+02]\n",
      "Found heuristic solution: objective -0.0000000\n",
      "Found heuristic solution: objective 10.0000000\n",
      "Presolve removed 83282 rows and 9080 columns\n",
      "Presolve time: 0.21s\n",
      "Presolved: 165 rows, 524 columns, 1598 nonzeros\n",
      "Variable types: 0 continuous, 524 integer (524 binary)\n",
      "\n",
      "Root relaxation: objective 4.700000e+01, 184 iterations, 0.00 seconds\n",
      "\n",
      "    Nodes    |    Current Node    |     Objective Bounds      |     Work\n",
      " Expl Unexpl |  Obj  Depth IntInf | Incumbent    BestBd   Gap | It/Node Time\n",
      "\n",
      "     0     0   47.00000    0   38   10.00000   47.00000   370%     -    0s\n",
      "H    0     0                      43.0000000   47.00000  9.30%     -    0s\n",
      "H    0     0                      44.0000000   47.00000  6.82%     -    0s\n",
      "     0     0   47.00000    0   48   44.00000   47.00000  6.82%     -    0s\n",
      "H    0     0                      45.0000000   47.00000  4.44%     -    0s\n",
      "     0     0   47.00000    0   28   45.00000   47.00000  4.44%     -    0s\n",
      "     0     0   47.00000    0   27   45.00000   47.00000  4.44%     -    0s\n",
      "     0     0   47.00000    0   43   45.00000   47.00000  4.44%     -    0s\n",
      "H    0     0                      46.0000000   47.00000  2.17%     -    0s\n",
      "     0     0   47.00000    0   19   46.00000   47.00000  2.17%     -    0s\n",
      "     0     0   47.00000    0   34   46.00000   47.00000  2.17%     -    0s\n",
      "     0     0   47.00000    0   41   46.00000   47.00000  2.17%     -    0s\n",
      "     0     0   47.00000    0   40   46.00000   47.00000  2.17%     -    0s\n",
      "     0     0   47.00000    0   31   46.00000   47.00000  2.17%     -    0s\n",
      "     0     0   47.00000    0   44   46.00000   47.00000  2.17%     -    0s\n",
      "     0     0   47.00000    0   31   46.00000   47.00000  2.17%     -    0s\n",
      "     0     0   47.00000    0   39   46.00000   47.00000  2.17%     -    0s\n",
      "     0     0   47.00000    0   38   46.00000   47.00000  2.17%     -    0s\n",
      "     0     2   47.00000    0   38   46.00000   47.00000  2.17%     -    0s\n",
      "\n",
      "Cutting planes:\n",
      "  Gomory: 10\n",
      "  Cover: 68\n",
      "  Clique: 3\n",
      "  MIR: 25\n",
      "  StrongCG: 17\n",
      "  RLT: 1\n",
      "\n",
      "Explored 120 nodes (11998 simplex iterations) in 1.28 seconds\n",
      "Thread count was 6 (of 6 available processors)\n",
      "\n",
      "Solution count 6: 46 45 44 ... -0\n",
      "\n",
      "Optimal solution found (tolerance 1.00e-04)\n",
      "Best objective 4.600000000000e+01, best bound 4.600000000000e+01, gap 0.0000%\n"
     ]
    }
   ],
   "source": [
    "p = []\n",
    "d = []\n",
    "for i in ordDict.keys():\n",
    "    p.append(ordDict[i][2])\n",
    "    d.append(ordDict[i][1])\n",
    "    \n",
    "ith = len(ordDict)\n",
    "jth = 2\n",
    "N = range(ith)\n",
    "M = range(jth)\n",
    "indices=[(i,j,k) for i in N for j in M for k in N]\n",
    "\n",
    "t =[0,24,48,72,96,168,192,216,240,264,336,360,384,408,432,504,528,552,576,600,672,696,720,744,768,840,864,888,912,936,1008,1032,1056,1080,1104,1176,1200,1224,1248,1272,1344,1368,1392,1416,1440,1512,1536,1560,1584,1608,1680,1704,1728,1752,1776,1848,1872,1896,1920,1944,2016,2040,2064,2088,2112,2184,2208,2232,2256,2280,2352,2376,2400,2424,2448,2520,2544,2568,2592,2616,2688,2712,2736,2760,2784,2856,2880,2904,2928,2952,3024,3048,3072,3096,3120,3192,3216,3240,3264,3288,3360,3384,3408,3432,3456,3528,3552,3576,3600,3624,3696,3720,3744,3768,3792,3864,3888,3912,3936,3960,4032,4056,4080,4104,4128,4200,4224,4248,4272,4296,4368,4392,4416,4440,4464,4536,4560,4584,4608,4632,4704,4728,4752,4776,4800,4872,4896,4920,4944,4968,5040,5064,5088,5112,5136,5208,5232,5256,5280,5304,5376,5400,5424,5448,5472,5544,5568,5592,5616,5640,5712,5736,5760,5784,5808,5880,5904,5928,5952,5976,6048,6072,6096,6120,6144,6216,6240,6264,6288,6312,6384,6408,6432,6456,6480,6552,6576,6600,6624,6648,6720,6744,6768,6792,6816,6888,6912,6936,6960,6984,7056,7080,7104,7128,7152,7224,7248,7272,7296,7320,7392,7416,7440,7464,7488,7560,7584,7608,7632,7656,7728,7752,7776,7800,7824,7896,7920,7944,7968,7992,8064,8088,8112,8136,8160,8232,8256,8280,8304,8328,8400,8424,8448,8472,8496,8568,8592,8616,8640,8664,8736,8760,8784,8808,8832,8904,8928,8952,8976,9000,9072,9096,9120,9144,9168,9240,9264,9288,9312,9336,9408,9432,9456,9480,9504,9576,9600,9624,9648,9672,9744,9768,9792,9816,9840,9912,9936,9960,9984,10008,10080,10104,10128,10152,10176,10248,10272,10296,10320,10344,10416,10440,10464,10488,10512,10584,10608,10632,10656,10680,10752,10776,10800,10824,10848,10920,10944,10968,10992,11016,11088,11112,11136,11160,11184,11256,11280,11304,11328,11352,11424,11448,11472,11496,11520,11592,11616,11640,11664,11688,11760,11784,11808,11832,11856,11928,11952,11976,12000,12024,12096,12120,12144,12168,12192,12264,12288,12312,12336,12360,12432,12456,12480,12504,12528,12600,12624,12648,12672,12696,12768,12792,12816,12840,12864,12936,12960,12984,13008,13032,13104,13128,13152,13176,13200,13272,13296,13320,13344,13368,13440,13464,13488,13512,13536,13608,13632,13656,13680,13704,13776,13800,13824,13848,13872,13944,13968,13992,14016,14040,14112,14136,14160,14184,14208,14280,14304,14328,14352,14376,14448,14472,14496,14520,14544,14616,14640,14664,14688,14712,14784,14808,14832,14856,14880,14952,14976,15000,15024,15048,15120,15144,15168,15192,15216,15288,15312,15336,15360,15384,15456,15480,15504,15528,15552,15624,15648,15672,15696,15720,15792,15816,15840,15864,15888,15960,15984,16008,16032,16056,16128,16152,16176,16200,16224,16296,16320,16344,16368,16392,16464,16488,16512,16536,16560,16632,16656,16680,16704,16728,16800,16824,16848,16872,16896,16968]\n",
    "WT = 11\n",
    "\n",
    "mdl = grb.Model(\"modelo\")\n",
    "\n",
    "x = mdl.addVars(indices, vtype=grb.GRB.BINARY, name='x')\n",
    "MAX = mdl.addVars(indices, vtype=grb.GRB.BINARY, name='y')\n",
    "\n",
    "mdl.Params.timeLimit=3600.0\n",
    "\n",
    "mdl.setObjective(sum(x[(i,j,k)] for i in N for j in M for k in N))\n",
    "\n",
    "mdl.addConstrs((sum(x[(i,j,k)] for j in M for k in N) <= 1 for i in N), name='B')\n",
    "\n",
    "mdl.addConstrs((sum(x[(i,j,k)]*p[i] for i in N) <= WT  for k in N for j in M), name='D')\n",
    "\n",
    "for i in N:\n",
    "    for j in M:\n",
    "        for k in range(i+1):      \n",
    "            mdl.addConstr(sum((x[(z,j,k)])*p[z] for z in range(i+1))+(t[k]*MAX[(i,j,k)]) <= d[i])\n",
    "\n",
    "for i in N:\n",
    "    for j in M:\n",
    "        for k in range(i+1):\n",
    "            for z in range(i+1):\n",
    "                mdl.addConstr(x[(z,j,k)] <=MAX[(i,j,k)])\n",
    "                \n",
    "mdl.ModelSense = grb.GRB.MAXIMIZE\n",
    "mdl.optimize()"
   ]
  },
  {
   "cell_type": "markdown",
   "metadata": {},
   "source": [
    "## Entrada de datos: Instancia 49x28"
   ]
  },
  {
   "cell_type": "code",
   "execution_count": 56,
   "metadata": {},
   "outputs": [
    {
     "data": {
      "text/plain": [
       "49"
      ]
     },
     "execution_count": 56,
     "metadata": {},
     "output_type": "execute_result"
    }
   ],
   "source": [
    "datafile=\"49x28.csv\"\n",
    "data=pd.DataFrame(pd.read_csv(datafile,sep=\";\"))\n",
    "\n",
    "data[\"JOB\"]=\"J\"+data[\"JOB\"].map(str)\n",
    "dictJobs={i:[data.set_index('JOB').to_dict()[\"Deadline\"][i],data.set_index('JOB').to_dict()[\"PT\"][i]] for i in data.set_index('JOB').to_dict()[\"Deadline\"].keys()}\n",
    "\n",
    "dictJobs=dict(sorted(dictJobs.items(), key=lambda item: item[1]))\n",
    "ordDict={}\n",
    "cont=0\n",
    "for i in dictJobs:\n",
    "    ordDict[cont]=[i,dictJobs[i][0],dictJobs[i][1]]\n",
    "    cont+=1\n",
    "len(dictJobs)"
   ]
  },
  {
   "cell_type": "code",
   "execution_count": 57,
   "metadata": {
    "scrolled": true
   },
   "outputs": [
    {
     "name": "stdout",
     "output_type": "stream",
     "text": [
      "Changed value of parameter timeLimit to 3600.0\n",
      "   Prev: inf  Min: 0.0  Max: inf  Default: inf\n",
      "Gurobi Optimizer version 9.1.1 build v9.1.1rc0 (win64)\n",
      "Thread count: 6 physical cores, 6 logical processors, using up to 6 threads\n",
      "Optimize a model with 83447 rows, 9604 columns and 254506 nonzeros\n",
      "Model fingerprint: 0x99b5a5c5\n",
      "Variable types: 0 continuous, 9604 integer (9604 binary)\n",
      "Coefficient statistics:\n",
      "  Matrix range     [1e+00, 2e+03]\n",
      "  Objective range  [1e+00, 1e+00]\n",
      "  Bounds range     [1e+00, 1e+00]\n",
      "  RHS range        [1e+00, 3e+02]\n",
      "Found heuristic solution: objective -0.0000000\n",
      "Found heuristic solution: objective 10.0000000\n",
      "Presolve removed 83283 rows and 8968 columns\n",
      "Presolve time: 0.19s\n",
      "Presolved: 164 rows, 636 columns, 1794 nonzeros\n",
      "Variable types: 0 continuous, 636 integer (636 binary)\n",
      "\n",
      "Root relaxation: objective 4.800000e+01, 101 iterations, 0.00 seconds\n",
      "\n",
      "    Nodes    |    Current Node    |     Objective Bounds      |     Work\n",
      " Expl Unexpl |  Obj  Depth IntInf | Incumbent    BestBd   Gap | It/Node Time\n",
      "\n",
      "H    0     0                      48.0000000  636.00000  1225%     -    0s\n",
      "     0     0          -    0        48.00000   48.00000  0.00%     -    0s\n",
      "\n",
      "Explored 0 nodes (179 simplex iterations) in 0.31 seconds\n",
      "Thread count was 6 (of 6 available processors)\n",
      "\n",
      "Solution count 3: 48 10 -0 \n",
      "\n",
      "Optimal solution found (tolerance 1.00e-04)\n",
      "Best objective 4.800000000000e+01, best bound 4.800000000000e+01, gap 0.0000%\n"
     ]
    }
   ],
   "source": [
    "p = []\n",
    "d = []\n",
    "for i in ordDict.keys():\n",
    "    p.append(ordDict[i][2])\n",
    "    d.append(ordDict[i][1])\n",
    "    \n",
    "ith = len(ordDict)\n",
    "jth = 2\n",
    "N = range(ith)\n",
    "M = range(jth)\n",
    "indices=[(i,j,k) for i in N for j in M for k in N]\n",
    "\n",
    "t =[0,24,48,72,96,168,192,216,240,264,336,360,384,408,432,504,528,552,576,600,672,696,720,744,768,840,864,888,912,936,1008,1032,1056,1080,1104,1176,1200,1224,1248,1272,1344,1368,1392,1416,1440,1512,1536,1560,1584,1608,1680,1704,1728,1752,1776,1848,1872,1896,1920,1944,2016,2040,2064,2088,2112,2184,2208,2232,2256,2280,2352,2376,2400,2424,2448,2520,2544,2568,2592,2616,2688,2712,2736,2760,2784,2856,2880,2904,2928,2952,3024,3048,3072,3096,3120,3192,3216,3240,3264,3288,3360,3384,3408,3432,3456,3528,3552,3576,3600,3624,3696,3720,3744,3768,3792,3864,3888,3912,3936,3960,4032,4056,4080,4104,4128,4200,4224,4248,4272,4296,4368,4392,4416,4440,4464,4536,4560,4584,4608,4632,4704,4728,4752,4776,4800,4872,4896,4920,4944,4968,5040,5064,5088,5112,5136,5208,5232,5256,5280,5304,5376,5400,5424,5448,5472,5544,5568,5592,5616,5640,5712,5736,5760,5784,5808,5880,5904,5928,5952,5976,6048,6072,6096,6120,6144,6216,6240,6264,6288,6312,6384,6408,6432,6456,6480,6552,6576,6600,6624,6648,6720,6744,6768,6792,6816,6888,6912,6936,6960,6984,7056,7080,7104,7128,7152,7224,7248,7272,7296,7320,7392,7416,7440,7464,7488,7560,7584,7608,7632,7656,7728,7752,7776,7800,7824,7896,7920,7944,7968,7992,8064,8088,8112,8136,8160,8232,8256,8280,8304,8328,8400,8424,8448,8472,8496,8568,8592,8616,8640,8664,8736,8760,8784,8808,8832,8904,8928,8952,8976,9000,9072,9096,9120,9144,9168,9240,9264,9288,9312,9336,9408,9432,9456,9480,9504,9576,9600,9624,9648,9672,9744,9768,9792,9816,9840,9912,9936,9960,9984,10008,10080,10104,10128,10152,10176,10248,10272,10296,10320,10344,10416,10440,10464,10488,10512,10584,10608,10632,10656,10680,10752,10776,10800,10824,10848,10920,10944,10968,10992,11016,11088,11112,11136,11160,11184,11256,11280,11304,11328,11352,11424,11448,11472,11496,11520,11592,11616,11640,11664,11688,11760,11784,11808,11832,11856,11928,11952,11976,12000,12024,12096,12120,12144,12168,12192,12264,12288,12312,12336,12360,12432,12456,12480,12504,12528,12600,12624,12648,12672,12696,12768,12792,12816,12840,12864,12936,12960,12984,13008,13032,13104,13128,13152,13176,13200,13272,13296,13320,13344,13368,13440,13464,13488,13512,13536,13608,13632,13656,13680,13704,13776,13800,13824,13848,13872,13944,13968,13992,14016,14040,14112,14136,14160,14184,14208,14280,14304,14328,14352,14376,14448,14472,14496,14520,14544,14616,14640,14664,14688,14712,14784,14808,14832,14856,14880,14952,14976,15000,15024,15048,15120,15144,15168,15192,15216,15288,15312,15336,15360,15384,15456,15480,15504,15528,15552,15624,15648,15672,15696,15720,15792,15816,15840,15864,15888,15960,15984,16008,16032,16056,16128,16152,16176,16200,16224,16296,16320,16344,16368,16392,16464,16488,16512,16536,16560,16632,16656,16680,16704,16728,16800,16824,16848,16872,16896,16968]\n",
    "WT = 11\n",
    "\n",
    "mdl = grb.Model(\"modelo\")\n",
    "\n",
    "x = mdl.addVars(indices, vtype=grb.GRB.BINARY, name='x')\n",
    "MAX = mdl.addVars(indices, vtype=grb.GRB.BINARY, name='y')\n",
    "\n",
    "mdl.Params.timeLimit=3600.0\n",
    "\n",
    "mdl.setObjective(sum(x[(i,j,k)] for i in N for j in M for k in N))\n",
    "\n",
    "mdl.addConstrs((sum(x[(i,j,k)] for j in M for k in N) <= 1 for i in N), name='B')\n",
    "\n",
    "mdl.addConstrs((sum(x[(i,j,k)]*p[i] for i in N) <= WT  for k in N for j in M), name='D')\n",
    "\n",
    "for i in N:\n",
    "    for j in M:\n",
    "        for k in range(i+1):      \n",
    "            mdl.addConstr(sum((x[(z,j,k)])*p[z] for z in range(i+1))+(t[k]*MAX[(i,j,k)]) <= d[i])\n",
    "\n",
    "for i in N:\n",
    "    for j in M:\n",
    "        for k in range(i+1):\n",
    "            for z in range(i+1):\n",
    "                mdl.addConstr(x[(z,j,k)] <=MAX[(i,j,k)])\n",
    "                \n",
    "mdl.ModelSense = grb.GRB.MAXIMIZE\n",
    "mdl.optimize()"
   ]
  },
  {
   "cell_type": "markdown",
   "metadata": {},
   "source": [
    "## Entrada de datos: Instancia 49x29"
   ]
  },
  {
   "cell_type": "code",
   "execution_count": 58,
   "metadata": {},
   "outputs": [
    {
     "data": {
      "text/plain": [
       "49"
      ]
     },
     "execution_count": 58,
     "metadata": {},
     "output_type": "execute_result"
    }
   ],
   "source": [
    "datafile=\"49x29.csv\"\n",
    "data=pd.DataFrame(pd.read_csv(datafile,sep=\";\"))\n",
    "\n",
    "data[\"JOB\"]=\"J\"+data[\"JOB\"].map(str)\n",
    "dictJobs={i:[data.set_index('JOB').to_dict()[\"Deadline\"][i],data.set_index('JOB').to_dict()[\"PT\"][i]] for i in data.set_index('JOB').to_dict()[\"Deadline\"].keys()}\n",
    "\n",
    "dictJobs=dict(sorted(dictJobs.items(), key=lambda item: item[1]))\n",
    "ordDict={}\n",
    "cont=0\n",
    "for i in dictJobs:\n",
    "    ordDict[cont]=[i,dictJobs[i][0],dictJobs[i][1]]\n",
    "    cont+=1\n",
    "len(dictJobs)"
   ]
  },
  {
   "cell_type": "code",
   "execution_count": 59,
   "metadata": {},
   "outputs": [
    {
     "name": "stdout",
     "output_type": "stream",
     "text": [
      "Changed value of parameter timeLimit to 3600.0\n",
      "   Prev: inf  Min: 0.0  Max: inf  Default: inf\n",
      "Gurobi Optimizer version 9.1.1 build v9.1.1rc0 (win64)\n",
      "Thread count: 6 physical cores, 6 logical processors, using up to 6 threads\n",
      "Optimize a model with 83447 rows, 9604 columns and 254506 nonzeros\n",
      "Model fingerprint: 0xb3af4090\n",
      "Variable types: 0 continuous, 9604 integer (9604 binary)\n",
      "Coefficient statistics:\n",
      "  Matrix range     [1e+00, 2e+03]\n",
      "  Objective range  [1e+00, 1e+00]\n",
      "  Bounds range     [1e+00, 1e+00]\n",
      "  RHS range        [1e+00, 3e+02]\n",
      "Found heuristic solution: objective -0.0000000\n",
      "Found heuristic solution: objective 9.0000000\n",
      "Presolve removed 83243 rows and 8976 columns\n",
      "Presolve time: 0.09s\n",
      "Presolved: 204 rows, 628 columns, 1822 nonzeros\n",
      "Variable types: 0 continuous, 628 integer (628 binary)\n",
      "\n",
      "Root relaxation: objective 4.800000e+01, 117 iterations, 0.00 seconds\n",
      "\n",
      "    Nodes    |    Current Node    |     Objective Bounds      |     Work\n",
      " Expl Unexpl |  Obj  Depth IntInf | Incumbent    BestBd   Gap | It/Node Time\n",
      "\n",
      "H    0     0                      48.0000000  628.00000  1208%     -    0s\n",
      "     0     0          -    0        48.00000   48.00000  0.00%     -    0s\n",
      "\n",
      "Explored 0 nodes (246 simplex iterations) in 0.15 seconds\n",
      "Thread count was 6 (of 6 available processors)\n",
      "\n",
      "Solution count 3: 48 9 -0 \n",
      "\n",
      "Optimal solution found (tolerance 1.00e-04)\n",
      "Best objective 4.800000000000e+01, best bound 4.800000000000e+01, gap 0.0000%\n"
     ]
    }
   ],
   "source": [
    "p = []\n",
    "d = []\n",
    "for i in ordDict.keys():\n",
    "    p.append(ordDict[i][2])\n",
    "    d.append(ordDict[i][1])\n",
    "    \n",
    "ith = len(ordDict)\n",
    "jth = 2\n",
    "N = range(ith)\n",
    "M = range(jth)\n",
    "indices=[(i,j,k) for i in N for j in M for k in N]\n",
    "\n",
    "t =[0,24,48,72,96,168,192,216,240,264,336,360,384,408,432,504,528,552,576,600,672,696,720,744,768,840,864,888,912,936,1008,1032,1056,1080,1104,1176,1200,1224,1248,1272,1344,1368,1392,1416,1440,1512,1536,1560,1584,1608,1680,1704,1728,1752,1776,1848,1872,1896,1920,1944,2016,2040,2064,2088,2112,2184,2208,2232,2256,2280,2352,2376,2400,2424,2448,2520,2544,2568,2592,2616,2688,2712,2736,2760,2784,2856,2880,2904,2928,2952,3024,3048,3072,3096,3120,3192,3216,3240,3264,3288,3360,3384,3408,3432,3456,3528,3552,3576,3600,3624,3696,3720,3744,3768,3792,3864,3888,3912,3936,3960,4032,4056,4080,4104,4128,4200,4224,4248,4272,4296,4368,4392,4416,4440,4464,4536,4560,4584,4608,4632,4704,4728,4752,4776,4800,4872,4896,4920,4944,4968,5040,5064,5088,5112,5136,5208,5232,5256,5280,5304,5376,5400,5424,5448,5472,5544,5568,5592,5616,5640,5712,5736,5760,5784,5808,5880,5904,5928,5952,5976,6048,6072,6096,6120,6144,6216,6240,6264,6288,6312,6384,6408,6432,6456,6480,6552,6576,6600,6624,6648,6720,6744,6768,6792,6816,6888,6912,6936,6960,6984,7056,7080,7104,7128,7152,7224,7248,7272,7296,7320,7392,7416,7440,7464,7488,7560,7584,7608,7632,7656,7728,7752,7776,7800,7824,7896,7920,7944,7968,7992,8064,8088,8112,8136,8160,8232,8256,8280,8304,8328,8400,8424,8448,8472,8496,8568,8592,8616,8640,8664,8736,8760,8784,8808,8832,8904,8928,8952,8976,9000,9072,9096,9120,9144,9168,9240,9264,9288,9312,9336,9408,9432,9456,9480,9504,9576,9600,9624,9648,9672,9744,9768,9792,9816,9840,9912,9936,9960,9984,10008,10080,10104,10128,10152,10176,10248,10272,10296,10320,10344,10416,10440,10464,10488,10512,10584,10608,10632,10656,10680,10752,10776,10800,10824,10848,10920,10944,10968,10992,11016,11088,11112,11136,11160,11184,11256,11280,11304,11328,11352,11424,11448,11472,11496,11520,11592,11616,11640,11664,11688,11760,11784,11808,11832,11856,11928,11952,11976,12000,12024,12096,12120,12144,12168,12192,12264,12288,12312,12336,12360,12432,12456,12480,12504,12528,12600,12624,12648,12672,12696,12768,12792,12816,12840,12864,12936,12960,12984,13008,13032,13104,13128,13152,13176,13200,13272,13296,13320,13344,13368,13440,13464,13488,13512,13536,13608,13632,13656,13680,13704,13776,13800,13824,13848,13872,13944,13968,13992,14016,14040,14112,14136,14160,14184,14208,14280,14304,14328,14352,14376,14448,14472,14496,14520,14544,14616,14640,14664,14688,14712,14784,14808,14832,14856,14880,14952,14976,15000,15024,15048,15120,15144,15168,15192,15216,15288,15312,15336,15360,15384,15456,15480,15504,15528,15552,15624,15648,15672,15696,15720,15792,15816,15840,15864,15888,15960,15984,16008,16032,16056,16128,16152,16176,16200,16224,16296,16320,16344,16368,16392,16464,16488,16512,16536,16560,16632,16656,16680,16704,16728,16800,16824,16848,16872,16896,16968]\n",
    "WT = 11\n",
    "\n",
    "mdl = grb.Model(\"modelo\")\n",
    "\n",
    "x = mdl.addVars(indices, vtype=grb.GRB.BINARY, name='x')\n",
    "MAX = mdl.addVars(indices, vtype=grb.GRB.BINARY, name='y')\n",
    "\n",
    "mdl.Params.timeLimit=3600.0\n",
    "\n",
    "mdl.setObjective(sum(x[(i,j,k)] for i in N for j in M for k in N))\n",
    "\n",
    "mdl.addConstrs((sum(x[(i,j,k)] for j in M for k in N) <= 1 for i in N), name='B')\n",
    "\n",
    "mdl.addConstrs((sum(x[(i,j,k)]*p[i] for i in N) <= WT  for k in N for j in M), name='D')\n",
    "\n",
    "for i in N:\n",
    "    for j in M:\n",
    "        for k in range(i+1):      \n",
    "            mdl.addConstr(sum((x[(z,j,k)])*p[z] for z in range(i+1))+(t[k]*MAX[(i,j,k)]) <= d[i])\n",
    "\n",
    "for i in N:\n",
    "    for j in M:\n",
    "        for k in range(i+1):\n",
    "            for z in range(i+1):\n",
    "                mdl.addConstr(x[(z,j,k)] <=MAX[(i,j,k)])\n",
    "                \n",
    "mdl.ModelSense = grb.GRB.MAXIMIZE\n",
    "mdl.optimize()"
   ]
  },
  {
   "cell_type": "markdown",
   "metadata": {},
   "source": [
    "## Entrada de datos: Instancia 49x30"
   ]
  },
  {
   "cell_type": "code",
   "execution_count": 60,
   "metadata": {},
   "outputs": [
    {
     "data": {
      "text/plain": [
       "49"
      ]
     },
     "execution_count": 60,
     "metadata": {},
     "output_type": "execute_result"
    }
   ],
   "source": [
    "datafile=\"49x30.csv\"\n",
    "data=pd.DataFrame(pd.read_csv(datafile,sep=\";\"))\n",
    "\n",
    "data[\"JOB\"]=\"J\"+data[\"JOB\"].map(str)\n",
    "dictJobs={i:[data.set_index('JOB').to_dict()[\"Deadline\"][i],data.set_index('JOB').to_dict()[\"PT\"][i]] for i in data.set_index('JOB').to_dict()[\"Deadline\"].keys()}\n",
    "\n",
    "dictJobs=dict(sorted(dictJobs.items(), key=lambda item: item[1]))\n",
    "ordDict={}\n",
    "cont=0\n",
    "for i in dictJobs:\n",
    "    ordDict[cont]=[i,dictJobs[i][0],dictJobs[i][1]]\n",
    "    cont+=1\n",
    "len(dictJobs)"
   ]
  },
  {
   "cell_type": "code",
   "execution_count": 61,
   "metadata": {},
   "outputs": [
    {
     "name": "stdout",
     "output_type": "stream",
     "text": [
      "Changed value of parameter timeLimit to 3600.0\n",
      "   Prev: inf  Min: 0.0  Max: inf  Default: inf\n",
      "Gurobi Optimizer version 9.1.1 build v9.1.1rc0 (win64)\n",
      "Thread count: 6 physical cores, 6 logical processors, using up to 6 threads\n",
      "Optimize a model with 83447 rows, 9604 columns and 254506 nonzeros\n",
      "Model fingerprint: 0xd2605019\n",
      "Variable types: 0 continuous, 9604 integer (9604 binary)\n",
      "Coefficient statistics:\n",
      "  Matrix range     [1e+00, 2e+03]\n",
      "  Objective range  [1e+00, 1e+00]\n",
      "  Bounds range     [1e+00, 1e+00]\n",
      "  RHS range        [1e+00, 3e+02]\n",
      "Found heuristic solution: objective -0.0000000\n",
      "Found heuristic solution: objective 8.0000000\n",
      "Presolve removed 83267 rows and 9044 columns\n",
      "Presolve time: 0.24s\n",
      "Presolved: 180 rows, 560 columns, 1576 nonzeros\n",
      "Found heuristic solution: objective 46.0000000\n",
      "Variable types: 0 continuous, 560 integer (560 binary)\n",
      "\n",
      "Root relaxation: objective 4.700000e+01, 127 iterations, 0.00 seconds\n",
      "\n",
      "    Nodes    |    Current Node    |     Objective Bounds      |     Work\n",
      " Expl Unexpl |  Obj  Depth IntInf | Incumbent    BestBd   Gap | It/Node Time\n",
      "\n",
      "H    0     0                      47.0000000  561.00000  1094%     -    0s\n",
      "     0     0          -    0        47.00000   47.00000  0.00%     -    0s\n",
      "\n",
      "Explored 0 nodes (234 simplex iterations) in 0.29 seconds\n",
      "Thread count was 6 (of 6 available processors)\n",
      "\n",
      "Solution count 4: 47 46 8 -0 \n",
      "\n",
      "Optimal solution found (tolerance 1.00e-04)\n",
      "Best objective 4.700000000000e+01, best bound 4.700000000000e+01, gap 0.0000%\n"
     ]
    }
   ],
   "source": [
    "p = []\n",
    "d = []\n",
    "for i in ordDict.keys():\n",
    "    p.append(ordDict[i][2])\n",
    "    d.append(ordDict[i][1])\n",
    "    \n",
    "ith = len(ordDict)\n",
    "jth = 2\n",
    "N = range(ith)\n",
    "M = range(jth)\n",
    "indices=[(i,j,k) for i in N for j in M for k in N]\n",
    "\n",
    "t =[0,24,48,72,96,168,192,216,240,264,336,360,384,408,432,504,528,552,576,600,672,696,720,744,768,840,864,888,912,936,1008,1032,1056,1080,1104,1176,1200,1224,1248,1272,1344,1368,1392,1416,1440,1512,1536,1560,1584,1608,1680,1704,1728,1752,1776,1848,1872,1896,1920,1944,2016,2040,2064,2088,2112,2184,2208,2232,2256,2280,2352,2376,2400,2424,2448,2520,2544,2568,2592,2616,2688,2712,2736,2760,2784,2856,2880,2904,2928,2952,3024,3048,3072,3096,3120,3192,3216,3240,3264,3288,3360,3384,3408,3432,3456,3528,3552,3576,3600,3624,3696,3720,3744,3768,3792,3864,3888,3912,3936,3960,4032,4056,4080,4104,4128,4200,4224,4248,4272,4296,4368,4392,4416,4440,4464,4536,4560,4584,4608,4632,4704,4728,4752,4776,4800,4872,4896,4920,4944,4968,5040,5064,5088,5112,5136,5208,5232,5256,5280,5304,5376,5400,5424,5448,5472,5544,5568,5592,5616,5640,5712,5736,5760,5784,5808,5880,5904,5928,5952,5976,6048,6072,6096,6120,6144,6216,6240,6264,6288,6312,6384,6408,6432,6456,6480,6552,6576,6600,6624,6648,6720,6744,6768,6792,6816,6888,6912,6936,6960,6984,7056,7080,7104,7128,7152,7224,7248,7272,7296,7320,7392,7416,7440,7464,7488,7560,7584,7608,7632,7656,7728,7752,7776,7800,7824,7896,7920,7944,7968,7992,8064,8088,8112,8136,8160,8232,8256,8280,8304,8328,8400,8424,8448,8472,8496,8568,8592,8616,8640,8664,8736,8760,8784,8808,8832,8904,8928,8952,8976,9000,9072,9096,9120,9144,9168,9240,9264,9288,9312,9336,9408,9432,9456,9480,9504,9576,9600,9624,9648,9672,9744,9768,9792,9816,9840,9912,9936,9960,9984,10008,10080,10104,10128,10152,10176,10248,10272,10296,10320,10344,10416,10440,10464,10488,10512,10584,10608,10632,10656,10680,10752,10776,10800,10824,10848,10920,10944,10968,10992,11016,11088,11112,11136,11160,11184,11256,11280,11304,11328,11352,11424,11448,11472,11496,11520,11592,11616,11640,11664,11688,11760,11784,11808,11832,11856,11928,11952,11976,12000,12024,12096,12120,12144,12168,12192,12264,12288,12312,12336,12360,12432,12456,12480,12504,12528,12600,12624,12648,12672,12696,12768,12792,12816,12840,12864,12936,12960,12984,13008,13032,13104,13128,13152,13176,13200,13272,13296,13320,13344,13368,13440,13464,13488,13512,13536,13608,13632,13656,13680,13704,13776,13800,13824,13848,13872,13944,13968,13992,14016,14040,14112,14136,14160,14184,14208,14280,14304,14328,14352,14376,14448,14472,14496,14520,14544,14616,14640,14664,14688,14712,14784,14808,14832,14856,14880,14952,14976,15000,15024,15048,15120,15144,15168,15192,15216,15288,15312,15336,15360,15384,15456,15480,15504,15528,15552,15624,15648,15672,15696,15720,15792,15816,15840,15864,15888,15960,15984,16008,16032,16056,16128,16152,16176,16200,16224,16296,16320,16344,16368,16392,16464,16488,16512,16536,16560,16632,16656,16680,16704,16728,16800,16824,16848,16872,16896,16968]\n",
    "WT = 11\n",
    "\n",
    "mdl = grb.Model(\"modelo\")\n",
    "\n",
    "x = mdl.addVars(indices, vtype=grb.GRB.BINARY, name='x')\n",
    "MAX = mdl.addVars(indices, vtype=grb.GRB.BINARY, name='y')\n",
    "\n",
    "mdl.Params.timeLimit=3600.0\n",
    "\n",
    "mdl.setObjective(sum(x[(i,j,k)] for i in N for j in M for k in N))\n",
    "\n",
    "mdl.addConstrs((sum(x[(i,j,k)] for j in M for k in N) <= 1 for i in N), name='B')\n",
    "\n",
    "mdl.addConstrs((sum(x[(i,j,k)]*p[i] for i in N) <= WT  for k in N for j in M), name='D')\n",
    "\n",
    "for i in N:\n",
    "    for j in M:\n",
    "        for k in range(i+1):      \n",
    "            mdl.addConstr(sum((x[(z,j,k)])*p[z] for z in range(i+1))+(t[k]*MAX[(i,j,k)]) <= d[i])\n",
    "\n",
    "for i in N:\n",
    "    for j in M:\n",
    "        for k in range(i+1):\n",
    "            for z in range(i+1):\n",
    "                mdl.addConstr(x[(z,j,k)] <=MAX[(i,j,k)])\n",
    "                \n",
    "mdl.ModelSense = grb.GRB.MAXIMIZE\n",
    "mdl.optimize()"
   ]
  }
 ],
 "metadata": {
  "kernelspec": {
   "display_name": "Python 3",
   "language": "python",
   "name": "python3"
  },
  "language_info": {
   "codemirror_mode": {
    "name": "ipython",
    "version": 3
   },
   "file_extension": ".py",
   "mimetype": "text/x-python",
   "name": "python",
   "nbconvert_exporter": "python",
   "pygments_lexer": "ipython3",
   "version": "3.8.5"
  }
 },
 "nbformat": 4,
 "nbformat_minor": 4
}

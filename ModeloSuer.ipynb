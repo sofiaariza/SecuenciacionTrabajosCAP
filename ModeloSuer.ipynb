{
 "cells": [
  {
   "cell_type": "markdown",
   "metadata": {},
   "source": [
    "# Modelo de programación lineal Süer et. al."
   ]
  },
  {
   "cell_type": "code",
   "execution_count": null,
   "metadata": {},
   "outputs": [],
   "source": [
    "import pandas as pd\n",
    "import gurobipy as grb"
   ]
  },
  {
   "cell_type": "code",
   "execution_count": null,
   "metadata": {},
   "outputs": [],
   "source": [
    "def main():\n",
    "    \n",
    "    #Entradas:Colección de trabajos A[0…ith], mediante una tabla con el formato \"JOB,PT,Deadline\" en la primera fila donde la columna JOB provee el indicador del trabajo, PT el tiempo de procesamiento y Deadline \n",
    "    #         plazo maximo de entrega del trabajo i, tal que 0≤i≤ith.\n",
    "    #Salidas:Máxima cantidad de trabajos de A[0…ith] que se pueden elaborar sin violar su tiempo límite de entrega.\n",
    "    \n",
    "    datafile=input(\"Ingrese el nombre del archivo donde posee las solicitudes a agendar acompañado del tipo de archivo (.csv o .txt)\\n\")\n",
    "    data=pd.DataFrame(pd.read_csv(datafile,sep=\";\"))\n",
    "\n",
    "    data[\"JOB\"]=\"J\"+data[\"JOB\"].map(str)\n",
    "    dictJobs={i:[data.set_index('JOB').to_dict()[\"Deadline\"][i],data.set_index('JOB').to_dict()[\"PT\"][i]] for i in data.set_index('JOB').to_dict()[\"Deadline\"].keys()}\n",
    "\n",
    "    #Los trabajos son ordenados de acuerdo con la regla EDD (Plazo de entrega más temprano), tal que Deadline0≤…Deadlinei…≤DeadlineI,\n",
    "    #JOB0≤…JOBi…≤JOBI y son añadidos dentro de un diccionario, tomando como clave su indice JOBi y valor la tupla (JOBi,Deadlinei,PTi).    \n",
    "    \n",
    "    dictJobs=dict(sorted(dictJobs.items(), key=lambda item: item[1]))\n",
    "    ordDict={}\n",
    "    cont=0\n",
    "\n",
    "    for i in dictJobs:\n",
    "        ordDict[cont]=[i,dictJobs[i][0],dictJobs[i][1]]\n",
    "        cont+=1\n",
    "    \n",
    "    p = []\n",
    "    d = []\n",
    "    for i in ordDict.keys():\n",
    "        p.append(ordDict[i][2])\n",
    "        d.append(ordDict[i][1])\n",
    "\n",
    "    #Conjuntos:\n",
    "    #Se crea el conjunto N y M, tal que N={0,..,i,..,ith} y M={0,..,j,..,jth} donde ith hace referencia al ultimo trabajo del \n",
    "    #conjunto y jth a la ultima máquina del conjunto.        \n",
    "    jth=2\n",
    "    ith=len(ordDict)\n",
    "    N = range(ith)\n",
    "    M = range(jth)\n",
    "    indices=[(i,j) for i in N for j in M]\n",
    "\n",
    "    #Inicializar modelo\n",
    "    mdl = grb.Model(\"modelo\")\n",
    "\n",
    "    #Variables:\n",
    "    #x: 1 si el trabajo i esta a tiempo en la maquina j; 0 de lo contrario.\n",
    "    x = mdl.addVars(indices, vtype=grb.GRB.BINARY, name='x')\n",
    "\n",
    "    #Funcion objetivo: Maximizar el numero de trabajos a tiempo.    \n",
    "    mdl.setObjective(sum(x[(i,j)] for i in N for j in M))\n",
    "\n",
    "    #Restricciones:\n",
    "    #R1: Asegura que cada trabajo sea desempeñado unicamente en una maquina.    \n",
    "    mdl.addConstrs((sum(x[(i,j)] for j in M) <= 1 for i in N), name='A')\n",
    "    \n",
    "    #R2: Asegura que eltiempo de finalización de cada trabajo sea menor que su plazo de entrega.\n",
    "    for k in N:\n",
    "        for j in M:\n",
    "            mdl.addConstr(sum(x[(i,j)]*p[i] for i in N if i<=k)<=d[k])\n",
    "\n",
    "    mdl.ModelSense = grb.GRB.MAXIMIZE\n",
    "    mdl.optimize()\n",
    "    \n",
    "main()"
   ]
  }
 ],
 "metadata": {
  "kernelspec": {
   "display_name": "Python 3",
   "language": "python",
   "name": "python3"
  },
  "language_info": {
   "codemirror_mode": {
    "name": "ipython",
    "version": 3
   },
   "file_extension": ".py",
   "mimetype": "text/x-python",
   "name": "python",
   "nbconvert_exporter": "python",
   "pygments_lexer": "ipython3",
   "version": "3.8.5"
  }
 },
 "nbformat": 4,
 "nbformat_minor": 4
}
